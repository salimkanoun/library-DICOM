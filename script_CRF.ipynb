{
 "cells": [
  {
   "cell_type": "code",
   "execution_count": null,
   "metadata": {},
   "outputs": [],
   "source": [
    "from library_dicom.dicom_processor.tools.create_mip import *\n",
    "import denseCRF3D\n",
    "import SimpleITK as sitk \n",
    "import json\n",
    "import numpy as np\n",
    "import matplotlib.pyplot as plt \n",
    "import csv"
   ]
  },
  {
   "cell_type": "code",
   "execution_count": null,
   "metadata": {},
   "outputs": [],
   "source": [
    "json_path = '/media/deeplearning/Elements/RELEVANCE_dataset_predictions.json'\n",
    "dataset = []\n",
    "with open(json_path) as json_file : \n",
    "    reader = json.load(json_file)\n",
    "    for info in reader :\n",
    "        dataset.append(info)\n"
   ]
  },
  {
   "cell_type": "code",
   "execution_count": null,
   "metadata": {},
   "outputs": [],
   "source": [
    "dataset[0]"
   ]
  },
  {
   "cell_type": "code",
   "execution_count": null,
   "metadata": {},
   "outputs": [],
   "source": [
    "#put path mask in csv \n",
    "csv_path = '/media/deeplearning/Elements/RELEVANCE_NIFTI/RELEVANCE_NIFTI_SCREENING_v3.csv'\n",
    "csv_data = []\n",
    "with open(csv_path, 'r') as csv_file :\n",
    "    reader = csv.reader(csv_file, delimiter = ',') #liste pour chaque ligne \n",
    "    csv_data = []\n",
    "    for row in reader :\n",
    "        csv_data.append(row)\n",
    "        \n",
    "del csv_data[0] #enlever première ligne\n",
    "\n",
    "\n",
    "\n",
    "\n",
    "for data in dataset : \n",
    "    study_uid = data[1]\n",
    "    for study in csv_data : \n",
    "        if study[1] == study_uid : \n",
    "            study.append(data[0])\n",
    "    "
   ]
  },
  {
   "cell_type": "code",
   "execution_count": null,
   "metadata": {},
   "outputs": [],
   "source": [
    "#rewrite csv : \n",
    "nifti_directory = '/media/deeplearning/Elements/RELEVANCE_NIFTI'\n",
    "filename = 'RELEVANCE_NIFTI_dataset_cnn.csv'\n",
    "\n",
    "with open(os.path.join(nifti_directory, filename), 'w') as csv_file : \n",
    "    csv_writer = csv.writer(csv_file, delimiter=',', quotechar='\"', quoting=csv.QUOTE_MINIMAL)\n",
    "    csv_writer.writerow([\"PATIENT ID\", \"STUDY UID\", \"PET\", \"NIFTI_CT\", \"NIFTI_PET\", \"NIFTI_MASK\"])\n",
    "    for serie in csv_data : \n",
    "        if len(serie) == 6 : \n",
    "            #print(serie)\n",
    "            csv_writer.writerow([serie[0], serie[1], \"pet0\", serie[3], serie[4], serie[5]])\n"
   ]
  },
  {
   "cell_type": "code",
   "execution_count": null,
   "metadata": {},
   "outputs": [],
   "source": []
  },
  {
   "cell_type": "code",
   "execution_count": null,
   "metadata": {},
   "outputs": [],
   "source": []
  },
  {
   "cell_type": "code",
   "execution_count": null,
   "metadata": {
    "scrolled": false
   },
   "outputs": [],
   "source": [
    "dataset[1]"
   ]
  },
  {
   "cell_type": "code",
   "execution_count": null,
   "metadata": {},
   "outputs": [],
   "source": [
    "for data in dataset :\n",
    "    path = data[2]\n",
    "    ct_path = path.replace('PT', 'CT')\n",
    "    data.append(ct_path)"
   ]
  },
  {
   "cell_type": "code",
   "execution_count": null,
   "metadata": {},
   "outputs": [],
   "source": [
    "dataset[2]"
   ]
  },
  {
   "cell_type": "code",
   "execution_count": null,
   "metadata": {},
   "outputs": [],
   "source": [
    "#preprocess PET CT MASK : reshape \n",
    "target_shape = (128, 128, 256)  # (z, y, x)\n",
    "target_spacing = (4.0, 4.0, 4.0) \n",
    "target_direction = (1, 0, 0, 0, 1, 0, 0, 0, 1)\n",
    "\n",
    "\n",
    "def load_img(pet_path, ct_path, mask_path) : \n",
    "    pet = sitk.ReadImage(pet_path)\n",
    "    ct = sitk.ReadImage(ct_path)\n",
    "    mask = sitk.ReadImage(mask_path)\n",
    "    return pet, ct, mask \n",
    "\n",
    "\n",
    "def get_numpy_array(pet_img, ct_img, mask_img):\n",
    "    pet_array = sitk.GetArrayFromImage(pet_img)\n",
    "    ct_array = sitk.GetArrayFromImage(ct_img)\n",
    "    mask_array = sitk.GetArrayFromImage(mask_img)\n",
    "    return pet_array, ct_array, mask_array \n",
    "\n",
    "\n",
    "def compute_new_origin_centered_img(pet_img, target_shape, target_spacing):\n",
    "        origin = np.asarray(pet_img.GetOrigin())\n",
    "        shape = np.asarray(pet_img.GetSize())\n",
    "        spacing = np.asarray(pet_img.GetSpacing())\n",
    "        new_shape = np.asarray(target_shape)\n",
    "        new_spacing = np.asarray(target_spacing)\n",
    "\n",
    "        return tuple(origin + 0.5 * (shape * spacing - new_shape * new_spacing))"
   ]
  },
  {
   "cell_type": "code",
   "execution_count": null,
   "metadata": {},
   "outputs": [],
   "source": [
    "serie = dataset[5]\n",
    "pet_img, ct_img, mask_img = load_img(serie[2], serie[4], serie[0])\n",
    "pet_array, ct_array, mask_array = get_numpy_array(pet_img, ct_img, mask_img)\n",
    "print(pet_array.shape)\n",
    "print(ct_array.shape)\n",
    "print(mask_array.shape)"
   ]
  },
  {
   "cell_type": "code",
   "execution_count": null,
   "metadata": {},
   "outputs": [],
   "source": [
    "pet_img.GetSize()"
   ]
  },
  {
   "cell_type": "code",
   "execution_count": null,
   "metadata": {},
   "outputs": [],
   "source": [
    "mask_array = np.expand_dims(mask_array, axis=0)"
   ]
  },
  {
   "cell_type": "code",
   "execution_count": null,
   "metadata": {},
   "outputs": [],
   "source": [
    "mask_array.shape"
   ]
  },
  {
   "cell_type": "code",
   "execution_count": null,
   "metadata": {},
   "outputs": [],
   "source": [
    "new_mask = np.zeros(mask_array.shape[1:], dtype=np.float64)"
   ]
  },
  {
   "cell_type": "code",
   "execution_count": null,
   "metadata": {},
   "outputs": [],
   "source": [
    "new_mask.shape"
   ]
  },
  {
   "cell_type": "code",
   "execution_count": null,
   "metadata": {},
   "outputs": [],
   "source": []
  },
  {
   "cell_type": "code",
   "execution_count": null,
   "metadata": {},
   "outputs": [],
   "source": [
    "def calculate(roi):\n",
    "    lower, upper = 0.33, 0.60\n",
    "    mu, std = 0.42, 0.06\n",
    "\n",
    "    a, b = (lower - mu) / std, (upper - mu) / std\n",
    "\n",
    "    res = truncnorm.cdf(roi / np.max(roi), a, b, loc=mu, scale=std)\n",
    "    return res"
   ]
  },
  {
   "cell_type": "code",
   "execution_count": null,
   "metadata": {},
   "outputs": [],
   "source": [
    "for num_slice in range(mask_array.shape[0]):\n",
    "    mask_slice = mask_array[num_slice]  # R.O.I\n",
    "    print(mask_slice.shape)\n",
    "    roi = pet_array[mask_slice > 0]\n",
    "    print(roi.shape)\n",
    "    if len(roi) != 0 :\n",
    "        print(new_mask[np.where(mask_slice > 0)].shape)\n",
    "        new_mask[np.where(mask_slice > 0)] = np.maximum(calculate(roi) ,new_mask[np.where(mask_slice > 0)])"
   ]
  },
  {
   "cell_type": "code",
   "execution_count": null,
   "metadata": {},
   "outputs": [],
   "source": [
    "new_mask.shape"
   ]
  },
  {
   "cell_type": "code",
   "execution_count": null,
   "metadata": {},
   "outputs": [],
   "source": [
    "new_mask[np.where(mask_slice > 0)]"
   ]
  },
  {
   "cell_type": "code",
   "execution_count": null,
   "metadata": {},
   "outputs": [],
   "source": []
  },
  {
   "cell_type": "code",
   "execution_count": null,
   "metadata": {},
   "outputs": [],
   "source": []
  },
  {
   "cell_type": "code",
   "execution_count": null,
   "metadata": {},
   "outputs": [],
   "source": []
  },
  {
   "cell_type": "code",
   "execution_count": null,
   "metadata": {},
   "outputs": [],
   "source": []
  },
  {
   "cell_type": "code",
   "execution_count": null,
   "metadata": {},
   "outputs": [],
   "source": []
  },
  {
   "cell_type": "code",
   "execution_count": null,
   "metadata": {},
   "outputs": [],
   "source": [
    "target_origin = compute_new_origin_centered_img(pet_img, target_shape, target_spacing)\n",
    "print(target_origin)"
   ]
  },
  {
   "cell_type": "code",
   "execution_count": null,
   "metadata": {},
   "outputs": [],
   "source": [
    "transformation = sitk.ResampleImageFilter()\n",
    "transformation.SetOutputDirection(target_direction)\n",
    "transformation.SetOutputOrigin(target_origin)\n",
    "transformation.SetOutputSpacing(target_spacing)\n",
    "transformation.SetSize(target_shape)\n",
    "transformation.SetDefaultPixelValue(0.0)\n",
    "transformation.SetInterpolator(sitk.sitkBSpline)\n",
    "new_pt = transformation.Execute(pet_img)\n",
    "\n",
    "\n",
    "transformation = sitk.ResampleImageFilter()\n",
    "transformation.SetOutputDirection(target_direction)\n",
    "transformation.SetOutputOrigin(target_origin)\n",
    "transformation.SetOutputSpacing(target_spacing)\n",
    "transformation.SetSize(target_shape)\n",
    "transformation.SetDefaultPixelValue(-1000.0)\n",
    "transformation.SetInterpolator(sitk.sitkBSpline)\n",
    "new_ct = transformation.Execute(ct_img)\n",
    "\n",
    "\n",
    "transformation = sitk.ResampleImageFilter()\n",
    "transformation.SetOutputDirection(target_direction)\n",
    "transformation.SetOutputOrigin(target_origin)\n",
    "transformation.SetOutputSpacing(target_spacing)\n",
    "transformation.SetSize(target_shape)\n",
    "transformation.SetDefaultPixelValue(0.0)\n",
    "transformation.SetInterpolator(sitk.sitkNearestNeighbor)\n",
    "new_mask = transformation.Execute(mask_img)"
   ]
  },
  {
   "cell_type": "code",
   "execution_count": null,
   "metadata": {},
   "outputs": [],
   "source": [
    "pet_array, ct_array, mask_array = get_numpy_array(new_pt, new_ct, new_mask)"
   ]
  },
  {
   "cell_type": "code",
   "execution_count": null,
   "metadata": {},
   "outputs": [],
   "source": [
    "print(pet_array.shape)\n",
    "print(ct_array.shape)\n",
    "print(mask_array.shape)"
   ]
  },
  {
   "cell_type": "code",
   "execution_count": null,
   "metadata": {},
   "outputs": [],
   "source": [
    "np.max(pet_array)"
   ]
  },
  {
   "cell_type": "code",
   "execution_count": null,
   "metadata": {},
   "outputs": [],
   "source": [
    "np.max(ct_array)"
   ]
  },
  {
   "cell_type": "code",
   "execution_count": null,
   "metadata": {},
   "outputs": [],
   "source": []
  },
  {
   "cell_type": "code",
   "execution_count": null,
   "metadata": {},
   "outputs": [],
   "source": [
    "pet_pp = dict(a_min=0.0, a_max=25.0, b_min=0.0, b_max=1.0, clip=True)\n",
    "ct_pp = dict(a_min=-1000.0, a_max=1000.0, b_min=0.0, b_max=1.0, clip=True)\n",
    "def scale_intensity(pet_array, ct_array, pet_pp, ct_pp):\n",
    "    a_min = pet_pp['a_min']\n",
    "    a_max = pet_pp['a_max']\n",
    "    b_min = pet_pp['b_min']\n",
    "    b_max = pet_pp['b_max']\n",
    "    pet_array = (pet_array - a_min) / (a_max - a_min)\n",
    "    pet_array = pet_array * (b_max - b_min) + b_min\n",
    "    pet_array = np.clip(pet_array, b_min, b_max)\n",
    "    \n",
    "    a_min = ct_pp['a_min']\n",
    "    a_max = ct_pp['a_max']\n",
    "    b_min = ct_pp['b_min']\n",
    "    b_max = ct_pp['b_max']\n",
    "    ct_array = (ct_array - a_min) / (a_max - a_min)\n",
    "    ct_array = ct_array * (b_max - b_min) + b_min\n",
    "    ct_array = np.clip(ct_array, b_min, b_max)\n",
    "        \n",
    "    return pet_array, ct_array\n",
    "    "
   ]
  },
  {
   "cell_type": "code",
   "execution_count": null,
   "metadata": {},
   "outputs": [],
   "source": [
    "pet_array, ct_array = scale_intensity(pet_array, ct_array, pet_pp, ct_pp)"
   ]
  },
  {
   "cell_type": "code",
   "execution_count": null,
   "metadata": {},
   "outputs": [],
   "source": []
  },
  {
   "cell_type": "code",
   "execution_count": null,
   "metadata": {},
   "outputs": [],
   "source": [
    "import matplotlib.pyplot as plt \n",
    "#f = plt.figure(figsize=(10,10))\n",
    "fig, axes = plt.subplots(nrows = 1, ncols = 2, figsize=(13,13))\n",
    "#axes = plt.gca()\n",
    "#axes.set_axis_off()\n",
    "#print(type(axes))\n",
    "axes[0].axis('off')\n",
    "axes[0].imshow(np.amax(pet_array, axis = 1), origin = 'lower', cmap = 'Greys', vmax = 0.3)\n",
    "axes[0].imshow(np.amax(ct_array, axis = 1), origin = 'lower', alpha = 0.25, cmap='Greys', vmax = 0.9)\n",
    "axes[0].imshow(np.where(np.amax(mask_array, axis = 1), 0, np.nan), origin = 'lower', alpha = 0.3, cmap='hsv')\n",
    "\n",
    "\n",
    "\n",
    "#f = plt.figure(figsize=(10,10))\n",
    "#axes = plt.gca()\n",
    "#axes.set_axis_off()\n",
    "axes[1].axis('off')\n",
    "axes[1].imshow(np.amax(pet_array, axis = 2), origin = 'lower', cmap = 'Greys', vmax = 0.3)\n",
    "axes[1].imshow(np.amax(ct_array, axis = 2), origin = 'lower', alpha = 0.25, cmap='Greys', vmax = 0.9)\n",
    "axes[1].imshow(np.where(np.amax(mask_array, axis = 2), 0, np.nan), origin = 'lower', alpha = 0.3, cmap='hsv')"
   ]
  },
  {
   "cell_type": "code",
   "execution_count": null,
   "metadata": {},
   "outputs": [],
   "source": [
    "from scipy.ndimage.morphology import binary_dilation\n",
    "\n",
    "dilation = binary_dilation(mask_array, iterations = 3).astype(mask_array.dtype)\n",
    "print(dilation.shape)\n",
    "\n",
    "\n",
    "fig, axes = plt.subplots(nrows = 1, ncols = 2, figsize=(13,13))\n",
    "#axes = plt.gca()\n",
    "#axes.set_axis_off()\n",
    "#print(type(axes))\n",
    "axes[0].axis('off')\n",
    "axes[0].imshow(np.amax(pet_array, axis = 1), origin = 'lower', cmap = 'Greys', vmax = 0.3)\n",
    "axes[0].imshow(np.amax(ct_array, axis = 1), origin = 'lower', alpha = 0.25, cmap='Greys', vmax = 0.9)\n",
    "axes[0].imshow(np.where(np.amax(dilation, axis = 1), 0, np.nan), origin = 'lower', alpha = 0.3, cmap='hsv')\n",
    "\n",
    "\n",
    "\n",
    "#f = plt.figure(figsize=(10,10))\n",
    "#axes = plt.gca()\n",
    "#axes.set_axis_off()\n",
    "axes[1].axis('off')\n",
    "axes[1].imshow(np.amax(pet_array, axis = 2), origin = 'lower', cmap = 'Greys', vmax = 0.3)\n",
    "axes[1].imshow(np.amax(ct_array, axis = 2), origin = 'lower', alpha = 0.25, cmap='Greys', vmax = 0.9)\n",
    "axes[1].imshow(np.where(np.amax(dilation, axis = 2), 0, np.nan), origin = 'lower', alpha = 0.3, cmap='hsv')"
   ]
  },
  {
   "cell_type": "code",
   "execution_count": null,
   "metadata": {},
   "outputs": [],
   "source": [
    "#create new dilation image \n",
    "spacing = new_pt.GetSpacing()\n",
    "direction = new_pt.GetDirection()\n",
    "origin = new_pt.GetOrigin()\n",
    "\n",
    "\n",
    "dilation_img = sitk.GetImageFromArray(dilation)\n",
    "dilation_img.SetDirection(direction)\n",
    "dilation_img.SetOrigin(origin)\n",
    "dilation_img.SetSpacing(spacing)"
   ]
  },
  {
   "cell_type": "code",
   "execution_count": null,
   "metadata": {},
   "outputs": [],
   "source": []
  },
  {
   "cell_type": "code",
   "execution_count": null,
   "metadata": {},
   "outputs": [],
   "source": [
    "def densecrf3d(I, P, param):\n",
    "    \"\"\"\n",
    "    input parameters:\n",
    "        I: a numpy array of shape [D, H, W, C], where C is the channel number\n",
    "           type of I should be np.uint8, and the values are in [0, 255]\n",
    "        P: a probability map of shape [D, H, W, L], where L is the number of classes\n",
    "           type of P should be np.float32\n",
    "        param: a tuple giving parameters of CRF. see the following two examples for details.\n",
    "    \"\"\"\n",
    "    return denseCRF3D.densecrf3d(I, P, param)"
   ]
  },
  {
   "cell_type": "code",
   "execution_count": null,
   "metadata": {},
   "outputs": [],
   "source": [
    "def normalize(image):\n",
    "    a_min, a_max = np.min(image, axis=(0, 1, 2)), np.max(image, axis=(0, 1, 2))\n",
    "    image = (image - a_min) / (a_max - a_min)\n",
    "\n",
    "    return image"
   ]
  },
  {
   "cell_type": "code",
   "execution_count": null,
   "metadata": {},
   "outputs": [],
   "source": [
    "def demo_densecrf3d_1(pet_array, ct_array, mask_array):\n",
    "    #I1Nii = sitk.ReadImage(pet_path)\n",
    "    #PNii = sitk.ReadImage(pred_path)\n",
    "    #I1 = sitk.GetArrayFromImage(pet_img).transpose()\n",
    "    #I2 = sitk.GetArrayFromImage(ct_img).transpose()\n",
    "    #P = sitk.GetArrayFromImage(pred_img).transpose()\n",
    "    \n",
    "    # convert input to intenstiy range of [0, 255]\n",
    "    I = np.stack([pet_array, ct_array], axis = 0)\n",
    "    #I = np.asarray(concat, np.float32)\n",
    "    I = np.transpose(I, [1, 2, 3, 0])\n",
    "    print(I.shape)\n",
    "    #I = normalize(I)\n",
    "    I[I < 0] = 0\n",
    "    I[I > 1] = 1\n",
    "    I = np.asarray(I * 255, np.uint8)\n",
    "    \n",
    "    #I = np.transpose(I, [1, 2, 3, 0])\n",
    "    #I = I / I.max()* 255\n",
    "    #I = np.asarray(I, np.uint8)\n",
    "\n",
    "    # probability map for each class\n",
    "    P = 0.5 + (mask_array - 0.5) * 0.8\n",
    "    P = np.asarray([1.0 - P, P], np.float32)\n",
    "    P = np.transpose(P, [1, 2, 3, 0])\n",
    "\n",
    "\n",
    "    dense_crf_param = {}\n",
    "    dense_crf_param['MaxIterations'] = 10\n",
    "    dense_crf_param['PosW'] = 3\n",
    "    dense_crf_param['PosRStd'] = 5\n",
    "    dense_crf_param['PosCStd'] = 5\n",
    "    dense_crf_param['PosZStd'] = 5\n",
    "    dense_crf_param['BilateralW'] = 3.0\n",
    "    dense_crf_param['BilateralRStd'] = 5.0\n",
    "    dense_crf_param['BilateralCStd'] = 5.0\n",
    "    dense_crf_param['BilateralZStd'] = 5.0\n",
    "    dense_crf_param['ModalityNum'] = 2\n",
    "    dense_crf_param['BilateralModsStds'] = (2.0,25.0)\n",
    "\n",
    "    lab = densecrf3d(I, P, dense_crf_param)\n",
    "    #labNii = nibabel.Nifti1Image(lab, np.eye(4))\n",
    "    #nibabel.save(labNii, '../data/seg_densecrf.nii.gz')\n",
    "    return lab"
   ]
  },
  {
   "cell_type": "code",
   "execution_count": null,
   "metadata": {},
   "outputs": [],
   "source": [
    "lab = demo_densecrf3d_1(pet_array, ct_array, dilation)\n",
    "lab_ = lab.transpose()"
   ]
  },
  {
   "cell_type": "code",
   "execution_count": null,
   "metadata": {},
   "outputs": [],
   "source": [
    "lab_.shape"
   ]
  },
  {
   "cell_type": "code",
   "execution_count": null,
   "metadata": {},
   "outputs": [],
   "source": [
    "\n",
    "#f = plt.figure(figsize=(10,10))\n",
    "fig, axes = plt.subplots(nrows = 1, ncols = 2, figsize=(13,13))\n",
    "#axes = plt.gca()\n",
    "#axes.set_axis_off()\n",
    "#print(type(axes))\n",
    "axes[0].axis('off')\n",
    "axes[0].imshow(np.amax(pet_array, axis = 1), origin = 'lower', cmap = 'Greys', vmax = 0.2)\n",
    "axes[0].imshow(np.amax(ct_array, axis = 1), origin = 'lower', alpha = 0.25, cmap='Greys', vmax = 0.9)\n",
    "axes[0].imshow(np.where(np.amax(lab, axis = 1), 0, np.nan), origin = 'lower', alpha = 0.2, cmap='hsv')\n",
    "\n",
    "\n",
    "\n",
    "#f = plt.figure(figsize=(10,10))\n",
    "#axes = plt.gca()\n",
    "#axes.set_axis_off()\n",
    "axes[1].axis('off')\n",
    "axes[1].imshow(np.amax(pet_array, axis = 2), origin = 'lower', cmap = 'Greys', vmax = 0.2)\n",
    "axes[1].imshow(np.amax(ct_array, axis = 2), origin = 'lower', alpha = 0.25, cmap='Greys', vmax = 0.9)\n",
    "axes[1].imshow(np.where(np.amax(lab, axis = 2), 0, np.nan), origin = 'lower', alpha = 0.2, cmap='hsv')"
   ]
  },
  {
   "cell_type": "code",
   "execution_count": null,
   "metadata": {},
   "outputs": [],
   "source": []
  },
  {
   "cell_type": "code",
   "execution_count": null,
   "metadata": {},
   "outputs": [],
   "source": []
  },
  {
   "cell_type": "code",
   "execution_count": null,
   "metadata": {},
   "outputs": [],
   "source": []
  }
 ],
 "metadata": {
  "kernelspec": {
   "name": "python3",
   "display_name": "Python 3.8.5 64-bit",
   "metadata": {
    "interpreter": {
     "hash": "31f2aee4e71d21fbe5cf8b01ff0e069b9275f58929596ceb00d14d90e3e16cd6"
    }
   }
  },
  "language_info": {
   "codemirror_mode": {
    "name": "ipython",
    "version": 3
   },
   "file_extension": ".py",
   "mimetype": "text/x-python",
   "name": "python",
   "nbconvert_exporter": "python",
   "pygments_lexer": "ipython3",
   "version": "3.8.5-final"
  }
 },
 "nbformat": 4,
 "nbformat_minor": 2
}