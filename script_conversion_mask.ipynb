{
 "metadata": {
  "language_info": {
   "codemirror_mode": {
    "name": "ipython",
    "version": 3
   },
   "file_extension": ".py",
   "mimetype": "text/x-python",
   "name": "python",
   "nbconvert_exporter": "python",
   "pygments_lexer": "ipython3",
   "version": "3.8.5"
  },
  "orig_nbformat": 2,
  "kernelspec": {
   "name": "python3",
   "display_name": "Python 3",
   "language": "python"
  }
 },
 "nbformat": 4,
 "nbformat_minor": 2,
 "cells": [
  {
   "cell_type": "code",
   "execution_count": 1,
   "metadata": {},
   "outputs": [],
   "source": [
    "import SimpleITK as sitk \n",
    "import numpy as np \n",
    "import csv \n",
    "import shutil\n",
    "import os\n",
    "\n",
    "from library_dicom.dicom_processor.tools.create_mip import *\n",
    "from library_dicom.dicom_processor.tools.folders import *"
   ]
  },
  {
   "cell_type": "code",
   "execution_count": 2,
   "metadata": {},
   "outputs": [],
   "source": [
    "csv_path = '/media/oncopole/DD 2To/SEGMENTATION/inference/inference_dataset_V4.csv'\n",
    "with open(csv_path, 'r') as csv_file :\n",
    "    reader = csv.reader(csv_file, delimiter = ',') #liste pour chaque ligne \n",
    "    dataset = []\n",
    "    for row in reader :\n",
    "        dataset.append(row)\n",
    "        \n",
    "del dataset[0] #enlever première ligne"
   ]
  },
  {
   "cell_type": "code",
   "execution_count": 3,
   "metadata": {},
   "outputs": [
    {
     "output_type": "execute_result",
     "data": {
      "text/plain": [
       "['13014107173001',\n",
       " '13014107173001',\n",
       " '1.2.276.0.7230010.3.1.2.413926400.1.1606388548.351723',\n",
       " 'pvab',\n",
       " 'media/oncopole/83c5223d-7a01-4ed0-b268-b877a7da96e2/PVAB_NIFTI/13014107173001/PET0/1.2.276.0.7230010.3.1.2.413926400.1.1606388548.351723_nifti_CT.nii',\n",
       " 'media/oncopole/83c5223d-7a01-4ed0-b268-b877a7da96e2/PVAB_NIFTI/13014107173001/PET0/1.2.276.0.7230010.3.1.2.413926400.1.1606388548.351723_nifti_PT.nii',\n",
       " 'media/oncopole/83c5223d-7a01-4ed0-b268-b877a7da96e2/PVAB_NIFTI/13014107173001/PET0/1.2.276.0.7230010.3.1.2.413926400.1.1606388548.351723_nifti_mask_3d.nii']"
      ]
     },
     "metadata": {},
     "execution_count": 3
    }
   ],
   "source": [
    "dataset[-1]"
   ]
  },
  {
   "cell_type": "code",
   "execution_count": 4,
   "metadata": {},
   "outputs": [
    {
     "output_type": "execute_result",
     "data": {
      "text/plain": [
       "['53011101841003',\n",
       " '53011101841003',\n",
       " '1.2.250.1.199.10.90001.93080.20120515093605',\n",
       " 'ahl',\n",
       " '/media/oncopole/DDArchive/AHL_NIFTI/53011101841003/pet0/1.2.250.1.199.10.90001.93080.20120515093605_nifti_CT.nii',\n",
       " '/media/oncopole/DDArchive/AHL_NIFTI/53011101841003/pet0/1.2.250.1.199.10.90001.93080.20120515093605_nifti_PT.nii',\n",
       " '/media/oncopole/DDArchive/AHL_NIFTI/53011101841003/pet0/1.2.250.1.199.10.90001.93080.20120515093605_nifti_mask_3d.nii']"
      ]
     },
     "metadata": {},
     "execution_count": 4
    }
   ],
   "source": [
    "dataset[0]"
   ]
  },
  {
   "cell_type": "code",
   "execution_count": 4,
   "metadata": {
    "tags": []
   },
   "outputs": [
    {
     "output_type": "execute_result",
     "data": {
      "text/plain": [
       "['13014107173001',\n",
       " '13014107173001',\n",
       " '1.2.276.0.7230010.3.1.2.413926400.1.1606388548.351723',\n",
       " 'pvab',\n",
       " '/media/oncopole/DDArchive/PVAB_NIFTI/13014107173001/PET0/1.2.276.0.7230010.3.1.2.413926400.1.1606388548.351723_nifti_CT.nii',\n",
       " '/media/oncopole/DDArchive/PVAB_NIFTI/13014107173001/PET0/1.2.276.0.7230010.3.1.2.413926400.1.1606388548.351723_nifti_PT.nii',\n",
       " '/media/oncopole/DDArchive/PVAB_NIFTI/13014107173001/PET0/1.2.276.0.7230010.3.1.2.413926400.1.1606388548.351723_nifti_mask_3d.nii']"
      ]
     },
     "metadata": {},
     "execution_count": 4
    }
   ],
   "source": [
    "for patient in dataset : \n",
    "    if 'pvab' in patient : \n",
    "        mask_path = patient[-1]\n",
    "        #print(mask_path)\n",
    "        pet_path = patient[-2]\n",
    "        ct_path = patient[-3]\n",
    "        new_mask_path = mask_path.replace('media/oncopole/83c5223d-7a01-4ed0-b268-b877a7da96e2', '/media/oncopole/DDArchive')\n",
    "        #print(new_mask_path)\n",
    "        new_pet_path = pet_path.replace('media/oncopole/83c5223d-7a01-4ed0-b268-b877a7da96e2', '/media/oncopole/DDArchive')\n",
    "        new_ct_path = ct_path.replace('media/oncopole/83c5223d-7a01-4ed0-b268-b877a7da96e2', '/media/oncopole/DDArchive')\n",
    "        patient[-1]= new_mask_path \n",
    "        patient[-2] = new_pet_path\n",
    "        patient[-3] = new_ct_path\n",
    "dataset[-1]"
   ]
  },
  {
   "cell_type": "code",
   "execution_count": 5,
   "metadata": {},
   "outputs": [],
   "source": [
    "directory = '/media/oncopole/DD 2To/SEGMENTATION/inference'\n",
    "filename = 'inference_dataset_V5.csv'\n",
    "\n",
    "with open(os.path.join(directory, filename), 'w') as csv_file : \n",
    "    csv_writer = csv.writer(csv_file, delimiter=',', quotechar='\"', quoting=csv.QUOTE_MINIMAL)\n",
    "    csv_writer.writerow([\"PATIENT_NAME\", \"patient_id\", \"study_id\", \"study\", \"ct_img\", \"pet_img\", \"mask_img\"])\n",
    "    for serie in dataset: \n",
    "        csv_writer.writerow([serie[0], serie[1], serie[2], serie[3], serie[4], serie[5], serie[6]])"
   ]
  },
  {
   "cell_type": "code",
   "execution_count": null,
   "metadata": {},
   "outputs": [],
   "source": []
  },
  {
   "cell_type": "code",
   "execution_count": null,
   "metadata": {},
   "outputs": [],
   "source": []
  },
  {
   "cell_type": "code",
   "execution_count": null,
   "metadata": {},
   "outputs": [],
   "source": []
  },
  {
   "cell_type": "code",
   "execution_count": 3,
   "metadata": {},
   "outputs": [
    {
     "output_type": "execute_result",
     "data": {
      "text/plain": [
       "['13014101873001',\n",
       " '13014101873001',\n",
       " '1.2.276.0.7230010.3.1.2.380371712.1.1605521279.787203',\n",
       " 'PET0',\n",
       " '/media/oncopole/LACIE SHARE/PVAB/NIFTI/13014101873001/PET0/1.2.276.0.7230010.3.1.2.380371712.1.1605521279.787203_nifti_CT.nii',\n",
       " '/media/oncopole/LACIE SHARE/PVAB/NIFTI/13014101873001/PET0/1.2.276.0.7230010.3.1.2.380371712.1.1605521279.787203_nifti_PT.nii',\n",
       " '/media/oncopole/LACIE SHARE/PVAB/NIFTI/13014101873001/PET0/1.2.276.0.7230010.3.1.2.380371712.1.1605521279.787203_nifti_mask.nii',\n",
       " 'pvab']"
      ]
     },
     "metadata": {},
     "execution_count": 3
    }
   ],
   "source": [
    "dataset[63]"
   ]
  },
  {
   "cell_type": "code",
   "execution_count": 4,
   "metadata": {},
   "outputs": [
    {
     "output_type": "execute_result",
     "data": {
      "text/plain": [
       "['13014101873003',\n",
       " '13014101873003',\n",
       " '1.2.276.0.7230010.3.1.2.380371712.1.1605539762.798561',\n",
       " 'PET0',\n",
       " '/media/oncopole/LACIE SHARE/PVAB/NIFTI/13014101873003/PET0/1.2.276.0.7230010.3.1.2.380371712.1.1605539762.798561_nifti_CT.nii',\n",
       " '/media/oncopole/LACIE SHARE/PVAB/NIFTI/13014101873003/PET0/1.2.276.0.7230010.3.1.2.380371712.1.1605539762.798561_nifti_PT.nii',\n",
       " '/media/oncopole/LACIE SHARE/PVAB/NIFTI/13014101873003/PET0/1.2.276.0.7230010.3.1.2.380371712.1.1605539762.798561_nifti_mask.nii',\n",
       " 'pvab']"
      ]
     },
     "metadata": {},
     "execution_count": 4
    }
   ],
   "source": [
    "dataset[65]"
   ]
  },
  {
   "source": [
    "for patient in dataset : \n",
    "    mask_path = patient[-2]\n",
    "    #pet_path = patient[-3]\n",
    "    #ct_path = patient[-4]\n",
    "    new_mask_path = mask_path.replace('/media/oncopole/LACIE SHARE/PVAB/NIFTI', '/media/deeplearning/78ca2911-9e9f-4f78-b80a-848024b95f92/pvab')\n",
    "    #new_pet_path = pet_path.replace('/media/oncopole/LACIE SHARE', '/media/oncopole/DDArchive')\n",
    "    #new_ct_path = ct_path.replace('/media/oncopole/LACIE SHARE', '/media/oncopole/DDArchive')\n",
    "    patient[-2]= new_mask_path \n",
    "    #patient[-3] = new_pet_path\n",
    "    #patient[-4] = new_ct_path\n",
    "dataset[0]"
   ],
   "cell_type": "code",
   "metadata": {},
   "execution_count": 5,
   "outputs": [
    {
     "output_type": "execute_result",
     "data": {
      "text/plain": [
       "['13014101023001',\n",
       " '13014101023001',\n",
       " '1.2.276.0.7230010.3.1.2.380371712.1.1605271362.777715',\n",
       " 'PET0',\n",
       " '/media/oncopole/LACIE SHARE/PVAB/NIFTI/13014101023001/PET0/1.2.276.0.7230010.3.1.2.380371712.1.1605271362.777715_nifti_CT.nii',\n",
       " '/media/oncopole/LACIE SHARE/PVAB/NIFTI/13014101023001/PET0/1.2.276.0.7230010.3.1.2.380371712.1.1605271362.777715_nifti_PT.nii',\n",
       " '/media/deeplearning/78ca2911-9e9f-4f78-b80a-848024b95f92/pvab/13014101023001/PET0/1.2.276.0.7230010.3.1.2.380371712.1.1605271362.777715_nifti_mask.nii',\n",
       " 'pvab']"
      ]
     },
     "metadata": {},
     "execution_count": 5
    }
   ]
  },
  {
   "cell_type": "code",
   "execution_count": 15,
   "metadata": {},
   "outputs": [
    {
     "output_type": "execute_result",
     "data": {
      "text/plain": [
       "76"
      ]
     },
     "metadata": {},
     "execution_count": 15
    }
   ],
   "source": [
    "len(dataset)"
   ]
  },
  {
   "cell_type": "code",
   "execution_count": 6,
   "metadata": {
    "tags": []
   },
   "outputs": [
    {
     "output_type": "stream",
     "name": "stdout",
     "text": [
      "63\npvab\n13014101873001\n"
     ]
    }
   ],
   "source": [
    "for patient in dataset[63:64] : \n",
    "    print(dataset.index(patient))\n",
    "    print(patient[-1])\n",
    "    print(patient[0])\n",
    "    mask_path = patient[-2]\n",
    "    mask_img = sitk.ReadImage(mask_path)\n",
    "    #mask_4D_root = os.path.join('/media/oncopole/d508267f-cc7d-45e2-ae24-9456e005a01f/MASK_4D', patient[-1])\n",
    "    #if not os.path.exists(mask_4D_root):\n",
    "     #   os.makedirs(mask_4D_root)\n",
    "    mask_array = sitk.GetArrayFromImage(mask_img)\n",
    "\n",
    "    if len(mask_array.shape) == 3 : \n",
    "        spacing = mask_img.GetSpacing()\n",
    "        direction =  mask_img.GetDirection()\n",
    "        origin = mask_img.GetOrigin()\n",
    "\n",
    "        mask_array = sitk.GetArrayFromImage(mask_img).astype(np.uint8)\n",
    "        #print(\"Size array :\", mask_array.shape)\n",
    "        mask_array = np.expand_dims(mask_array, axis=-1)\n",
    "        sitk_img = sitk.GetImageFromArray(mask_array, isVector = True)\n",
    "        sitk_img = sitk.Cast(sitk_img, sitk.sitkVectorUInt8)\n",
    "        sitk_img.SetSpacing(spacing)\n",
    "        sitk_img.SetOrigin(origin)\n",
    "        sitk_img.SetDirection(direction)\n",
    "        root = '/'.join(mask_path.split('/')[:-1])\n",
    "        #print(root)\n",
    "        filename = mask_path.split('/')[-1]\n",
    "        filename =  filename.replace('mask', 'mask_3d')\n",
    "        #print(filename)\n",
    "        sitk.WriteImage(sitk_img, os.path.join(root, filename))\n",
    "        print('NEW NIFTI MASK DONE')\n",
    "        #patient.append(os.path.join(root, filename))\n",
    "        #shutil.move(mask_path, os.path.join(mask_4D_root, mask_path.split('/')[-1]))\n",
    "        #os.rename(mask_path, os.path.join(mask_4D_root, mask_path.split('/')[-1]))\n",
    "\n",
    "\n",
    "\n",
    "\n",
    "    else : #4D\n",
    "        spacing = mask_img.GetSpacing()[:-1]\n",
    "        direction =  tuple(el for i, el in enumerate(mask_img.GetDirection()[:12]) if not (i + 1) % 4 == 0)\n",
    "        origin = mask_img.GetOrigin()[:-1]\n",
    "\n",
    "        #print(\"Size mask_img before :\", mask_img.GetSize())\n",
    "        mask_array = sitk.GetArrayFromImage(mask_img).astype(np.uint8)\n",
    "\n",
    "        #print(\"Size array :\", mask_array.shape)\n",
    "        mask_array = np.transpose(mask_array, (1,2,3,0)).astype(np.uint8)\n",
    "\n",
    "        \n",
    "        #write sitk image \n",
    "        sitk_img = sitk.GetImageFromArray(mask_array, isVector = True)\n",
    "        sitk_img = sitk.Cast(sitk_img, sitk.sitkVectorUInt8)\n",
    "        sitk_img.SetSpacing(spacing)\n",
    "        sitk_img.SetOrigin(origin)\n",
    "        sitk_img.SetDirection(direction)\n",
    "        root = '/'.join(mask_path.split('/')[:-1])\n",
    "        #print(root)\n",
    "        filename = mask_path.split('/')[-1]\n",
    "        filename =  filename.replace('mask', 'mask_3d')\n",
    "        #print(filename)\n",
    "        sitk.WriteImage(sitk_img, os.path.join(root, filename))\n",
    "        #patient.append(os.path.join(root, filename))\n",
    "        print('NEW NIFTI MASK DONE')\n",
    "        #shutil.move(mask_path, os.path.join(mask_4D_root, mask_path.split('/')[-1]))\n",
    "        #os.rename(mask_path, os.path.join(mask_4D_root, mask_path.split('/')[-1]))"
   ]
  },
  {
   "cell_type": "code",
   "execution_count": null,
   "metadata": {},
   "outputs": [],
   "source": [
    "directory = '/media/oncopole/DDArchive/PVAB/NIFTI'\n",
    "filename = 'PVAB_NIFTI_v3.csv'\n",
    "\n",
    "with open(os.path.join(directory, filename), 'w') as csv_file : \n",
    "    csv_writer = csv.writer(csv_file, delimiter=',', quotechar='\"', quoting=csv.QUOTE_MINIMAL)\n",
    "    csv_writer.writerow([\"PATIENT_ID\", \"STUDY UID\", \"PET\", \"NIFTI_CT\", \"NIFTI_PET\", \"NIFTI_MASK\", \"NIFTI_MASK_3D\" ,\"STUDY\"])\n",
    "    for serie in dataset: \n",
    "        csv_writer.writerow([serie[0], serie[1], serie[2], serie[3], serie[4], serie[5], serie[-1], serie[-2]])"
   ]
  },
  {
   "cell_type": "code",
   "execution_count": null,
   "metadata": {},
   "outputs": [],
   "source": [
    "a"
   ]
  },
  {
   "cell_type": "code",
   "execution_count": null,
   "metadata": {},
   "outputs": [],
   "source": []
  },
  {
   "cell_type": "code",
   "execution_count": null,
   "metadata": {},
   "outputs": [],
   "source": []
  },
  {
   "cell_type": "code",
   "execution_count": 15,
   "metadata": {},
   "outputs": [
    {
     "output_type": "stream",
     "name": "stdout",
     "text": [
      "(256, 256, 299, 18)\n(18, 299, 256, 256)\n(256, 256, 299, 18)\n"
     ]
    }
   ],
   "source": [
    "path = dataset[0][-2]\n",
    "\n",
    "img = sitk.ReadImage(path)\n",
    "print(img.GetSize())\n",
    "array = sitk.GetArrayFromImage(img)\n",
    "print(array.shape)\n",
    "transpose = np.transpose(array)\n",
    "print(transpose.shape)"
   ]
  },
  {
   "cell_type": "code",
   "execution_count": 25,
   "metadata": {},
   "outputs": [
    {
     "output_type": "stream",
     "name": "stdout",
     "text": [
      "Size mask_img before : (200, 200, 215, 15)\nSize array : (15, 215, 200, 200)\nsize array after transpose :  (215, 200, 200, 15)\n"
     ]
    },
    {
     "output_type": "display_data",
     "data": {
      "text/plain": "<Figure size 720x720 with 1 Axes>",
      "image/svg+xml": "<?xml version=\"1.0\" encoding=\"utf-8\" standalone=\"no\"?>\n<!DOCTYPE svg PUBLIC \"-//W3C//DTD SVG 1.1//EN\"\n  \"http://www.w3.org/Graphics/SVG/1.1/DTD/svg11.dtd\">\n<!-- Created with matplotlib (https://matplotlib.org/) -->\n<svg height=\"558pt\" version=\"1.1\" viewBox=\"0 0 520.074419 558\" width=\"520.074419pt\" xmlns=\"http://www.w3.org/2000/svg\" xmlns:xlink=\"http://www.w3.org/1999/xlink\">\n <metadata>\n  <rdf:RDF xmlns:cc=\"http://creativecommons.org/ns#\" xmlns:dc=\"http://purl.org/dc/elements/1.1/\" xmlns:rdf=\"http://www.w3.org/1999/02/22-rdf-syntax-ns#\">\n   <cc:Work>\n    <dc:type rdf:resource=\"http://purl.org/dc/dcmitype/StillImage\"/>\n    <dc:date>2021-05-07T14:17:41.371012</dc:date>\n    <dc:format>image/svg+xml</dc:format>\n    <dc:creator>\n     <cc:Agent>\n      <dc:title>Matplotlib v3.3.4, https://matplotlib.org/</dc:title>\n     </cc:Agent>\n    </dc:creator>\n   </cc:Work>\n  </rdf:RDF>\n </metadata>\n <defs>\n  <style type=\"text/css\">*{stroke-linecap:butt;stroke-linejoin:round;}</style>\n </defs>\n <g id=\"figure_1\">\n  <g id=\"patch_1\">\n   <path d=\"M -0 558 \nL 520.074419 558 \nL 520.074419 0 \nL -0 0 \nz\n\" style=\"fill:none;\"/>\n  </g>\n  <g id=\"axes_1\">\n   <g clip-path=\"url(#p3b47446f24)\">\n    <image height=\"544\" id=\"image9eea2f1616\" transform=\"scale(1 -1)translate(0 -544)\" width=\"506\" x=\"7.2\" xlink:href=\"data:image/png;base64,\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\" y=\"-6.8\"/>\n   </g>\n  </g>\n </g>\n <defs>\n  <clipPath id=\"p3b47446f24\">\n   <rect height=\"543.6\" width=\"505.674419\" x=\"7.2\" y=\"7.2\"/>\n  </clipPath>\n </defs>\n</svg>\n",
      "image/png": "[encoded data removed]"
     },
     "metadata": {
      "needs_background": "light"
     }
    }
   ],
   "source": [
    "mask_4D_path = '/media/oncopole/DDArchive/PVAB/NIFTI/13014101033001/PET0/1.2.276.0.7230010.3.1.2.413926400.1.1606819404.389717_nifti_mask.nii'\n",
    "mask_3D_path = '/media/oncopole/DDArchive/PVAB/tes_pyradiomics_ok/1.2.276.0.7230010.3.1.2.413926400.1.1606819404.389717_nifti_mask.nii'\n",
    "filename = '/media/oncopole/DDArchive/test.nii'\n",
    "\n",
    "mask_path = mask_4D_path\n",
    "mask_img = sitk.ReadImage(mask_path)\n",
    "spacing = mask_img.GetSpacing()[:-1]\n",
    "direction =  tuple(el for i, el in enumerate(mask_img.GetDirection()[:12]) if not (i + 1) % 4 == 0)\n",
    "origin = mask_img.GetOrigin()[:-1]\n",
    "    #print(spacing)\n",
    "    #print(direction)\n",
    "    #print(origin)\n",
    "print(\"Size mask_img before :\", mask_img.GetSize())\n",
    "mask_array = sitk.GetArrayFromImage(mask_img)\n",
    "print(\"Size array :\", mask_array.shape)\n",
    "transpose = np.transpose(mask_array, (1, 2, 3, 0))\n",
    "print(\"size array after transpose : \", transpose.shape)\n",
    "\n",
    "sitk_img = sitk.GetImageFromArray(transpose, isVector = True)\n",
    "sitk_img.SetSpacing(spacing)\n",
    "sitk_img.SetOrigin(origin)\n",
    "sitk_img.SetDirection(direction)\n",
    "sitk.WriteImage(sitk_img, filename)\n",
    "\n",
    "\n",
    "\n",
    "\n",
    "\n",
    "\n",
    "\n",
    "mask = np.sum(transpose, axis=-1)\n",
    "mip_imshow(mask.transpose(), angle=0, type='mask', cmap='gray', vmin=0, vmax=10)"
   ]
  },
  {
   "cell_type": "code",
   "execution_count": null,
   "metadata": {},
   "outputs": [],
   "source": []
  },
  {
   "cell_type": "code",
   "execution_count": null,
   "metadata": {},
   "outputs": [],
   "source": []
  },
  {
   "cell_type": "code",
   "execution_count": null,
   "metadata": {},
   "outputs": [],
   "source": []
  },
  {
   "cell_type": "code",
   "execution_count": null,
   "metadata": {},
   "outputs": [],
   "source": []
  },
  {
   "cell_type": "code",
   "execution_count": null,
   "metadata": {},
   "outputs": [],
   "source": []
  }
 ]
}