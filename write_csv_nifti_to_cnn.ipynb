{
 "cells": [
  {
   "cell_type": "code",
   "execution_count": null,
   "metadata": {},
   "outputs": [],
   "source": [
    "import json\n",
    "import os\n",
    "from library_dicom.dicom_processor.tools.folders import *\n",
    "from library_dicom.dicom_processor.tools.create_mip import *\n",
    "from library_dicom.dicom_processor.tools.threshold_mask import *\n",
    "import numpy as np\n",
    "import SimpleITK as sitk\n",
    "import csv\n",
    "import shutil"
   ]
  },
  {
   "cell_type": "code",
   "execution_count": null,
   "metadata": {},
   "outputs": [],
   "source": [
    "#Script to write csv to use in Deep Learning "
   ]
  },
  {
   "cell_type": "code",
   "execution_count": null,
   "metadata": {},
   "outputs": [],
   "source": [
    "json_path = '/home/deeplearning/AHL/AHL_new_dataset.json'\n",
    "dataset = []\n",
    "with open(json_path) as json_file : \n",
    "    reader = json.load(json_file)\n",
    "    for info in reader :\n",
    "        dataset.append(info)\n",
    "\n",
    "print(len(dataset))"
   ]
  },
  {
   "cell_type": "code",
   "execution_count": null,
   "metadata": {},
   "outputs": [],
   "source": [
    "study_uid = []\n",
    "\n",
    "for data in dataset : \n",
    "    study_uid.append(data[4])"
   ]
  },
  {
   "cell_type": "code",
   "execution_count": null,
   "metadata": {},
   "outputs": [],
   "source": [
    "#get patient_name from json \n",
    "liste_json = []\n",
    "list_dir = os.listdir('/home/deeplearning/AHL/AHL_JSON')\n",
    "list_dir.remove('AHL_JSON_1')\n",
    "for file_ in list_dir : \n",
    "    liste_json.append(os.path.join('/home/deeplearning/AHL/AHL_JSON', file_))\n",
    "\n",
    "\n",
    "\n",
    "for data in dataset : \n",
    "    for json_path in liste_json : \n",
    "        with open(json_path) as json_file : \n",
    "            reader = json.load(json_file)\n",
    "\n",
    "            uid = reader['study']['StudyInstanceUID']\n",
    "\n",
    "            if uid == data[4] : \n",
    "\n",
    "                data.append(reader['patient']['PatientName'])\n",
    "\n",
    "                break\n"
   ]
  },
  {
   "cell_type": "code",
   "execution_count": null,
   "metadata": {},
   "outputs": [],
   "source": [
    "#liste of generated nifti by \"nifti_builder_from_json\" script \n",
    "\n",
    "nifti_directory = '/home/deeplearning/AHL/AHL_NIFTI'\n",
    "liste_n = os.listdir(nifti_directory)\n",
    "\n",
    "liste_nifti_pet0 = []\n",
    "for l in liste_n : \n",
    "    liste_nifti_pet0.append(os.path.join('/home/deeplearning/AHL/AHL_NIFTI', l))\n",
    "\n",
    "pet_2 = os.listdir('/home/deeplearning/AHL/AHL_NIFTI/pet2')\n",
    "liste_nifti_pet2 = []\n",
    "for pet in pet_2 : \n",
    "    liste_nifti_pet2.append(os.path.join('/home/deeplearning/AHL/AHL_NIFTI/pet2', pet))\n",
    "\n",
    "pet_4 = os.listdir('/home/deeplearning/AHL/AHL_NIFTI/pet4')\n",
    "liste_nifti_pet4 = []\n",
    "for pet in pet_4 : \n",
    "    liste_nifti_pet4.append(os.path.join('/home/deeplearning/AHL/AHL_NIFTI/pet4', pet))\n",
    "\n",
    "\n",
    "liste_nifti = liste_nifti_pet0 + liste_nifti_pet2 + liste_nifti_pet4\n",
    "\n",
    "no_nifti = []\n",
    "for nifti in liste_nifti : \n",
    "    if \"nifti\" not in nifti : \n",
    "        no_nifti.append(nifti)\n",
    "\n",
    "for fold in no_nifti : \n",
    "    liste_nifti.remove(fold)"
   ]
  },
  {
   "cell_type": "code",
   "execution_count": null,
   "metadata": {},
   "outputs": [],
   "source": [
    "len(liste_nifti)"
   ]
  },
  {
   "cell_type": "code",
   "execution_count": null,
   "metadata": {
    "tags": []
   },
   "outputs": [],
   "source": [
    "for row in dataset : \n",
    "    subsubliste = []\n",
    "    for nifti in liste_nifti : \n",
    "        if row[4] in nifti: \n",
    "            subsubliste.append(nifti)\n",
    "    if 'PET0' in row : \n",
    "        if len(subsubliste) == 3 : #or == 3 if there is a mask \n",
    "            subsubliste = sorted(subsubliste)\n",
    "            row.append(subsubliste[0])\n",
    "            row.append(subsubliste[1])\n",
    "            row.append(subsubliste[2]) #add it if there is a mask \n",
    "        else : \n",
    "            pass\n",
    "    elif 'PET2' in row or 'PET4' in row : \n",
    "        if len(subsubliste) == 2  : #or == 3 if there is a mask \n",
    "            subsubliste = sorted(subsubliste)\n",
    "            row.append(subsubliste[0])\n",
    "            row.append(subsubliste[1])\n",
    "\n",
    "    #subliste.append(type_)\n",
    "    #liste.append(subliste)"
   ]
  },
  {
   "cell_type": "code",
   "execution_count": null,
   "metadata": {},
   "outputs": [],
   "source": [
    "#clean serie : must have patient_name, patient ID, study_UID, CT_path, PET_path, MASK_path if pet0, and type \"PET\" (0,2,4)\n",
    "completed_liste = []\n",
    "for serie in dataset : \n",
    "    if len(serie) == 10 or len(serie) == 11 : #== 10 if Mask_path \n",
    "        completed_liste.append(serie)"
   ]
  },
  {
   "cell_type": "code",
   "execution_count": null,
   "metadata": {},
   "outputs": [],
   "source": [
    "len(completed_liste)"
   ]
  },
  {
   "cell_type": "code",
   "execution_count": null,
   "metadata": {},
   "outputs": [],
   "source": [
    "#here check for double : if there are 2 patient with same ID, or same STUDY_UID, delete the other(s) serie(s)\n",
    "\n",
    "dataset = []\n",
    "dataset.append(completed_liste[0])\n",
    "for i in range(1, len(completed_liste)) :\n",
    "    if completed_liste[i] not in dataset : \n",
    "        dataset.append(completed_liste[i])"
   ]
  },
  {
   "cell_type": "code",
   "execution_count": null,
   "metadata": {},
   "outputs": [],
   "source": [
    "print(\"nombre de study : \", len(dataset))"
   ]
  },
  {
   "cell_type": "code",
   "execution_count": null,
   "metadata": {
    "tags": [
     "outputPrepend"
    ]
   },
   "outputs": [],
   "source": [
    "#create folder to save nifti\n",
    "\n",
    "for serie in dataset: \n",
    "    if 'PET0' in serie : \n",
    "        patient_name = serie[7]\n",
    "        patient_id = serie[6]\n",
    "        pet_type = serie[5]\n",
    "        nifti_ct = serie[8]\n",
    "        nifti_pet = serie[9]\n",
    "        nifti_mask = serie[10] #if pet0\n",
    "\n",
    "        folder = '/home/deeplearning/AHL/AHL_NIFTI'+'/'+patient_id\n",
    "\n",
    "        if not os.path.exists(folder):\n",
    "            os.makedirs(folder)\n",
    "            print(folder, 'created')\n",
    "        else : print(folder, \"Dossier patient déjà crée\")\n",
    "\n",
    "        subfolder = folder+'/'+pet_type\n",
    "        if not os.path.exists(subfolder) :\n",
    "            os.makedirs(subfolder)\n",
    "            print(subfolder, 'created')\n",
    "        else : print(subfolder, \"Déjà creer => already folder for \", pet_type)\n",
    "\n",
    "        ct_path = nifti_ct\n",
    "        pt_path = nifti_pet\n",
    "        mask_path = nifti_mask\n",
    "\n",
    "        new_ct_path = subfolder+'/'+nifti_ct.split('/')[-1]\n",
    "        new_pet_path = subfolder+'/'+nifti_pet.split('/')[-1]\n",
    "        new_mask_path = subfolder+'/'+nifti_mask.split('/')[-1]\n",
    "        try : \n",
    "\n",
    "            os.rename(ct_path, new_ct_path)\n",
    "            os.rename(pt_path, new_pet_path)\n",
    "            os.rename(mask_path, new_mask_path)\n",
    "\n",
    "            serie[8] = new_ct_path\n",
    "            serie[9] = new_pet_path \n",
    "            serie[10] = new_mask_path\n",
    "        except Exception as err : \n",
    "            print(err)\n",
    "    else : \n",
    "        patient_name = serie[7]\n",
    "        patient_id = serie[6]\n",
    "        pet_type = serie[5]\n",
    "        nifti_ct = serie[8]\n",
    "        nifti_pet = serie[9]\n",
    "\n",
    "        folder = '/home/deeplearning/AHL/AHL_NIFTI'+'/'+patient_id\n",
    "\n",
    "        if not os.path.exists(folder):\n",
    "            os.makedirs(folder)\n",
    "            print(folder, 'created')\n",
    "        else : print(folder, \"Dossier patient déjà crée\")\n",
    "\n",
    "        subfolder = folder+'/'+pet_type\n",
    "        if not os.path.exists(subfolder) :\n",
    "            os.makedirs(subfolder)\n",
    "            print(subfolder, 'created')\n",
    "        else : print(subfolder, \"Déjà creer => already folder for \", pet_type)\n",
    "\n",
    "        ct_path = nifti_ct\n",
    "        pt_path = nifti_pet\n",
    "\n",
    "        new_ct_path = subfolder+'/'+nifti_ct.split('/')[-1]\n",
    "        new_pet_path = subfolder+'/'+nifti_pet.split('/')[-1]\n",
    "\n",
    "        try : \n",
    "            os.rename(ct_path, new_ct_path)\n",
    "            os.rename(pt_path, new_pet_path)\n",
    "\n",
    "            serie[8] = new_ct_path\n",
    "            serie[9] = new_pet_path \n",
    "\n",
    "        except Exception as err : \n",
    "            print(err)"
   ]
  },
  {
   "cell_type": "code",
   "execution_count": null,
   "metadata": {},
   "outputs": [],
   "source": [
    "#write csv , add NIFTI_MASK column if there is a mask \n",
    "nifti_directory = '/home/deeplearning/AHL'\n",
    "filename = 'AHL_NIFTI_V2.csv'\n",
    "\n",
    "\n",
    "with open(os.path.join(nifti_directory, filename), 'w') as csv_file : \n",
    "    csv_writer = csv.writer(csv_file, delimiter=',', quotechar='\"', quoting=csv.QUOTE_MINIMAL)\n",
    "    csv_writer.writerow([\"PATIENT NAME\", \"PATIENT ID\", \"STUDY UID\", \"PET\", \"NIFTI_CT\", \"NIFTI_PET\", \"NIFTI_MASK\"])\n",
    "    for serie in dataset : \n",
    "        if 'PET0' in serie : \n",
    "            csv_writer.writerow([serie[7], serie[6], serie[4], serie[5].lower(), serie[8], serie[9], serie[10]])\n",
    "        else : \n",
    "\n",
    "            csv_writer.writerow([serie[7], serie[6], serie[4], serie[5].lower(), serie[8], serie[9], \"\"])"
   ]
  }
 ],
 "metadata": {
  "file_extension": ".py",
  "kernelspec": {
   "display_name": "Python 3.8.2 64-bit",
   "language": "python",
   "name": "python38264bit4afc185bc98b42c389abdbb3fbeec8dd"
  },
  "language_info": {
   "codemirror_mode": {
    "name": "ipython",
    "version": 3
   },
   "file_extension": ".py",
   "mimetype": "text/x-python",
   "name": "python",
   "nbconvert_exporter": "python",
   "pygments_lexer": "ipython3",
   "version": "3.8.5-final"
  },
  "mimetype": "text/x-python",
  "name": "python",
  "npconvert_exporter": "python",
  "pygments_lexer": "ipython3",
  "version": 3
 },
 "nbformat": 4,
 "nbformat_minor": 2
}