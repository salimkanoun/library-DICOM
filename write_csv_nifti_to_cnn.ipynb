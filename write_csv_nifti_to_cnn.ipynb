{
 "cells": [
  {
   "cell_type": "code",
   "execution_count": 10,
   "metadata": {},
   "outputs": [],
   "source": [
    "import json\n",
    "import os\n",
    "from library_dicom.dicom_processor.tools.folders import *\n",
    "from library_dicom.dicom_processor.tools.create_mip import *\n",
    "from library_dicom.dicom_processor.tools.threshold_mask import *\n",
    "import numpy as np\n",
    "import SimpleITK as sitk\n",
    "import csv\n",
    "import shutil"
   ]
  },
  {
   "cell_type": "code",
   "execution_count": null,
   "metadata": {},
   "outputs": [],
   "source": [
    "#Script to write csv to use in Deep Learning "
   ]
  },
  {
   "cell_type": "code",
   "execution_count": null,
   "metadata": {},
   "outputs": [],
   "source": [
    "#JSON dataset "
   ]
  },
  {
   "cell_type": "code",
   "execution_count": 11,
   "metadata": {},
   "outputs": [
    {
     "output_type": "stream",
     "name": "stdout",
     "text": [
      "182\n"
     ]
    }
   ],
   "source": [
    "json_path = '/media/oncopole/83c5223d-7a01-4ed0-b268-b877a7da96e2/REMARC_Validated_DICOMS/validated_dataset.json'\n",
    "dataset = []\n",
    "with open(json_path) as json_file : \n",
    "    reader = json.load(json_file)\n",
    "    for info in reader :\n",
    "        dataset.append(info)\n",
    "\n",
    "print(len(dataset))"
   ]
  },
  {
   "cell_type": "code",
   "execution_count": 12,
   "metadata": {},
   "outputs": [],
   "source": [
    "#Liste nifti \n",
    "\n",
    "nifti_directory = '/media/oncopole/83c5223d-7a01-4ed0-b268-b877a7da96e2/REMARC_NIFTI'\n",
    "liste = os.listdir(nifti_directory)\n",
    "liste_nifti = []\n",
    "for nifti in liste : \n",
    "    liste_nifti.append(os.path.join(nifti_directory, nifti))"
   ]
  },
  {
   "cell_type": "code",
   "execution_count": 13,
   "metadata": {},
   "outputs": [
    {
     "output_type": "execute_result",
     "data": {
      "text/plain": [
       "['/media/oncopole/83c5223d-7a01-4ed0-b268-b877a7da96e2/REMARC_Validated_DICOMS/11009101226011/pet0/1.3.46.670589.28.2.10.4.9167.3403.2.2520.0.1282553133/1.3.46.670589.28.2.10.4.9167.3403.2.2520.0.1282553133',\n",
       " 'PT',\n",
       " '/media/oncopole/83c5223d-7a01-4ed0-b268-b877a7da96e2/REMARC_Validated_DICOMS/11009101226011/pet0/1.2.840.113704.1.111.1140.1282550706.9/1.2.840.113704.1.111.1140.1282550706.9',\n",
       " 'CT',\n",
       " '2.16.840.1.113669.632.20.210791.10000113172',\n",
       " 'V0',\n",
       " '11009101226011',\n",
       " '/media/oncopole/DD 2To/REMARC_csv/11009101226011_aug 23_2010.csvASC.csv']"
      ]
     },
     "metadata": {},
     "execution_count": 13
    }
   ],
   "source": [
    "dataset[0]"
   ]
  },
  {
   "cell_type": "code",
   "execution_count": 14,
   "metadata": {},
   "outputs": [],
   "source": [
    "for data in dataset : \n",
    "    uid = data[4]\n",
    "    subliste = []\n",
    "    for nifti in liste_nifti : \n",
    "        if uid in nifti : \n",
    "            subliste.append(nifti)\n",
    "            subliste.sort()\n",
    "    data.append(subliste)"
   ]
  },
  {
   "cell_type": "code",
   "execution_count": 15,
   "metadata": {},
   "outputs": [
    {
     "output_type": "execute_result",
     "data": {
      "text/plain": [
       "['/media/oncopole/83c5223d-7a01-4ed0-b268-b877a7da96e2/REMARC_Validated_DICOMS/11009101036021/pet0/1.2.840.113704.7.32.0.28.2.10.48.18553.24906.2.3564.0.1292924837/1.2.840.113704.7.32.0.28.2.10.48.18553.24906.2.3564.0.1292924837',\n",
       " 'PT',\n",
       " '/media/oncopole/83c5223d-7a01-4ed0-b268-b877a7da96e2/REMARC_Validated_DICOMS/11009101036021/pet0/1.2.840.113704.7.32.1.2.840.113704.1.111.3260.1292923183.8/1.2.840.113704.7.32.1.2.840.113704.1.111.3260.1292923183.8',\n",
       " 'CT',\n",
       " '1.2.840.113704.1.111.1460.1292922720.9',\n",
       " 'V0',\n",
       " '11009101036021',\n",
       " '/media/oncopole/DD 2To/REMARC_csv/11009101036021_dec 21_2010.csvLV1.csv',\n",
       " []]"
      ]
     },
     "metadata": {},
     "execution_count": 15
    }
   ],
   "source": [
    "data"
   ]
  },
  {
   "cell_type": "code",
   "execution_count": null,
   "metadata": {},
   "outputs": [],
   "source": []
  },
  {
   "cell_type": "code",
   "execution_count": null,
   "metadata": {},
   "outputs": [],
   "source": [
    "study_uid = []\n",
    "\n",
    "for data in dataset : \n",
    "    study_uid.append(data[2])"
   ]
  },
  {
   "cell_type": "code",
   "execution_count": null,
   "metadata": {},
   "outputs": [],
   "source": [
    "study_uid[0]"
   ]
  },
  {
   "cell_type": "code",
   "execution_count": null,
   "metadata": {},
   "outputs": [],
   "source": [
    "#get patient_name from json \n",
    "liste_json = []\n",
    "list_dir = os.listdir('/home/deeplearning/AHL/AHL_JSON')\n",
    "list_dir.remove('AHL_JSON_1')\n",
    "for file_ in list_dir : \n",
    "    liste_json.append(os.path.join('/home/deeplearning/AHL/AHL_JSON', file_))\n",
    "\n",
    "\n",
    "\n",
    "for data in dataset : \n",
    "    for json_path in liste_json : \n",
    "        with open(json_path) as json_file : \n",
    "            reader = json.load(json_file)\n",
    "\n",
    "            uid = reader['study']['StudyInstanceUID']\n",
    "\n",
    "            if uid == data[4] : \n",
    "\n",
    "                data.append(reader['patient']['PatientName'])\n",
    "\n",
    "                break\n"
   ]
  },
  {
   "cell_type": "code",
   "execution_count": null,
   "metadata": {},
   "outputs": [],
   "source": [
    "#liste of generated nifti by \"nifti_builder_from_json\" script \n",
    "\n",
    "nifti_directory = '/media/deeplearning/Elements/AHL2011_NIFTI'\n",
    "liste_n = os.listdir(nifti_directory)\n",
    "\n",
    "liste_nifti_pet0 = []\n",
    "for l in liste_n : \n",
    "    liste_nifti_pet0.append(os.path.join('/media/deeplearning/Elements/AHL2011_NIFTI', l))\n",
    "\n",
    "pet_2_4 = os.listdir('/media/deeplearning/Elements/AHL2011_NIFTI_PET24')\n",
    "liste_nifti_pet2_4 = []\n",
    "for pet in pet_2_4 : \n",
    "    liste_nifti_pet2_4.append(os.path.join('/media/deeplearning/Elements/AHL2011_NIFTI_PET24', pet))\n",
    "\n",
    "#pet_4 = os.listdir('/home/deeplearning/AHL/AHL_NIFTI/pet4')\n",
    "#liste_nifti_pet4 = []\n",
    "#for pet in pet_4 : \n",
    "#    liste_nifti_pet4.append(os.path.join('/home/deeplearning/AHL/AHL_NIFTI/pet4', pet))\n",
    "\n",
    "\n",
    "liste_nifti = liste_nifti_pet0 + liste_nifti_pet2_4\n",
    "\n",
    "no_nifti = []\n",
    "for nifti in liste_nifti : \n",
    "    if \"nifti\" not in nifti : \n",
    "        no_nifti.append(nifti)\n",
    "\n",
    "for fold in no_nifti : \n",
    "    liste_nifti.remove(fold)"
   ]
  },
  {
   "cell_type": "code",
   "execution_count": null,
   "metadata": {},
   "outputs": [],
   "source": [
    "len(liste_nifti)"
   ]
  },
  {
   "cell_type": "code",
   "execution_count": null,
   "metadata": {
    "tags": []
   },
   "outputs": [],
   "source": [
    "for row in dataset : \n",
    "    subsubliste = []\n",
    "    for nifti in liste_nifti : \n",
    "        if row[2] in nifti: \n",
    "            subsubliste.append(nifti)\n",
    "    if 'pet0' in row : \n",
    "        if len(subsubliste) == 3 : #or == 3 if there is a mask \n",
    "            subsubliste = sorted(subsubliste)\n",
    "            row.append(subsubliste[0])\n",
    "            row.append(subsubliste[1])\n",
    "            row.append(subsubliste[2]) #add it if there is a mask \n",
    "        else : \n",
    "            pass\n",
    "    elif 'pet2' in row or 'pet4' in row : \n",
    "        if len(subsubliste) == 2  : #or == 3 if there is a mask \n",
    "            subsubliste = sorted(subsubliste)\n",
    "            row.append(subsubliste[0])\n",
    "            row.append(subsubliste[1])\n",
    "\n",
    "    #subliste.append(type_)\n",
    "    #liste.append(subliste)"
   ]
  },
  {
   "cell_type": "code",
   "execution_count": null,
   "metadata": {},
   "outputs": [],
   "source": [
    "#Check if CT PET MASK for pet0 and CT PET for pet2&4"
   ]
  },
  {
   "cell_type": "code",
   "execution_count": null,
   "metadata": {
    "tags": []
   },
   "outputs": [],
   "source": [
    "for serie in dataset : \n",
    "    if 'pet0' in serie : \n",
    "        if len(serie) != 10 : \n",
    "            print(serie)\n",
    "    else : \n",
    "        if len(serie) != 9 : \n",
    "            print(serie)"
   ]
  },
  {
   "cell_type": "code",
   "execution_count": null,
   "metadata": {},
   "outputs": [],
   "source": [
    "#check for double study here\n",
    "\n",
    "\n",
    "\n",
    "\n",
    "\n"
   ]
  },
  {
   "cell_type": "code",
   "execution_count": null,
   "metadata": {},
   "outputs": [],
   "source": [
    "print(\"nombre de study : \", len(dataset))"
   ]
  },
  {
   "cell_type": "code",
   "execution_count": null,
   "metadata": {
    "tags": [
     "outputPrepend"
    ]
   },
   "outputs": [],
   "source": [
    "#create folder to save nifti\n",
    "\n",
    "for serie in dataset: \n",
    "    if 'pet0' in serie : \n",
    "        patient_name = serie[0]\n",
    "        patient_id = serie[1]\n",
    "        pet_type = serie[3]\n",
    "        nifti_ct = serie[7]\n",
    "        nifti_pet = serie[8]\n",
    "        nifti_mask = serie[9] #if pet0\n",
    "\n",
    "        folder = '/media/deeplearning/Elements/AHL_NIFTI'+'/'+patient_id\n",
    "\n",
    "        if not os.path.exists(folder):\n",
    "            os.makedirs(folder)\n",
    "            print(folder, 'created')\n",
    "        else : print(folder, \"Dossier patient déjà crée\")\n",
    "\n",
    "        subfolder = folder+'/'+pet_type\n",
    "        if not os.path.exists(subfolder) :\n",
    "            os.makedirs(subfolder)\n",
    "            print(subfolder, 'created')\n",
    "        else : print(subfolder, \"Déjà creer => already folder for \", pet_type)\n",
    "\n",
    "        ct_path = nifti_ct\n",
    "        pt_path = nifti_pet\n",
    "        mask_path = nifti_mask\n",
    "\n",
    "        new_ct_path = subfolder+'/'+nifti_ct.split('/')[-1]\n",
    "        new_pet_path = subfolder+'/'+nifti_pet.split('/')[-1]\n",
    "        new_mask_path = subfolder+'/'+nifti_mask.split('/')[-1]\n",
    "        try : \n",
    "\n",
    "            os.rename(ct_path, new_ct_path)\n",
    "            os.rename(pt_path, new_pet_path)\n",
    "            os.rename(mask_path, new_mask_path)\n",
    "\n",
    "            serie[7] = new_ct_path\n",
    "            serie[8] = new_pet_path \n",
    "            serie[9] = new_mask_path\n",
    "        except Exception as err : \n",
    "            print(err)\n",
    "    else : \n",
    "        patient_name = serie[0]\n",
    "        patient_id = serie[1]\n",
    "        pet_type = serie[3]\n",
    "        nifti_ct = serie[7]\n",
    "        nifti_pet = serie[8]\n",
    "\n",
    "        folder = '/media/deeplearning/Elements/AHL_NIFTI'+'/'+patient_id\n",
    "\n",
    "        if not os.path.exists(folder):\n",
    "            os.makedirs(folder)\n",
    "            print(folder, 'created')\n",
    "        else : print(folder, \"Dossier patient déjà crée\")\n",
    "\n",
    "        subfolder = folder+'/'+pet_type\n",
    "        if not os.path.exists(subfolder) :\n",
    "            os.makedirs(subfolder)\n",
    "            print(subfolder, 'created')\n",
    "        else : print(subfolder, \"Déjà creer => already folder for \", pet_type)\n",
    "\n",
    "        ct_path = nifti_ct\n",
    "        pt_path = nifti_pet\n",
    "\n",
    "        new_ct_path = subfolder+'/'+nifti_ct.split('/')[-1]\n",
    "        new_pet_path = subfolder+'/'+nifti_pet.split('/')[-1]\n",
    "\n",
    "        try : \n",
    "            os.rename(ct_path, new_ct_path)\n",
    "            os.rename(pt_path, new_pet_path)\n",
    "\n",
    "            serie[7] = new_ct_path\n",
    "            serie[8] = new_pet_path \n",
    "\n",
    "        except Exception as err : \n",
    "            print(err)"
   ]
  },
  {
   "cell_type": "code",
   "execution_count": null,
   "metadata": {},
   "outputs": [],
   "source": [
    "pet0 = []\n",
    "pet2 = []\n",
    "pet4 = []\n",
    "for serie in dataset : \n",
    "    if serie[3] == 'pet0': \n",
    "        pet0.append(serie)\n",
    "    elif serie[3] == 'pet2' : \n",
    "        pet2.append(serie)\n",
    "    elif serie[3] == 'pet4':\n",
    "        pet4.append(serie)"
   ]
  },
  {
   "cell_type": "code",
   "execution_count": null,
   "metadata": {},
   "outputs": [],
   "source": [
    "nifti_directory = '/media/deeplearning/Elements/AHL_NIFTI'\n",
    "filename = 'AHL2011_NIFTI_V4.csv'\n",
    "\n",
    "with open(os.path.join(nifti_directory, filename), 'w') as csv_file : \n",
    "    csv_writer = csv.writer(csv_file, delimiter=',', quotechar='\"', quoting=csv.QUOTE_MINIMAL)\n",
    "    csv_writer.writerow([\"PATIENT NAME\", \"PATIENT ID\", \"STUDY UID\", \"PET\", \"NIFTI_CT\", \"NIFTI_PET\", \"NIFTI_MASK\"])\n",
    "    for serie in pet0 : \n",
    "        csv_writer.writerow([serie[0], serie[1], serie[2], serie[3].lower(), serie[7], serie[8], serie[9]])\n",
    "\n",
    "\n",
    "    for serie in pet2:\n",
    "        csv_writer.writerow([serie[0], serie[1], serie[2], serie[3].lower(), serie[7], serie[8], \"\"])\n",
    "\n",
    "\n",
    "    for serie in pet4:\n",
    "        csv_writer.writerow([serie[0], serie[1], serie[2], serie[3].lower(), serie[7], serie[8], \"\"])\n"
   ]
  }
 ],
 "metadata": {
  "file_extension": ".py",
  "kernelspec": {
   "name": "python3",
   "display_name": "Python 3.8.5 64-bit ('base': conda)",
   "metadata": {
    "interpreter": {
     "hash": "6a0b6c04207aa6f5c33e08335e377a5793c5a1abe8e179f13df17cfd923ec7d1"
    }
   }
  },
  "language_info": {
   "codemirror_mode": {
    "name": "ipython",
    "version": 3
   },
   "file_extension": ".py",
   "mimetype": "text/x-python",
   "name": "python",
   "nbconvert_exporter": "python",
   "pygments_lexer": "ipython3",
   "version": "3.8.5-final"
  },
  "mimetype": "text/x-python",
  "name": "python",
  "npconvert_exporter": "python",
  "pygments_lexer": "ipython3",
  "version": 3
 },
 "nbformat": 4,
 "nbformat_minor": 2
}