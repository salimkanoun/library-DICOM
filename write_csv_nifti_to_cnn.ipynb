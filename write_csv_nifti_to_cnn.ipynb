{
 "cells": [
  {
   "cell_type": "code",
   "execution_count": 1,
   "metadata": {},
   "outputs": [],
   "source": [
    "import json\n",
    "import os\n",
    "from library_dicom.dicom_processor.tools.folders import *\n",
    "from library_dicom.dicom_processor.tools.create_mip import *\n",
    "from library_dicom.dicom_processor.tools.threshold_mask import *\n",
    "import numpy as np\n",
    "import SimpleITK as sitk\n",
    "import csv\n",
    "import shutil"
   ]
  },
  {
   "cell_type": "code",
   "execution_count": null,
   "metadata": {},
   "outputs": [],
   "source": [
    "#Script to write csv to use in Deep Learning "
   ]
  },
  {
   "cell_type": "code",
   "execution_count": 24,
   "metadata": {},
   "outputs": [
    {
     "output_type": "stream",
     "name": "stdout",
     "text": [
      "231\n"
     ]
    }
   ],
   "source": [
    "json_path = '/home/deeplearning/AHL/AHL_new_dataset.json'\n",
    "dataset = []\n",
    "with open(json_path) as json_file : \n",
    "    reader = json.load(json_file)\n",
    "    for info in reader :\n",
    "        dataset.append(info)\n",
    "\n",
    "print(len(dataset))"
   ]
  },
  {
   "cell_type": "code",
   "execution_count": 25,
   "metadata": {},
   "outputs": [
    {
     "output_type": "execute_result",
     "data": {
      "text/plain": [
       "['/home/deeplearning/AHL/AHL_Validated_DICOM/13011101051024/pet0/1.2.840.113619.2.290.3.279748722.295.1383548122.747',\n",
       " 'PT',\n",
       " '/home/deeplearning/AHL/AHL_Validated_DICOM/13011101051024/pet0/1.2.840.113619.2.290.3.279748722.295.1383548122.445.3',\n",
       " 'CT',\n",
       " '1.2.840.113619.2.290.3.279748722.295.1383548122.441',\n",
       " 'PET0',\n",
       " '13011101051024']"
      ]
     },
     "metadata": {},
     "execution_count": 25
    }
   ],
   "source": [
    "dataset[0]"
   ]
  },
  {
   "cell_type": "code",
   "execution_count": 26,
   "metadata": {},
   "outputs": [],
   "source": [
    "study_uid = []\n",
    "\n",
    "for data in dataset : \n",
    "    study_uid.append(data[4])"
   ]
  },
  {
   "cell_type": "code",
   "execution_count": 27,
   "metadata": {},
   "outputs": [],
   "source": [
    "#get patient_name from json \n",
    "liste_json = []\n",
    "list_dir = os.listdir('/home/deeplearning/AHL/AHL_JSON')\n",
    "list_dir.remove('AHL_JSON_1')\n",
    "for file_ in list_dir : \n",
    "    liste_json.append(os.path.join('/home/deeplearning/AHL/AHL_JSON', file_))\n",
    "\n",
    "\n",
    "\n",
    "for data in dataset : \n",
    "    for json_path in liste_json : \n",
    "        with open(json_path) as json_file : \n",
    "            reader = json.load(json_file)\n",
    "\n",
    "            uid = reader['study']['StudyInstanceUID']\n",
    "\n",
    "            if uid == data[4] : \n",
    "\n",
    "                data.append(reader['patient']['PatientName'])\n",
    "\n",
    "                break\n"
   ]
  },
  {
   "cell_type": "code",
   "execution_count": 28,
   "metadata": {},
   "outputs": [
    {
     "output_type": "execute_result",
     "data": {
      "text/plain": [
       "['/home/deeplearning/AHL/AHL_Validated_DICOM/13011101051024/pet0/1.2.840.113619.2.290.3.279748722.295.1383548122.747',\n",
       " 'PT',\n",
       " '/home/deeplearning/AHL/AHL_Validated_DICOM/13011101051024/pet0/1.2.840.113619.2.290.3.279748722.295.1383548122.445.3',\n",
       " 'CT',\n",
       " '1.2.840.113619.2.290.3.279748722.295.1383548122.441',\n",
       " 'PET0',\n",
       " '13011101051024',\n",
       " 'TAB^DO']"
      ]
     },
     "metadata": {},
     "execution_count": 28
    }
   ],
   "source": [
    "dataset[0]"
   ]
  },
  {
   "cell_type": "code",
   "execution_count": 29,
   "metadata": {},
   "outputs": [],
   "source": [
    "#liste of generated nifti by \"nifti_builder_from_json\" script \n",
    "\n",
    "nifti_directory = '/home/deeplearning/AHL/AHL_NIFTI'\n",
    "liste_n = os.listdir(nifti_directory)\n",
    "\n",
    "liste_nifti_pet0 = []\n",
    "for l in liste_n : \n",
    "    liste_nifti_pet0.append(os.path.join('/home/deeplearning/AHL/AHL_NIFTI', l))\n",
    "\n",
    "pet_2 = os.listdir('/home/deeplearning/AHL/AHL_NIFTI/pet2')\n",
    "liste_nifti_pet2 = []\n",
    "for pet in pet_2 : \n",
    "    liste_nifti_pet2.append(os.path.join('/home/deeplearning/AHL/AHL_NIFTI/pet2', pet))\n",
    "\n",
    "pet_4 = os.listdir('/home/deeplearning/AHL/AHL_NIFTI/pet4')\n",
    "liste_nifti_pet4 = []\n",
    "for pet in pet_4 : \n",
    "    liste_nifti_pet4.append(os.path.join('/home/deeplearning/AHL/AHL_NIFTI/pet4', pet))\n",
    "\n",
    "\n",
    "liste_nifti = liste_nifti_pet0 + liste_nifti_pet2 + liste_nifti_pet4\n",
    "\n",
    "no_nifti = []\n",
    "for nifti in liste_nifti : \n",
    "    if \"nifti\" not in nifti : \n",
    "        no_nifti.append(nifti)\n",
    "\n",
    "for fold in no_nifti : \n",
    "    liste_nifti.remove(fold)"
   ]
  },
  {
   "cell_type": "code",
   "execution_count": 30,
   "metadata": {},
   "outputs": [
    {
     "output_type": "execute_result",
     "data": {
      "text/plain": [
       "534"
      ]
     },
     "metadata": {},
     "execution_count": 30
    }
   ],
   "source": [
    "len(liste_nifti)"
   ]
  },
  {
   "cell_type": "code",
   "execution_count": 31,
   "metadata": {
    "tags": []
   },
   "outputs": [],
   "source": [
    "for row in dataset : \n",
    "    subsubliste = []\n",
    "    for nifti in liste_nifti : \n",
    "        if row[4] in nifti: \n",
    "            subsubliste.append(nifti)\n",
    "    if 'PET0' in row : \n",
    "        if len(subsubliste) == 3 : #or == 3 if there is a mask \n",
    "            subsubliste = sorted(subsubliste)\n",
    "            row.append(subsubliste[0])\n",
    "            row.append(subsubliste[1])\n",
    "            row.append(subsubliste[2]) #add it if there is a mask \n",
    "        else : \n",
    "            pass\n",
    "    elif 'PET2' in row or 'PET4' in row : \n",
    "        if len(subsubliste) == 2  : #or == 3 if there is a mask \n",
    "            subsubliste = sorted(subsubliste)\n",
    "            row.append(subsubliste[0])\n",
    "            row.append(subsubliste[1])\n",
    "\n",
    "    #subliste.append(type_)\n",
    "    #liste.append(subliste)"
   ]
  },
  {
   "cell_type": "code",
   "execution_count": 37,
   "metadata": {},
   "outputs": [
    {
     "output_type": "execute_result",
     "data": {
      "text/plain": [
       "['/home/deeplearning/AHL/AHL_Validated_DICOM/13011101021016/PET4/imagys_AHL2011_13011101021016_4c0b8cd1-920f-4038-86c0-687732575acf',\n",
       " 'CT',\n",
       " '/home/deeplearning/AHL/AHL_Validated_DICOM/13011101021016/PET4/imagys_AHL2011_13011101021016_90aa5624-7438-4314-8864-1c3d1c69298a',\n",
       " 'PT',\n",
       " '1.2.250.1.59.470.940100027.1.20130312163131.17015.116199',\n",
       " 'PET4',\n",
       " '13011101021016',\n",
       " 'HER^PI',\n",
       " '/home/deeplearning/AHL/AHL_NIFTI/pet4/1.2.250.1.59.470.940100027.1.20130312163131.17015.116199_nifti_CT.nii',\n",
       " '/home/deeplearning/AHL/AHL_NIFTI/pet4/1.2.250.1.59.470.940100027.1.20130312163131.17015.116199_nifti_PT.nii']"
      ]
     },
     "metadata": {},
     "execution_count": 37
    }
   ],
   "source": [
    "dataset[4]"
   ]
  },
  {
   "cell_type": "code",
   "execution_count": 39,
   "metadata": {},
   "outputs": [],
   "source": [
    "#clean serie : must have patient_name, patient ID, study_UID, CT_path, PET_path, MASK_path if pet0, and type \"PET\" (0,2,4)\n",
    "completed_liste = []\n",
    "for serie in dataset : \n",
    "    if len(serie) == 10 or len(serie) == 11 : #== 10 if Mask_path \n",
    "        completed_liste.append(serie)"
   ]
  },
  {
   "cell_type": "code",
   "execution_count": 40,
   "metadata": {},
   "outputs": [
    {
     "output_type": "execute_result",
     "data": {
      "text/plain": [
       "206"
      ]
     },
     "metadata": {},
     "execution_count": 40
    }
   ],
   "source": [
    "len(completed_liste)"
   ]
  },
  {
   "cell_type": "code",
   "execution_count": 41,
   "metadata": {},
   "outputs": [],
   "source": [
    "#here check for double : if there are 2 patient with same ID, or same STUDY_UID, delete the other(s) serie(s)\n",
    "\n",
    "dataset = []\n",
    "dataset.append(completed_liste[0])\n",
    "for i in range(1, len(completed_liste)) :\n",
    "    if completed_liste[i] not in dataset : \n",
    "        dataset.append(completed_liste[i])"
   ]
  },
  {
   "cell_type": "code",
   "execution_count": 42,
   "metadata": {},
   "outputs": [
    {
     "output_type": "stream",
     "name": "stdout",
     "text": [
      "nombre de study :  206\n"
     ]
    }
   ],
   "source": [
    "print(\"nombre de study : \", len(dataset))"
   ]
  },
  {
   "cell_type": "code",
   "execution_count": 43,
   "metadata": {},
   "outputs": [
    {
     "output_type": "execute_result",
     "data": {
      "text/plain": [
       "['/home/deeplearning/AHL/AHL_Validated_DICOM/13011101051024/pet0/1.2.840.113619.2.290.3.279748722.295.1383548122.747',\n",
       " 'PT',\n",
       " '/home/deeplearning/AHL/AHL_Validated_DICOM/13011101051024/pet0/1.2.840.113619.2.290.3.279748722.295.1383548122.445.3',\n",
       " 'CT',\n",
       " '1.2.840.113619.2.290.3.279748722.295.1383548122.441',\n",
       " 'PET0',\n",
       " '13011101051024',\n",
       " 'TAB^DO',\n",
       " '/home/deeplearning/AHL/AHL_NIFTI/1.2.840.113619.2.290.3.279748722.295.1383548122.441_nifti_CT.nii',\n",
       " '/home/deeplearning/AHL/AHL_NIFTI/1.2.840.113619.2.290.3.279748722.295.1383548122.441_nifti_PT.nii',\n",
       " '/home/deeplearning/AHL/AHL_NIFTI/1.2.840.113619.2.290.3.279748722.295.1383548122.441_nifti_mask.nii']"
      ]
     },
     "metadata": {},
     "execution_count": 43
    }
   ],
   "source": [
    "dataset[0]"
   ]
  },
  {
   "cell_type": "code",
   "execution_count": null,
   "metadata": {},
   "outputs": [],
   "source": []
  },
  {
   "cell_type": "code",
   "execution_count": 45,
   "metadata": {
    "tags": [
     "outputPrepend"
    ]
   },
   "outputs": [
    {
     "output_type": "stream",
     "name": "stdout",
     "text": [
      "ome/deeplearning/AHL/AHL_NIFTI/13011105341005 created\n/home/deeplearning/AHL/AHL_NIFTI/13011105341005/PET2 created\n/home/deeplearning/AHL/AHL_NIFTI/53011101871014 created\n/home/deeplearning/AHL/AHL_NIFTI/53011101871014/PET4 created\n/home/deeplearning/AHL/AHL_NIFTI/53011101871015 created\n/home/deeplearning/AHL/AHL_NIFTI/53011101871015/PET4 created\n/home/deeplearning/AHL/AHL_NIFTI/13011101021004 Dossier patient déjà crée\n/home/deeplearning/AHL/AHL_NIFTI/13011101021004/PET2 created\n/home/deeplearning/AHL/AHL_NIFTI/13011101231007 created\n/home/deeplearning/AHL/AHL_NIFTI/13011101231007/PET0 created\n/home/deeplearning/AHL/AHL_NIFTI/13011103311004 created\n/home/deeplearning/AHL/AHL_NIFTI/13011103311004/PET2 created\n/home/deeplearning/AHL/AHL_NIFTI/53011101401007 created\n/home/deeplearning/AHL/AHL_NIFTI/53011101401007/PET0 created\n/home/deeplearning/AHL/AHL_NIFTI/13011101211016 created\n/home/deeplearning/AHL/AHL_NIFTI/13011101211016/PET0 created\n/home/deeplearning/AHL/AHL_NIFTI/53011101821006 Dossier patient déjà crée\n/home/deeplearning/AHL/AHL_NIFTI/53011101821006/PET0 created\n/home/deeplearning/AHL/AHL_NIFTI/53011102341020 created\n/home/deeplearning/AHL/AHL_NIFTI/53011102341020/PET0 created\n/home/deeplearning/AHL/AHL_NIFTI/13011101251018 created\n/home/deeplearning/AHL/AHL_NIFTI/13011101251018/PET0 created\n/home/deeplearning/AHL/AHL_NIFTI/53011101821002 created\n/home/deeplearning/AHL/AHL_NIFTI/53011101821002/PET4 created\n/home/deeplearning/AHL/AHL_NIFTI/13011101241001 created\n/home/deeplearning/AHL/AHL_NIFTI/13011101241001/PET0 created\n/home/deeplearning/AHL/AHL_NIFTI/13011103311021 created\n/home/deeplearning/AHL/AHL_NIFTI/13011103311021/PET2 created\n/home/deeplearning/AHL/AHL_NIFTI/53011106341003 created\n/home/deeplearning/AHL/AHL_NIFTI/53011106341003/PET0 created\n/home/deeplearning/AHL/AHL_NIFTI/13011101391004 created\n/home/deeplearning/AHL/AHL_NIFTI/13011101391004/PET0 created\n/home/deeplearning/AHL/AHL_NIFTI/53011101871016 created\n/home/deeplearning/AHL/AHL_NIFTI/53011101871016/PET4 created\n/home/deeplearning/AHL/AHL_NIFTI/13011101021010 created\n/home/deeplearning/AHL/AHL_NIFTI/13011101021010/PET4 created\n/home/deeplearning/AHL/AHL_NIFTI/13011101021010 Dossier patient déjà crée\n/home/deeplearning/AHL/AHL_NIFTI/13011101021010/PET0 created\n/home/deeplearning/AHL/AHL_NIFTI/13011101391030 created\n/home/deeplearning/AHL/AHL_NIFTI/13011101391030/PET0 created\n/home/deeplearning/AHL/AHL_NIFTI/13011101151001 created\n/home/deeplearning/AHL/AHL_NIFTI/13011101151001/PET0 created\n/home/deeplearning/AHL/AHL_NIFTI/13011102171003 created\n/home/deeplearning/AHL/AHL_NIFTI/13011102171003/PET0 created\n/home/deeplearning/AHL/AHL_NIFTI/13011101171002 Dossier patient déjà crée\n/home/deeplearning/AHL/AHL_NIFTI/13011101171002/PET2 created\n/home/deeplearning/AHL/AHL_NIFTI/53011101821004 created\n/home/deeplearning/AHL/AHL_NIFTI/53011101821004/PET2 created\n/home/deeplearning/AHL/AHL_NIFTI/53011101821004 Dossier patient déjà crée\n/home/deeplearning/AHL/AHL_NIFTI/53011101821004/PET0 created\n/home/deeplearning/AHL/AHL_NIFTI/13011101431008 created\n/home/deeplearning/AHL/AHL_NIFTI/13011101431008/PET0 created\n/home/deeplearning/AHL/AHL_NIFTI/13011101251011 created\n/home/deeplearning/AHL/AHL_NIFTI/13011101251011/PET0 created\n/home/deeplearning/AHL/AHL_NIFTI/53011101871015 Dossier patient déjà crée\n/home/deeplearning/AHL/AHL_NIFTI/53011101871015/PET0 created\n/home/deeplearning/AHL/AHL_NIFTI/13011101101008 Dossier patient déjà crée\n/home/deeplearning/AHL/AHL_NIFTI/13011101101008/PET0 created\n/home/deeplearning/AHL/AHL_NIFTI/13011103251004 created\n/home/deeplearning/AHL/AHL_NIFTI/13011103251004/PET0 created\n/home/deeplearning/AHL/AHL_NIFTI/13011103311021 Dossier patient déjà crée\n/home/deeplearning/AHL/AHL_NIFTI/13011103311021/PET0 created\n/home/deeplearning/AHL/AHL_NIFTI/53011101821007 Dossier patient déjà crée\n/home/deeplearning/AHL/AHL_NIFTI/53011101821007/PET0 created\n/home/deeplearning/AHL/AHL_NIFTI/13011101541001 created\n/home/deeplearning/AHL/AHL_NIFTI/13011101541001/PET0 created\n/home/deeplearning/AHL/AHL_NIFTI/53011102341021 created\n/home/deeplearning/AHL/AHL_NIFTI/53011102341021/PET2 created\n/home/deeplearning/AHL/AHL_NIFTI/13011107211001 created\n/home/deeplearning/AHL/AHL_NIFTI/13011107211001/PET0 created\n/home/deeplearning/AHL/AHL_NIFTI/13011101621001 created\n/home/deeplearning/AHL/AHL_NIFTI/13011101621001/PET4 created\n/home/deeplearning/AHL/AHL_NIFTI/53011101841001 created\n/home/deeplearning/AHL/AHL_NIFTI/53011101841001/PET0 created\n/home/deeplearning/AHL/AHL_NIFTI/13011101151003 Dossier patient déjà crée\n/home/deeplearning/AHL/AHL_NIFTI/13011101151003/PET2 created\n/home/deeplearning/AHL/AHL_NIFTI/13011101431009 created\n/home/deeplearning/AHL/AHL_NIFTI/13011101431009/PET4 created\n/home/deeplearning/AHL/AHL_NIFTI/13011101021009 created\n/home/deeplearning/AHL/AHL_NIFTI/13011101021009/PET4 created\n/home/deeplearning/AHL/AHL_NIFTI/13011101101005 created\n/home/deeplearning/AHL/AHL_NIFTI/13011101101005/PET2 created\n/home/deeplearning/AHL/AHL_NIFTI/13011101251017 created\n/home/deeplearning/AHL/AHL_NIFTI/13011101251017/PET0 created\n/home/deeplearning/AHL/AHL_NIFTI/13011101171004 created\n/home/deeplearning/AHL/AHL_NIFTI/13011101171004/PET2 created\n/home/deeplearning/AHL/AHL_NIFTI/13011101051024 Dossier patient déjà crée\n/home/deeplearning/AHL/AHL_NIFTI/13011101051024/PET4 created\n/home/deeplearning/AHL/AHL_NIFTI/53011101821001 created\n/home/deeplearning/AHL/AHL_NIFTI/53011101821001/PET2 created\n/home/deeplearning/AHL/AHL_NIFTI/53011101851006 created\n/home/deeplearning/AHL/AHL_NIFTI/53011101851006/PET0 created\n/home/deeplearning/AHL/AHL_NIFTI/13011101171005 created\n/home/deeplearning/AHL/AHL_NIFTI/13011101171005/PET0 created\n/home/deeplearning/AHL/AHL_NIFTI/13011101331004 created\n/home/deeplearning/AHL/AHL_NIFTI/13011101331004/PET0 created\n/home/deeplearning/AHL/AHL_NIFTI/13011101391005 created\n/home/deeplearning/AHL/AHL_NIFTI/13011101391005/PET2 created\n/home/deeplearning/AHL/AHL_NIFTI/53011101821003 Dossier patient déjà crée\n/home/deeplearning/AHL/AHL_NIFTI/53011101821003/PET0 created\n/home/deeplearning/AHL/AHL_NIFTI/13011101151002 Dossier patient déjà crée\n/home/deeplearning/AHL/AHL_NIFTI/13011101151002/PET4 created\n/home/deeplearning/AHL/AHL_NIFTI/13011101431010 Dossier patient déjà crée\n/home/deeplearning/AHL/AHL_NIFTI/13011101431010/PET0 created\n/home/deeplearning/AHL/AHL_NIFTI/13011106211002 created\n/home/deeplearning/AHL/AHL_NIFTI/13011106211002/PET0 created\n/home/deeplearning/AHL/AHL_NIFTI/13011101171005 Dossier patient déjà crée\n/home/deeplearning/AHL/AHL_NIFTI/13011101171005/PET2 created\n/home/deeplearning/AHL/AHL_NIFTI/13011101251022 created\n/home/deeplearning/AHL/AHL_NIFTI/13011101251022/PET0 created\n/home/deeplearning/AHL/AHL_NIFTI/53011101821011 Dossier patient déjà crée\n/home/deeplearning/AHL/AHL_NIFTI/53011101821011/PET4 created\n/home/deeplearning/AHL/AHL_NIFTI/13011103311003 Dossier patient déjà crée\n/home/deeplearning/AHL/AHL_NIFTI/13011103311003/PET2 created\n/home/deeplearning/AHL/AHL_NIFTI/13011101431013 created\n/home/deeplearning/AHL/AHL_NIFTI/13011101431013/PET2 created\n/home/deeplearning/AHL/AHL_NIFTI/13011106211004 created\n/home/deeplearning/AHL/AHL_NIFTI/13011106211004/PET0 created\n/home/deeplearning/AHL/AHL_NIFTI/53011101821008 created\n/home/deeplearning/AHL/AHL_NIFTI/53011101821008/PET2 created\n/home/deeplearning/AHL/AHL_NIFTI/13011101151004 created\n/home/deeplearning/AHL/AHL_NIFTI/13011101151004/PET4 created\n/home/deeplearning/AHL/AHL_NIFTI/13011103311004 Dossier patient déjà crée\n/home/deeplearning/AHL/AHL_NIFTI/13011103311004/PET0 created\n/home/deeplearning/AHL/AHL_NIFTI/13011106211003 created\n/home/deeplearning/AHL/AHL_NIFTI/13011106211003/PET0 created\n/home/deeplearning/AHL/AHL_NIFTI/13011101091023 created\n/home/deeplearning/AHL/AHL_NIFTI/13011101091023/PET0 created\n/home/deeplearning/AHL/AHL_NIFTI/13011105341006 created\n/home/deeplearning/AHL/AHL_NIFTI/13011105341006/PET4 created\n/home/deeplearning/AHL/AHL_NIFTI/13011103251002 created\n/home/deeplearning/AHL/AHL_NIFTI/13011103251002/PET0 created\n/home/deeplearning/AHL/AHL_NIFTI/13011101531001 created\n/home/deeplearning/AHL/AHL_NIFTI/13011101531001/PET0 created\n/home/deeplearning/AHL/AHL_NIFTI/13011101641002 created\n/home/deeplearning/AHL/AHL_NIFTI/13011101641002/PET0 created\n/home/deeplearning/AHL/AHL_NIFTI/13011101101002 created\n/home/deeplearning/AHL/AHL_NIFTI/13011101101002/PET2 created\n/home/deeplearning/AHL/AHL_NIFTI/13011101541004 created\n/home/deeplearning/AHL/AHL_NIFTI/13011101541004/PET0 created\n/home/deeplearning/AHL/AHL_NIFTI/13011101101007 Dossier patient déjà crée\n/home/deeplearning/AHL/AHL_NIFTI/13011101101007/PET2 created\n/home/deeplearning/AHL/AHL_NIFTI/13011105051005 created\n/home/deeplearning/AHL/AHL_NIFTI/13011105051005/PET0 created\n/home/deeplearning/AHL/AHL_NIFTI/13011101621005 created\n/home/deeplearning/AHL/AHL_NIFTI/13011101621005/PET0 created\n/home/deeplearning/AHL/AHL_NIFTI/13011106211005 created\n/home/deeplearning/AHL/AHL_NIFTI/13011106211005/PET0 created\n/home/deeplearning/AHL/AHL_NIFTI/53011101261002 created\n/home/deeplearning/AHL/AHL_NIFTI/53011101261002/PET0 created\n/home/deeplearning/AHL/AHL_NIFTI/13011101481004 created\n/home/deeplearning/AHL/AHL_NIFTI/13011101481004/PET0 created\n/home/deeplearning/AHL/AHL_NIFTI/53011101881009 created\n/home/deeplearning/AHL/AHL_NIFTI/53011101881009/PET0 created\n/home/deeplearning/AHL/AHL_NIFTI/13011101011001 created\n/home/deeplearning/AHL/AHL_NIFTI/13011101011001/PET2 created\n/home/deeplearning/AHL/AHL_NIFTI/13011101251034 created\n/home/deeplearning/AHL/AHL_NIFTI/13011101251034/PET0 created\n/home/deeplearning/AHL/AHL_NIFTI/53011101401008 created\n/home/deeplearning/AHL/AHL_NIFTI/53011101401008/PET0 created\n/home/deeplearning/AHL/AHL_NIFTI/13011102611002 created\n/home/deeplearning/AHL/AHL_NIFTI/13011102611002/PET0 created\n/home/deeplearning/AHL/AHL_NIFTI/53011101821002 Dossier patient déjà crée\n/home/deeplearning/AHL/AHL_NIFTI/53011101821002/PET2 created\n/home/deeplearning/AHL/AHL_NIFTI/53011101821009 created\n/home/deeplearning/AHL/AHL_NIFTI/53011101821009/PET2 created\n/home/deeplearning/AHL/AHL_NIFTI/13011101251028 created\n/home/deeplearning/AHL/AHL_NIFTI/13011101251028/PET0 created\n/home/deeplearning/AHL/AHL_NIFTI/53011101821005 Dossier patient déjà crée\n/home/deeplearning/AHL/AHL_NIFTI/53011101821005/PET2 created\n/home/deeplearning/AHL/AHL_NIFTI/13011101211010 created\n/home/deeplearning/AHL/AHL_NIFTI/13011101211010/PET0 created\n/home/deeplearning/AHL/AHL_NIFTI/13011101431003 created\n/home/deeplearning/AHL/AHL_NIFTI/13011101431003/PET4 created\n/home/deeplearning/AHL/AHL_NIFTI/53011101821003 Dossier patient déjà crée\n/home/deeplearning/AHL/AHL_NIFTI/53011101821003/PET4 created\n/home/deeplearning/AHL/AHL_NIFTI/13011105341003 created\n/home/deeplearning/AHL/AHL_NIFTI/13011105341003/PET0 created\n/home/deeplearning/AHL/AHL_NIFTI/13011101051025 created\n/home/deeplearning/AHL/AHL_NIFTI/13011101051025/PET0 created\n/home/deeplearning/AHL/AHL_NIFTI/13011101211013 created\n/home/deeplearning/AHL/AHL_NIFTI/13011101211013/PET0 created\n/home/deeplearning/AHL/AHL_NIFTI/13011101431015 created\n/home/deeplearning/AHL/AHL_NIFTI/13011101431015/PET0 created\n/home/deeplearning/AHL/AHL_NIFTI/13011101251035 created\n/home/deeplearning/AHL/AHL_NIFTI/13011101251035/PET0 created\n/home/deeplearning/AHL/AHL_NIFTI/13011101601008 created\n/home/deeplearning/AHL/AHL_NIFTI/13011101601008/PET0 created\n/home/deeplearning/AHL/AHL_NIFTI/53011101821004 Dossier patient déjà crée\n/home/deeplearning/AHL/AHL_NIFTI/53011101821004/PET4 created\n/home/deeplearning/AHL/AHL_NIFTI/13011101151006 created\n/home/deeplearning/AHL/AHL_NIFTI/13011101151006/PET4 created\n/home/deeplearning/AHL/AHL_NIFTI/13011101391009 created\n/home/deeplearning/AHL/AHL_NIFTI/13011101391009/PET2 created\n/home/deeplearning/AHL/AHL_NIFTI/13011103311004 Dossier patient déjà crée\n/home/deeplearning/AHL/AHL_NIFTI/13011103311004/PET4 created\n/home/deeplearning/AHL/AHL_NIFTI/13011101151006 Dossier patient déjà crée\n/home/deeplearning/AHL/AHL_NIFTI/13011101151006/PET0 created\n/home/deeplearning/AHL/AHL_NIFTI/13011101431004 created\n/home/deeplearning/AHL/AHL_NIFTI/13011101431004/PET4 created\n/home/deeplearning/AHL/AHL_NIFTI/53011101821010 created\n/home/deeplearning/AHL/AHL_NIFTI/53011101821010/PET2 created\n/home/deeplearning/AHL/AHL_NIFTI/13011103251001 created\n/home/deeplearning/AHL/AHL_NIFTI/13011103251001/PET0 created\n/home/deeplearning/AHL/AHL_NIFTI/13011106211006 created\n/home/deeplearning/AHL/AHL_NIFTI/13011106211006/PET0 created\n/home/deeplearning/AHL/AHL_NIFTI/13011101291002 Dossier patient déjà crée\n/home/deeplearning/AHL/AHL_NIFTI/13011101291002/PET2 created\n/home/deeplearning/AHL/AHL_NIFTI/13011101601007 created\n/home/deeplearning/AHL/AHL_NIFTI/13011101601007/PET0 created\n/home/deeplearning/AHL/AHL_NIFTI/13011102161002 created\n/home/deeplearning/AHL/AHL_NIFTI/13011102161002/PET0 created\n/home/deeplearning/AHL/AHL_NIFTI/13011101621003 created\n/home/deeplearning/AHL/AHL_NIFTI/13011101621003/PET2 created\n/home/deeplearning/AHL/AHL_NIFTI/13011101101010 created\n/home/deeplearning/AHL/AHL_NIFTI/13011101101010/PET0 created\n/home/deeplearning/AHL/AHL_NIFTI/13011101151003 Dossier patient déjà crée\n/home/deeplearning/AHL/AHL_NIFTI/13011101151003/PET0 created\n/home/deeplearning/AHL/AHL_NIFTI/13011101431010 Dossier patient déjà crée\n/home/deeplearning/AHL/AHL_NIFTI/13011101431010/PET4 created\n/home/deeplearning/AHL/AHL_NIFTI/53011101821009 Dossier patient déjà crée\n/home/deeplearning/AHL/AHL_NIFTI/53011101821009/PET4 created\n/home/deeplearning/AHL/AHL_NIFTI/13011101151001 Dossier patient déjà crée\n/home/deeplearning/AHL/AHL_NIFTI/13011101151001/PET2 created\n/home/deeplearning/AHL/AHL_NIFTI/53011101821002 Dossier patient déjà crée\n/home/deeplearning/AHL/AHL_NIFTI/53011101821002/PET0 created\n/home/deeplearning/AHL/AHL_NIFTI/53011102341007 created\n/home/deeplearning/AHL/AHL_NIFTI/53011102341007/PET0 created\n/home/deeplearning/AHL/AHL_NIFTI/13011103311005 created\n/home/deeplearning/AHL/AHL_NIFTI/13011103311005/PET4 created\n/home/deeplearning/AHL/AHL_NIFTI/13011101601009 created\n/home/deeplearning/AHL/AHL_NIFTI/13011101601009/PET0 created\n/home/deeplearning/AHL/AHL_NIFTI/13011101051025 Dossier patient déjà crée\n/home/deeplearning/AHL/AHL_NIFTI/13011101051025/PET4 created\n/home/deeplearning/AHL/AHL_NIFTI/13011101151004 Dossier patient déjà crée\n/home/deeplearning/AHL/AHL_NIFTI/13011101151004/PET2 created\n/home/deeplearning/AHL/AHL_NIFTI/53011101401002 created\n/home/deeplearning/AHL/AHL_NIFTI/53011101401002/PET0 created\n/home/deeplearning/AHL/AHL_NIFTI/13011101211012 created\n/home/deeplearning/AHL/AHL_NIFTI/13011101211012/PET0 created\n/home/deeplearning/AHL/AHL_NIFTI/13011101021010 Dossier patient déjà crée\n/home/deeplearning/AHL/AHL_NIFTI/13011101021010/PET2 created\n/home/deeplearning/AHL/AHL_NIFTI/13011101431009 Dossier patient déjà crée\n/home/deeplearning/AHL/AHL_NIFTI/13011101431009/PET2 created\n/home/deeplearning/AHL/AHL_NIFTI/53011101821009 Dossier patient déjà crée\n/home/deeplearning/AHL/AHL_NIFTI/53011101821009/PET0 created\n/home/deeplearning/AHL/AHL_NIFTI/13011107611001 created\n/home/deeplearning/AHL/AHL_NIFTI/13011107611001/PET0 created\n/home/deeplearning/AHL/AHL_NIFTI/13011101061020 created\n/home/deeplearning/AHL/AHL_NIFTI/13011101061020/PET0 created\n/home/deeplearning/AHL/AHL_NIFTI/13011101431008 Dossier patient déjà crée\n/home/deeplearning/AHL/AHL_NIFTI/13011101431008/PET2 created\n/home/deeplearning/AHL/AHL_NIFTI/53011101821008 Dossier patient déjà crée\n/home/deeplearning/AHL/AHL_NIFTI/53011101821008/PET0 created\n/home/deeplearning/AHL/AHL_NIFTI/13011101241003 created\n/home/deeplearning/AHL/AHL_NIFTI/13011101241003/PET4 created\n/home/deeplearning/AHL/AHL_NIFTI/13011101541002 created\n/home/deeplearning/AHL/AHL_NIFTI/13011101541002/PET0 created\n/home/deeplearning/AHL/AHL_NIFTI/13011101151005 Dossier patient déjà crée\n/home/deeplearning/AHL/AHL_NIFTI/13011101151005/PET4 created\n/home/deeplearning/AHL/AHL_NIFTI/13011102171001 created\n/home/deeplearning/AHL/AHL_NIFTI/13011102171001/PET4 created\n/home/deeplearning/AHL/AHL_NIFTI/13011103251003 created\n/home/deeplearning/AHL/AHL_NIFTI/13011103251003/PET0 created\n/home/deeplearning/AHL/AHL_NIFTI/53011101811009 created\n/home/deeplearning/AHL/AHL_NIFTI/53011101811009/PET0 created\n/home/deeplearning/AHL/AHL_NIFTI/13011101151001 Dossier patient déjà crée\n/home/deeplearning/AHL/AHL_NIFTI/13011101151001/PET4 created\n/home/deeplearning/AHL/AHL_NIFTI/13011101391011 created\n/home/deeplearning/AHL/AHL_NIFTI/13011101391011/PET0 created\n/home/deeplearning/AHL/AHL_NIFTI/13011102111006 Dossier patient déjà crée\n/home/deeplearning/AHL/AHL_NIFTI/13011102111006/PET4 created\n/home/deeplearning/AHL/AHL_NIFTI/13011101171006 created\n/home/deeplearning/AHL/AHL_NIFTI/13011101171006/PET0 created\n/home/deeplearning/AHL/AHL_NIFTI/13011101251032 created\n/home/deeplearning/AHL/AHL_NIFTI/13011101251032/PET0 created\n/home/deeplearning/AHL/AHL_NIFTI/13011104301001 created\n/home/deeplearning/AHL/AHL_NIFTI/13011104301001/PET0 created\n/home/deeplearning/AHL/AHL_NIFTI/13011101021026 created\n/home/deeplearning/AHL/AHL_NIFTI/13011101021026/PET0 created\n/home/deeplearning/AHL/AHL_NIFTI/13011101061016 created\n/home/deeplearning/AHL/AHL_NIFTI/13011101061016/PET2 created\n/home/deeplearning/AHL/AHL_NIFTI/13011101431012 created\n/home/deeplearning/AHL/AHL_NIFTI/13011101431012/PET2 created\n/home/deeplearning/AHL/AHL_NIFTI/13011101601004 created\n/home/deeplearning/AHL/AHL_NIFTI/13011101601004/PET4 created\n/home/deeplearning/AHL/AHL_NIFTI/13011101601003 created\n/home/deeplearning/AHL/AHL_NIFTI/13011101601003/PET0 created\n/home/deeplearning/AHL/AHL_NIFTI/13011101171004 Dossier patient déjà crée\n/home/deeplearning/AHL/AHL_NIFTI/13011101171004/PET0 created\n/home/deeplearning/AHL/AHL_NIFTI/13011101151006 Dossier patient déjà crée\n/home/deeplearning/AHL/AHL_NIFTI/13011101151006/PET2 created\n/home/deeplearning/AHL/AHL_NIFTI/13011101251029 created\n/home/deeplearning/AHL/AHL_NIFTI/13011101251029/PET0 created\n/home/deeplearning/AHL/AHL_NIFTI/13011101031033 created\n/home/deeplearning/AHL/AHL_NIFTI/13011101031033/PET0 created\n/home/deeplearning/AHL/AHL_NIFTI/13011101171001 Dossier patient déjà crée\n/home/deeplearning/AHL/AHL_NIFTI/13011101171001/PET2 created\n/home/deeplearning/AHL/AHL_NIFTI/13011101391001 created\n/home/deeplearning/AHL/AHL_NIFTI/13011101391001/PET0 created\n/home/deeplearning/AHL/AHL_NIFTI/13011101091012 created\n/home/deeplearning/AHL/AHL_NIFTI/13011101091012/PET2 created\n/home/deeplearning/AHL/AHL_NIFTI/13011103311008 created\n/home/deeplearning/AHL/AHL_NIFTI/13011103311008/PET4 created\n/home/deeplearning/AHL/AHL_NIFTI/53011102341020 Dossier patient déjà crée\n/home/deeplearning/AHL/AHL_NIFTI/53011102341020/PET2 created\n/home/deeplearning/AHL/AHL_NIFTI/53011102881001 created\n/home/deeplearning/AHL/AHL_NIFTI/53011102881001/PET0 created\n/home/deeplearning/AHL/AHL_NIFTI/13011101051025 Dossier patient déjà crée\n/home/deeplearning/AHL/AHL_NIFTI/13011101051025/PET4 Déjà creer => already folder for  PET4\n/home/deeplearning/AHL/AHL_NIFTI/13011101431014 created\n/home/deeplearning/AHL/AHL_NIFTI/13011101431014/PET0 created\n/home/deeplearning/AHL/AHL_NIFTI/13011105341005 Dossier patient déjà crée\n/home/deeplearning/AHL/AHL_NIFTI/13011105341005/PET4 created\n/home/deeplearning/AHL/AHL_NIFTI/13011101611003 created\n/home/deeplearning/AHL/AHL_NIFTI/13011101611003/PET0 created\n/home/deeplearning/AHL/AHL_NIFTI/53011101811006 created\n/home/deeplearning/AHL/AHL_NIFTI/53011101811006/PET0 created\n/home/deeplearning/AHL/AHL_NIFTI/13011101061016 Dossier patient déjà crée\n/home/deeplearning/AHL/AHL_NIFTI/13011101061016/PET4 created\n/home/deeplearning/AHL/AHL_NIFTI/53011101821010 Dossier patient déjà crée\n/home/deeplearning/AHL/AHL_NIFTI/53011101821010/PET4 created\n/home/deeplearning/AHL/AHL_NIFTI/13011101621002 created\n/home/deeplearning/AHL/AHL_NIFTI/13011101621002/PET0 created\n/home/deeplearning/AHL/AHL_NIFTI/13011101061016 Dossier patient déjà crée\n/home/deeplearning/AHL/AHL_NIFTI/13011101061016/PET0 created\n"
     ]
    }
   ],
   "source": [
    "#create folder to save nifti\n",
    "\n",
    "for serie in dataset: \n",
    "    if 'PET0' in serie : \n",
    "        patient_name = serie[7]\n",
    "        patient_id = serie[6]\n",
    "        pet_type = serie[5]\n",
    "        nifti_ct = serie[8]\n",
    "        nifti_pet = serie[9]\n",
    "        nifti_mask = serie[10] #if pet0\n",
    "\n",
    "        folder = '/home/deeplearning/AHL/AHL_NIFTI'+'/'+patient_id\n",
    "\n",
    "        if not os.path.exists(folder):\n",
    "            os.makedirs(folder)\n",
    "            print(folder, 'created')\n",
    "        else : print(folder, \"Dossier patient déjà crée\")\n",
    "\n",
    "        subfolder = folder+'/'+pet_type\n",
    "        if not os.path.exists(subfolder) :\n",
    "            os.makedirs(subfolder)\n",
    "            print(subfolder, 'created')\n",
    "        else : print(subfolder, \"Déjà creer => already folder for \", pet_type)\n",
    "\n",
    "        ct_path = nifti_ct\n",
    "        pt_path = nifti_pet\n",
    "        mask_path = nifti_mask\n",
    "\n",
    "        new_ct_path = subfolder+'/'+nifti_ct.split('/')[-1]\n",
    "        new_pet_path = subfolder+'/'+nifti_pet.split('/')[-1]\n",
    "        new_mask_path = subfolder+'/'+nifti_mask.split('/')[-1]\n",
    "        try : \n",
    "\n",
    "            os.rename(ct_path, new_ct_path)\n",
    "            os.rename(pt_path, new_pet_path)\n",
    "            os.rename(mask_path, new_mask_path)\n",
    "\n",
    "            serie[8] = new_ct_path\n",
    "            serie[9] = new_pet_path \n",
    "            serie[10] = new_mask_path\n",
    "        except Exception as err : \n",
    "            print(err)\n",
    "    else : \n",
    "        patient_name = serie[7]\n",
    "        patient_id = serie[6]\n",
    "        pet_type = serie[5]\n",
    "        nifti_ct = serie[8]\n",
    "        nifti_pet = serie[9]\n",
    "\n",
    "        folder = '/home/deeplearning/AHL/AHL_NIFTI'+'/'+patient_id\n",
    "\n",
    "        if not os.path.exists(folder):\n",
    "            os.makedirs(folder)\n",
    "            print(folder, 'created')\n",
    "        else : print(folder, \"Dossier patient déjà crée\")\n",
    "\n",
    "        subfolder = folder+'/'+pet_type\n",
    "        if not os.path.exists(subfolder) :\n",
    "            os.makedirs(subfolder)\n",
    "            print(subfolder, 'created')\n",
    "        else : print(subfolder, \"Déjà creer => already folder for \", pet_type)\n",
    "\n",
    "        ct_path = nifti_ct\n",
    "        pt_path = nifti_pet\n",
    "\n",
    "        new_ct_path = subfolder+'/'+nifti_ct.split('/')[-1]\n",
    "        new_pet_path = subfolder+'/'+nifti_pet.split('/')[-1]\n",
    "\n",
    "        try : \n",
    "            os.rename(ct_path, new_ct_path)\n",
    "            os.rename(pt_path, new_pet_path)\n",
    "\n",
    "            serie[8] = new_ct_path\n",
    "            serie[9] = new_pet_path \n",
    "\n",
    "        except Exception as err : \n",
    "            print(err)"
   ]
  },
  {
   "cell_type": "code",
   "execution_count": 46,
   "metadata": {},
   "outputs": [
    {
     "output_type": "execute_result",
     "data": {
      "text/plain": [
       "['/home/deeplearning/AHL/AHL_Validated_DICOM/13011101051024/pet0/1.2.840.113619.2.290.3.279748722.295.1383548122.747',\n",
       " 'PT',\n",
       " '/home/deeplearning/AHL/AHL_Validated_DICOM/13011101051024/pet0/1.2.840.113619.2.290.3.279748722.295.1383548122.445.3',\n",
       " 'CT',\n",
       " '1.2.840.113619.2.290.3.279748722.295.1383548122.441',\n",
       " 'PET0',\n",
       " '13011101051024',\n",
       " 'TAB^DO',\n",
       " '/home/deeplearning/AHL/AHL_NIFTI/13011101051024/PET0/1.2.840.113619.2.290.3.279748722.295.1383548122.441_nifti_CT.nii',\n",
       " '/home/deeplearning/AHL/AHL_NIFTI/13011101051024/PET0/1.2.840.113619.2.290.3.279748722.295.1383548122.441_nifti_PT.nii',\n",
       " '/home/deeplearning/AHL/AHL_NIFTI/13011101051024/PET0/1.2.840.113619.2.290.3.279748722.295.1383548122.441_nifti_mask.nii']"
      ]
     },
     "metadata": {},
     "execution_count": 46
    }
   ],
   "source": [
    "dataset[0]"
   ]
  },
  {
   "cell_type": "code",
   "execution_count": 48,
   "metadata": {},
   "outputs": [],
   "source": [
    "#write csv , add NIFTI_MASK column if there is a mask \n",
    "nifti_directory = '/home/deeplearning/AHL'\n",
    "filename = 'AHL_NIFTI_V2.csv'\n",
    "\n",
    "\n",
    "with open(os.path.join(nifti_directory, filename), 'w') as csv_file : \n",
    "    csv_writer = csv.writer(csv_file, delimiter=',', quotechar='\"', quoting=csv.QUOTE_MINIMAL)\n",
    "    csv_writer.writerow([\"PATIENT NAME\", \"PATIENT ID\", \"STUDY UID\", \"PET\", \"NIFTI_CT\", \"NIFTI_PET\", \"NIFTI_MASK\"])\n",
    "    for serie in dataset : \n",
    "        if 'PET0' in serie : \n",
    "            csv_writer.writerow([serie[7], serie[6], serie[4], serie[5].lower(), serie[8], serie[9], serie[10]])\n",
    "        else : \n",
    "\n",
    "            csv_writer.writerow([serie[7], serie[6], serie[4], serie[5].lower(), serie[8], serie[9], \"\"])"
   ]
  }
 ],
 "metadata": {
  "file_extension": ".py",
  "kernelspec": {
   "display_name": "Python 3.8.2 64-bit",
   "language": "python",
   "name": "python38264bit4afc185bc98b42c389abdbb3fbeec8dd"
  },
  "language_info": {
   "codemirror_mode": {
    "name": "ipython",
    "version": 3
   },
   "file_extension": ".py",
   "mimetype": "text/x-python",
   "name": "python",
   "nbconvert_exporter": "python",
   "pygments_lexer": "ipython3",
   "version": "3.8.5-final"
  },
  "mimetype": "text/x-python",
  "name": "python",
  "npconvert_exporter": "python",
  "pygments_lexer": "ipython3",
  "version": 3
 },
 "nbformat": 4,
 "nbformat_minor": 2
}