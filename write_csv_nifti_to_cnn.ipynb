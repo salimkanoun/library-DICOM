{
 "cells": [
  {
   "cell_type": "code",
   "execution_count": null,
   "metadata": {},
   "outputs": [],
   "source": [
    "import json\n",
    "import os\n",
    "from library_dicom.dicom_processor.tools.folders import *\n",
    "from library_dicom.dicom_processor.tools.create_mip import *\n",
    "from library_dicom.dicom_processor.tools.threshold_mask import *\n",
    "import numpy as np\n",
    "import SimpleITK as sitk\n",
    "import csv\n",
    "import shutil"
   ]
  },
  {
   "source": [
    "### Script to write csv_file with every nifti for DeepOncology repertory"
   ],
   "cell_type": "markdown",
   "metadata": {}
  },
  {
   "source": [
    "#### - Read JSON dataset "
   ],
   "cell_type": "markdown",
   "metadata": {}
  },
  {
   "cell_type": "code",
   "execution_count": null,
   "metadata": {},
   "outputs": [],
   "source": [
    "json_path = '/media/deeplearning/Elements/REMARC_Validated_DICOMS/validated_dataset.json'\n",
    "dataset = []\n",
    "with open(json_path) as json_file : \n",
    "    reader = json.load(json_file)\n",
    "    for info in reader :\n",
    "        dataset.append(info)\n",
    "\n",
    "print(len(dataset))"
   ]
  },
  {
   "source": [
    "#### - Get the list of every nifti in the directory "
   ],
   "cell_type": "markdown",
   "metadata": {}
  },
  {
   "cell_type": "code",
   "execution_count": null,
   "metadata": {},
   "outputs": [],
   "source": [
    "nifti_directory = '/media/oncopole/83c5223d-7a01-4ed0-b268-b877a7da96e2/REMARC_NIFTI'\n",
    "liste = os.listdir(nifti_directory)\n",
    "liste_nifti = []\n",
    "for nifti in liste : \n",
    "    liste_nifti.append(os.path.join(nifti_directory, nifti))"
   ]
  },
  {
   "source": [
    "#### - Add nifti PT CT MASK for every data/study in dataset "
   ],
   "cell_type": "markdown",
   "metadata": {}
  },
  {
   "cell_type": "code",
   "execution_count": null,
   "metadata": {},
   "outputs": [],
   "source": [
    "for data in dataset : \n",
    "    uid = data[4]\n",
    "    subliste = []\n",
    "    for nifti in liste_nifti : \n",
    "        if uid in nifti : \n",
    "            subliste.append(nifti)\n",
    "            subliste.sort()\n",
    "            \n",
    "    for i in range(3):\n",
    "        data.append(subliste[i])\n",
    "    "
   ]
  },
  {
   "source": [
    "#### - Check if CT/PET/MASK nifti for every study \n",
    "#### if not, remove study from dataset "
   ],
   "cell_type": "markdown",
   "metadata": {}
  },
  {
   "cell_type": "code",
   "execution_count": null,
   "metadata": {
    "tags": []
   },
   "outputs": [],
   "source": [
    "for serie in dataset : \n",
    "    if len(serie) !=  : \n",
    "        print(serie)"
   ]
  },
  {
   "cell_type": "code",
   "execution_count": null,
   "metadata": {},
   "outputs": [],
   "source": [
    "print(\"nombre de study : \", len(dataset))"
   ]
  },
  {
   "source": [
    "#### - Create folder with patient_id and put nifti into it "
   ],
   "cell_type": "markdown",
   "metadata": {}
  },
  {
   "cell_type": "code",
   "execution_count": null,
   "metadata": {
    "tags": [
     "outputPrepend"
    ]
   },
   "outputs": [],
   "source": [
    "for serie in dataset: \n",
    "        #patient_name = serie[0]\n",
    "    patient_id = serie[6]\n",
    "    pet_type = \"pet0\"\n",
    "    nifti_ct = serie[8]\n",
    "    nifti_pet = serie[9]\n",
    "    nifti_mask = serie[10] #if pet0\n",
    "\n",
    "\n",
    "    folder = '/media/deeplearning/Elements/AHL_NIFTI'+'/'+patient_id\n",
    "\n",
    "    if not os.path.exists(folder):\n",
    "        os.makedirs(folder)\n",
    "        print(folder, 'created')\n",
    "    else : print(folder, \"Dossier patient déjà crée\")\n",
    "\n",
    "    subfolder = folder+'/'+pet_type\n",
    "    if not os.path.exists(subfolder) :\n",
    "        os.makedirs(subfolder)\n",
    "        print(subfolder, 'created')\n",
    "    else : print(subfolder, \"Déjà creer => already folder for \", pet_type)\n",
    "\n",
    "    ct_path = nifti_ct\n",
    "    pt_path = nifti_pet\n",
    "    mask_path = nifti_mask\n",
    "\n",
    "    new_ct_path = subfolder+'/'+nifti_ct.split('/')[-1]\n",
    "    new_pet_path = subfolder+'/'+nifti_pet.split('/')[-1]\n",
    "    new_mask_path = subfolder+'/'+nifti_mask.split('/')[-1]\n",
    "    try : \n",
    "\n",
    "        os.rename(ct_path, new_ct_path)\n",
    "        os.rename(pt_path, new_pet_path)\n",
    "        os.rename(mask_path, new_mask_path)\n",
    "            \n",
    "\n",
    "        serie[8] = new_ct_path\n",
    "        serie[9] = new_pet_path \n",
    "        serie[10] = new_mask_path\n",
    "\n",
    "    except Exception as err : \n",
    "        print(err)\n",
    "\n"
   ]
  },
  {
   "source": [
    "#### - Write csv_file "
   ],
   "cell_type": "markdown",
   "metadata": {}
  },
  {
   "cell_type": "code",
   "execution_count": null,
   "metadata": {},
   "outputs": [],
   "source": [
    "nifti_directory = '/media/deeplearning/Elements/AHL_NIFTI'\n",
    "filename = 'AHL2011_NIFTI_V4.csv'\n",
    "\n",
    "with open(os.path.join(nifti_directory, filename), 'w') as csv_file : \n",
    "    csv_writer = csv.writer(csv_file, delimiter=',', quotechar='\"', quoting=csv.QUOTE_MINIMAL)\n",
    "    csv_writer.writerow([\"PATIENT NAME\", \"PATIENT ID\", \"STUDY UID\", \"PET\", \"NIFTI_CT\", \"NIFTI_PET\", \"NIFTI_MASK\", \"NIFTI_MERGED\"])\n",
    "    for serie in data : \n",
    "        csv_writer.writerow([\"\", serie[6], serie[4], 'pet0', serie[7], serie[8], serie[9]])\n"
   ]
  }
 ],
 "metadata": {
  "file_extension": ".py",
  "kernelspec": {
   "name": "python38264bit4afc185bc98b42c389abdbb3fbeec8dd",
   "display_name": "Python 3.8.2 64-bit",
   "language": "python"
  },
  "language_info": {
   "codemirror_mode": {
    "name": "ipython",
    "version": 3
   },
   "file_extension": ".py",
   "mimetype": "text/x-python",
   "name": "python",
   "nbconvert_exporter": "python",
   "pygments_lexer": "ipython3",
   "version": "3.8.5-final"
  },
  "mimetype": "text/x-python",
  "name": "python",
  "npconvert_exporter": "python",
  "pygments_lexer": "ipython3",
  "version": 3
 },
 "nbformat": 4,
 "nbformat_minor": 2
}