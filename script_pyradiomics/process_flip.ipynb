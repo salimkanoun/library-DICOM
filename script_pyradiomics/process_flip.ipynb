{
 "metadata": {
  "language_info": {
   "codemirror_mode": {
    "name": "ipython",
    "version": 3
   },
   "file_extension": ".py",
   "mimetype": "text/x-python",
   "name": "python",
   "nbconvert_exporter": "python",
   "pygments_lexer": "ipython3",
   "version": "3.8.5-final"
  },
  "orig_nbformat": 2,
  "kernelspec": {
   "name": "python38264bit4afc185bc98b42c389abdbb3fbeec8dd",
   "display_name": "Python 3.8.2 64-bit"
  }
 },
 "nbformat": 4,
 "nbformat_minor": 2,
 "cells": [
  {
   "cell_type": "code",
   "execution_count": null,
   "metadata": {
    "tags": []
   },
   "outputs": [],
   "source": [
    "from library_dicom.dicom_processor.tools.flip import *\n",
    "from library_dicom.dicom_processor.tools.create_mip import *\n",
    "from radiomics.featureextractor import RadiomicsFeatureExtractor \n",
    "import os \n",
    "import SimpleITK as sitk \n",
    "from library_dicom.dicom_processor.tools.threshold_mask import * "
   ]
  },
  {
   "cell_type": "code",
   "execution_count": null,
   "metadata": {},
   "outputs": [],
   "source": [
    "#get tmtv "
   ]
  },
  {
   "cell_type": "code",
   "execution_count": null,
   "metadata": {},
   "outputs": [],
   "source": [
    "csv_flip_path = '/media/deeplearning/78ca2911-9e9f-4f78-b80a-848024b95f92/FLIP_NIFTI/FLIP_metrics_v2.csv'\n",
    "\n",
    "with open(csv_flip_path, 'r') as csv_file :\n",
    "    reader = csv.reader(csv_file, delimiter = ',') #liste pour chaque ligne \n",
    "    csv_data = []\n",
    "    for row in reader :\n",
    "        csv_data.append(row)\n",
    "        \n",
    "del csv_data[0] #enlever première ligne"
   ]
  },
  {
   "cell_type": "code",
   "execution_count": null,
   "metadata": {
    "tags": []
   },
   "outputs": [],
   "source": [
    "old = 'D:FLIP_NIFTI'\n",
    "new = '/media/deeplearning/78ca2911-9e9f-4f78-b80a-848024b95f92/FLIP_NIFTI'\n",
    "\n",
    "for serie in csv_data : \n",
    "    ct_path = '/'.join(serie[5].split('/')[-3:])\n",
    "    pet_path = '/'.join(serie[6].split('/')[-3:])\n",
    "    mask_path = '/'.join(serie[7].split('/')[-3:])\n",
    "\n",
    "    new_ct_path = os.path.join(new, ct_path)\n",
    "    new_pet_path = os.path.join(new, pet_path)\n",
    "    new_mask_path = os.path.join(new, mask_path)\n",
    "\n",
    "    serie[5] = new_ct_path\n",
    "    serie[6] = new_pet_path \n",
    "    serie[7] = new_mask_path"
   ]
  },
  {
   "cell_type": "code",
   "execution_count": null,
   "metadata": {},
   "outputs": [],
   "source": [
    "#Calcul TMTV"
   ]
  },
  {
   "source": [
    "volume = []\n",
    "for serie in csv_data : \n",
    "    print(csv_data.index(serie))\n",
    "    img = sitk.ReadImage(serie[7])\n",
    "    mask_array = sitk.GetArrayFromImage(img).transpose()\n",
    "\n",
    "    pet_img = sitk.ReadImage(serie[6])\n",
    "\n",
    "    spacing = pet_img.GetSpacing() \n",
    "\n",
    "    volume_voxel = spacing[0]*spacing[1]*spacing[2]* 10**(-3)\n",
    "\n",
    "    pet_array = sitk.GetArrayFromImage(pet_img).transpose()\n",
    "    mask_array = get_threshold_matrix_4D(mask_array , pet_array, 0.41)\n",
    "\n",
    "    number_pixel = len(np.where(mask_array != 0)[0])\n",
    "\n",
    "    volume.append(number_pixel * volume_voxel)\n"
   ],
   "cell_type": "code",
   "metadata": {
    "tags": []
   },
   "execution_count": null,
   "outputs": []
  },
  {
   "cell_type": "code",
   "execution_count": null,
   "metadata": {},
   "outputs": [],
   "source": [
    "#Calcul diameter 2D and 3D"
   ]
  },
  {
   "cell_type": "code",
   "execution_count": null,
   "metadata": {
    "tags": []
   },
   "outputs": [],
   "source": [
    "diam_2d = []\n",
    "diam_3d = []\n",
    "for row in csv_data : \n",
    "    print(csv_data.index(row))\n",
    "    diameter_2d, diameter_3d = get_diameter(row[7], row[6], int(row[8]))\n",
    "    diam_2d.append(diameter_2d)\n",
    "    diam_3d.append(diameter_3d)\n"
   ]
  },
  {
   "cell_type": "code",
   "execution_count": null,
   "metadata": {},
   "outputs": [],
   "source": [
    "csv_flip_path = '/media/deeplearning/78ca2911-9e9f-4f78-b80a-848024b95f92/FLIP_NIFTI/FLIP_metrics_v3.csv'\n",
    "\n",
    "with open(csv_flip_path, 'r') as csv_file :\n",
    "    reader = csv.reader(csv_file, delimiter = ',') #liste pour chaque ligne \n",
    "    csv_data = []\n",
    "    for row in reader :\n",
    "        csv_data.append(row)\n",
    "        \n",
    "del csv_data[0] #enlever première ligne"
   ]
  },
  {
   "cell_type": "code",
   "execution_count": null,
   "metadata": {},
   "outputs": [],
   "source": [
    "#correlation plus grand diametre 3d  / tmtv\n",
    "diametre = []\n",
    "suv = []\n",
    "for serie in csv_data : \n",
    "    index = csv_data.index(serie)\n",
    "    diametre.append(float(serie[-2]))\n",
    "    suv.append(float(serie[-4]))"
   ]
  },
  {
   "cell_type": "code",
   "execution_count": null,
   "metadata": {},
   "outputs": [],
   "source": [
    "import matplotlib.pyplot as plt \n",
    "\n",
    "plt.scatter(diametre, suv, alpha=0.7)\n",
    "plt.xlabel(\"diamètre 3d\")\n",
    "plt.ylabel(\"suv\")\n"
   ]
  },
  {
   "cell_type": "code",
   "execution_count": null,
   "metadata": {},
   "outputs": [],
   "source": [
    "from scipy.stats import spearmanr\n",
    "\n",
    "spearmanr(diametre, suv)"
   ]
  },
  {
   "cell_type": "code",
   "execution_count": null,
   "metadata": {
    "tags": []
   },
   "outputs": [],
   "source": [
    "from scipy.stats import pearsonr \n",
    "\n",
    "print(pearsonr(diametre, suv))\n"
   ]
  },
  {
   "cell_type": "code",
   "execution_count": null,
   "metadata": {},
   "outputs": [],
   "source": []
  },
  {
   "cell_type": "code",
   "execution_count": null,
   "metadata": {},
   "outputs": [],
   "source": [
    "#correlation plus grand diametre 2d  / tmtv\n",
    "diametre_2d = []\n",
    "for serie in csv_data : \n",
    "    index = csv_data.index(serie)\n",
    "    diametre_2d.append(float(serie[-3]))\n",
    "\n",
    "plt.scatter(diametre_2d, suv, alpha=0.7)\n",
    "plt.xlabel(\"diamètre 2d\")\n",
    "plt.ylabel(\"suv\")\n"
   ]
  },
  {
   "cell_type": "code",
   "execution_count": null,
   "metadata": {},
   "outputs": [],
   "source": [
    "spearmanr(diametre_2d, suv)"
   ]
  },
  {
   "cell_type": "code",
   "execution_count": null,
   "metadata": {},
   "outputs": [],
   "source": [
    "pearsonr(diametre_2d, suv)"
   ]
  }
 ]
}