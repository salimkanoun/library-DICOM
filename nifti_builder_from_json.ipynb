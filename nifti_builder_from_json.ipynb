{
 "cells": [
  {
   "cell_type": "code",
   "execution_count": 6,
   "metadata": {},
   "outputs": [],
   "source": [
    "import json\n",
    "import os\n",
    "from library_dicom.dicom_processor.model.Series import Series \n",
    "from library_dicom.dicom_processor.model.SeriesPT import SeriesPT\n",
    "from library_dicom.dicom_processor.model.SeriesCT import SeriesCT\n",
    "from library_dicom.dicom_processor.model.csv_reader.MaskBuilder import MaskBuilder\n",
    "\n",
    "from library_dicom.dicom_processor.tools.folders import *\n",
    "from library_dicom.dicom_processor.tools.create_mip import *\n",
    "from library_dicom.dicom_processor.tools.threshold_mask import *\n",
    "\n",
    "import numpy as np\n",
    "import SimpleITK as sitk\n",
    "import csv"
   ]
  },
  {
   "source": [
    "#### - Get dataset from  PARSE_FILTERED_DICOM_DATASET script"
   ],
   "cell_type": "markdown",
   "metadata": {}
  },
  {
   "cell_type": "code",
   "execution_count": 7,
   "metadata": {
    "tags": []
   },
   "outputs": [],
   "source": [
    "#LIST_PATH from json\n",
    "json_path = '/media/deeplearning/Elements/REMARC_NIFTI/false_mask_serie.json'\n",
    "dataset = []\n",
    "with open(json_path) as json_file : \n",
    "    reader = json.load(json_file)\n",
    "    for info in reader :\n",
    "        dataset.append(info)\n"
   ]
  },
  {
   "cell_type": "code",
   "execution_count": 8,
   "metadata": {},
   "outputs": [
    {
     "output_type": "stream",
     "name": "stdout",
     "text": [
      "number of study :  82\n"
     ]
    }
   ],
   "source": [
    "number_of_study = len(dataset)\n",
    "print(\"number of study : \", number_of_study)"
   ]
  },
  {
   "source": [
    "#### - Add CSV file for every study on the dataset"
   ],
   "cell_type": "markdown",
   "metadata": {}
  },
  {
   "source": [
    "#add csv_file from csv \n",
    "\n",
    "csv_path= '/home/deeplearning/AHL/AHL_CSV_DATA/pet0.csv'\n",
    "csv_file = []\n",
    "with open(csv_path, 'r') as csv_file :\n",
    "    reader = csv.reader(csv_file, delimiter = ';') #liste pour chaque ligne \n",
    "    csv_file = []\n",
    "    for row in reader :\n",
    "        csv_file.append(row)\n",
    "        \n",
    "del csv_file[0] #enlever première ligne"
   ],
   "cell_type": "code",
   "metadata": {},
   "execution_count": null,
   "outputs": []
  },
  {
   "cell_type": "code",
   "execution_count": 4,
   "metadata": {
    "tags": []
   },
   "outputs": [],
   "source": [
    "#add csv_file from a list \n",
    "\n",
    "csv_path = '/media/deeplearning/Elements/REMARC_csv'\n",
    "liste_csv_file = os.listdir(csv_path)\n",
    "liste_csv = []\n",
    "for csv_file in liste_csv_file : \n",
    "    liste_csv.append(os.path.join(csv_path, csv_file))\n",
    "\n",
    "for data in dataset : \n",
    "    for csv_f in liste_csv : \n",
    "        if data[-1] in csv_f : \n",
    "            data.append(csv_f)"
   ]
  },
  {
   "source": [
    "#### - Verify if every study has a csv file, \n",
    "####            If not, write a json , remove study from dataset"
   ],
   "cell_type": "markdown",
   "metadata": {}
  },
  {
   "source": [
    "check_csv = []\n",
    "for data in dataset : \n",
    "    if len(data) != 8 : \n",
    "        check_csv.append(data)\n",
    "\n",
    "print(len(check_csv))\n",
    "write_json_file('/media/deeplearning/Elements/REMARC_Validated_DICOMS', 'check_csv', check_csv)\n",
    "\n",
    "for r in check_csv : \n",
    "    dataset.remove(r)"
   ],
   "cell_type": "code",
   "metadata": {},
   "execution_count": null,
   "outputs": []
  },
  {
   "source": [
    "#### -  Rewrite path and save complete dataset as json file "
   ],
   "cell_type": "markdown",
   "metadata": {}
  },
  {
   "source": [
    "#rewrite path \n",
    "\n",
    "for data in dataset : \n",
    "    new_1 = data[0].replace('/media/oncopole/DD 2To', '/media/deeplearning/Elements')\n",
    "    new_2 = data[2].replace('/media/oncopole/DD 2To', '/media/deeplearning/Elements')\n",
    "    data[0] = new_1\n",
    "    data[2] = new_2"
   ],
   "cell_type": "code",
   "metadata": {},
   "execution_count": 7,
   "outputs": []
  },
  {
   "cell_type": "code",
   "execution_count": 8,
   "metadata": {},
   "outputs": [
    {
     "output_type": "stream",
     "name": "stdout",
     "text": [
      "Nombre de study :  182\n"
     ]
    }
   ],
   "source": [
    "print('Nombre de study : ', len(dataset))"
   ]
  },
  {
   "cell_type": "code",
   "execution_count": 9,
   "metadata": {},
   "outputs": [],
   "source": [
    "write_json_file('/media/deeplearning/Elements/REMARC_Validated_DICOMS', 'validated_dataset', dataset)"
   ]
  },
  {
   "source": [
    "#### - Remove remove_bi_file if it exists in every serie "
   ],
   "cell_type": "markdown",
   "metadata": {}
  },
  {
   "cell_type": "code",
   "execution_count": null,
   "metadata": {},
   "outputs": [],
   "source": [
    "from library_dicom.dicom_processor.tools.folders import *\n",
    "directory_validated_dicom = ''\n",
    "paths = get_series_path(directory_validated_dicom)\n",
    "\n",
    "for path in paths : \n",
    "    remove_bi_file(path)"
   ]
  },
  {
   "source": [
    "### Different scripts : "
   ],
   "cell_type": "markdown",
   "metadata": {}
  },
  {
   "source": [
    "#### - Check if there is Unconstance Spacing error in every study of the dataset "
   ],
   "cell_type": "markdown",
   "metadata": {}
  },
  {
   "source": [
    "unconstant_spacing = []\n",
    "serie_error = []\n",
    "for serie in dataset : \n",
    "    print(dataset.index(serie))\n",
    "    try : \n",
    "        if serie[1] =='PT' : \n",
    "            serie_pt_objet = SeriesPT(serie[0])\n",
    "            nifti_array = serie_pt_objet.get_numpy_array()\n",
    "            if serie_pt_objet.get_z_spacing =='Unconstant Spacing' :\n",
    "                print(\"Unconstant Spacing PET\")\n",
    "                unconstant_spacing.append(serie)\n",
    "            \n",
    "            serie_ct_objet = SeriesCT(serie[2])\n",
    "            nifti_array_ct = serie_ct_objet.get_numpy_array()\n",
    "            if serie_ct_objet.get_z_spacing =='Unconstant Spacing' :\n",
    "                print(\"Unconstant Spacing CT\")\n",
    "                unconstant_spacing.append(serie)\n",
    "\n",
    "        else : \n",
    "            serie_pt_objet = SeriesPT(serie[2])\n",
    "            nifti_array = serie_pt_objet.get_numpy_array()\n",
    "            if serie_pt_objet.get_z_spacing =='Unconstant Spacing' :\n",
    "                print(\"Unconstant Spacing PT\")\n",
    "                unconstant_spacing.append(serie)\n",
    "            serie_ct_objet = SeriesCT(serie[0])\n",
    "            nifti_array_ct = serie_ct_objet.get_numpy_array()\n",
    "            if serie_ct_objet.get_z_spacing =='Unconstant Spacing' :\n",
    "                print(\"Unconstant Spacing CT\")\n",
    "                unconstant_spacing.append(serie)\n",
    "\n",
    "    except Exception as err : \n",
    "        print(serie)\n",
    "        print(err)\n",
    "        serie_error.append(serie)\n"
   ],
   "cell_type": "code",
   "metadata": {
    "tags": []
   },
   "execution_count": null,
   "outputs": []
  },
  {
   "source": [
    "#### - Generate PET, CT, MASK NIFTI with checking suv_max, mean and sd"
   ],
   "cell_type": "markdown",
   "metadata": {}
  },
  {
   "source": [
    "#Generate PET, CT, MASK NIFTI with checking suv_max, mean and sd\n",
    "\n",
    "nifti_directory = '/media/deeplearning/Elements/REMARC_NIFTI'\n",
    "mip_directory = '/media/deeplearning/Elements/REMARC_MIP'\n",
    "\n",
    "#save serie_path with false mask \n",
    "serie_false_mask = []\n",
    "#save result about serie with false mask \n",
    "results_false_mask = []\n",
    "#save path of MIP to generate PDF \n",
    "path_mip = []\n",
    "\n",
    "#save error serie \n",
    "error_dataset = []\n",
    "\n",
    "for serie in dataset: \n",
    "    try : \n",
    "        print(dataset.index(serie))\n",
    "        subliste = []\n",
    "        if serie[1] == 'PT' : \n",
    "            \n",
    "            serie_pt_objet = SeriesPT(serie[0])\n",
    "            \n",
    "            serie_pt_objet.get_instances_ordered()\n",
    "            nifti_array = serie_pt_objet.get_numpy_array()\n",
    "            study_uid = serie_pt_objet.get_series_details()['study']['StudyInstanceUID']\n",
    "            size_matrix = serie_pt_objet.get_size_matrix()\n",
    "            mask_objet = MaskBuilder(serie[-1], size_matrix)\n",
    "            mask_4D = mask_objet.mask_array\n",
    "\n",
    "            number_roi = mask_4D.shape[3]\n",
    "            threshold = mask_objet.details_rois['SUVlo']\n",
    "\n",
    "            if mask_objet.is_correct_suv(nifti_array) == True : \n",
    "\n",
    "                print(\"MASK CORRECT\")\n",
    "                #generation nifti PT\n",
    "                filename_pt = study_uid+'_'+'nifti_'+'PT'+'.nii'\n",
    "                serie_pt_objet.export_nifti(os.path.join(nifti_directory, filename_pt))\n",
    "                print(\"EXPORT NIFTI PT\")\n",
    "\n",
    "                #generation nifti CT\n",
    "                serie_ct_objet = SeriesCT(serie[2])\n",
    "                serie_ct_objet.get_instances_ordered()\n",
    "                serie_ct_objet.get_numpy_array()\n",
    "                filename_ct = study_uid+'_'+'nifti_'+'CT'+'.nii'\n",
    "                serie_ct_objet.export_nifti(os.path.join(nifti_directory, filename_ct))\n",
    "                print(\"EXPORT NIFTI CT\")\n",
    "\n",
    "                #generation nifti mask\n",
    "                filename_mask = study_uid+'_'+'nifti_'+'mask'+'.nii'\n",
    "                serie_pt_objet.export_nifti(os.path.join(nifti_directory, filename_mask), mask_4D)\n",
    "                print(\"EXPORT NIFTI MASK\")\n",
    "\n",
    "\n",
    "            else : \n",
    "                results = []\n",
    "                print(\"FALSE MASK\")\n",
    "                serie_false_mask.append(serie)\n",
    "\n",
    "                print(mask_objet.calcul_suv(nifti_array))\n",
    "                results.append(mask_objet.calcul_suv(nifti_array))\n",
    "\n",
    "                print(mask_objet.ecart_suv_max(nifti_array))\n",
    "                results.append(mask_objet.ecart_suv_max(nifti_array))\n",
    "\n",
    "                print(mask_objet.ecart_suv_mean(nifti_array))\n",
    "                results.append(mask_objet.ecart_suv_mean(nifti_array))\n",
    "\n",
    "                print(mask_objet.ecart_SD(nifti_array))\n",
    "                results.append(mask_objet.ecart_SD(nifti_array))\n",
    "\n",
    "                results_false_mask.append(results)\n",
    "\n",
    "                #threshold mask 41% \n",
    "                mask_4D = threshold_matrix(mask_4D, nifti_array, 0.41)\n",
    "\n",
    "                #create mip for false mask and check \n",
    "                #pet\n",
    "                angle_filename = mip_projection(nifti_array, 0, mip_directory, study_uid, 'pet', cmap='Greys', vmin=0, vmax=7) \n",
    "                subliste.append(angle_filename)\n",
    "                print('MIP PET')\n",
    "               # mask\n",
    "                angle_filename_mask = mip_projection_4D(mask_4D, 0, mip_directory, study_uid, number_roi, cmap='Greys')\n",
    "                subliste.append(angle_filename_mask)\n",
    "                print('MIP MASK')\n",
    "                path_mip.append(subliste)\n",
    "\n",
    "\n",
    "        else : \n",
    "            serie_pt_objet = SeriesPT(serie[2])\n",
    "            serie_pt_objet.get_instances_ordered()\n",
    "            nifti_array = serie_pt_objet.get_numpy_array()\n",
    "            study_uid = serie_pt_objet.get_series_details()['study']['StudyInstanceUID']\n",
    "            size_matrix = serie_pt_objet.get_size_matrix()\n",
    "            mask_objet = MaskBuilder(serie[-1], size_matrix)\n",
    "            mask_4D = mask_objet.mask_array\n",
    "\n",
    "            number_roi = mask_4D.shape[3]\n",
    "            threshold = mask_objet.details_rois['SUVlo']\n",
    "\n",
    "            if mask_objet.is_correct_suv(nifti_array) == True :  \n",
    "                print(\"MASK CORRECT\")\n",
    "                #generation nifti PT\n",
    "                filename_pt = study_uid+'_'+'nifti_'+'PT'+'.nii'\n",
    "                serie_pt_objet.export_nifti(os.path.join(nifti_directory, filename_pt))\n",
    "                print(\"EXPORT NIFTI PT\")\n",
    "\n",
    "                #generation nifti CT\n",
    "                serie_ct_objet = SeriesCT(serie[0])\n",
    "                serie_ct_objet.get_instances_ordered()\n",
    "                serie_ct_objet.get_numpy_array()\n",
    "                filename_ct = study_uid+'_'+'nifti_'+'CT'+'.nii'\n",
    "                serie_ct_objet.export_nifti(os.path.join(nifti_directory, filename_ct))\n",
    "                print(\"EXPORT NIFTI CT\")\n",
    "\n",
    "                #generation nifti mask\n",
    "                filename_mask = study_uid+'_'+'nifti_'+'mask'+'.nii'\n",
    "                serie_pt_objet.export_nifti(os.path.join(nifti_directory, filename_mask), mask_4D)\n",
    "                print(\"EXPORT NIFTI MASK\")\n",
    "\n",
    "\n",
    "\n",
    "            else : \n",
    "                results = []\n",
    "                print(\"FALSE MASK\")\n",
    "                serie_false_mask.append(serie)\n",
    "\n",
    "                print(mask_objet.calcul_suv(nifti_array))\n",
    "                results.append(mask_objet.calcul_suv(nifti_array))\n",
    "\n",
    "                print(mask_objet.ecart_suv_max(nifti_array))\n",
    "                results.append(mask_objet.ecart_suv_max(nifti_array))\n",
    "\n",
    "                print(mask_objet.ecart_suv_mean(nifti_array))\n",
    "                results.append(mask_objet.ecart_suv_mean(nifti_array))\n",
    "\n",
    "                print(mask_objet.ecart_SD(nifti_array))\n",
    "                results.append(mask_objet.ecart_SD(nifti_array))\n",
    "\n",
    "                results_false_mask.append(results)\n",
    "\n",
    "                #threshold mask 41% \n",
    "                mask_4D = threshold_matrix(mask_4D, nifti_array, 0.41)\n",
    "\n",
    "                #create mip for false mask and check \n",
    "                #pet\n",
    "                angle_filename = mip_projection(nifti_array, 0, mip_directory, study_uid, 'pet', cmap='Greys', vmin=0, vmax=7) \n",
    "                subliste.append(angle_filename)\n",
    "                print(\"MIP PET\")\n",
    "                #mask\n",
    "                angle_filename_mask = mip_projection_4D(mask_4D, 0, mip_directory, study_uid, number_roi, cmap='Greys')\n",
    "                subliste.append(angle_filename_mask)\n",
    "                print('MIP MASK ')\n",
    "                path_mip.append(subliste)\n",
    "               \n",
    "\n",
    "    except Exception as err : \n",
    "        print(serie)\n",
    "        print(err)\n",
    "        error_dataset.append(serie)"
   ],
   "cell_type": "code",
   "metadata": {
    "tags": [
     "outputPrepend"
    ]
   },
   "execution_count": null,
   "outputs": []
  },
  {
   "source": [
    "print(\"number of error : \", len(error_dataset))\n",
    "print(\"number of false mask : \" , len(serie_false_mask))"
   ],
   "cell_type": "code",
   "metadata": {
    "tags": []
   },
   "execution_count": null,
   "outputs": []
  },
  {
   "source": [
    "#Save different json \n",
    "directory_nifti = '/media/deeplearning/Elements/REMARC_NIFTI'\n",
    "write_json_file(directory_nifti, 'false_mask_serie', serie_false_mask)\n",
    "write_json_file(directory_nifti, 'false_mask_results', results_false_mask)\n",
    "write_json_file(directory_nifti, 'error', error_dataset)\n"
   ],
   "cell_type": "code",
   "metadata": {},
   "execution_count": null,
   "outputs": []
  },
  {
   "source": [
    "#### - Generate PET, CT, MASK NIFTI without checking"
   ],
   "cell_type": "markdown",
   "metadata": {}
  },
  {
   "source": [
    "nifti_directory ='/media/deeplearning/Elements/REMARC_NIFTI'\n",
    "\n",
    "error_dataset = []\n",
    "\n",
    "for serie in dataset: \n",
    "    try : \n",
    "        print(dataset.index(serie))\n",
    "\n",
    "        if serie[1] == 'PT' : \n",
    "            serie_pt_objet = SeriesPT(serie[0])\n",
    "            serie_pt_objet.get_instances_ordered()\n",
    "            nifti_array = serie_pt_objet.get_numpy_array()\n",
    "            study_uid = serie_pt_objet.get_series_details()['study']['StudyInstanceUID']\n",
    "            size_matrix = serie_pt_objet.get_size_matrix()\n",
    "            mask_objet = MaskBuilder(serie[-1], size_matrix)\n",
    "            mask_4D = mask_objet.mask_array\n",
    "\n",
    "            number_roi = mask_4D.shape[3]\n",
    "\n",
    "            print(\"MASK CORRECT\")\n",
    "                    #generation nifti PT\n",
    "            filename_pt = study_uid+'_'+'nifti_'+'PT'+'.nii'\n",
    "            serie_pt_objet.export_nifti(os.path.join(nifti_directory, filename_pt))\n",
    "            print(\"EXPORT NIFTI PT\")\n",
    "\n",
    "                    #generation nifti CT\n",
    "            serie_ct_objet = SeriesCT(serie[2])\n",
    "            serie_ct_objet.get_instances_ordered()\n",
    "            serie_ct_objet.get_numpy_array()\n",
    "            filename_ct = study_uid+'_'+'nifti_'+'CT'+'.nii'\n",
    "            serie_ct_objet.export_nifti(os.path.join(nifti_directory, filename_ct))\n",
    "            print(\"EXPORT NIFTI CT\")\n",
    "\n",
    "                    #generation nifti mask\n",
    "            filename_mask = study_uid+'_'+'nifti_'+'mask'+'.nii'\n",
    "            serie_pt_objet.export_nifti(os.path.join(nifti_directory, filename_mask), mask_4D)\n",
    "            print(\"EXPORT NIFTI MASK\")\n",
    "          \n",
    "          \n",
    "        else : \n",
    "            serie_pt_objet = SeriesPT(serie[2])\n",
    "            serie_pt_objet.get_instances_ordered()\n",
    "            nifti_array = serie_pt_objet.get_numpy_array()\n",
    "            study_uid = serie_pt_objet.get_series_details()['study']['StudyInstanceUID']\n",
    "            size_matrix = serie_pt_objet.get_size_matrix()\n",
    "            mask_objet = MaskBuilder(serie[-1], size_matrix)\n",
    "            mask_4D = mask_objet.mask_array\n",
    "            number_roi = mask_4D.shape[3]\n",
    "\n",
    "            print(\"MASK CORRECT\")\n",
    "                    #generation nifti PT\n",
    "            filename_pt = study_uid+'_'+'nifti_'+'PT'+'.nii'\n",
    "            serie_pt_objet.export_nifti(os.path.join(nifti_directory, filename_pt))\n",
    "            print(\"EXPORT NIFTI PT\")\n",
    "\n",
    "                     #generation nifti CT\n",
    "            serie_ct_objet = SeriesCT(serie[0])\n",
    "            serie_ct_objet.get_instances_ordered()\n",
    "            serie_ct_objet.get_numpy_array()\n",
    "            filename_ct = study_uid+'_'+'nifti_'+'CT'+'.nii'\n",
    "            serie_ct_objet.export_nifti(os.path.join(nifti_directory, filename_ct))\n",
    "            print(\"EXPORT NIFTI CT\")\n",
    "\n",
    "                    #generation nifti mask\n",
    "            filename_mask = study_uid+'_'+'nifti_'+'mask'+'.nii'\n",
    "            serie_pt_objet.export_nifti(os.path.join(nifti_directory, filename_mask), mask_4D)\n",
    "            print(\"EXPORT NIFTI MASK\")\n",
    "           \n",
    "    except Exception as err : \n",
    "        print(err)\n",
    "        print(serie)\n",
    "        error_dataset.append(serie)"
   ],
   "cell_type": "code",
   "metadata": {
    "tags": []
   },
   "execution_count": 9,
   "outputs": [
    {
     "output_type": "stream",
     "name": "stdout",
     "text": [
      "a/deeplearning/Elements/REMARC_Validated_DICOMS/11009101436019/pet0/1.2.840.113704.1.111.3984.1354871612.14/1.2.840.113704.1.111.3984.1354871612.14', 'CT', '1.2.124.113532.172.16.25.2.20121204.748.1195904', 'V0', '11009101436019', '/media/deeplearning/Elements/REMARC_csv/11009101436019_dec 7_2012.csv']\n",
      "48\n",
      "'SeriesPT' object has no attribute 'instance_array'\n",
      "['/media/deeplearning/Elements/REMARC_Validated_DICOMS/11009101226026/pet0/1.2.840.113704.1.111.4252.1353485746.8/1.2.840.113704.1.111.4252.1353485746.8', 'CT', '/media/deeplearning/Elements/REMARC_Validated_DICOMS/11009101226026/pet0/1.3.46.670589.28.2.12.21.6106.64577.2.1468.0.1353487372/1.3.46.670589.28.2.12.21.6106.64577.2.1468.0.1353487372', 'PT', '2.16.840.1.113669.632.20.210791.20000032746', 'V0', '11009101226026', '/media/deeplearning/Elements/REMARC_csv/11009101226026_nov 21_2012.csv']\n",
      "49\n",
      "'SeriesPT' object has no attribute 'instance_array'\n",
      "['/media/deeplearning/Elements/REMARC_Validated_DICOMS/11009103076002/pet0/1.3.46.670589.33.1.7293067462122878030.2629921614274897717/1.3.46.670589.33.1.7293067462122878030.2629921614274897717', 'CT', '/media/deeplearning/Elements/REMARC_Validated_DICOMS/11009103076002/pet0/1.3.46.670589.33.1.21674000582918038593.30539012823344449582/1.3.46.670589.33.1.21674000582918038593.30539012823344449582', 'PT', '1.3.46.670589.33.1.5724892062712795215.2370914216830212699', 'V0', '11009103076002', '/media/deeplearning/Elements/REMARC_csv/11009103076002_jan 27_2010.csv']\n",
      "50\n",
      "'SeriesPT' object has no attribute 'instance_array'\n",
      "['/media/deeplearning/Elements/REMARC_Validated_DICOMS/11009101226031/pet0/1.3.46.670589.28.2.12.21.6107.877.2.3988.0.1363275070/1.3.46.670589.28.2.12.21.6107.877.2.3988.0.1363275070', 'PT', '/media/deeplearning/Elements/REMARC_Validated_DICOMS/11009101226031/pet0/1.2.840.113704.1.111.4728.1363273326.8/1.2.840.113704.1.111.4728.1363273326.8', 'CT', '2.16.840.1.113669.632.20.210791.20000044764', 'V0', '11009101226031', '/media/deeplearning/Elements/REMARC_csv/11009101226031_mar 14_2013.csv']\n",
      "51\n",
      "'SeriesPT' object has no attribute 'instance_array'\n",
      "['/media/deeplearning/Elements/REMARC_Validated_DICOMS/11009101246017/pet0/1.3.12.2.1107.5.1.4.44977.30000013011607053835200000995/1.3.12.2.1107.5.1.4.44977.30000013011607053835200000995', 'PT', '/media/deeplearning/Elements/REMARC_Validated_DICOMS/11009101246017/pet0/1.3.12.2.1107.5.1.4.44977.30000013011606591941200001113/1.3.12.2.1107.5.1.4.44977.30000013011606591941200001113', 'CT', '2.16.840.1.113669.632.20.540001.10003415270', 'V0', '11009101246017', '/media/deeplearning/Elements/REMARC_csv/11009101246017_jan 16_2013.csv']\n",
      "52\n",
      "'SeriesPT' object has no attribute 'instance_array'\n",
      "['/media/deeplearning/Elements/REMARC_Validated_DICOMS/11009101076006/pet0/1.2.840.113704.1.111.5932.1277394365.8/1.2.840.113704.1.111.5932.1277394365.8', 'CT', '/media/deeplearning/Elements/REMARC_Validated_DICOMS/11009101076006/pet0/1.3.46.670589.28.2.12.21.6038.52828.2.1092.0.1277396623/1.3.46.670589.28.2.12.21.6038.52828.2.1092.0.1277396623', 'PT', '1.2.840.113704.1.111.3556.1277394169.26', 'V0', '11009101076006', '/media/deeplearning/Elements/REMARC_csv/11009101076006_jun 24_2010.csv']\n",
      "53\n",
      "'SeriesPT' object has no attribute 'instance_array'\n",
      "['/media/deeplearning/Elements/REMARC_Validated_DICOMS/61009711016022/pet0/1.3.12.2.1107.5.99.2.21719.30000016012001244008200002214/1.3.12.2.1107.5.99.2.21719.30000016012001244008200002214', 'PT', '/media/deeplearning/Elements/REMARC_Validated_DICOMS/61009711016022/pet0/1.3.12.2.1107.5.99.2.21719.30000016012001244008200001845/1.3.12.2.1107.5.99.2.21719.30000016012001244008200001845', 'CT', '1.3.12.2.1107.5.99.2.21719.30000016012001244008200002215', 'V0', '61009711016022', '/media/deeplearning/Elements/REMARC_csv/61009711016022_jul 30_2012.csv']\n",
      "54\n",
      "'SeriesPT' object has no attribute 'instance_array'\n",
      "['/media/deeplearning/Elements/REMARC_Validated_DICOMS/61009203046023/pet0/1.3.12.2.1107.5.1.4.58571.30000013011405582498400004152/1.3.12.2.1107.5.1.4.58571.30000013011405582498400004152', 'PT', '/media/deeplearning/Elements/REMARC_Validated_DICOMS/61009203046023/pet0/1.3.12.2.1107.5.1.4.58571.30000013011405575732800011122/1.3.12.2.1107.5.1.4.58571.30000013011405575732800011122', 'CT', '1.2.40.0.13.0.172.28.46.139.1860893930.1328679653791.48207', 'V0', '61009203046023', '/media/deeplearning/Elements/REMARC_csv/61009203046023_jan 14_2013.csv']\n",
      "55\n",
      "'SeriesPT' object has no attribute 'instance_array'\n",
      "['/media/deeplearning/Elements/REMARC_Validated_DICOMS/11009101836004/pet0/1.2.840.113619.2.290.3.2831182250.238.1339653989.355.3/1.2.840.113619.2.290.3.2831182250.238.1339653989.355.3', 'CT', '/media/deeplearning/Elements/REMARC_Validated_DICOMS/11009101836004/pet0/1.2.840.113619.2.290.3.2831182250.238.1339653990.146/1.2.840.113619.2.290.3.2831182250.238.1339653990.146', 'PT', '1.2.840.113619.2.290.3.2831182250.238.1339653989.350', 'V0', '11009101836004', '/media/deeplearning/Elements/REMARC_csv/11009101836004_jun 14_2012.csv']\n",
      "56\n",
      "'SeriesPT' object has no attribute 'instance_array'\n",
      "['/media/deeplearning/Elements/REMARC_Validated_DICOMS/61009739016009/pet0/1.3.12.2.1107.5.1.4.11016.30000011100223541090600006833/1.3.12.2.1107.5.1.4.11016.30000011100223541090600006833', 'PT', '/media/deeplearning/Elements/REMARC_Validated_DICOMS/61009739016009/pet0/1.3.12.2.1107.5.1.4.11016.30000011100223525906200003104/1.3.12.2.1107.5.1.4.11016.30000011100223525906200003104', 'CT', '1.3.51.0.10.17.32.48.1.20111004114046.1420267.1420241', 'V0', '61009739016009', '/media/deeplearning/Elements/REMARC_csv/61009739016009_oct 3_2011.csv']\n",
      "57\n",
      "'SeriesPT' object has no attribute 'instance_array'\n",
      "['/media/deeplearning/Elements/REMARC_Validated_DICOMS/11009101056032/pet0/1.2.840.113619.2.290.3.180357632.682.1327904939.432.3/1.2.840.113619.2.290.3.180357632.682.1327904939.432.3', 'CT', '/media/deeplearning/Elements/REMARC_Validated_DICOMS/11009101056032/pet0/1.2.840.113619.2.290.3.180357632.682.1327904940.33/1.2.840.113619.2.290.3.180357632.682.1327904940.33', 'PT', '1.2.840.113619.2.290.3.180357632.682.1327904939.426', 'V0', '11009101056032', '/media/deeplearning/Elements/REMARC_csv/11009101056032_jan 30_2012.csv']\n",
      "58\n",
      "'SeriesPT' object has no attribute 'instance_array'\n",
      "['/media/deeplearning/Elements/REMARC_Validated_DICOMS/11009101226024/pet0/1.2.840.113619.2.290.3.2831176195.889.1347256865.221/1.2.840.113619.2.290.3.2831176195.889.1347256865.221', 'PT', '/media/deeplearning/Elements/REMARC_Validated_DICOMS/11009101226024/pet0/1.2.840.113619.2.290.3.2831176195.889.1347256864.956.3/1.2.840.113619.2.290.3.2831176195.889.1347256864.956.3', 'CT', '1.2.840.113619.2.290.3.2831176195.889.1347256864.951', 'V0', '11009101226024', '/media/deeplearning/Elements/REMARC_csv/11009101226024_sep 10_2012.csv']\n",
      "59\n",
      "'SeriesPT' object has no attribute 'instance_array'\n",
      "['/media/deeplearning/Elements/REMARC_Validated_DICOMS/11009101096033/pet0/1.3.12.2.1107.5.1.4.48467.30000013083005444504600000102/1.3.12.2.1107.5.1.4.48467.30000013083005444504600000102', 'PT', '/media/deeplearning/Elements/REMARC_Validated_DICOMS/11009101096033/pet0/1.3.12.2.1107.5.1.4.48467.30000013083007170876500000000/1.3.12.2.1107.5.1.4.48467.30000013083007170876500000000', 'CT', '2.16.56.465769650.2551326252.494694690', 'V0', '11009101096033', '/media/deeplearning/Elements/REMARC_csv/11009101096033_aug 30_2013.csv']\n",
      "60\n",
      "'SeriesPT' object has no attribute 'instance_array'\n",
      "['/media/deeplearning/Elements/REMARC_Validated_DICOMS/11009103076018/pet0/1.2.840.113704.1.111.4172.1373284088.8/1.2.840.113704.1.111.4172.1373284088.8', 'CT', '/media/deeplearning/Elements/REMARC_Validated_DICOMS/11009103076018/pet0/1.3.46.670589.28.2.12.4.9169.24647.2.1072.0.1373286979/1.3.46.670589.28.2.12.4.9169.24647.2.1072.0.1373286979', 'PT', '1.2.276.0.7230010.3.2.123200', 'V0', '11009103076018', '/media/deeplearning/Elements/REMARC_csv/11009103076018_jul 8_2013.csv']\n",
      "61\n",
      "'SeriesPT' object has no attribute 'instance_array'\n",
      "['/media/deeplearning/Elements/REMARC_Validated_DICOMS/11009101226025/pet0/1.3.46.670589.28.2.12.21.6106.64577.2.2108.0.1334833541/1.3.46.670589.28.2.12.21.6106.64577.2.2108.0.1334833541', 'PT', '/media/deeplearning/Elements/REMARC_Validated_DICOMS/11009101226025/pet0/1.2.840.113704.1.111.4688.1334831049.8/1.2.840.113704.1.111.4688.1334831049.8', 'CT', '2.16.840.1.113669.632.20.210791.20000010842', 'V0', '11009101226025', '/media/deeplearning/Elements/REMARC_csv/11009101226025_apr 19_2012.csv']\n",
      "62\n",
      "'SeriesPT' object has no attribute 'instance_array'\n",
      "['/media/deeplearning/Elements/REMARC_Validated_DICOMS/11009101036036/pet0/1.3.12.2.1107.5.1.4.1017.30000012071308070978100007786/1.3.12.2.1107.5.1.4.1017.30000012071308070978100007786', 'CT', '/media/deeplearning/Elements/REMARC_Validated_DICOMS/11009101036036/pet0/1.3.12.2.1107.5.1.4.1017.30000012071308075771800016251/1.3.12.2.1107.5.1.4.1017.30000012071308075771800016251', 'PT', '1.2.276.0.7230010.3.2.41759', 'V0', '11009101036036', '/media/deeplearning/Elements/REMARC_csv/11009101036036_jul 13_2012.csv']\n",
      "63\n",
      "'SeriesPT' object has no attribute 'instance_array'\n",
      "['/media/deeplearning/Elements/REMARC_Validated_DICOMS/11009101396003/pet0/1.3.12.2.1107.5.1.4.45008.4.0.1620882712307114/1.3.12.2.1107.5.1.4.45008.4.0.1620882712307114', 'CT', '/media/deeplearning/Elements/REMARC_Validated_DICOMS/11009101396003/pet0/1.3.12.2.1107.5.99.1.5.2.0.336080121996592/1.3.12.2.1107.5.99.1.5.2.0.336080121996592', 'PT', '1.2.124.113532.172.16.4.13.20090811.205656.758121', 'V0', '11009101396003', '/media/deeplearning/Elements/REMARC_csv/11009101396003_aug 12_2009.csv']\n",
      "64\n",
      "'SeriesPT' object has no attribute 'instance_array'\n",
      "['/media/deeplearning/Elements/REMARC_Validated_DICOMS/11009101226006/pet0/1.3.46.670589.33.1.39183394842784433229.30705106813972126145/1.3.46.670589.33.1.39183394842784433229.30705106813972126145', 'CT', '/media/deeplearning/Elements/REMARC_Validated_DICOMS/11009101226006/pet0/1.3.46.670589.33.1.2738162403430705475.24970205764252862430/1.3.46.670589.33.1.2738162403430705475.24970205764252862430', 'PT', '1.3.46.670589.33.1.379595400565477447.31605711161158783112', 'V0', '11009101226006', '/media/deeplearning/Elements/REMARC_csv/11009101226006_feb 24_2010.csv']\n",
      "65\n",
      "'SeriesPT' object has no attribute 'instance_array'\n",
      "['/media/deeplearning/Elements/REMARC_Validated_DICOMS/61009719016033/pet0/1.2.840.113619.2.248.116523399845.15155.1400109715095.5/1.2.840.113619.2.248.116523399845.15155.1400109715095.5', 'CT', '/media/deeplearning/Elements/REMARC_Validated_DICOMS/61009719016033/pet0/1.2.840.113619.2.248.116523399845.15155.1400109715715.277/1.2.840.113619.2.248.116523399845.15155.1400109715715.277', 'PT', '1.2.840.113619.2.248.116523399845.15155.1400109715095.4', 'V0', '61009719016033', '/media/deeplearning/Elements/REMARC_csv/61009719016033_jul 19_2012.csv']\n",
      "66\n",
      "'SeriesPT' object has no attribute 'instance_array'\n",
      "['/media/deeplearning/Elements/REMARC_Validated_DICOMS/11009103216031/pet0/1.2.840.113619.2.131.313265684.1294743730.710700/1.2.840.113619.2.131.313265684.1294743730.710700', 'PT', '/media/deeplearning/Elements/REMARC_Validated_DICOMS/11009103216031/pet0/1.2.840.113619.2.55.3.313265684.471.1294729765.189.3/1.2.840.113619.2.55.3.313265684.471.1294729765.189.3', 'CT', '1.2.250.1.38.2.1.12.0.20110111091522.600124281', 'V0', '11009103216031', '/media/deeplearning/Elements/REMARC_csv/11009103216031_jan 11_2011.csv']\n",
      "67\n",
      "'SeriesPT' object has no attribute 'instance_array'\n",
      "['/media/deeplearning/Elements/REMARC_Validated_DICOMS/11009103316002/pet0/1.3.46.670589.28.2.10.4.9187.8261.2.1388.0.1370958299/1.3.46.670589.28.2.10.4.9187.8261.2.1388.0.1370958299', 'PT', '/media/deeplearning/Elements/REMARC_Validated_DICOMS/11009103316002/pet0/1.2.840.113704.1.111.6020.1370955230.13/1.2.840.113704.1.111.6020.1370955230.13', 'CT', '1.2.840.113704.1.111.5188.1370955063.2', 'V0', '11009103316002', '/media/deeplearning/Elements/REMARC_csv/11009103316002_jun 11_2013.csv']\n",
      "68\n",
      "'SeriesPT' object has no attribute 'instance_array'\n",
      "['/media/deeplearning/Elements/REMARC_Validated_DICOMS/11009101066003/pet0/1.3.12.2.1107.5.1.4.45527.30000011041514300531200003234/1.3.12.2.1107.5.1.4.45527.30000011041514300531200003234', 'CT', '/media/deeplearning/Elements/REMARC_Validated_DICOMS/11009101066003/pet0/1.3.12.2.1107.5.1.4.45527.30000011041513104567100006311/1.3.12.2.1107.5.1.4.45527.30000011041513104567100006311', 'PT', '1.3.12.2.1107.5.1.4.45527.30000011041513084156200000027', 'V0', '11009101066003', '/media/deeplearning/Elements/REMARC_csv/11009101066003_apr 15_2011.csv']\n",
      "69\n",
      "'SeriesPT' object has no attribute 'instance_array'\n",
      "['/media/deeplearning/Elements/REMARC_Validated_DICOMS/11009101026013/pet0/1.3.46.670589.28.2.10.4.9167.27921.2.1524.0.1334837457/1.3.46.670589.28.2.10.4.9167.27921.2.1524.0.1334837457', 'PT', '/media/deeplearning/Elements/REMARC_Validated_DICOMS/11009101026013/pet0/1.2.840.113704.1.111.3144.1334835337.8/1.2.840.113704.1.111.3144.1334835337.8', 'CT', '1.2.840.113704.1.111.3756.1334832960.7', 'V0', '11009101026013', '/media/deeplearning/Elements/REMARC_csv/11009101026013_apr 19_2012.csv']\n",
      "70\n",
      "'SeriesPT' object has no attribute 'instance_array'\n",
      "['/media/deeplearning/Elements/REMARC_Validated_DICOMS/11009104346002/pet0/1.2.840.113619.2.131.2831211778.1264766397.845013/1.2.840.113619.2.131.2831211778.1264766397.845013', 'PT', '/media/deeplearning/Elements/REMARC_Validated_DICOMS/11009104346002/pet0/1.2.840.113619.2.55.3.2831211778.784.1264745758.494.8/1.2.840.113619.2.55.3.2831211778.784.1264745758.494.8', 'CT', '1.2.250.1.31.1.0.0.0.40.9.4.0.20100129.94524.97.2.7674', 'V0', '11009104346002', '/media/deeplearning/Elements/REMARC_csv/11009104346002_jan 29_2010.csv']\n",
      "71\n",
      "'SeriesPT' object has no attribute 'instance_array'\n",
      "['/media/deeplearning/Elements/REMARC_Validated_DICOMS/11009101436017/pet0/1.3.46.670589.28.2.12.48.18629.43624.2.1724.0.1351871564/1.3.46.670589.28.2.12.48.18629.43624.2.1724.0.1351871564', 'PT', '/media/deeplearning/Elements/REMARC_Validated_DICOMS/11009101436017/pet0/1.2.840.113704.1.111.5416.1351870280.11/1.2.840.113704.1.111.5416.1351870280.11', 'CT', '1.2.124.113532.172.16.25.2.20121031.414.1179383', 'V0', '11009101436017', '/media/deeplearning/Elements/REMARC_csv/11009101436017_nov 2_2012.csv']\n",
      "72\n",
      "'SeriesPT' object has no attribute 'instance_array'\n",
      "['/media/deeplearning/Elements/REMARC_Validated_DICOMS/11009101306001/pet0/1.3.46.670589.28.2.12.4.9169.25239.2.1432.0.1251365984/1.3.46.670589.28.2.12.4.9169.25239.2.1432.0.1251365984', 'PT', '/media/deeplearning/Elements/REMARC_Validated_DICOMS/11009101306001/pet0/1.2.840.113704.1.111.4516.1251363514.8/1.2.840.113704.1.111.4516.1251363514.8', 'CT', '1.2.826.0.1.3680043.2.455.30.11.4021026816.2.96375', 'V0', '11009101306001', '/media/deeplearning/Elements/REMARC_csv/11009101306001_aug 27_2009.csv']\n",
      "73\n",
      "'SeriesPT' object has no attribute 'instance_array'\n",
      "['/media/deeplearning/Elements/REMARC_Validated_DICOMS/11009102086003/pet0/1.2.840.113619.2.290.3.50988289.912.1355985653.730.3/1.2.840.113619.2.290.3.50988289.912.1355985653.730.3', 'CT', '/media/deeplearning/Elements/REMARC_Validated_DICOMS/11009102086003/pet0/1.2.840.113619.2.290.3.50988289.912.1355985653.996/1.2.840.113619.2.290.3.50988289.912.1355985653.996', 'PT', '1.2.840.113619.2.290.3.50988289.912.1355985653.725', 'V0', '11009102086003', '/media/deeplearning/Elements/REMARC_csv/11009102086003_dec 20_2012.csv']\n",
      "74\n",
      "'SeriesPT' object has no attribute 'instance_array'\n",
      "['/media/deeplearning/Elements/REMARC_Validated_DICOMS/61009711016004/pet0/1.3.12.2.1107.5.99.2.21719.30000011080123484503900000653/1.3.12.2.1107.5.99.2.21719.30000011080123484503900000653', 'PT', '/media/deeplearning/Elements/REMARC_Validated_DICOMS/61009711016004/pet0/1.3.12.2.1107.5.99.2.21719.30000011080123484503900000326/1.3.12.2.1107.5.99.2.21719.30000011080123484503900000326', 'CT', '1.3.12.2.1107.5.99.2.21719.30000011080123484503900000654', 'V0', '61009711016004', '/media/deeplearning/Elements/REMARC_csv/61009711016004_may 6_2011.csv']\n",
      "75\n",
      "'SeriesPT' object has no attribute 'instance_array'\n",
      "['/media/deeplearning/Elements/REMARC_Validated_DICOMS/11009101396019/pet0/1.2.840.113619.2.290.3.279712783.84.1346306950.752/1.2.840.113619.2.290.3.279712783.84.1346306950.752', 'PT', '/media/deeplearning/Elements/REMARC_Validated_DICOMS/11009101396019/pet0/1.2.840.113619.2.290.3.279712783.84.1346306950.415.3/1.2.840.113619.2.290.3.279712783.84.1346306950.415.3', 'CT', '1.2.124.113532.172.16.4.13.20120829.223554.1842717', 'V0', '11009101396019', '/media/deeplearning/Elements/REMARC_csv/11009101396019_aug 30_2012.csv']\n",
      "76\n",
      "'SeriesPT' object has no attribute 'instance_array'\n",
      "['/media/deeplearning/Elements/REMARC_Validated_DICOMS/11009101226020/pet0/1.3.46.670589.28.2.12.21.6106.64577.2.3396.0.1312975765/1.3.46.670589.28.2.12.21.6106.64577.2.3396.0.1312975765', 'PT', '/media/deeplearning/Elements/REMARC_Validated_DICOMS/11009101226020/pet0/1.2.840.113704.1.111.6412.1312974187.8/1.2.840.113704.1.111.6412.1312974187.8', 'CT', '2.16.840.1.113669.632.20.210791.10000148215', 'V0', '11009101226020', '/media/deeplearning/Elements/REMARC_csv/11009101226020_aug 10_2011.csv']\n",
      "77\n",
      "'SeriesPT' object has no attribute 'instance_array'\n",
      "['/media/deeplearning/Elements/REMARC_Validated_DICOMS/11009102286016/pet0/1.2.840.113619.2.290.3.1569943720.508.1352873837.165/1.2.840.113619.2.290.3.1569943720.508.1352873837.165', 'PT', '/media/deeplearning/Elements/REMARC_Validated_DICOMS/11009102286016/pet0/1.2.840.113619.2.290.3.1569943720.508.1352873836.863.4/1.2.840.113619.2.290.3.1569943720.508.1352873836.863.4', 'CT', '1.2.840.113619.2.290.3.1569943720.508.1352873836.858', 'V0', '11009102286016', '/media/deeplearning/Elements/REMARC_csv/11009102286016_nov 14_2012.csv']\n",
      "78\n",
      "'SeriesPT' object has no attribute 'instance_array'\n",
      "['/media/deeplearning/Elements/REMARC_Validated_DICOMS/11009101226002/pet0/1.3.46.670589.33.1.42311228972254415683.2633064169198019481/1.3.46.670589.33.1.42311228972254415683.2633064169198019481', 'PT', '/media/deeplearning/Elements/REMARC_Validated_DICOMS/11009101226002/pet0/1.3.46.670589.33.1.19028522932829057609.31385207791448291508/1.3.46.670589.33.1.19028522932829057609.31385207791448291508', 'CT', '1.3.46.670589.33.1.36307690283022478155.27227374691452709301', 'V0', '11009101226002', '/media/deeplearning/Elements/REMARC_csv/11009101226002_jul 3_2009.csv']\n",
      "79\n",
      "'SeriesPT' object has no attribute 'instance_array'\n",
      "['/media/deeplearning/Elements/REMARC_Validated_DICOMS/11009101226029/pet0/1.3.46.670589.28.2.12.21.6107.877.2.2700.0.1345545162/1.3.46.670589.28.2.12.21.6107.877.2.2700.0.1345545162', 'PT', '/media/deeplearning/Elements/REMARC_Validated_DICOMS/11009101226029/pet0/1.2.840.113704.1.111.10236.1345543574.8/1.2.840.113704.1.111.10236.1345543574.8', 'CT', '2.16.840.1.113669.632.20.210791.20000023173', 'V0', '11009101226029', '/media/deeplearning/Elements/REMARC_csv/11009101226029_aug 21_2012.csv']\n",
      "80\n",
      "'SeriesPT' object has no attribute 'instance_array'\n",
      "['/media/deeplearning/Elements/REMARC_Validated_DICOMS/11009101036013/pet0/1.2.840.113704.7.32.0589.28.2.10.4.9167.27815.2.492.0.1270538895/1.2.840.113704.7.32.0589.28.2.10.4.9167.27815.2.492.0.1270538895', 'PT', '/media/deeplearning/Elements/REMARC_Validated_DICOMS/11009101036013/pet0/1.2.840.113704.7.32.1.2.840.113704.1.111.3304.1270537092.8/1.2.840.113704.7.32.1.2.840.113704.1.111.3304.1270537092.8', 'CT', '1.2.840.113704.1.111.2208.1270536407.3', 'V0', '11009101036013', '/media/deeplearning/Elements/REMARC_csv/11009101036013_apr 6_2010.csv']\n",
      "81\n",
      "'SeriesPT' object has no attribute 'instance_array'\n",
      "['/media/deeplearning/Elements/REMARC_Validated_DICOMS/11009101436018/pet0/1.2.840.113704.1.111.10060.1360680699.13/1.2.840.113704.1.111.10060.1360680699.13', 'CT', '/media/deeplearning/Elements/REMARC_Validated_DICOMS/11009101436018/pet0/1.3.46.670589.28.2.12.30.26421.38960.2.2996.0.1360681895/1.3.46.670589.28.2.12.30.26421.38960.2.2996.0.1360681895', 'PT', '1.2.124.113532.172.16.25.2.20130212.145859.1234531', 'V0', '11009101436018', '/media/deeplearning/Elements/REMARC_csv/11009101436018_feb 12_2013.csv']\n"
     ]
    }
   ]
  },
  {
   "cell_type": "code",
   "execution_count": null,
   "metadata": {},
   "outputs": [],
   "source": [
    "print(\"number of error : \", len(error_dataset))"
   ]
  },
  {
   "source": [
    "#### - Generate PET & CT NIFTI only"
   ],
   "cell_type": "markdown",
   "metadata": {}
  },
  {
   "source": [
    "nifti_directory = '/home/deeplearning/AHL/AHL_NIFTI/pet4'\n",
    "\n",
    "error = []\n",
    "for serie in pet_4 : \n",
    "    print(pet_4.index(serie))\n",
    "    try : \n",
    "        if serie[1] == 'PT' : \n",
    "                serie_pt_objet = SeriesPT(serie[0]) \n",
    "                serie_pt_objet.get_instances_ordered()\n",
    "                nifti_array = serie_pt_objet.get_numpy_array()\n",
    "                study_uid = serie_pt_objet.get_series_details()['study']['StudyInstanceUID']\n",
    "\n",
    "                                #generation nifti PT\n",
    "                filename_pt = study_uid+'_'+'nifti_'+'PT'+'.nii'\n",
    "                serie_pt_objet.export_nifti(os.path.join(nifti_directory, filename_pt))\n",
    "                print(\"EXPORT NIFTI PT\")\n",
    "                                #generation nifti CT\n",
    "                serie_ct_objet = SeriesCT(serie[2])\n",
    "                serie_ct_objet.get_instances_ordered()\n",
    "                serie_ct_objet.get_numpy_array()\n",
    "                filename_ct = study_uid+'_'+'nifti_'+'CT'+'.nii'\n",
    "                serie_ct_objet.export_nifti(os.path.join(nifti_directory, filename_ct))\n",
    "                print(\"EXPORT NIFTI CT\")\n",
    "\n",
    "        else : \n",
    "                serie_pt_objet = SeriesPT(serie[2])\n",
    "                serie_pt_objet.get_instances_ordered() \n",
    "                nifti_array = serie_pt_objet.get_numpy_array()\n",
    "                study_uid = serie_pt_objet.get_series_details()['study']['StudyInstanceUID']\n",
    "\n",
    "                        \n",
    "                                #generation nifti PT\n",
    "                filename_pt = study_uid+'_'+'nifti_'+'PT'+'.nii'\n",
    "                serie_pt_objet.export_nifti(os.path.join(nifti_directory, filename_pt))\n",
    "                print(\"EXPORT NIFTI PT\")\n",
    "                                #generation nifti CT\n",
    "                serie_ct_objet = SeriesCT(serie[0])\n",
    "                serie_ct_objet.get_instances_ordered()\n",
    "                serie_ct_objet.get_numpy_array()\n",
    "                filename_ct = study_uid+'_'+'nifti_'+'CT'+'.nii'\n",
    "                serie_ct_objet.export_nifti(os.path.join(nifti_directory, filename_ct))\n",
    "                print(\"EXPORT NIFTI CT\")\n",
    " \n",
    "\n",
    "    except Exception as err : \n",
    "        print(serie)\n",
    "        print(err)\n",
    "        error.append(serie)"
   ],
   "cell_type": "code",
   "metadata": {
    "tags": []
   },
   "execution_count": null,
   "outputs": []
  }
 ],
 "metadata": {
  "file_extension": ".py",
  "kernelspec": {
   "display_name": "Python 3.8.5 64-bit",
   "language": "python",
   "name": "python38564bit9ddb669efcd540bea444ed93f0604dc5"
  },
  "language_info": {
   "codemirror_mode": {
    "name": "ipython",
    "version": 3
   },
   "file_extension": ".py",
   "mimetype": "text/x-python",
   "name": "python",
   "nbconvert_exporter": "python",
   "pygments_lexer": "ipython3",
   "version": "3.8.5-final"
  },
  "mimetype": "text/x-python",
  "name": "python",
  "npconvert_exporter": "python",
  "pygments_lexer": "ipython3",
  "version": 3
 },
 "nbformat": 4,
 "nbformat_minor": 2
}