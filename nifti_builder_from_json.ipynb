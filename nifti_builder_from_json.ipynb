{
 "cells": [
  {
   "cell_type": "code",
   "execution_count": 1,
   "metadata": {},
   "outputs": [],
   "source": [
    "import json\n",
    "import os\n",
    "from library_dicom.dicom_processor.model.Series import Series \n",
    "from library_dicom.dicom_processor.model.SeriesPT import SeriesPT\n",
    "from library_dicom.dicom_processor.model.SeriesCT import SeriesCT\n",
    "from library_dicom.dicom_processor.model.csv_reader.MaskBuilder import MaskBuilder\n",
    "from library_dicom.dicom_processor.model.FusionPET_CT import FusionPET_CT\n",
    "\n",
    "from library_dicom.dicom_processor.tools.folders import *\n",
    "\n",
    "from library_dicom.dicom_processor.tools.create_mip import *\n",
    "from library_dicom.dicom_processor.tools.threshold_mask import *\n",
    "\n",
    "import numpy as np\n",
    "import SimpleITK as sitk\n",
    "\n",
    "import csv"
   ]
  },
  {
   "cell_type": "code",
   "execution_count": null,
   "metadata": {},
   "outputs": [],
   "source": [
    "#LIST FROM PARSE_FILTERED_DICOM_DATASET"
   ]
  },
  {
   "cell_type": "code",
   "execution_count": 2,
   "metadata": {
    "tags": []
   },
   "outputs": [],
   "source": [
    "#LIST_PATH from json\n",
    "json_path = '/media/deeplearning/Elements/REMARC_Validated_DICOMS/REMARC_dataset.json'\n",
    "dataset = []\n",
    "with open(json_path) as json_file : \n",
    "    reader = json.load(json_file)\n",
    "    for info in reader :\n",
    "        dataset.append(info)\n"
   ]
  },
  {
   "cell_type": "code",
   "execution_count": 3,
   "metadata": {},
   "outputs": [
    {
     "output_type": "stream",
     "name": "stdout",
     "text": [
      "number of study :  202\n"
     ]
    }
   ],
   "source": [
    "number_of_study = len(dataset)\n",
    "print(\"number of study : \", number_of_study)"
   ]
  },
  {
   "cell_type": "code",
   "execution_count": 4,
   "metadata": {},
   "outputs": [],
   "source": [
    "#ADD CSV FILE "
   ]
  },
  {
   "source": [
    "#add csv_file from csv \n",
    "\n",
    "csv_path= '/home/deeplearning/AHL/AHL_CSV_DATA/pet0.csv'\n",
    "csv_file = []\n",
    "with open(csv_path, 'r') as csv_file :\n",
    "    reader = csv.reader(csv_file, delimiter = ';') #liste pour chaque ligne \n",
    "    csv_file = []\n",
    "    for row in reader :\n",
    "        csv_file.append(row)\n",
    "        \n",
    "del csv_file[0] #enlever première ligne"
   ],
   "cell_type": "code",
   "metadata": {},
   "execution_count": null,
   "outputs": []
  },
  {
   "cell_type": "code",
   "execution_count": 4,
   "metadata": {},
   "outputs": [],
   "source": [
    "#add csv_file from a list \n",
    "\n",
    "csv_path = '/media/deeplearning/Elements/REMARC_csv'\n",
    "liste_csv_file = os.listdir(csv_path)\n",
    "liste_csv = []\n",
    "for csv_file in liste_csv_file : \n",
    "    liste_csv.append(os.path.join(csv_path, csv_file))\n",
    "\n",
    "\n",
    "\n",
    "for data in dataset : \n",
    "    for csv_f in liste_csv : \n",
    "        if data[-1] in csv_f : \n",
    "            data.append(csv_f)"
   ]
  },
  {
   "cell_type": "code",
   "execution_count": 5,
   "metadata": {},
   "outputs": [
    {
     "output_type": "stream",
     "name": "stdout",
     "text": [
      "20\n"
     ]
    }
   ],
   "source": [
    "check_csv = []\n",
    "for data in dataset : \n",
    "    if len(data) != 8 : \n",
    "        check_csv.append(data)\n",
    "\n",
    "print(len(check_csv))\n",
    "write_json_file('/media/deeplearning/Elements/REMARC_Validated_DICOMS', 'check_csv', check_csv)\n",
    "\n",
    "for r in check_csv : \n",
    "    dataset.remove(r)"
   ]
  },
  {
   "cell_type": "code",
   "execution_count": 6,
   "metadata": {},
   "outputs": [
    {
     "output_type": "execute_result",
     "data": {
      "text/plain": [
       "182"
      ]
     },
     "metadata": {},
     "execution_count": 6
    }
   ],
   "source": [
    "len(dataset)"
   ]
  },
  {
   "source": [
    "#rewrite path \n",
    "\n",
    "for data in dataset : \n",
    "    new_1 = data[0].replace('/media/oncopole/DD 2To', '/media/deeplearning/Elements')\n",
    "    new_2 = data[2].replace('/media/oncopole/DD 2To', '/media/deeplearning/Elements')\n",
    "    data[0] = new_1\n",
    "    data[2] = new_2"
   ],
   "cell_type": "code",
   "metadata": {},
   "execution_count": 7,
   "outputs": []
  },
  {
   "cell_type": "code",
   "execution_count": 8,
   "metadata": {},
   "outputs": [
    {
     "output_type": "stream",
     "name": "stdout",
     "text": [
      "Nombre de study :  182\n"
     ]
    }
   ],
   "source": [
    "print('Nombre de study : ', len(dataset))"
   ]
  },
  {
   "cell_type": "code",
   "execution_count": 9,
   "metadata": {},
   "outputs": [],
   "source": [
    "write_json_file('/media/deeplearning/Elements/REMARC_Validated_DICOMS', 'validated_dataset', dataset)"
   ]
  },
  {
   "source": [
    "#PROBLEME MEMOIRE POUR MIP 4D MASK \n",
    "#FALSE MASK\n",
    "{1: {'SUV_max': 8.55, 'SUV_mean': 5.41, 'SD': 1.45}, 2: {'SUV_max': 8.64, 'SUV_mean': 5.32, 'SD': 1.35}, 3: {'SUV_max': 11.93, 'SUV_mean': 6.94, 'SD': 1.58}, 4: {'SUV_max': 9.67, 'SUV_mean': 5.65, 'SD': 1.54}, 5: {'SUV_max': 11.51, 'SUV_mean': 6.79, 'SD': 1.41}, 6: {'SUV_max': 8.57, 'SUV_mean': 5.42, 'SD': 1.3}, 7: {'SUV_max': 15.68, 'SUV_mean': 8.5, 'SD': 1.55}, 8: {'SUV_max': 8.53, 'SUV_mean': 5.07, 'SD': 1.15}, 9: {'SUV_max': 14.29, 'SUV_mean': 7.9, 'SD': 1.56}, 10: {'SUV_max': 13.46, 'SUV_mean': 8.24, 'SD': 1.93}, 11: {'SUV_max': 10.68, 'SUV_mean': 6.27, 'SD': 1.46}, 12: {'SUV_max': 7.92, 'SUV_mean': 4.6, 'SD': 0.96}, 13: {'SUV_max': 7.93, 'SUV_mean': 4.99, 'SD': 1.28}, 14: {'SUV_max': 10.23, 'SUV_mean': 6.04, 'SD': 1.62}, 15: {'SUV_max': 9.64, 'SUV_mean': 5.63, 'SD': 1.29}, 16: {'SUV_max': 12.79, 'SUV_mean': 6.81, 'SD': 1.39}, 17: {'SUV_max': 9.26, 'SUV_mean': 5.56, 'SD': 1.3}, 18: {'SUV_max': 10.65, 'SUV_mean': 6.05, 'SD': 1.16}, 19: {'SUV_max': 8.82, 'SUV_mean': 5.15, 'SD': 1.16}, 20: {'SUV_max': 7.11, 'SUV_mean': 4.46, 'SD': 1.18}, 21: {'SUV_max': 6.84, 'SUV_mean': 4.37, 'SD': 0.96}, 22: {'SUV_max': 10.24, 'SUV_mean': 6.1, 'SD': 1.47}, 23: {'SUV_max': 7.27, 'SUV_mean': 4.09, 'SD': 0.95}, 24: {'SUV_max': 6.06, 'SUV_mean': 3.49, 'SD': 0.87}, 25: {'SUV_max': 12.06, 'SUV_mean': 6.91, 'SD': 1.75}, 26: {'SUV_max': 7.23, 'SUV_mean': 4.12, 'SD': 0.95}, 27: {'SUV_max': 16.41, 'SUV_mean': 9.18, 'SD': 2.25}, 28: {'SUV_max': 12.32, 'SUV_mean': 7.52, 'SD': 1.87}, 29: {'SUV_max': 8.23, 'SUV_mean': 4.49, 'SD': 1.05}, 30: {'SUV_max': 12.99, 'SUV_mean': 7.79, 'SD': 2.0}, 31: {'SUV_max': 10.06, 'SUV_mean': 5.2, 'SD': 0.69}, 32: {'SUV_max': 4.67, 'SUV_mean': 3.06, 'SD': 0.49}, 33: {'SUV_max': 10.29, 'SUV_mean': 6.13, 'SD': 1.56}, 34: {'SUV_max': 8.27, 'SUV_mean': 5.11, 'SD': 1.23}, 35: {'SUV_max': 27.32, 'SUV_mean': 16.2, 'SD': 3.42}, 36: {'SUV_max': 15.69, 'SUV_mean': 9.23, 'SD': 2.29}, 37: {'SUV_max': 15.52, 'SUV_mean': 8.62, 'SD': 1.62}, 38: {'SUV_max': 7.36, 'SUV_mean': 4.81, 'SD': 0.75}, 39: {'SUV_max': 5.8, 'SUV_mean': 3.31, 'SD': 0.82}, 40: {'SUV_max': 7.42, 'SUV_mean': 4.76, 'SD': 0.68}, 41: {'SUV_max': 17.9, 'SUV_mean': 9.4, 'SD': 1.46}, 42: {'SUV_max': 17.61, 'SUV_mean': 9.23, 'SD': 1.73}, 43: {'SUV_max': 17.62, 'SUV_mean': 10.51, 'SD': 1.95}, 44: {'SUV_max': 7.5, 'SUV_mean': 4.09, 'SD': 0.96}, 45: {'SUV_max': 14.67, 'SUV_mean': 7.39, 'SD': 1.18}, 46: {'SUV_max': 12.74, 'SUV_mean': 7.34, 'SD': 1.7}, 47: {'SUV_max': 17.17, 'SUV_mean': 9.49, 'SD': 2.02}, 48: {'SUV_max': 13.13, 'SUV_mean': 7.45, 'SD': 1.65}, 49: {'SUV_max': 9.74, 'SUV_mean': 5.66, 'SD': 1.41}, 50: {'SUV_max': 12.73, 'SUV_mean': 7.09, 'SD': 1.59}, 51: {'SUV_max': 10.69, 'SUV_mean': 5.96, 'SD': 1.24}, 52: {'SUV_max': 7.57, 'SUV_mean': 4.49, 'SD': 1.19}, 53: {'SUV_max': 5.36, 'SUV_mean': 3.1, 'SD': 0.71}, 54: {'SUV_max': 10.41, 'SUV_mean': 6.32, 'SD': 1.58}, 55: {'SUV_max': 12.86, 'SUV_mean': 7.92, 'SD': 1.94}, 56: {'SUV_max': 16.35, 'SUV_mean': 9.18, 'SD': 2.06}, 57: {'SUV_max': 13.67, 'SUV_mean': 8.14, 'SD': 1.86}, 58: {'SUV_max': 14.98, 'SUV_mean': 7.6, 'SD': 1.32}, 59: {'SUV_max': 12.25, 'SUV_mean': 7.17, 'SD': 1.71}, 60: {'SUV_max': 15.84, 'SUV_mean': 9.19, 'SD': 1.87}, 61: {'SUV_max': 6.83, 'SUV_mean': 3.98, 'SD': 0.97}, 62: {'SUV_max': 11.82, 'SUV_mean': 6.62, 'SD': 1.14}, 63: {'SUV_max': 17.55, 'SUV_mean': 9.39, 'SD': 1.7}, 64: {'SUV_max': 16.69, 'SUV_mean': 8.54, 'SD': 1.31}, 65: {'SUV_max': 10.97, 'SUV_mean': 6.5, 'SD': 1.58}, 66: {'SUV_max': 6.73, 'SUV_mean': 3.53, 'SD': 0.78}, 67: {'SUV_max': 13.87, 'SUV_mean': 6.96, 'SD': 0.99}, 68: {'SUV_max': 9.54, 'SUV_mean': 5.79, 'SD': 1.26}, 69: {'SUV_max': 7.57, 'SUV_mean': 4.41, 'SD': 1.08}, 70: {'SUV_max': 7.1, 'SUV_mean': 4.19, 'SD': 1.04}, 71: {'SUV_max': 9.2, 'SUV_mean': 5.26, 'SD': 1.05}, 72: {'SUV_max': 6.54, 'SUV_mean': 3.79, 'SD': 0.87}}\n",
    "[71, 'POLYGON', 1.129999999999999]\n",
    "[71, 'POLYGON', 0.41000000000000014]\n",
    "[]\n",
    "\n",
    "index = 91 "
   ],
   "cell_type": "markdown",
   "metadata": {}
  },
  {
   "cell_type": "code",
   "execution_count": 10,
   "metadata": {},
   "outputs": [
    {
     "output_type": "stream",
     "name": "stdout",
     "text": [
      "Nombre de study :  181\n"
     ]
    }
   ],
   "source": [
    "index = 91\n",
    "serie = dataset[91]\n",
    "dataset.remove(serie)\n",
    "\n",
    "print('Nombre de study : ', len(dataset))"
   ]
  },
  {
   "cell_type": "code",
   "execution_count": null,
   "metadata": {},
   "outputs": [],
   "source": []
  },
  {
   "cell_type": "code",
   "execution_count": null,
   "metadata": {},
   "outputs": [],
   "source": []
  },
  {
   "cell_type": "code",
   "execution_count": null,
   "metadata": {},
   "outputs": [],
   "source": []
  },
  {
   "cell_type": "code",
   "execution_count": null,
   "metadata": {},
   "outputs": [],
   "source": [
    "#remove remove_bi_file if it exists in every serie \n",
    "from library_dicom.dicom_processor.tools.folders import *\n",
    "directory_validated_dicom = ''\n",
    "paths = get_series_path(directory_validated_dicom)\n",
    "\n",
    "for path in paths : \n",
    "    remove_bi_file(path)"
   ]
  },
  {
   "source": [
    "#Check if there is Unconstant Spacing error in every serie of the dataset \n",
    "unconstant_spacing = []\n",
    "serie_error = []\n",
    "for serie in dataset : \n",
    "    print(dataset.index(serie))\n",
    "    try : \n",
    "        if serie[1] =='PT' : \n",
    "            serie_pt_objet = SeriesPT(serie[0])\n",
    "            nifti_array = serie_pt_objet.get_numpy_array()\n",
    "            if serie_pt_objet.get_z_spacing =='Unconstant Spacing' :\n",
    "                print(\"Unconstant Spacing PET\")\n",
    "                unconstant_spacing.append(serie)\n",
    "            \n",
    "            serie_ct_objet = SeriesCT(serie[2])\n",
    "            nifti_array_ct = serie_ct_objet.get_numpy_array()\n",
    "            if serie_ct_objet.get_z_spacing =='Unconstant Spacing' :\n",
    "                print(\"Unconstant Spacing CT\")\n",
    "                unconstant_spacing.append(serie)\n",
    "\n",
    "        else : \n",
    "            serie_pt_objet = SeriesPT(serie[2])\n",
    "            nifti_array = serie_pt_objet.get_numpy_array()\n",
    "            if serie_pt_objet.get_z_spacing =='Unconstant Spacing' :\n",
    "                print(\"Unconstant Spacing PT\")\n",
    "                unconstant_spacing.append(serie)\n",
    "            serie_ct_objet = SeriesCT(serie[0])\n",
    "            nifti_array_ct = serie_ct_objet.get_numpy_array()\n",
    "            if serie_ct_objet.get_z_spacing =='Unconstant Spacing' :\n",
    "                print(\"Unconstant Spacing CT\")\n",
    "                unconstant_spacing.append(serie)\n",
    "\n",
    "    except Exception as err : \n",
    "        print(serie)\n",
    "        print(err)\n",
    "        serie_error.append(serie)\n"
   ],
   "cell_type": "code",
   "metadata": {
    "tags": []
   },
   "execution_count": null,
   "outputs": []
  },
  {
   "cell_type": "code",
   "execution_count": null,
   "metadata": {},
   "outputs": [],
   "source": [
    "#Careful : maybe need to rewrite path if the series are in an other folder"
   ]
  },
  {
   "source": [
    "#Generate PET, CT, MASK NIFTI with checking suv_max, mean and sd\n",
    "\n",
    "target_size = (128, 128, 256)\n",
    "target_spacing = (4.0, 4.0, 4.0)\n",
    "target_direction = (1,0,0,0,1,0,0,0,1)\n",
    "\n",
    "nifti_directory = '/media/deeplearning/Elements/REMARC_NIFTI'\n",
    "mip_directory = '/media/deeplearning/Elements/REMARC_MIP'\n",
    "\n",
    "#save serie_path with false mask \n",
    "serie_false_mask = []\n",
    "#save result about serie with false mask \n",
    "results_false_mask = []\n",
    "#save path of MIP to generate PDF \n",
    "path_mip = []\n",
    "\n",
    "#save error serie \n",
    "error_dataset = []\n",
    "\n",
    "for serie in dataset: \n",
    "    try : \n",
    "        print(dataset.index(serie))\n",
    "        subliste = []\n",
    "        if serie[1] == 'PT' : \n",
    "            \n",
    "            serie_pt_objet = SeriesPT(serie[0])\n",
    "            serie_pt_objet.get_instances_ordered()\n",
    "            nifti_array = serie_pt_objet.get_numpy_array()\n",
    "            study_uid = serie_pt_objet.get_series_details()['study']['StudyInstanceUID']\n",
    "            size_matrix = serie_pt_objet.get_size_matrix()\n",
    "            mask_objet = MaskBuilder(serie[-1], size_matrix)\n",
    "            mask_4D = mask_objet.mask_array\n",
    "\n",
    "            number_roi = mask_4D.shape[3]\n",
    "            threshold = mask_objet.details_rois['SUVlo']\n",
    "\n",
    "            if mask_objet.is_correct_suv(nifti_array) == True : \n",
    "\n",
    "                print(\"MASK CORRECT\")\n",
    "                #generation nifti PT\n",
    "                filename_pt = study_uid+'_'+'nifti_'+'PT'+'.nii'\n",
    "                serie_pt_objet.export_nifti(os.path.join(nifti_directory, filename_pt))\n",
    "                print(\"EXPORT NIFTI PT\")\n",
    "\n",
    "                #generation nifti CT\n",
    "                serie_ct_objet = SeriesCT(serie[2])\n",
    "                serie_ct_objet.get_instances_ordered()\n",
    "                serie_ct_objet.get_numpy_array()\n",
    "                filename_ct = study_uid+'_'+'nifti_'+'CT'+'.nii'\n",
    "                serie_ct_objet.export_nifti(os.path.join(nifti_directory, filename_ct))\n",
    "                print(\"EXPORT NIFTI CT\")\n",
    "\n",
    "                #generation nifti mask\n",
    "                filename_mask = study_uid+'_'+'nifti_'+'mask'+'.nii'\n",
    "                serie_pt_objet.export_nifti(os.path.join(nifti_directory, filename_mask), mask_4D)\n",
    "                print(\"EXPORT NIFTI MASK\")\n",
    "\n",
    "                #generation merged PT/CT\n",
    "                filename_merged = study_uid+'_'+'nifti_'+'merged'+'.nii'\n",
    "                fusion_objet = FusionPET_CT(serie_pt_objet, serie_ct_objet, target_size, target_spacing, target_direction)\n",
    "                pet_img, ct_img = fusion_objet.generate_pet_ct_img()\n",
    "                merged_img = fusion_objet.save_nifti_fusion(pet_img, ct_img, os.path.join(nifti_directory, filename_merged), mode ='head')\n",
    "                print(\"EXPORT NIFTI MERGED\")\n",
    "\n",
    "\n",
    "\n",
    "\n",
    "            else : \n",
    "                results = []\n",
    "                print(\"FALSE MASK\")\n",
    "                serie_false_mask.append(serie)\n",
    "\n",
    "                print(mask_objet.calcul_suv(nifti_array))\n",
    "                results.append(mask_objet.calcul_suv(nifti_array))\n",
    "\n",
    "                print(mask_objet.ecart_suv_max(nifti_array))\n",
    "                results.append(mask_objet.ecart_suv_max(nifti_array))\n",
    "\n",
    "                print(mask_objet.ecart_suv_mean(nifti_array))\n",
    "                results.append(mask_objet.ecart_suv_mean(nifti_array))\n",
    "\n",
    "                print(mask_objet.ecart_SD(nifti_array))\n",
    "                results.append(mask_objet.ecart_SD(nifti_array))\n",
    "\n",
    "                results_false_mask.append(results)\n",
    "\n",
    "                #threshold mask 41% \n",
    "                mask_4D = threshold_matrix(mask_4D, nifti_array, 0.41)\n",
    "\n",
    "                #create mip for false mask and check \n",
    "                #pet\n",
    "                angle_filename = mip_projection(nifti_array, 0, mip_directory, study_uid, 'pet', cmap='Greys', vmin=0, vmax=7) \n",
    "                subliste.append(angle_filename)\n",
    "                print('MIP PET')\n",
    "                #mask\n",
    "                angle_filename_mask = mip_projection_4D(mask_4D, 0, mip_directory, study_uid, number_roi, cmap='Greys')\n",
    "                subliste.append(angle_filename_mask)\n",
    "                print('MIP MASK')\n",
    "                path_mip.append(subliste)\n",
    "\n",
    "\n",
    "        else : \n",
    "            serie_pt_objet = SeriesPT(serie[2])\n",
    "            serie_pt_objet.get_instances_ordered()\n",
    "            nifti_array = serie_pt_objet.get_numpy_array()\n",
    "            study_uid = serie_pt_objet.get_series_details()['study']['StudyInstanceUID']\n",
    "            size_matrix = serie_pt_objet.get_size_matrix()\n",
    "            mask_objet = MaskBuilder(serie[-1], size_matrix)\n",
    "            mask_4D = mask_objet.mask_array\n",
    "\n",
    "            number_roi = mask_4D.shape[3]\n",
    "            threshold = mask_objet.details_rois['SUVlo']\n",
    "\n",
    "            if mask_objet.is_correct_suv(nifti_array) == True :  \n",
    "                print(\"MASK CORRECT\")\n",
    "                #generation nifti PT\n",
    "                filename_pt = study_uid+'_'+'nifti_'+'PT'+'.nii'\n",
    "                serie_pt_objet.export_nifti(os.path.join(nifti_directory, filename_pt))\n",
    "                print(\"EXPORT NIFTI PT\")\n",
    "\n",
    "                #generation nifti CT\n",
    "                serie_ct_objet = SeriesCT(serie[0])\n",
    "                serie_ct_objet.get_instances_ordered()\n",
    "                serie_ct_objet.get_numpy_array()\n",
    "                filename_ct = study_uid+'_'+'nifti_'+'CT'+'.nii'\n",
    "                serie_ct_objet.export_nifti(os.path.join(nifti_directory, filename_ct))\n",
    "                print(\"EXPORT NIFTI CT\")\n",
    "\n",
    "                #generation nifti mask\n",
    "                filename_mask = study_uid+'_'+'nifti_'+'mask'+'.nii'\n",
    "                serie_pt_objet.export_nifti(os.path.join(nifti_directory, filename_mask), mask_4D)\n",
    "                print(\"EXPORT NIFTI MASK\")\n",
    "\n",
    "                #generation merged PT/CT\n",
    "                filename_merged = study_uid+'_'+'nifti_'+'merged'+'.nii'\n",
    "                fusion_objet = FusionPET_CT(serie_pt_objet, serie_ct_objet, target_size, target_spacing, target_direction)\n",
    "                pet_img, ct_img = fusion_objet.generate_pet_ct_img()\n",
    "                merged_img = fusion_objet.save_nifti_fusion(pet_img, ct_img, os.path.join(nifti_directory, filename_merged), mode ='head')\n",
    "                print(\"EXPORT NIFTI MERGED\")\n",
    "\n",
    "\n",
    "\n",
    "\n",
    "            else : \n",
    "                results = []\n",
    "                print(\"FALSE MASK\")\n",
    "                serie_false_mask.append(serie)\n",
    "\n",
    "                print(mask_objet.calcul_suv(nifti_array))\n",
    "                results.append(mask_objet.calcul_suv(nifti_array))\n",
    "\n",
    "                print(mask_objet.ecart_suv_max(nifti_array))\n",
    "                results.append(mask_objet.ecart_suv_max(nifti_array))\n",
    "\n",
    "                print(mask_objet.ecart_suv_mean(nifti_array))\n",
    "                results.append(mask_objet.ecart_suv_mean(nifti_array))\n",
    "\n",
    "                print(mask_objet.ecart_SD(nifti_array))\n",
    "                results.append(mask_objet.ecart_SD(nifti_array))\n",
    "\n",
    "                results_false_mask.append(results)\n",
    "\n",
    "                #threshold mask 41% \n",
    "                mask_4D = threshold_matrix(mask_4D, nifti_array, 0.41)\n",
    "\n",
    "                #create mip for false mask and check \n",
    "                #pet\n",
    "                angle_filename = mip_projection(nifti_array, 0, mip_directory, study_uid, 'pet', cmap='Greys', vmin=0, vmax=7) \n",
    "                subliste.append(angle_filename)\n",
    "                print(\"MIP PET\")\n",
    "                #mask\n",
    "                angle_filename_mask = mip_projection_4D(mask_4D, 0, mip_directory, study_uid, number_roi, cmap='Greys')\n",
    "                subliste.append(angle_filename_mask)\n",
    "                print('MIP MASK ')\n",
    "                path_mip.append(subliste)\n",
    "               \n",
    "\n",
    "    except Exception as err : \n",
    "        print(serie)\n",
    "        print(err)\n",
    "        error_dataset.append(serie)"
   ],
   "cell_type": "code",
   "metadata": {
    "tags": []
   },
   "execution_count": 10,
   "outputs": [
    {
     "output_type": "stream",
     "name": "stdout",
     "text": [
      "91\n",
      "FALSE MASK\n",
      "{1: {'SUV_max': 8.55, 'SUV_mean': 5.41, 'SD': 1.45}, 2: {'SUV_max': 8.64, 'SUV_mean': 5.32, 'SD': 1.35}, 3: {'SUV_max': 11.93, 'SUV_mean': 6.94, 'SD': 1.58}, 4: {'SUV_max': 9.67, 'SUV_mean': 5.65, 'SD': 1.54}, 5: {'SUV_max': 11.51, 'SUV_mean': 6.79, 'SD': 1.41}, 6: {'SUV_max': 8.57, 'SUV_mean': 5.42, 'SD': 1.3}, 7: {'SUV_max': 15.68, 'SUV_mean': 8.5, 'SD': 1.55}, 8: {'SUV_max': 8.53, 'SUV_mean': 5.07, 'SD': 1.15}, 9: {'SUV_max': 14.29, 'SUV_mean': 7.9, 'SD': 1.56}, 10: {'SUV_max': 13.46, 'SUV_mean': 8.24, 'SD': 1.93}, 11: {'SUV_max': 10.68, 'SUV_mean': 6.27, 'SD': 1.46}, 12: {'SUV_max': 7.92, 'SUV_mean': 4.6, 'SD': 0.96}, 13: {'SUV_max': 7.93, 'SUV_mean': 4.99, 'SD': 1.28}, 14: {'SUV_max': 10.23, 'SUV_mean': 6.04, 'SD': 1.62}, 15: {'SUV_max': 9.64, 'SUV_mean': 5.63, 'SD': 1.29}, 16: {'SUV_max': 12.79, 'SUV_mean': 6.81, 'SD': 1.39}, 17: {'SUV_max': 9.26, 'SUV_mean': 5.56, 'SD': 1.3}, 18: {'SUV_max': 10.65, 'SUV_mean': 6.05, 'SD': 1.16}, 19: {'SUV_max': 8.82, 'SUV_mean': 5.15, 'SD': 1.16}, 20: {'SUV_max': 7.11, 'SUV_mean': 4.46, 'SD': 1.18}, 21: {'SUV_max': 6.84, 'SUV_mean': 4.37, 'SD': 0.96}, 22: {'SUV_max': 10.24, 'SUV_mean': 6.1, 'SD': 1.47}, 23: {'SUV_max': 7.27, 'SUV_mean': 4.09, 'SD': 0.95}, 24: {'SUV_max': 6.06, 'SUV_mean': 3.49, 'SD': 0.87}, 25: {'SUV_max': 12.06, 'SUV_mean': 6.91, 'SD': 1.75}, 26: {'SUV_max': 7.23, 'SUV_mean': 4.12, 'SD': 0.95}, 27: {'SUV_max': 16.41, 'SUV_mean': 9.18, 'SD': 2.25}, 28: {'SUV_max': 12.32, 'SUV_mean': 7.52, 'SD': 1.87}, 29: {'SUV_max': 8.23, 'SUV_mean': 4.49, 'SD': 1.05}, 30: {'SUV_max': 12.99, 'SUV_mean': 7.79, 'SD': 2.0}, 31: {'SUV_max': 10.06, 'SUV_mean': 5.2, 'SD': 0.69}, 32: {'SUV_max': 4.67, 'SUV_mean': 3.06, 'SD': 0.49}, 33: {'SUV_max': 10.29, 'SUV_mean': 6.13, 'SD': 1.56}, 34: {'SUV_max': 8.27, 'SUV_mean': 5.11, 'SD': 1.23}, 35: {'SUV_max': 27.32, 'SUV_mean': 16.2, 'SD': 3.42}, 36: {'SUV_max': 15.69, 'SUV_mean': 9.23, 'SD': 2.29}, 37: {'SUV_max': 15.52, 'SUV_mean': 8.62, 'SD': 1.62}, 38: {'SUV_max': 7.36, 'SUV_mean': 4.81, 'SD': 0.75}, 39: {'SUV_max': 5.8, 'SUV_mean': 3.31, 'SD': 0.82}, 40: {'SUV_max': 7.42, 'SUV_mean': 4.76, 'SD': 0.68}, 41: {'SUV_max': 17.9, 'SUV_mean': 9.4, 'SD': 1.46}, 42: {'SUV_max': 17.61, 'SUV_mean': 9.23, 'SD': 1.73}, 43: {'SUV_max': 17.62, 'SUV_mean': 10.51, 'SD': 1.95}, 44: {'SUV_max': 7.5, 'SUV_mean': 4.09, 'SD': 0.96}, 45: {'SUV_max': 14.67, 'SUV_mean': 7.39, 'SD': 1.18}, 46: {'SUV_max': 12.74, 'SUV_mean': 7.34, 'SD': 1.7}, 47: {'SUV_max': 17.17, 'SUV_mean': 9.49, 'SD': 2.02}, 48: {'SUV_max': 13.13, 'SUV_mean': 7.45, 'SD': 1.65}, 49: {'SUV_max': 9.74, 'SUV_mean': 5.66, 'SD': 1.41}, 50: {'SUV_max': 12.73, 'SUV_mean': 7.09, 'SD': 1.59}, 51: {'SUV_max': 10.69, 'SUV_mean': 5.96, 'SD': 1.24}, 52: {'SUV_max': 7.57, 'SUV_mean': 4.49, 'SD': 1.19}, 53: {'SUV_max': 5.36, 'SUV_mean': 3.1, 'SD': 0.71}, 54: {'SUV_max': 10.41, 'SUV_mean': 6.32, 'SD': 1.58}, 55: {'SUV_max': 12.86, 'SUV_mean': 7.92, 'SD': 1.94}, 56: {'SUV_max': 16.35, 'SUV_mean': 9.18, 'SD': 2.06}, 57: {'SUV_max': 13.67, 'SUV_mean': 8.14, 'SD': 1.86}, 58: {'SUV_max': 14.98, 'SUV_mean': 7.6, 'SD': 1.32}, 59: {'SUV_max': 12.25, 'SUV_mean': 7.17, 'SD': 1.71}, 60: {'SUV_max': 15.84, 'SUV_mean': 9.19, 'SD': 1.87}, 61: {'SUV_max': 6.83, 'SUV_mean': 3.98, 'SD': 0.97}, 62: {'SUV_max': 11.82, 'SUV_mean': 6.62, 'SD': 1.14}, 63: {'SUV_max': 17.55, 'SUV_mean': 9.39, 'SD': 1.7}, 64: {'SUV_max': 16.69, 'SUV_mean': 8.54, 'SD': 1.31}, 65: {'SUV_max': 10.97, 'SUV_mean': 6.5, 'SD': 1.58}, 66: {'SUV_max': 6.73, 'SUV_mean': 3.53, 'SD': 0.78}, 67: {'SUV_max': 13.87, 'SUV_mean': 6.96, 'SD': 0.99}, 68: {'SUV_max': 9.54, 'SUV_mean': 5.79, 'SD': 1.26}, 69: {'SUV_max': 7.57, 'SUV_mean': 4.41, 'SD': 1.08}, 70: {'SUV_max': 7.1, 'SUV_mean': 4.19, 'SD': 1.04}, 71: {'SUV_max': 9.2, 'SUV_mean': 5.26, 'SD': 1.05}, 72: {'SUV_max': 6.54, 'SUV_mean': 3.79, 'SD': 0.87}}\n",
      "[71, 'POLYGON', 1.129999999999999]\n",
      "[71, 'POLYGON', 0.41000000000000014]\n",
      "[]\n",
      "MIP PET\n"
     ]
    }
   ]
  },
  {
   "cell_type": "code",
   "execution_count": 10,
   "metadata": {},
   "outputs": [
    {
     "output_type": "execute_result",
     "data": {
      "text/plain": [
       "['/media/deeplearning/Elements/REMARC_Validated_DICOMS/11009102496005/pet0/1.2.840.113619.2.290.3.1569943720.360.1371658551.696.4/1.2.840.113619.2.290.3.1569943720.360.1371658551.696.4',\n",
       " 'CT',\n",
       " '/media/deeplearning/Elements/REMARC_Validated_DICOMS/11009102496005/pet0/1.2.840.113619.2.290.3.1569943720.360.1371658551.998/1.2.840.113619.2.290.3.1569943720.360.1371658551.998',\n",
       " 'PT',\n",
       " '1.2.840.113619.2.290.3.1569943720.360.1371658551.691',\n",
       " 'V0',\n",
       " '11009102496005',\n",
       " '/media/deeplearning/Elements/REMARC_csv/11009102496005_jun 20_2013.csvLV1.csv']"
      ]
     },
     "metadata": {},
     "execution_count": 10
    }
   ],
   "source": [
    "dataset[91]"
   ]
  },
  {
   "cell_type": "code",
   "execution_count": null,
   "metadata": {},
   "outputs": [],
   "source": []
  },
  {
   "cell_type": "code",
   "execution_count": null,
   "metadata": {},
   "outputs": [],
   "source": []
  },
  {
   "source": [
    "print(\"number of error : \", len(error_dataset))\n",
    "print(\"number of false mask : \" , len(serie_false_mask))"
   ],
   "cell_type": "code",
   "metadata": {
    "tags": []
   },
   "execution_count": null,
   "outputs": []
  },
  {
   "cell_type": "code",
   "execution_count": null,
   "metadata": {},
   "outputs": [],
   "source": [
    "#Save different json \n",
    "directory_nifti = ''\n",
    "write_json_file(directory_nifti, 'false_mask_serie', serie_false_mask)\n",
    "write_json_file(directory_nifti, 'false_mask_results', results_false_mask)\n",
    "\n",
    "write_json_file(directory_nifti, 'error', error_dataset)\n",
    "\n",
    "mip directory = directory_nifti+'/'+'MIP'\n",
    "write_json_file(mip_directory, 'path_mip', path_mip)"
   ]
  },
  {
   "cell_type": "code",
   "execution_count": null,
   "metadata": {},
   "outputs": [],
   "source": [
    "#create pdf of MIP for false mask \n",
    "filename = os.path.join(mip_directory, 'list_mip_dataset.pdf')\n",
    "create_pdf_mip(path_mip, filename)"
   ]
  },
  {
   "cell_type": "code",
   "execution_count": null,
   "metadata": {},
   "outputs": [],
   "source": [
    "#create csv "
   ]
  },
  {
   "cell_type": "code",
   "execution_count": null,
   "metadata": {},
   "outputs": [],
   "source": []
  },
  {
   "cell_type": "code",
   "execution_count": null,
   "metadata": {},
   "outputs": [],
   "source": []
  },
  {
   "cell_type": "code",
   "execution_count": null,
   "metadata": {},
   "outputs": [],
   "source": []
  },
  {
   "source": [
    "#Generate PET, CT, MASK NIFTI without checking\n",
    "\n",
    "nifti_directory = nifti_directory = '/home/deeplearning/AHL/AHL_NIFTI'\n",
    "\n",
    "error_dataset = []\n",
    "\n",
    "for serie in dataset: \n",
    "    try : \n",
    "        print(dataset.index(serie))\n",
    "\n",
    "        if serie[1] == 'PT' : \n",
    "            serie_pt_objet = SeriesPT(serie[0])\n",
    "            nifti_array = serie_pt_objet.get_numpy_array()\n",
    "            study_uid = serie_pt_objet.get_series_details()['study']['StudyInstanceUID']\n",
    "            size_matrix = serie_pt_objet.get_size_matrix()\n",
    "            mask_objet = MaskBuilder(serie[-1], size_matrix)\n",
    "            mask_4D = mask_objet.mask_array\n",
    "\n",
    "            number_roi = mask_4D.shape[3]\n",
    "\n",
    "            print(\"MASK CORRECT\")\n",
    "                    #generation nifti PT\n",
    "            filename_pt = study_uid+'_'+'nifti_'+'PT'+'.nii'\n",
    "            serie_pt_objet.export_nifti(os.path.join(nifti_directory, filename_pt))\n",
    "            print(\"EXPORT NIFTI PT\")\n",
    "\n",
    "                    #generation nifti CT\n",
    "            serie_ct_objet = SeriesCT(serie[2])\n",
    "            serie_ct_objet.get_numpy_array()\n",
    "            filename_ct = study_uid+'_'+'nifti_'+'CT'+'.nii'\n",
    "            serie_ct_objet.export_nifti(os.path.join(nifti_directory, filename_ct))\n",
    "            print(\"EXPORT NIFTI CT\")\n",
    "\n",
    "                    #generation nifti mask\n",
    "            filename_mask = study_uid+'_'+'nifti_'+'mask'+'.nii'\n",
    "            serie_pt_objet.export_nifti(os.path.join(nifti_directory, filename_mask), mask_4D)\n",
    "            print(\"EXPORT NIFTI MASK\")\n",
    "          \n",
    "          \n",
    "        else : \n",
    "            serie_pt_objet = SeriesPT(serie[2])\n",
    "            nifti_array = serie_pt_objet.get_numpy_array()\n",
    "            study_uid = serie_pt_objet.get_series_details()['study']['StudyInstanceUID']\n",
    "            size_matrix = serie_pt_objet.get_size_matrix()\n",
    "            mask_objet = MaskBuilder(serie[-1], size_matrix)\n",
    "            mask_4D = mask_objet.mask_array\n",
    "            number_roi = mask_4D.shape[3]\n",
    "\n",
    "            print(\"MASK CORRECT\")\n",
    "                    #generation nifti PT\n",
    "            filename_pt = study_uid+'_'+'nifti_'+'PT'+'.nii'\n",
    "            serie_pt_objet.export_nifti(os.path.join(nifti_directory, filename_pt))\n",
    "            print(\"EXPORT NIFTI PT\")\n",
    "\n",
    "                     #generation nifti CT\n",
    "            serie_ct_objet = SeriesCT(serie[0])\n",
    "            serie_ct_objet.get_numpy_array()\n",
    "            filename_ct = study_uid+'_'+'nifti_'+'CT'+'.nii'\n",
    "            serie_ct_objet.export_nifti(os.path.join(nifti_directory, filename_ct))\n",
    "            print(\"EXPORT NIFTI CT\")\n",
    "\n",
    "                    #generation nifti mask\n",
    "            filename_mask = study_uid+'_'+'nifti_'+'mask'+'.nii'\n",
    "            serie_pt_objet.export_nifti(os.path.join(nifti_directory, filename_mask), mask_4D)\n",
    "            print(\"EXPORT NIFTI MASK\")\n",
    "           \n",
    "    except Exception as err : \n",
    "        print(err)\n",
    "        print(serie)\n",
    "        error_dataset.append(serie)"
   ],
   "cell_type": "code",
   "metadata": {
    "tags": []
   },
   "execution_count": null,
   "outputs": []
  },
  {
   "source": [
    "#Generate PET & CT NIFTI only\n",
    "\n",
    "nifti_directory = '/home/deeplearning/AHL/AHL_NIFTI/pet4'\n",
    "\n",
    "error = []\n",
    "for serie in pet_4 : \n",
    "    print(pet_4.index(serie))\n",
    "    try : \n",
    "        if serie[1] == 'PT' : \n",
    "                serie_pt_objet = SeriesPT(serie[0]) \n",
    "                nifti_array = serie_pt_objet.get_numpy_array()\n",
    "                study_uid = serie_pt_objet.get_series_details()['study']['StudyInstanceUID']\n",
    "\n",
    "                                #generation nifti PT\n",
    "                filename_pt = study_uid+'_'+'nifti_'+'PT'+'.nii'\n",
    "                serie_pt_objet.export_nifti(os.path.join(nifti_directory, filename_pt))\n",
    "                print(\"EXPORT NIFTI PT\")\n",
    "                                #generation nifti CT\n",
    "                serie_ct_objet = SeriesCT(serie[2])\n",
    "                serie_ct_objet.get_numpy_array()\n",
    "                filename_ct = study_uid+'_'+'nifti_'+'CT'+'.nii'\n",
    "                serie_ct_objet.export_nifti(os.path.join(nifti_directory, filename_ct))\n",
    "                print(\"EXPORT NIFTI CT\")\n",
    "\n",
    "        else : \n",
    "                serie_pt_objet = SeriesPT(serie[2]) \n",
    "                nifti_array = serie_pt_objet.get_numpy_array()\n",
    "                study_uid = serie_pt_objet.get_series_details()['study']['StudyInstanceUID']\n",
    "\n",
    "                        \n",
    "                                #generation nifti PT\n",
    "                filename_pt = study_uid+'_'+'nifti_'+'PT'+'.nii'\n",
    "                serie_pt_objet.export_nifti(os.path.join(nifti_directory, filename_pt))\n",
    "                print(\"EXPORT NIFTI PT\")\n",
    "                                #generation nifti CT\n",
    "                serie_ct_objet = SeriesCT(serie[0])\n",
    "                serie_ct_objet.get_numpy_array()\n",
    "                filename_ct = study_uid+'_'+'nifti_'+'CT'+'.nii'\n",
    "                serie_ct_objet.export_nifti(os.path.join(nifti_directory, filename_ct))\n",
    "                print(\"EXPORT NIFTI CT\")\n",
    " \n",
    "\n",
    "    except Exception as err : \n",
    "        print(serie)\n",
    "        print(err)\n",
    "        error.append(serie)"
   ],
   "cell_type": "code",
   "metadata": {
    "tags": []
   },
   "execution_count": null,
   "outputs": []
  },
  {
   "cell_type": "code",
   "execution_count": null,
   "metadata": {},
   "outputs": [],
   "source": [
    "#Generate PET only\n",
    "\n",
    "nifti_directory = '/home/deeplearning/AHL/suv_test'\n",
    "dataset = dataset[0:10]\n",
    "\n",
    "error = []\n",
    "for serie in dataset : \n",
    "    print(dataset.index(serie))\n",
    "    print(serie[0])\n",
    "    try : \n",
    "                serie_pt_objet = SeriesPT(serie[1]) \n",
    "                nifti_array = serie_pt_objet.get_numpy_array()\n",
    "                study_uid = serie_pt_objet.get_series_details()['study']['StudyInstanceUID']\n",
    "\n",
    "                                #generation nifti PT\n",
    "                filename_pt = study_uid+'_'+'nifti_'+'PT'+'.nii'\n",
    "                serie_pt_objet.export_nifti(os.path.join(nifti_directory, filename_pt))\n",
    "                print(\"EXPORT NIFTI PT\")\n",
    " \n",
    "\n",
    "    except Exception as err : \n",
    "        print(serie)\n",
    "        print(err)\n",
    "        error.append(serie)"
   ]
  }
 ],
 "metadata": {
  "file_extension": ".py",
  "kernelspec": {
   "display_name": "Python 3.8.5 64-bit",
   "language": "python",
   "name": "python38564bit9ddb669efcd540bea444ed93f0604dc5"
  },
  "language_info": {
   "codemirror_mode": {
    "name": "ipython",
    "version": 3
   },
   "file_extension": ".py",
   "mimetype": "text/x-python",
   "name": "python",
   "nbconvert_exporter": "python",
   "pygments_lexer": "ipython3",
   "version": "3.8.5-final"
  },
  "mimetype": "text/x-python",
  "name": "python",
  "npconvert_exporter": "python",
  "pygments_lexer": "ipython3",
  "version": 3
 },
 "nbformat": 4,
 "nbformat_minor": 2
}