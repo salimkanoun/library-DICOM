{
 "cells": [
  {
   "cell_type": "code",
   "execution_count": 1,
   "metadata": {},
   "outputs": [],
   "source": [
    "import json\n",
    "import os\n",
    "from library_dicom.dicom_processor.model.Series import Series \n",
    "from library_dicom.dicom_processor.model.SeriesPT import SeriesPT\n",
    "from library_dicom.dicom_processor.model.SeriesCT import SeriesCT\n",
    "from library_dicom.dicom_processor.model.csv_reader.MaskBuilder import MaskBuilder\n",
    "from library_dicom.dicom_processor.model.csv_reader.CsvReader import CsvReader\n",
    "\n",
    "from library_dicom.dicom_processor.tools.folders import *\n",
    "from library_dicom.dicom_processor.tools.create_mip import *\n",
    "from library_dicom.dicom_processor.tools.threshold_mask import *\n",
    "\n",
    "import numpy as np\n",
    "import SimpleITK as sitk\n",
    "import csv"
   ]
  },
  {
   "source": [
    "#### - Get dataset from  PARSE_FILTERED_DICOM_DATASET script"
   ],
   "cell_type": "markdown",
   "metadata": {}
  },
  {
   "cell_type": "code",
   "execution_count": 2,
   "metadata": {
    "tags": []
   },
   "outputs": [],
   "source": [
    "#LIST_PATH from json\n",
    "json_path = '/media/oncopole/LACIE SHARE/PVAB/pvab_dataset.json'\n",
    "dataset = []\n",
    "with open(json_path) as json_file : \n",
    "    reader = json.load(json_file)\n",
    "    for info in reader :\n",
    "        dataset.append(info)\n"
   ]
  },
  {
   "cell_type": "code",
   "execution_count": 3,
   "metadata": {},
   "outputs": [
    {
     "output_type": "stream",
     "name": "stdout",
     "text": [
      "number of study :  82\n"
     ]
    }
   ],
   "source": [
    "number_of_study = len(dataset)\n",
    "print(\"number of study : \", number_of_study)"
   ]
  },
  {
   "cell_type": "code",
   "execution_count": 10,
   "metadata": {},
   "outputs": [
    {
     "output_type": "execute_result",
     "data": {
      "text/plain": [
       "['/media/oncopole/LACIE SHARE/PVAB/PVAB_Validated_DICOM/13014101023001/PET0/1.2.276.0.7230010.3.1.3.380371712.1.1605271367.778680/CT CT TAP 2.0 B20f',\n",
       " 'CT',\n",
       " '/media/oncopole/LACIE SHARE/PVAB/PVAB_Validated_DICOM/13014101023001/PET0/1.2.276.0.7230010.3.1.3.380371712.1.1605271377.779987/PT TEP TAP Corrected UHD',\n",
       " 'PT',\n",
       " '1.2.276.0.7230010.3.1.2.380371712.1.1605271362.777715',\n",
       " 'PET0',\n",
       " '13014101023001']"
      ]
     },
     "metadata": {},
     "execution_count": 10
    }
   ],
   "source": [
    "dataset[0]"
   ]
  },
  {
   "source": [
    "#### - Add CSV file for every study on the dataset"
   ],
   "cell_type": "markdown",
   "metadata": {}
  },
  {
   "source": [
    "#add csv_file from csv \n",
    "\n",
    "csv_path= '/media/deeplearning/LACIE SHARE/AHL_NIFTI/pet0.csv'\n",
    "with open(csv_path, 'r') as csv_file :\n",
    "    reader = csv.reader(csv_file, delimiter = ';') #liste pour chaque ligne \n",
    "    csv_file = []\n",
    "    for row in reader :\n",
    "        csv_file.append(row)\n",
    "        \n",
    "del csv_file[0] #enlever première ligne\n",
    "csv_directory = '/media/deeplearning/78ca2911-9e9f-4f78-b80a-848024b95f92/AHL/AHL2011_CSV_DATA/AHL2011-CSV'\n",
    "for data in dataset : \n",
    "    study_uid = data[-1]\n",
    "    for row in csv_file : \n",
    "        if study_uid == row[1] : \n",
    "            data.append(os.path.join(csv_directory, row[4]))"
   ],
   "cell_type": "code",
   "metadata": {},
   "execution_count": null,
   "outputs": []
  },
  {
   "cell_type": "code",
   "execution_count": null,
   "metadata": {},
   "outputs": [],
   "source": [
    "for data in dataset : \n",
    "    if len(data) != 8 : \n",
    "        print(data)"
   ]
  },
  {
   "cell_type": "code",
   "execution_count": null,
   "metadata": {},
   "outputs": [],
   "source": [
    "write_json_file('/media/deeplearning/LACIE SHARE/AHL_NIFTI', 'ahl_nifti_dataset', dataset)"
   ]
  },
  {
   "source": [
    "#add csv_file from a list \n",
    "\n",
    "\n",
    "csv_paths = get_series_path('/media/oncopole/LACIE SHARE/PVAB/PVAB_csv')\n",
    "liste_csv = []\n",
    "for csv_path in csv_paths : \n",
    "    csv_file_ = os.listdir(csv_path)[0]\n",
    "    #print(csv_file_)\n",
    "    liste_csv.append(os.path.join(csv_path, csv_file_))\n",
    "\n",
    "\n",
    "#print(liste_csv)\n",
    "\n",
    "\n",
    "for data in dataset : \n",
    "    patient_id = data[-1]\n",
    "    for csv_file in liste_csv: \n",
    "        if patient_id in csv_file: \n",
    "            data.append(csv_file)"
   ],
   "cell_type": "code",
   "metadata": {
    "tags": []
   },
   "execution_count": 11,
   "outputs": []
  },
  {
   "cell_type": "code",
   "execution_count": 12,
   "metadata": {},
   "outputs": [
    {
     "output_type": "execute_result",
     "data": {
      "text/plain": [
       "['/media/oncopole/LACIE SHARE/PVAB/PVAB_Validated_DICOM/13014101023001/PET0/1.2.276.0.7230010.3.1.3.380371712.1.1605271367.778680/CT CT TAP 2.0 B20f',\n",
       " 'CT',\n",
       " '/media/oncopole/LACIE SHARE/PVAB/PVAB_Validated_DICOM/13014101023001/PET0/1.2.276.0.7230010.3.1.3.380371712.1.1605271377.779987/PT TEP TAP Corrected UHD',\n",
       " 'PT',\n",
       " '1.2.276.0.7230010.3.1.2.380371712.1.1605271362.777715',\n",
       " 'PET0',\n",
       " '13014101023001',\n",
       " '/media/oncopole/LACIE SHARE/PVAB/PVAB_csv/1004/13014101023001_PET0_41.csv']"
      ]
     },
     "metadata": {},
     "execution_count": 12
    }
   ],
   "source": [
    "dataset[0]"
   ]
  },
  {
   "source": [
    "#### - Verify if every study has a csv file, \n",
    "####            If not, write a json , remove study from dataset"
   ],
   "cell_type": "markdown",
   "metadata": {}
  },
  {
   "source": [
    "no_csv = []\n",
    "for data in dataset : \n",
    "    if len(data) != 8 : \n",
    "        no_csv.append(data)\n",
    "print(\"Nbr de study sans csv :\", len(no_csv))\n",
    "\n",
    "try : \n",
    "    for err in no_csv : \n",
    "        dataset.remove(err)\n",
    "except Exception as err : \n",
    "    print(err) \n"
   ],
   "cell_type": "code",
   "metadata": {},
   "execution_count": 13,
   "outputs": [
    {
     "output_type": "stream",
     "name": "stdout",
     "text": [
      "Nbr de study sans csv : 0\n"
     ]
    }
   ]
  },
  {
   "cell_type": "code",
   "execution_count": 14,
   "metadata": {},
   "outputs": [],
   "source": [
    "#SAVE DATASET AS JSON \n",
    "\n",
    "write_json_file('/media/oncopole/LACIE SHARE/PVAB', 'pvab_dataset', dataset)"
   ]
  },
  {
   "source": [
    "#### - Remove remove_bi_file if it exists in every serie "
   ],
   "cell_type": "markdown",
   "metadata": {}
  },
  {
   "cell_type": "code",
   "execution_count": null,
   "metadata": {},
   "outputs": [],
   "source": [
    "from library_dicom.dicom_processor.tools.folders import *\n",
    "directory_validated_dicom = ''\n",
    "paths = get_series_path(directory_validated_dicom)\n",
    "\n",
    "for path in paths : \n",
    "    remove_bi_file(path)"
   ]
  },
  {
   "source": [
    "### Different scripts : "
   ],
   "cell_type": "markdown",
   "metadata": {}
  },
  {
   "source": [
    "#### - Check if there is Unconstance Spacing error in every study of the dataset "
   ],
   "cell_type": "markdown",
   "metadata": {}
  },
  {
   "source": [
    "unconstant_spacing = []\n",
    "serie_error = []\n",
    "for serie in dataset : \n",
    "    print(dataset.index(serie))\n",
    "    try : \n",
    "        if serie[1] =='PT' : \n",
    "            serie_pt_objet = SeriesPT(serie[0])\n",
    "            serie_pt_objet.get_instances_ordered()\n",
    "            nifti_array = serie_pt_objet.get_numpy_array()\n",
    "            if serie_pt_objet.get_z_spacing =='Unconstant Spacing' :\n",
    "                print(\"Unconstant Spacing PET\")\n",
    "                unconstant_spacing.append(serie)\n",
    "            \n",
    "            serie_ct_objet = SeriesCT(serie[2])\n",
    "            serie_ct_objet.get_instances_ordered()\n",
    "            nifti_array_ct = serie_ct_objet.get_numpy_array()\n",
    "            if serie_ct_objet.get_z_spacing =='Unconstant Spacing' :\n",
    "                print(\"Unconstant Spacing CT\")\n",
    "                unconstant_spacing.append(serie)\n",
    "\n",
    "        else : \n",
    "            serie_pt_objet = SeriesPT(serie[2])\n",
    "            serie_pt_objet.get_instances_ordered()\n",
    "            nifti_array = serie_pt_objet.get_numpy_array()\n",
    "            if serie_pt_objet.get_z_spacing =='Unconstant Spacing' :\n",
    "                print(\"Unconstant Spacing PT\")\n",
    "                unconstant_spacing.append(serie)\n",
    "            serie_ct_objet = SeriesCT(serie[0])\n",
    "            serie_ct_objet.get_instances_ordered()\n",
    "            nifti_array_ct = serie_ct_objet.get_numpy_array()\n",
    "            if serie_ct_objet.get_z_spacing =='Unconstant Spacing' :\n",
    "                print(\"Unconstant Spacing CT\")\n",
    "                unconstant_spacing.append(serie)\n",
    "\n",
    "    except Exception as err : \n",
    "        print(serie)\n",
    "        print(err)\n",
    "        serie_error.append(serie)\n"
   ],
   "cell_type": "code",
   "metadata": {
    "tags": []
   },
   "execution_count": null,
   "outputs": []
  },
  {
   "source": [
    "####Generate PET, CT, MASK NIFTI with checking suv_max, mean and sd"
   ],
   "cell_type": "markdown",
   "metadata": {}
  },
  {
   "cell_type": "code",
   "execution_count": 2,
   "metadata": {},
   "outputs": [],
   "source": [
    "json_path = '/media/oncopole/LACIE SHARE/PVAB/pvab_dataset.json'\n",
    "dataset = []\n",
    "with open(json_path) as json_file : \n",
    "    reader = json.load(json_file)\n",
    "    for info in reader :\n",
    "        dataset.append(info)\n"
   ]
  },
  {
   "cell_type": "code",
   "execution_count": 4,
   "metadata": {},
   "outputs": [
    {
     "output_type": "execute_result",
     "data": {
      "text/plain": [
       "82"
      ]
     },
     "metadata": {},
     "execution_count": 4
    }
   ],
   "source": [
    "len(dataset)"
   ]
  },
  {
   "cell_type": "code",
   "execution_count": 5,
   "metadata": {},
   "outputs": [
    {
     "output_type": "execute_result",
     "data": {
      "text/plain": [
       "['/media/oncopole/LACIE SHARE/PVAB/PVAB_Validated_DICOM/13014101873001/PET0/1.2.276.0.7230010.3.1.3.380371712.1.1605521287.788141/CT CT TAP 2.0 I30f 3/CT CT TAP 2.0 I30f 3',\n",
       " 'CT',\n",
       " '/media/oncopole/LACIE SHARE/PVAB/PVAB_Validated_DICOM/13014101873001/PET0/1.2.276.0.7230010.3.1.3.380371712.1.1605521283.787673/PT TEP TAP Corrig/PT TEP TAP Corrig',\n",
       " 'PT',\n",
       " '1.2.276.0.7230010.3.1.2.380371712.1.1605521279.787203',\n",
       " 'PET0',\n",
       " '13014101873001',\n",
       " '/media/oncopole/LACIE SHARE/PVAB/PVAB_csv/911/13014101873001_PET0_41.csv']"
      ]
     },
     "metadata": {},
     "execution_count": 5
    }
   ],
   "source": [
    "dataset[69]"
   ]
  },
  {
   "cell_type": "code",
   "execution_count": 6,
   "metadata": {},
   "outputs": [
    {
     "output_type": "execute_result",
     "data": {
      "text/plain": [
       "['/media/oncopole/LACIE SHARE/PVAB/PVAB_Validated_DICOM/13014101873003/PET0/1.2.276.0.7230010.3.1.3.380371712.1.1605539772.799511/CT CT TAP 2.0 I30f 3/CT CT TAP 2.0 I30f 3',\n",
       " 'CT',\n",
       " '/media/oncopole/LACIE SHARE/PVAB/PVAB_Validated_DICOM/13014101873003/PET0/1.2.276.0.7230010.3.1.3.380371712.1.1605539767.799037/PT TEP TAP Corrig/PT TEP TAP Corrig',\n",
       " 'PT',\n",
       " '1.2.276.0.7230010.3.1.2.380371712.1.1605539762.798561',\n",
       " 'PET0',\n",
       " '13014101873003',\n",
       " '/media/oncopole/LACIE SHARE/PVAB/PVAB_csv/945/13014101873003_PET0_41.csv']"
      ]
     },
     "metadata": {},
     "execution_count": 6
    }
   ],
   "source": [
    "dataset[71]"
   ]
  },
  {
   "source": [
    "#Generate PET, CT, MASK NIFTI with checking suv_max, mean and sd\n",
    "\n",
    "nifti_directory = '/media/oncopole/LACIE SHARE/PVAB/NIFTI'\n",
    "mip_directory = '/media/oncopole/LACIE SHARE/PVAB/MIP'\n",
    "\n",
    "#save serie_path with false mask \n",
    "serie_false_mask = []\n",
    "#save result about serie with false mask \n",
    "results_false_mask = []\n",
    "#save path of MIP to generate PDF \n",
    "path_mip = []\n",
    "\n",
    "#save error serie \n",
    "error_dataset = []\n",
    "\n",
    "for serie in dataset[72:82]: \n",
    "    try : \n",
    "        print(dataset.index(serie))\n",
    "        subliste = []\n",
    "        if serie[1] == 'PT' : \n",
    "            \n",
    "            serie_pt_objet = SeriesPT(serie[0])\n",
    "            \n",
    "            serie_pt_objet.get_instances_ordered()\n",
    "            nifti_array = serie_pt_objet.get_numpy_array()\n",
    "            study_uid = serie_pt_objet.get_series_details()['study']['StudyInstanceUID']\n",
    "            size_matrix = serie_pt_objet.get_size_matrix()\n",
    "            mask_objet = MaskBuilder(serie[-1], size_matrix)\n",
    "            mask_4D = mask_objet.mask_array\n",
    "\n",
    "            number_roi = mask_4D.shape[3]\n",
    "            threshold = mask_objet.details_rois['SUVlo']\n",
    "\n",
    "            if mask_objet.is_correct_suv(nifti_array) == True : \n",
    "\n",
    "                print(\"MASK CORRECT\")\n",
    "                #generation nifti PT\n",
    "                filename_pt = study_uid+'_'+'nifti_'+'PT'+'.nii'\n",
    "                serie_pt_objet.export_nifti(os.path.join(nifti_directory, filename_pt))\n",
    "                print(\"EXPORT NIFTI PT\")\n",
    "\n",
    "                #generation nifti CT\n",
    "                serie_ct_objet = SeriesCT(serie[2])\n",
    "                serie_ct_objet.get_instances_ordered()\n",
    "                serie_ct_objet.get_numpy_array()\n",
    "                filename_ct = study_uid+'_'+'nifti_'+'CT'+'.nii'\n",
    "                serie_ct_objet.export_nifti(os.path.join(nifti_directory, filename_ct))\n",
    "                print(\"EXPORT NIFTI CT\")\n",
    "\n",
    "                #generation nifti mask\n",
    "                filename_mask = study_uid+'_'+'nifti_'+'mask'+'.nii'\n",
    "                serie_pt_objet.export_nifti(os.path.join(nifti_directory, filename_mask), mask_4D)\n",
    "                print(\"EXPORT NIFTI MASK\")\n",
    "\n",
    "\n",
    "            else : \n",
    "                results = []\n",
    "                print(\"FALSE MASK\")\n",
    "                serie_false_mask.append(serie)\n",
    "\n",
    "                print(mask_objet.calcul_suv(nifti_array))\n",
    "                results.append(mask_objet.calcul_suv(nifti_array))\n",
    "\n",
    "                print(mask_objet.ecart_suv_max(nifti_array))\n",
    "                results.append(mask_objet.ecart_suv_max(nifti_array))\n",
    "\n",
    "                print(mask_objet.ecart_suv_mean(nifti_array))\n",
    "                results.append(mask_objet.ecart_suv_mean(nifti_array))\n",
    "\n",
    "                print(mask_objet.ecart_SD(nifti_array))\n",
    "                results.append(mask_objet.ecart_SD(nifti_array))\n",
    "\n",
    "                results_false_mask.append(results)\n",
    "\n",
    "                #threshold mask 41% \n",
    "                mask_4D = threshold_matrix(mask_4D, nifti_array, 0.41)\n",
    "\n",
    "                #create mip for false mask and check \n",
    "                #pet\n",
    "                angle_filename = mip_projection(nifti_array, 0, mip_directory, study_uid, 'pet', cmap='Greys', vmin=0, vmax=7) \n",
    "                subliste.append(angle_filename)\n",
    "                print('MIP PET')\n",
    "               # mask\n",
    "                angle_filename_mask = mip_projection_4D(mask_4D, 0, mip_directory, study_uid, number_roi, cmap='Greys')\n",
    "                subliste.append(angle_filename_mask)\n",
    "                print('MIP MASK')\n",
    "                path_mip.append(subliste)\n",
    "\n",
    "\n",
    "        else : \n",
    "            serie_pt_objet = SeriesPT(serie[2])\n",
    "            serie_pt_objet.get_instances_ordered()\n",
    "            nifti_array = serie_pt_objet.get_numpy_array()\n",
    "            study_uid = serie_pt_objet.get_series_details()['study']['StudyInstanceUID']\n",
    "            size_matrix = serie_pt_objet.get_size_matrix()\n",
    "            mask_objet = MaskBuilder(serie[-1], size_matrix)\n",
    "            mask_4D = mask_objet.mask_array\n",
    "\n",
    "            number_roi = mask_4D.shape[3]\n",
    "            threshold = mask_objet.details_rois['SUVlo']\n",
    "\n",
    "            if mask_objet.is_correct_suv(nifti_array) == True :  \n",
    "                print(\"MASK CORRECT\")\n",
    "                #generation nifti PT\n",
    "                filename_pt = study_uid+'_'+'nifti_'+'PT'+'.nii'\n",
    "                serie_pt_objet.export_nifti(os.path.join(nifti_directory, filename_pt))\n",
    "                print(\"EXPORT NIFTI PT\")\n",
    "\n",
    "                #generation nifti CT\n",
    "                serie_ct_objet = SeriesCT(serie[0])\n",
    "                serie_ct_objet.get_instances_ordered()\n",
    "                serie_ct_objet.get_numpy_array()\n",
    "                filename_ct = study_uid+'_'+'nifti_'+'CT'+'.nii'\n",
    "                serie_ct_objet.export_nifti(os.path.join(nifti_directory, filename_ct))\n",
    "                print(\"EXPORT NIFTI CT\")\n",
    "\n",
    "                #generation nifti mask\n",
    "                filename_mask = study_uid+'_'+'nifti_'+'mask'+'.nii'\n",
    "                serie_pt_objet.export_nifti(os.path.join(nifti_directory, filename_mask), mask_4D)\n",
    "                print(\"EXPORT NIFTI MASK\")\n",
    "\n",
    "\n",
    "\n",
    "            else : \n",
    "                results = []\n",
    "                print(\"FALSE MASK\")\n",
    "                serie_false_mask.append(serie)\n",
    "\n",
    "                print(mask_objet.calcul_suv(nifti_array))\n",
    "                results.append(mask_objet.calcul_suv(nifti_array))\n",
    "\n",
    "                print(mask_objet.ecart_suv_max(nifti_array))\n",
    "                results.append(mask_objet.ecart_suv_max(nifti_array))\n",
    "\n",
    "                print(mask_objet.ecart_suv_mean(nifti_array))\n",
    "                results.append(mask_objet.ecart_suv_mean(nifti_array))\n",
    "\n",
    "                print(mask_objet.ecart_SD(nifti_array))\n",
    "                results.append(mask_objet.ecart_SD(nifti_array))\n",
    "\n",
    "                results_false_mask.append(results)\n",
    "\n",
    "                #threshold mask 41% \n",
    "                mask_4D = threshold_matrix(mask_4D, nifti_array, 0.41)\n",
    "\n",
    "                #create mip for false mask and check \n",
    "                #pet\n",
    "                angle_filename = mip_projection(nifti_array, 0, mip_directory, study_uid, 'pet', cmap='Greys', vmin=0, vmax=7) \n",
    "                subliste.append(angle_filename)\n",
    "                print(\"MIP PET\")\n",
    "                #mask\n",
    "                angle_filename_mask = mip_projection_4D(mask_4D, 0, mip_directory, study_uid, number_roi, cmap='Greys')\n",
    "                subliste.append(angle_filename_mask)\n",
    "                print('MIP MASK ')\n",
    "                path_mip.append(subliste)\n",
    "               \n",
    "\n",
    "    except Exception as err : \n",
    "        print(serie)\n",
    "        print(err)\n",
    "        error_dataset.append(serie)"
   ],
   "cell_type": "code",
   "metadata": {
    "tags": []
   },
   "execution_count": 7,
   "outputs": [
    {
     "output_type": "stream",
     "name": "stdout",
     "text": [
      "72\n",
      "MASK CORRECT\n",
      "EXPORT NIFTI PT\n",
      "EXPORT NIFTI CT\n",
      "EXPORT NIFTI MASK\n",
      "73\n",
      "MASK CORRECT\n",
      "EXPORT NIFTI PT\n",
      "EXPORT NIFTI CT\n",
      "EXPORT NIFTI MASK\n",
      "74\n",
      "MASK CORRECT\n",
      "EXPORT NIFTI PT\n",
      "EXPORT NIFTI CT\n",
      "EXPORT NIFTI MASK\n",
      "75\n",
      "FALSE MASK\n",
      "{1: {'SUV_max': 17.64, 'SUV_mean': 11.52, 'SD': 3.23}, 2: {'SUV_max': 9.83, 'SUV_mean': 6.76, 'SD': 1.72}, 3: {'SUV_max': 7.24, 'SUV_mean': 4.6, 'SD': 1.33}, 4: {'SUV_max': 15.2, 'SUV_mean': 9.9, 'SD': 2.53}, 5: {'SUV_max': 23.1, 'SUV_mean': 13.81, 'SD': 3.35}, 6: {'SUV_max': 25.25, 'SUV_mean': 14.52, 'SD': 3.07}, 7: {'SUV_max': 17.94, 'SUV_mean': 10.99, 'SD': 2.88}, 8: {'SUV_max': 5.14, 'SUV_mean': 3.01, 'SD': 0.77}, 9: {'SUV_max': 12.46, 'SUV_mean': 6.64, 'SD': 1.46}, 10: {'SUV_max': 5.7, 'SUV_mean': 2.93, 'SD': 0.76}, 11: {'SUV_max': 11.47, 'SUV_mean': 6.05, 'SD': 1.51}, 12: {'SUV_max': 16.31, 'SUV_mean': 9.03, 'SD': 2.14}, 13: {'SUV_max': 18.35, 'SUV_mean': 11.06, 'SD': 3.24}, 14: {'SUV_max': 17.94, 'SUV_mean': 12.1, 'SD': 3.47}, 15: {'SUV_max': 4.75, 'SUV_mean': 3.04, 'SD': 0.69}, 16: {'SUV_max': 4.64, 'SUV_mean': 2.45, 'SD': 0.58}, 17: {'SUV_max': 15.97, 'SUV_mean': 9.86, 'SD': 2.31}, 18: {'SUV_max': 4.36, 'SUV_mean': 2.4, 'SD': 0.66}}\n",
      "[1, 2.6400000000000006, 2, 3.59, 3, 1.549999999999999, 4, 6.560000000000002, 5, 5.039999999999999, 6, 5.850000000000001, 7, 5.059999999999999, 8, 1.7200000000000006, 9, 3.3499999999999996, 10, 2.08, 11, 2.99, 12, 4.420000000000002, 13, 'ELLIPSE', 4.529999999999998, 14, 'ELLIPSE', 4.32, 15, 'ELLIPSE', 1.7800000000000002, 16, 'ELLIPSE', 1.83, 17, 'ELLIPSE', 6.67, 18, 'ELLIPSE', 1.9499999999999993]\n",
      "[1, 2.2300000000000004, 2, 2.51, 3, 1.17, 4, 3.7300000000000004, 5, 2.1899999999999995, 6, 2.3099999999999987, 7, 2.4700000000000006, 8, 1.08, 9, 1.9400000000000004, 10, 1.4300000000000002, 11, 1.6500000000000004, 12, 2.5200000000000014, 13, 'ELLIPSE', 3.3499999999999996, 14, 'ELLIPSE', 2.200000000000001, 15, 'ELLIPSE', 1.0700000000000003, 16, 'ELLIPSE', 1.2599999999999998, 17, 'ELLIPSE', 3.030000000000001, 18, 'ELLIPSE', 1.3000000000000003]\n",
      "[1, 0.7799999999999998, 2, 0.6500000000000001, 3, 0.5599999999999998, 4, 1.02, 5, 0.29000000000000004, 7, 0.16999999999999993, 8, 0.33000000000000007, 9, 0.3900000000000001, 10, 0.45999999999999996, 11, 0.42999999999999994, 12, 0.6399999999999997, 13, 'ELLIPSE', 0.34999999999999964, 14, 'ELLIPSE', 0.31999999999999984, 15, 'ELLIPSE', 0.3500000000000001, 16, 'ELLIPSE', 0.5100000000000001, 17, 'ELLIPSE', 0.5499999999999998, 18, 'ELLIPSE', 0.47999999999999987]\n",
      "MIP PET\n",
      "MIP MASK \n",
      "76\n",
      "MASK CORRECT\n",
      "EXPORT NIFTI PT\n",
      "EXPORT NIFTI CT\n",
      "EXPORT NIFTI MASK\n",
      "77\n",
      "FALSE MASK\n",
      "{1: {'SUV_max': 15.29, 'SUV_mean': 10.01, 'SD': 2.26}, 2: {'SUV_max': 20.9, 'SUV_mean': 12.96, 'SD': 2.96}, 3: {'SUV_max': 21.55, 'SUV_mean': 12.99, 'SD': 3.0}, 4: {'SUV_max': 15.53, 'SUV_mean': 8.81, 'SD': 1.92}, 5: {'SUV_max': 6.2, 'SUV_mean': 3.71, 'SD': 0.9}, 6: {'SUV_max': 8.7, 'SUV_mean': 5.42, 'SD': 1.44}, 7: {'SUV_max': 14.82, 'SUV_mean': 8.11, 'SD': 1.71}, 8: {'SUV_max': 7.9, 'SUV_mean': 4.2, 'SD': 0.87}, 9: {'SUV_max': 8.73, 'SUV_mean': 4.88, 'SD': 1.18}, 10: {'SUV_max': 7.45, 'SUV_mean': 4.4, 'SD': 1.04}, 11: {'SUV_max': 4.66, 'SUV_mean': 2.55, 'SD': 0.64}, 12: {'SUV_max': 8.24, 'SUV_mean': 4.78, 'SD': 1.23}, 13: {'SUV_max': 8.28, 'SUV_mean': 4.98, 'SD': 1.09}, 14: {'SUV_max': 12.99, 'SUV_mean': 7.69, 'SD': 1.55}, 15: {'SUV_max': 4.17, 'SUV_mean': 2.39, 'SD': 0.59}}\n",
      "[13, 'ELLIPSE', 0.6800000000000015]\n",
      "[13, 'ELLIPSE', 0.17999999999999972]\n",
      "[]\n",
      "MIP PET\n",
      "MIP MASK \n",
      "78\n",
      "MASK CORRECT\n",
      "EXPORT NIFTI PT\n",
      "EXPORT NIFTI CT\n",
      "EXPORT NIFTI MASK\n",
      "79\n",
      "MASK CORRECT\n",
      "EXPORT NIFTI PT\n",
      "EXPORT NIFTI CT\n",
      "EXPORT NIFTI MASK\n",
      "80\n",
      "FALSE MASK\n",
      "{1: {'SUV_max': 10.53, 'SUV_mean': 6.39, 'SD': 1.81}, 2: {'SUV_max': 7.14, 'SUV_mean': 3.94, 'SD': 1.0}, 3: {'SUV_max': 14.02, 'SUV_mean': 7.66, 'SD': 1.73}, 4: {'SUV_max': 6.55, 'SUV_mean': 4.04, 'SD': 1.02}, 5: {'SUV_max': 12.98, 'SUV_mean': 7.48, 'SD': 1.73}, 6: {'SUV_max': 6.36, 'SUV_mean': 3.71, 'SD': 0.95}, 7: {'SUV_max': 4.83, 'SUV_mean': 3.38, 'SD': 0.55}, 8: {'SUV_max': 6.94, 'SUV_mean': 3.68, 'SD': 0.75}, 9: {'SUV_max': 5.98, 'SUV_mean': 3.59, 'SD': 0.9}, 10: {'SUV_max': 7.11, 'SUV_mean': 4.13, 'SD': 1.07}, 11: {'SUV_max': 7.35, 'SUV_mean': 4.15, 'SD': 0.86}, 12: {'SUV_max': 6.77, 'SUV_mean': 3.9, 'SD': 0.89}, 13: {'SUV_max': 5.34, 'SUV_mean': 3.29, 'SD': 0.64}, 14: {'SUV_max': 11.49, 'SUV_mean': 6.07, 'SD': 1.2}, 15: {'SUV_max': 10.82, 'SUV_mean': 6.16, 'SD': 1.48}, 16: {'SUV_max': 6.52, 'SUV_mean': 3.45, 'SD': 0.66}, 17: {'SUV_max': 11.0, 'SUV_mean': 6.43, 'SD': 1.35}, 18: {'SUV_max': 6.06, 'SUV_mean': 3.59, 'SD': 0.88}, 19: {'SUV_max': 5.91, 'SUV_mean': 3.35, 'SD': 0.67}, 20: {'SUV_max': 5.13, 'SUV_mean': 3.27, 'SD': 0.66}, 21: {'SUV_max': 9.52, 'SUV_mean': 5.83, 'SD': 1.31}, 22: {'SUV_max': 12.79, 'SUV_mean': 7.74, 'SD': 1.59}, 23: {'SUV_max': 6.86, 'SUV_mean': 3.69, 'SD': 0.9}, 24: {'SUV_max': 6.15, 'SUV_mean': 3.45, 'SD': 0.89}, 25: {'SUV_max': 5.46, 'SUV_mean': 3.28, 'SD': 0.81}, 26: {'SUV_max': 3.75, 'SUV_mean': 2.99, 'SD': 0.25}, 27: {'SUV_max': 12.21, 'SUV_mean': 7.23, 'SD': 2.05}, 28: {'SUV_max': 5.24, 'SUV_mean': 3.37, 'SD': 0.72}, 29: {'SUV_max': 8.93, 'SUV_mean': 5.35, 'SD': 1.42}, 30: {'SUV_max': 14.44, 'SUV_mean': 7.62, 'SD': 1.26}, 31: {'SUV_max': 6.23, 'SUV_mean': 3.47, 'SD': 0.85}, 32: {'SUV_max': 9.95, 'SUV_mean': 5.86, 'SD': 1.3}, 33: {'SUV_max': 9.71, 'SUV_mean': 5.98, 'SD': 1.49}, 34: {'SUV_max': 7.58, 'SUV_mean': 4.46, 'SD': 0.95}, 35: {'SUV_max': 10.7, 'SUV_mean': 6.03, 'SD': 1.16}, 36: {'SUV_max': 6.8, 'SUV_mean': 4.1, 'SD': 0.94}, 37: {'SUV_max': 5.83, 'SUV_mean': 3.31, 'SD': 0.66}, 38: {'SUV_max': 5.22, 'SUV_mean': 3.37, 'SD': 0.58}, 39: {'SUV_max': 9.82, 'SUV_mean': 6.37, 'SD': 1.4}, 40: {'SUV_max': 7.65, 'SUV_mean': 4.58, 'SD': 1.19}, 41: {'SUV_max': 8.9, 'SUV_mean': 5.49, 'SD': 1.11}, 42: {'SUV_max': 8.21, 'SUV_mean': 4.88, 'SD': 1.21}, 43: {'SUV_max': 10.79, 'SUV_mean': 6.64, 'SD': 1.92}, 44: {'SUV_max': 14.92, 'SUV_mean': 7.93, 'SD': 1.41}, 45: {'SUV_max': 8.59, 'SUV_mean': 5.5, 'SD': 1.53}, 46: {'SUV_max': 7.51, 'SUV_mean': 4.36, 'SD': 1.08}, 47: {'SUV_max': 10.01, 'SUV_mean': 5.7, 'SD': 1.21}, 48: {'SUV_max': 12.21, 'SUV_mean': 7.23, 'SD': 2.05}, 49: {'SUV_max': 9.9, 'SUV_mean': 5.41, 'SD': 1.11}, 50: {'SUV_max': 12.03, 'SUV_mean': 7.3, 'SD': 1.73}, 51: {'SUV_max': 9.9, 'SUV_mean': 5.51, 'SD': 1.19}, 52: {'SUV_max': 6.83, 'SUV_mean': 3.73, 'SD': 0.74}, 53: {'SUV_max': 9.12, 'SUV_mean': 5.12, 'SD': 1.29}, 54: {'SUV_max': 8.0, 'SUV_mean': 4.39, 'SD': 0.74}, 55: {'SUV_max': 11.17, 'SUV_mean': 6.33, 'SD': 1.33}, 56: {'SUV_max': 11.49, 'SUV_mean': 6.15, 'SD': 1.15}, 57: {'SUV_max': 11.0, 'SUV_mean': 6.51, 'SD': 1.37}, 58: {'SUV_max': 11.17, 'SUV_mean': 6.81, 'SD': 1.49}}\n",
      "[1, 1.0099999999999998, 2, 1.5199999999999996, 3, 3.5999999999999996, 4, 1.17, 5, 2.360000000000001, 6, 1.1900000000000004, 7, 0.7199999999999998, 8, 1.5, 9, 0.6400000000000006, 10, 1.38, 11, 1.0599999999999996, 12, 1.7799999999999994, 13, 0.8499999999999996, 14, 2.25, 15, 2.9400000000000004, 16, 0.6999999999999993, 17, 0.7699999999999996, 18, 0.8499999999999996, 19, 1.12, 20, 0.5599999999999996, 21, 2.8899999999999997, 22, 0.5199999999999996, 23, 0.4300000000000006, 24, 0.7800000000000002, 25, 0.34999999999999964, 26, 0.16999999999999993, 27, 4.390000000000001, 28, 0.7300000000000004, 29, 1.8999999999999995, 30, 3.3099999999999987, 31, 0.9900000000000002, 32, 2.469999999999999, 33, 0.870000000000001, 34, 0.6500000000000004, 35, 1.3399999999999999, 36, 0.5999999999999996, 37, 1.1399999999999997, 38, 1.12, 39, 1.5999999999999996, 40, 1.08, 41, 1.6800000000000006, 42, 1.5200000000000005, 43, 4.369999999999999, 44, 'ELLIPSE', 3.7799999999999994, 45, 'ELLIPSE', 0.9699999999999998, 46, 'ELLIPSE', 1.5299999999999994, 47, 'ELLIPSE', 1.4399999999999995, 48, 'ELLIPSE', 4.390000000000001, 49, 'ELLIPSE', 1.370000000000001, 50, 'ELLIPSE', 2.789999999999999, 51, 'ELLIPSE', 1.370000000000001, 52, 'POLYGON', 0.16000000000000014, 53, 'ELLIPSE', 2.4499999999999993, 54, 'ELLIPSE', 2.5199999999999996, 55, 'ELLIPSE', 1.3000000000000007, 56, 'ELLIPSE', 1.8399999999999999, 57, 'ELLIPSE', 0.7699999999999996, 58, 'ELLIPSE', 1.3000000000000007]\n",
      "[1, 0.7799999999999994, 2, 0.6200000000000001, 3, 1.8200000000000003, 4, 0.9199999999999999, 5, 1.5900000000000007, 6, 0.6400000000000001, 7, 0.31000000000000005, 8, 0.54, 9, 0.4299999999999997, 10, 0.79, 11, 0.6400000000000006, 12, 0.77, 13, 0.2200000000000002, 14, 0.9700000000000006, 15, 1.63, 16, 0.31000000000000005, 17, 0.5099999999999998, 18, 0.5299999999999998, 19, 0.22999999999999998, 20, 0.1499999999999999, 21, 2.06, 22, 0.41000000000000014, 23, 0.3500000000000001, 24, 0.3500000000000001, 27, 2.49, 28, 0.2200000000000002, 29, 1.3499999999999996, 30, 1.1100000000000003, 31, 0.40000000000000036, 32, 1.5, 33, 0.6300000000000008, 34, 0.3899999999999997, 35, 0.79, 36, 0.4299999999999997, 37, 0.22999999999999998, 38, 0.31000000000000005, 39, 1.4100000000000001, 40, 0.8200000000000003, 41, 0.8900000000000006, 42, 1.06, 43, 3.11, 44, 'ELLIPSE', 1.46, 45, 'ELLIPSE', 0.96, 46, 'ELLIPSE', 0.9500000000000002, 47, 'ELLIPSE', 0.7999999999999998, 48, 'ELLIPSE', 2.49, 49, 'ELLIPSE', 0.5700000000000003, 50, 'ELLIPSE', 1.6499999999999995, 51, 'ELLIPSE', 0.5699999999999994, 53, 'ELLIPSE', 1.4100000000000001, 54, 'ELLIPSE', 1.1099999999999999, 55, 'ELLIPSE', 0.5899999999999999, 56, 'ELLIPSE', 0.7600000000000007, 57, 'ELLIPSE', 0.5199999999999996, 58, 'ELLIPSE', 0.6399999999999997]\n",
      "[1, 0.33000000000000007, 2, 0.35, 3, 0.44999999999999996, 4, 0.28, 5, 0.4099999999999999, 6, 0.2799999999999999, 7, 0.14000000000000007, 8, 0.13, 10, 0.2400000000000001, 12, 0.24, 13, 0.12, 14, 0.11999999999999988, 15, 0.27, 17, 0.1200000000000001, 18, 0.17000000000000004, 19, 0.15000000000000002, 20, 0.15000000000000002, 21, 0.3700000000000001, 23, 0.16000000000000003, 24, 0.20000000000000007, 27, 0.7799999999999998, 28, 0.19999999999999996, 29, 0.42999999999999994, 31, 0.25, 32, 0.18999999999999995, 33, 0.16999999999999993, 35, 0.10999999999999988, 37, 0.18000000000000005, 38, 0.21999999999999997, 39, 0.20999999999999996, 40, 0.20999999999999996, 42, 0.27, 43, 1.02, 45, 'ELLIPSE', 0.3600000000000001, 46, 'ELLIPSE', 0.19000000000000006, 47, 'ELLIPSE', 0.15999999999999992, 48, 'ELLIPSE', 0.7799999999999998, 50, 'ELLIPSE', 0.30000000000000004, 53, 'ELLIPSE', 0.4600000000000001, 57, 'ELLIPSE', 0.13000000000000012]\n",
      "MIP PET\n",
      "MIP MASK\n",
      "81\n",
      "MASK CORRECT\n",
      "EXPORT NIFTI PT\n",
      "EXPORT NIFTI CT\n",
      "EXPORT NIFTI MASK\n"
     ]
    }
   ]
  },
  {
   "source": [
    "print(\"number of error : \", len(error_dataset))\n",
    "print(\"number of false mask : \" , len(serie_false_mask))"
   ],
   "cell_type": "code",
   "metadata": {
    "tags": []
   },
   "execution_count": null,
   "outputs": []
  },
  {
   "source": [
    "#Save different json \n",
    "directory_nifti = 'media/oncopole/LACIE SHARE/PVAB'\n",
    "write_json_file(directory_nifti, 'false_mask_serie', serie_false_mask)\n",
    "#write_json_file(directory_nifti, 'false_mask_results', results_false_mask)\n",
    "write_json_file(directory_nifti, 'error', error_dataset)\n"
   ],
   "cell_type": "code",
   "metadata": {},
   "execution_count": null,
   "outputs": []
  },
  {
   "cell_type": "code",
   "execution_count": 5,
   "metadata": {},
   "outputs": [
    {
     "output_type": "execute_result",
     "data": {
      "text/plain": [
       "13"
      ]
     },
     "metadata": {},
     "execution_count": 5
    }
   ],
   "source": [
    "len(dataset[69:82])"
   ]
  },
  {
   "source": [
    "#### - Generate PET, CT, MASK NIFTI without checking"
   ],
   "cell_type": "markdown",
   "metadata": {}
  },
  {
   "source": [
    "nifti_directory = '/media/oncopole/LACIE SHARE/PVAB/NIFTI'\n",
    "error_dataset = []\n",
    "\n",
    "for serie in [dataset[71]]: \n",
    "    try : \n",
    "        print(dataset.index(serie))\n",
    "\n",
    "        if serie[1] == 'PT' : \n",
    "            serie_pt_objet = SeriesPT(serie[0])\n",
    "            serie_pt_objet.get_instances_ordered()\n",
    "            nifti_array = serie_pt_objet.get_numpy_array()\n",
    "            study_uid = serie_pt_objet.get_series_details()['study']['StudyInstanceUID']\n",
    "            size_matrix = serie_pt_objet.get_size_matrix()\n",
    "            mask_objet = MaskBuilder(serie[-1], size_matrix)\n",
    "            mask_4D = mask_objet.mask_array\n",
    "\n",
    "            number_roi = mask_4D.shape[3]\n",
    "\n",
    "            print(\"MASK CORRECT\")\n",
    "                    #generation nifti PT\n",
    "            filename_pt = study_uid+'_'+'nifti_'+'PT'+'.nii'\n",
    "            serie_pt_objet.export_nifti(os.path.join(nifti_directory, filename_pt))\n",
    "            print(\"EXPORT NIFTI PT\")\n",
    "\n",
    "                    #generation nifti CT\n",
    "            serie_ct_objet = SeriesCT(serie[2])\n",
    "            serie_ct_objet.get_instances_ordered()\n",
    "            serie_ct_objet.get_numpy_array()\n",
    "            filename_ct = study_uid+'_'+'nifti_'+'CT'+'.nii'\n",
    "            serie_ct_objet.export_nifti(os.path.join(nifti_directory, filename_ct))\n",
    "            print(\"EXPORT NIFTI CT\")\n",
    "\n",
    "                    #generation nifti mask\n",
    "            filename_mask = study_uid+'_'+'nifti_'+'mask'+'.nii'\n",
    "            serie_pt_objet.export_nifti(os.path.join(nifti_directory, filename_mask), mask_4D)\n",
    "            print(\"EXPORT NIFTI MASK\")\n",
    "          \n",
    "          \n",
    "        else : \n",
    "            serie_pt_objet = SeriesPT(serie[2])\n",
    "            serie_pt_objet.get_instances_ordered()\n",
    "            nifti_array = serie_pt_objet.get_numpy_array()\n",
    "            study_uid = serie_pt_objet.get_series_details()['study']['StudyInstanceUID']\n",
    "            size_matrix = serie_pt_objet.get_size_matrix()\n",
    "            mask_objet = MaskBuilder(serie[-1], size_matrix)\n",
    "            mask_4D = mask_objet.mask_array\n",
    "            number_roi = mask_4D.shape[3]\n",
    "\n",
    "            print(\"MASK CORRECT\")\n",
    "                    #generation nifti PT\n",
    "            filename_pt = study_uid+'_'+'nifti_'+'PT'+'.nii'\n",
    "            serie_pt_objet.export_nifti(os.path.join(nifti_directory, filename_pt))\n",
    "            print(\"EXPORT NIFTI PT\")\n",
    "\n",
    "                     #generation nifti CT\n",
    "            serie_ct_objet = SeriesCT(serie[0])\n",
    "            serie_ct_objet.get_instances_ordered()\n",
    "            serie_ct_objet.get_numpy_array()\n",
    "            filename_ct = study_uid+'_'+'nifti_'+'CT'+'.nii'\n",
    "            serie_ct_objet.export_nifti(os.path.join(nifti_directory, filename_ct))\n",
    "            print(\"EXPORT NIFTI CT\")\n",
    "\n",
    "                    #generation nifti mask\n",
    "            filename_mask = study_uid+'_'+'nifti_'+'mask'+'.nii'\n",
    "            serie_pt_objet.export_nifti(os.path.join(nifti_directory, filename_mask), mask_4D)\n",
    "            print(\"EXPORT NIFTI MASK\")\n",
    "           \n",
    "    except Exception as err : \n",
    "        print(err)\n",
    "        print(serie)\n",
    "        error_dataset.append(serie)"
   ],
   "cell_type": "code",
   "metadata": {
    "tags": []
   },
   "execution_count": 12,
   "outputs": [
    {
     "output_type": "stream",
     "name": "stdout",
     "text": [
      "71\n"
     ]
    }
   ]
  },
  {
   "cell_type": "code",
   "execution_count": 8,
   "metadata": {},
   "outputs": [
    {
     "output_type": "stream",
     "name": "stdout",
     "text": [
      "number of error :  6\n"
     ]
    }
   ],
   "source": [
    "print(\"number of error : \", len(error_dataset))\n",
    "directory_nifti = '/media/oncopole/LACIE SHARE/PVAB'\n",
    "write_json_file(directory_nifti, 'error', error_dataset)"
   ]
  },
  {
   "source": [
    "#### - Generate PET & CT NIFTI only"
   ],
   "cell_type": "markdown",
   "metadata": {}
  },
  {
   "cell_type": "code",
   "execution_count": null,
   "metadata": {},
   "outputs": [],
   "source": [
    "json_path = '/media/oncopole/DD 2To/REMARC/REMARC_Validated_DICOM/no_csv.json'\n",
    "dataset = []\n",
    "with open(json_path) as json_file : \n",
    "    reader = json.load(json_file)\n",
    "    for info in reader :\n",
    "        dataset.append(info)"
   ]
  },
  {
   "source": [
    "nifti_directory  = '/media/oncopole/DD 2To/REMARC/NIFTI'\n",
    "\n",
    "error = []\n",
    "for serie in dataset : \n",
    "    print(dataset.index(serie))\n",
    "    try : \n",
    "        if serie[1] == 'PT' : \n",
    "                serie_pt_objet = SeriesPT(serie[0]) \n",
    "                serie_pt_objet.get_instances_ordered()\n",
    "                nifti_array = serie_pt_objet.get_numpy_array()\n",
    "                study_uid = serie_pt_objet.get_series_details()['study']['StudyInstanceUID']\n",
    "\n",
    "                                #generation nifti PT\n",
    "                filename_pt = study_uid+'_'+'nifti_'+'PT'+'.nii'\n",
    "                serie_pt_objet.export_nifti(os.path.join(nifti_directory, filename_pt))\n",
    "                print(\"EXPORT NIFTI PT\")\n",
    "                                #generation nifti CT\n",
    "                serie_ct_objet = SeriesCT(serie[2])\n",
    "                serie_ct_objet.get_instances_ordered()\n",
    "                serie_ct_objet.get_numpy_array()\n",
    "                filename_ct = study_uid+'_'+'nifti_'+'CT'+'.nii'\n",
    "                serie_ct_objet.export_nifti(os.path.join(nifti_directory, filename_ct))\n",
    "                print(\"EXPORT NIFTI CT\")\n",
    "\n",
    "        else : \n",
    "                serie_pt_objet = SeriesPT(serie[2])\n",
    "                serie_pt_objet.get_instances_ordered() \n",
    "                nifti_array = serie_pt_objet.get_numpy_array()\n",
    "                study_uid = serie_pt_objet.get_series_details()['study']['StudyInstanceUID']\n",
    "\n",
    "                        \n",
    "                                #generation nifti PT\n",
    "                filename_pt = study_uid+'_'+'nifti_'+'PT'+'.nii'\n",
    "                serie_pt_objet.export_nifti(os.path.join(nifti_directory, filename_pt))\n",
    "                print(\"EXPORT NIFTI PT\")\n",
    "                                #generation nifti CT\n",
    "                serie_ct_objet = SeriesCT(serie[0])\n",
    "                serie_ct_objet.get_instances_ordered()\n",
    "                serie_ct_objet.get_numpy_array()\n",
    "                filename_ct = study_uid+'_'+'nifti_'+'CT'+'.nii'\n",
    "                serie_ct_objet.export_nifti(os.path.join(nifti_directory, filename_ct))\n",
    "                print(\"EXPORT NIFTI CT\")\n",
    " \n",
    "\n",
    "    except Exception as err : \n",
    "        print(serie)\n",
    "        print(err)\n",
    "        error.append(serie)                                                                                                                                                                                                                              "
   ],
   "cell_type": "code",
   "metadata": {
    "tags": []
   },
   "execution_count": null,
   "outputs": []
  }
 ],
 "metadata": {
  "file_extension": ".py",
  "kernelspec": {
   "name": "python3",
   "display_name": "Python 3",
   "language": "python"
  },
  "language_info": {
   "codemirror_mode": {
    "name": "ipython",
    "version": 3
   },
   "file_extension": ".py",
   "mimetype": "text/x-python",
   "name": "python",
   "nbconvert_exporter": "python",
   "pygments_lexer": "ipython3",
   "version": "3.8.5"
  },
  "mimetype": "text/x-python",
  "name": "python",
  "npconvert_exporter": "python",
  "pygments_lexer": "ipython3",
  "version": 3
 },
 "nbformat": 4,
 "nbformat_minor": 2
}