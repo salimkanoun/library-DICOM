{
 "cells": [
  {
   "cell_type": "code",
   "execution_count": 1,
   "metadata": {},
   "outputs": [],
   "source": [
    "import json\n",
    "import os\n",
    "from library_dicom.dicom_processor.model.Series import Series \n",
    "from library_dicom.dicom_processor.model.SeriesPT import SeriesPT\n",
    "from library_dicom.dicom_processor.model.SeriesCT import SeriesCT\n",
    "from library_dicom.dicom_processor.model.csv_reader.MaskBuilder import MaskBuilder\n",
    "from library_dicom.dicom_processor.model.FusionPET_CT import FusionPET_CT\n",
    "\n",
    "from library_dicom.dicom_processor.tools.folders import *\n",
    "\n",
    "from library_dicom.dicom_processor.tools.create_mip import *\n",
    "from library_dicom.dicom_processor.tools.threshold_mask import *\n",
    "\n",
    "import numpy as np\n",
    "import SimpleITK as sitk\n",
    "\n",
    "import csv"
   ]
  },
  {
   "cell_type": "code",
   "execution_count": null,
   "metadata": {},
   "outputs": [],
   "source": [
    "#LIST FROM PARSE_FILTERED_DICOM_DATASET"
   ]
  },
  {
   "cell_type": "code",
   "execution_count": 2,
   "metadata": {
    "tags": []
   },
   "outputs": [],
   "source": [
    "#LIST_PATH from json\n",
    "json_path = '/media/deeplearning/Elements/REMARC_Validated_DICOMS/REMARC_dataset.json'\n",
    "dataset = []\n",
    "with open(json_path) as json_file : \n",
    "    reader = json.load(json_file)\n",
    "    for info in reader :\n",
    "        dataset.append(info)\n"
   ]
  },
  {
   "cell_type": "code",
   "execution_count": 3,
   "metadata": {},
   "outputs": [
    {
     "output_type": "stream",
     "name": "stdout",
     "text": [
      "number of study :  202\n"
     ]
    }
   ],
   "source": [
    "number_of_study = len(dataset)\n",
    "print(\"number of study : \", number_of_study)"
   ]
  },
  {
   "cell_type": "code",
   "execution_count": 4,
   "metadata": {},
   "outputs": [],
   "source": [
    "#ADD CSV FILE "
   ]
  },
  {
   "source": [
    "#add csv_file from csv \n",
    "\n",
    "csv_path= '/home/deeplearning/AHL/AHL_CSV_DATA/pet0.csv'\n",
    "csv_file = []\n",
    "with open(csv_path, 'r') as csv_file :\n",
    "    reader = csv.reader(csv_file, delimiter = ';') #liste pour chaque ligne \n",
    "    csv_file = []\n",
    "    for row in reader :\n",
    "        csv_file.append(row)\n",
    "        \n",
    "del csv_file[0] #enlever première ligne"
   ],
   "cell_type": "code",
   "metadata": {},
   "execution_count": null,
   "outputs": []
  },
  {
   "cell_type": "code",
   "execution_count": 4,
   "metadata": {
    "tags": []
   },
   "outputs": [],
   "source": [
    "#add csv_file from a list \n",
    "\n",
    "csv_path = '/media/deeplearning/Elements/REMARC_csv'\n",
    "liste_csv_file = os.listdir(csv_path)\n",
    "liste_csv = []\n",
    "for csv_file in liste_csv_file : \n",
    "    liste_csv.append(os.path.join(csv_path, csv_file))\n"
   ]
  },
  {
   "cell_type": "code",
   "execution_count": 5,
   "metadata": {},
   "outputs": [],
   "source": [
    "for data in dataset : \n",
    "    for csv_f in liste_csv : \n",
    "        if data[-1] in csv_f : \n",
    "            data.append(csv_f)"
   ]
  },
  {
   "cell_type": "code",
   "execution_count": 6,
   "metadata": {},
   "outputs": [
    {
     "output_type": "stream",
     "name": "stdout",
     "text": [
      "20\n"
     ]
    }
   ],
   "source": [
    "check_csv = []\n",
    "for data in dataset : \n",
    "    if len(data) != 8 : \n",
    "        check_csv.append(data)\n",
    "\n",
    "print(len(check_csv))\n",
    "write_json_file('/media/deeplearning/Elements/REMARC_Validated_DICOMS', 'check_csv', check_csv)\n",
    "\n",
    "for r in check_csv : \n",
    "    dataset.remove(r)"
   ]
  },
  {
   "source": [
    "#rewrite path \n",
    "\n",
    "for data in dataset : \n",
    "    new_1 = data[0].replace('/media/oncopole/DD 2To', '/media/deeplearning/Elements')\n",
    "    new_2 = data[2].replace('/media/oncopole/DD 2To', '/media/deeplearning/Elements')\n",
    "    data[0] = new_1\n",
    "    data[2] = new_2"
   ],
   "cell_type": "code",
   "metadata": {},
   "execution_count": 7,
   "outputs": []
  },
  {
   "cell_type": "code",
   "execution_count": 8,
   "metadata": {},
   "outputs": [
    {
     "output_type": "stream",
     "name": "stdout",
     "text": [
      "Nombre de study :  182\n"
     ]
    }
   ],
   "source": [
    "print('Nombre de study : ', len(dataset))"
   ]
  },
  {
   "cell_type": "code",
   "execution_count": 9,
   "metadata": {},
   "outputs": [],
   "source": [
    "write_json_file('/media/deeplearning/Elements/REMARC_Validated_DICOMS', 'validated_dataset', dataset)"
   ]
  },
  {
   "cell_type": "code",
   "execution_count": 10,
   "metadata": {},
   "outputs": [],
   "source": [
    "#false csv \n",
    "serie = dataset[18]\n",
    "dataset.remove(serie)"
   ]
  },
  {
   "cell_type": "code",
   "execution_count": null,
   "metadata": {},
   "outputs": [],
   "source": [
    "#remove remove_bi_file if it exists in every serie \n",
    "from library_dicom.dicom_processor.tools.folders import *\n",
    "directory_validated_dicom = ''\n",
    "paths = get_series_path(directory_validated_dicom)\n",
    "\n",
    "for path in paths : \n",
    "    remove_bi_file(path)"
   ]
  },
  {
   "source": [
    "#Check if there is Unconstant Spacing error in every serie of the dataset \n",
    "unconstant_spacing = []\n",
    "serie_error = []\n",
    "for serie in dataset : \n",
    "    print(dataset.index(serie))\n",
    "    try : \n",
    "        if serie[1] =='PT' : \n",
    "            serie_pt_objet = SeriesPT(serie[0])\n",
    "            nifti_array = serie_pt_objet.get_numpy_array()\n",
    "            if serie_pt_objet.get_z_spacing =='Unconstant Spacing' :\n",
    "                print(\"Unconstant Spacing PET\")\n",
    "                unconstant_spacing.append(serie)\n",
    "            \n",
    "            serie_ct_objet = SeriesCT(serie[2])\n",
    "            nifti_array_ct = serie_ct_objet.get_numpy_array()\n",
    "            if serie_ct_objet.get_z_spacing =='Unconstant Spacing' :\n",
    "                print(\"Unconstant Spacing CT\")\n",
    "                unconstant_spacing.append(serie)\n",
    "\n",
    "        else : \n",
    "            serie_pt_objet = SeriesPT(serie[2])\n",
    "            nifti_array = serie_pt_objet.get_numpy_array()\n",
    "            if serie_pt_objet.get_z_spacing =='Unconstant Spacing' :\n",
    "                print(\"Unconstant Spacing PT\")\n",
    "                unconstant_spacing.append(serie)\n",
    "            serie_ct_objet = SeriesCT(serie[0])\n",
    "            nifti_array_ct = serie_ct_objet.get_numpy_array()\n",
    "            if serie_ct_objet.get_z_spacing =='Unconstant Spacing' :\n",
    "                print(\"Unconstant Spacing CT\")\n",
    "                unconstant_spacing.append(serie)\n",
    "\n",
    "    except Exception as err : \n",
    "        print(serie)\n",
    "        print(err)\n",
    "        serie_error.append(serie)\n"
   ],
   "cell_type": "code",
   "metadata": {
    "tags": []
   },
   "execution_count": null,
   "outputs": []
  },
  {
   "cell_type": "code",
   "execution_count": null,
   "metadata": {},
   "outputs": [],
   "source": [
    "#Careful : maybe need to rewrite path if the series are in an other folder"
   ]
  },
  {
   "cell_type": "code",
   "execution_count": 14,
   "metadata": {},
   "outputs": [
    {
     "output_type": "execute_result",
     "data": {
      "text/plain": [
       "['/media/deeplearning/Elements/REMARC_Validated_DICOMS/11009101226011/pet0/1.3.46.670589.28.2.10.4.9167.3403.2.2520.0.1282553133/1.3.46.670589.28.2.10.4.9167.3403.2.2520.0.1282553133',\n",
       " 'PT',\n",
       " '/media/deeplearning/Elements/REMARC_Validated_DICOMS/11009101226011/pet0/1.2.840.113704.1.111.1140.1282550706.9/1.2.840.113704.1.111.1140.1282550706.9',\n",
       " 'CT',\n",
       " '2.16.840.1.113669.632.20.210791.10000113172',\n",
       " 'V0',\n",
       " '11009101226011',\n",
       " '/media/deeplearning/Elements/REMARC_csv/11009101226011_aug 23_2010.csv']"
      ]
     },
     "metadata": {},
     "execution_count": 14
    }
   ],
   "source": [
    "dataset[0]"
   ]
  },
  {
   "source": [
    "#Generate PET, CT, MASK NIFTI with checking suv_max, mean and sd\n",
    "\n",
    "nifti_directory = '/media/deeplearning/Elements/REMARC_NIFTI'\n",
    "mip_directory = '/media/deeplearning/Elements/REMARC_MIP'\n",
    "\n",
    "#save serie_path with false mask \n",
    "serie_false_mask = []\n",
    "#save result about serie with false mask \n",
    "results_false_mask = []\n",
    "#save path of MIP to generate PDF \n",
    "path_mip = []\n",
    "\n",
    "#save error serie \n",
    "error_dataset = []\n",
    "\n",
    "for serie in dataset: \n",
    "    try : \n",
    "        print(dataset.index(serie))\n",
    "        subliste = []\n",
    "        if serie[1] == 'PT' : \n",
    "            \n",
    "            serie_pt_objet = SeriesPT(serie[0])\n",
    "            \n",
    "            serie_pt_objet.get_instances_ordered()\n",
    "            nifti_array = serie_pt_objet.get_numpy_array()\n",
    "            study_uid = serie_pt_objet.get_series_details()['study']['StudyInstanceUID']\n",
    "            size_matrix = serie_pt_objet.get_size_matrix()\n",
    "            mask_objet = MaskBuilder(serie[-1], size_matrix)\n",
    "            mask_4D = mask_objet.mask_array\n",
    "\n",
    "            number_roi = mask_4D.shape[3]\n",
    "            threshold = mask_objet.details_rois['SUVlo']\n",
    "\n",
    "            if mask_objet.is_correct_suv(nifti_array) == True : \n",
    "\n",
    "                print(\"MASK CORRECT\")\n",
    "                #generation nifti PT\n",
    "                filename_pt = study_uid+'_'+'nifti_'+'PT'+'.nii'\n",
    "                serie_pt_objet.export_nifti(os.path.join(nifti_directory, filename_pt))\n",
    "                print(\"EXPORT NIFTI PT\")\n",
    "\n",
    "                #generation nifti CT\n",
    "                serie_ct_objet = SeriesCT(serie[2])\n",
    "                serie_ct_objet.get_instances_ordered()\n",
    "                serie_ct_objet.get_numpy_array()\n",
    "                filename_ct = study_uid+'_'+'nifti_'+'CT'+'.nii'\n",
    "                serie_ct_objet.export_nifti(os.path.join(nifti_directory, filename_ct))\n",
    "                print(\"EXPORT NIFTI CT\")\n",
    "\n",
    "                #generation nifti mask\n",
    "                filename_mask = study_uid+'_'+'nifti_'+'mask'+'.nii'\n",
    "                serie_pt_objet.export_nifti(os.path.join(nifti_directory, filename_mask), mask_4D)\n",
    "                print(\"EXPORT NIFTI MASK\")\n",
    "\n",
    "\n",
    "            else : \n",
    "                results = []\n",
    "                print(\"FALSE MASK\")\n",
    "                serie_false_mask.append(serie)\n",
    "\n",
    "                print(mask_objet.calcul_suv(nifti_array))\n",
    "                results.append(mask_objet.calcul_suv(nifti_array))\n",
    "\n",
    "                print(mask_objet.ecart_suv_max(nifti_array))\n",
    "                results.append(mask_objet.ecart_suv_max(nifti_array))\n",
    "\n",
    "                print(mask_objet.ecart_suv_mean(nifti_array))\n",
    "                results.append(mask_objet.ecart_suv_mean(nifti_array))\n",
    "\n",
    "                print(mask_objet.ecart_SD(nifti_array))\n",
    "                results.append(mask_objet.ecart_SD(nifti_array))\n",
    "\n",
    "                results_false_mask.append(results)\n",
    "\n",
    "                #threshold mask 41% \n",
    "                mask_4D = threshold_matrix(mask_4D, nifti_array, 0.41)\n",
    "\n",
    "                #create mip for false mask and check \n",
    "                #pet\n",
    "                angle_filename = mip_projection(nifti_array, 0, mip_directory, study_uid, 'pet', cmap='Greys', vmin=0, vmax=7) \n",
    "                subliste.append(angle_filename)\n",
    "                print('MIP PET')\n",
    "               # mask\n",
    "                angle_filename_mask = mip_projection_4D(mask_4D, 0, mip_directory, study_uid, number_roi, cmap='Greys')\n",
    "                subliste.append(angle_filename_mask)\n",
    "                print('MIP MASK')\n",
    "                path_mip.append(subliste)\n",
    "\n",
    "\n",
    "        else : \n",
    "            serie_pt_objet = SeriesPT(serie[2])\n",
    "            serie_pt_objet.get_instances_ordered()\n",
    "            nifti_array = serie_pt_objet.get_numpy_array()\n",
    "            study_uid = serie_pt_objet.get_series_details()['study']['StudyInstanceUID']\n",
    "            size_matrix = serie_pt_objet.get_size_matrix()\n",
    "            mask_objet = MaskBuilder(serie[-1], size_matrix)\n",
    "            mask_4D = mask_objet.mask_array\n",
    "\n",
    "            number_roi = mask_4D.shape[3]\n",
    "            threshold = mask_objet.details_rois['SUVlo']\n",
    "\n",
    "            if mask_objet.is_correct_suv(nifti_array) == True :  \n",
    "                print(\"MASK CORRECT\")\n",
    "                #generation nifti PT\n",
    "                filename_pt = study_uid+'_'+'nifti_'+'PT'+'.nii'\n",
    "                serie_pt_objet.export_nifti(os.path.join(nifti_directory, filename_pt))\n",
    "                print(\"EXPORT NIFTI PT\")\n",
    "\n",
    "                #generation nifti CT\n",
    "                serie_ct_objet = SeriesCT(serie[0])\n",
    "                serie_ct_objet.get_instances_ordered()\n",
    "                serie_ct_objet.get_numpy_array()\n",
    "                filename_ct = study_uid+'_'+'nifti_'+'CT'+'.nii'\n",
    "                serie_ct_objet.export_nifti(os.path.join(nifti_directory, filename_ct))\n",
    "                print(\"EXPORT NIFTI CT\")\n",
    "\n",
    "                #generation nifti mask\n",
    "                filename_mask = study_uid+'_'+'nifti_'+'mask'+'.nii'\n",
    "                serie_pt_objet.export_nifti(os.path.join(nifti_directory, filename_mask), mask_4D)\n",
    "                print(\"EXPORT NIFTI MASK\")\n",
    "\n",
    "\n",
    "\n",
    "            else : \n",
    "                results = []\n",
    "                print(\"FALSE MASK\")\n",
    "                serie_false_mask.append(serie)\n",
    "\n",
    "                print(mask_objet.calcul_suv(nifti_array))\n",
    "                results.append(mask_objet.calcul_suv(nifti_array))\n",
    "\n",
    "                print(mask_objet.ecart_suv_max(nifti_array))\n",
    "                results.append(mask_objet.ecart_suv_max(nifti_array))\n",
    "\n",
    "                print(mask_objet.ecart_suv_mean(nifti_array))\n",
    "                results.append(mask_objet.ecart_suv_mean(nifti_array))\n",
    "\n",
    "                print(mask_objet.ecart_SD(nifti_array))\n",
    "                results.append(mask_objet.ecart_SD(nifti_array))\n",
    "\n",
    "                results_false_mask.append(results)\n",
    "\n",
    "                #threshold mask 41% \n",
    "                mask_4D = threshold_matrix(mask_4D, nifti_array, 0.41)\n",
    "\n",
    "                #create mip for false mask and check \n",
    "                #pet\n",
    "                angle_filename = mip_projection(nifti_array, 0, mip_directory, study_uid, 'pet', cmap='Greys', vmin=0, vmax=7) \n",
    "                subliste.append(angle_filename)\n",
    "                print(\"MIP PET\")\n",
    "                #mask\n",
    "                angle_filename_mask = mip_projection_4D(mask_4D, 0, mip_directory, study_uid, number_roi, cmap='Greys')\n",
    "                subliste.append(angle_filename_mask)\n",
    "                print('MIP MASK ')\n",
    "                path_mip.append(subliste)\n",
    "               \n",
    "\n",
    "    except Exception as err : \n",
    "        print(serie)\n",
    "        print(err)\n",
    "        error_dataset.append(serie)"
   ],
   "cell_type": "code",
   "metadata": {
    "tags": [
     "outputPrepend"
    ]
   },
   "execution_count": 11,
   "outputs": [
    {
     "output_type": "stream",
     "name": "stdout",
     "text": [
      "V_max': 24.41, 'SUV_mean': 17.9, 'SD': 1.82}, 15: {'SUV_max': 6.82, 'SUV_mean': 3.8, 'SD': 0.89}, 16: {'SUV_max': 18.68, 'SUV_mean': 13.4, 'SD': 2.21}, 17: {'SUV_max': 23.31, 'SUV_mean': 16.56, 'SD': 2.4}, 18: {'SUV_max': 18.56, 'SUV_mean': 14.35, 'SD': 1.72}, 19: {'SUV_max': 17.35, 'SUV_mean': 13.2, 'SD': 2.08}, 20: {'SUV_max': 20.64, 'SUV_mean': 15.49, 'SD': 2.04}, 21: {'SUV_max': 20.39, 'SUV_mean': 13.69, 'SD': 2.23}, 22: {'SUV_max': 13.86, 'SUV_mean': 8.03, 'SD': 1.35}, 23: {'SUV_max': 21.77, 'SUV_mean': 15.78, 'SD': 2.6}, 24: {'SUV_max': 24.45, 'SUV_mean': 15.44, 'SD': 2.33}, 25: {'SUV_max': 25.56, 'SUV_mean': 16.39, 'SD': 2.73}, 26: {'SUV_max': 19.28, 'SUV_mean': 14.18, 'SD': 1.86}, 27: {'SUV_max': 19.46, 'SUV_mean': 14.21, 'SD': 2.18}, 28: {'SUV_max': 24.63, 'SUV_mean': 16.07, 'SD': 2.03}, 29: {'SUV_max': 9.94, 'SUV_mean': 5.75, 'SD': 1.27}, 30: {'SUV_max': 11.37, 'SUV_mean': 6.6, 'SD': 1.58}, 31: {'SUV_max': 13.98, 'SUV_mean': 8.83, 'SD': 1.96}, 32: {'SUV_max': 14.3, 'SUV_mean': 9.32, 'SD': 1.94}, 33: {'SUV_max': 18.2, 'SUV_mean': 10.66, 'SD': 1.98}, 34: {'SUV_max': 12.98, 'SUV_mean': 7.19, 'SD': 1.6}, 35: {'SUV_max': 5.59, 'SUV_mean': 3.64, 'SD': 1.02}, 36: {'SUV_max': 5.42, 'SUV_mean': 3.47, 'SD': 0.93}, 37: {'SUV_max': 4.2, 'SUV_mean': 2.36, 'SD': 0.63}, 38: {'SUV_max': 7.07, 'SUV_mean': 4.22, 'SD': 1.13}, 39: {'SUV_max': 5.56, 'SUV_mean': 3.28, 'SD': 0.94}, 40: {'SUV_max': 18.37, 'SUV_mean': 10.83, 'SD': 3.43}}\n",
      "[40, 'POLYGON', 1.3500000000000014]\n",
      "[36, 'POLYGON', 0.13999999999999968, 40, 'POLYGON', 1.17]\n",
      "[40, 'POLYGON', 0.6300000000000003]\n",
      "MIP PET\n",
      "MIP MASK \n",
      "161\n",
      "FALSE MASK\n",
      "{1: {'SUV_max': 13.23, 'SUV_mean': 8.07, 'SD': 2.61}, 2: {'SUV_max': 40.43, 'SUV_mean': 24.85, 'SD': 6.3}, 3: {'SUV_max': 22.8, 'SUV_mean': 13.74, 'SD': 3.51}, 4: {'SUV_max': 8.58, 'SUV_mean': 5.14, 'SD': 1.2}, 5: {'SUV_max': 4.29, 'SUV_mean': 2.61, 'SD': 0.79}, 6: {'SUV_max': 4.68, 'SUV_mean': 3.08, 'SD': 0.87}, 7: {'SUV_max': 37.09, 'SUV_mean': 22.88, 'SD': 5.33}, 8: {'SUV_max': 23.99, 'SUV_mean': 15.61, 'SD': 4.11}, 9: {'SUV_max': 16.31, 'SUV_mean': 10.53, 'SD': 3.59}, 10: {'SUV_max': 8.52, 'SUV_mean': 4.99, 'SD': 1.33}, 11: {'SUV_max': 23.27, 'SUV_mean': 14.52, 'SD': 4.24}, 12: {'SUV_max': 9.04, 'SUV_mean': 5.03, 'SD': 1.33}}\n",
      "[]\n",
      "[10, 'POLYGON', 0.10000000000000053]\n",
      "[]\n",
      "MIP PET\n",
      "MIP MASK\n",
      "162\n",
      "FALSE MASK\n",
      "{1: {'SUV_max': 14.52, 'SUV_mean': 8.94, 'SD': 2.1}, 2: {'SUV_max': 28.52, 'SUV_mean': 16.93, 'SD': 3.33}, 3: {'SUV_max': 20.25, 'SUV_mean': 11.47, 'SD': 2.68}, 4: {'SUV_max': 10.04, 'SUV_mean': 5.65, 'SD': 1.33}, 5: {'SUV_max': 17.38, 'SUV_mean': 10.12, 'SD': 2.37}, 6: {'SUV_max': 10.35, 'SUV_mean': 6.38, 'SD': 1.74}, 7: {'SUV_max': 10.04, 'SUV_mean': 5.96, 'SD': 1.56}, 8: {'SUV_max': 8.0, 'SUV_mean': 4.77, 'SD': 1.22}, 9: {'SUV_max': 25.68, 'SUV_mean': 16.26, 'SD': 3.71}, 10: {'SUV_max': 12.95, 'SUV_mean': 7.56, 'SD': 1.8}, 11: {'SUV_max': 13.52, 'SUV_mean': 7.82, 'SD': 2.04}, 12: {'SUV_max': 14.29, 'SUV_mean': 8.49, 'SD': 2.26}, 13: {'SUV_max': 22.31, 'SUV_mean': 13.22, 'SD': 2.74}, 14: {'SUV_max': 8.63, 'SUV_mean': 4.98, 'SD': 1.09}, 15: {'SUV_max': 16.14, 'SUV_mean': 9.39, 'SD': 2.04}, 16: {'SUV_max': 23.74, 'SUV_mean': 14.3, 'SD': 3.31}, 17: {'SUV_max': 7.14, 'SUV_mean': 4.16, 'SD': 0.99}, 18: {'SUV_max': 22.43, 'SUV_mean': 12.39, 'SD': 2.44}, 19: {'SUV_max': 24.07, 'SUV_mean': 14.11, 'SD': 3.09}, 20: {'SUV_max': 14.89, 'SUV_mean': 8.02, 'SD': 1.54}, 21: {'SUV_max': 9.29, 'SUV_mean': 5.65, 'SD': 1.49}, 22: {'SUV_max': 14.52, 'SUV_mean': 8.62, 'SD': 1.98}, 23: {'SUV_max': 18.37, 'SUV_mean': 11.78, 'SD': 3.08}, 24: {'SUV_max': 12.34, 'SUV_mean': 7.33, 'SD': 1.71}, 25: {'SUV_max': 8.05, 'SUV_mean': 5.17, 'SD': 1.24}, 26: {'SUV_max': 22.94, 'SUV_mean': 14.3, 'SD': 4.14}}\n",
      "[26, 'POLYGON', 0.6000000000000014]\n",
      "[23, 'POLYGON', 0.2400000000000002, 25, 'POLYGON', 0.20000000000000018, 26, 'POLYGON', 0.7700000000000014]\n",
      "[23, 'POLYGON', 0.14000000000000012, 26, 'POLYGON', 0.1899999999999995]\n",
      "MIP PET\n",
      "MIP MASK\n",
      "163\n",
      "FALSE MASK\n",
      "{1: {'SUV_max': 11.73, 'SUV_mean': 7.41, 'SD': 1.51}, 2: {'SUV_max': 11.67, 'SUV_mean': 7.28, 'SD': 1.8}, 3: {'SUV_max': 12.66, 'SUV_mean': 8.47, 'SD': 1.58}, 4: {'SUV_max': 14.03, 'SUV_mean': 8.94, 'SD': 1.57}, 5: {'SUV_max': 5.11, 'SUV_mean': 3.08, 'SD': 0.83}, 6: {'SUV_max': 7.6, 'SUV_mean': 4.4, 'SD': 1.1}, 7: {'SUV_max': 12.0, 'SUV_mean': 8.08, 'SD': 1.35}, 8: {'SUV_max': 7.22, 'SUV_mean': 4.3, 'SD': 0.87}, 9: {'SUV_max': 10.53, 'SUV_mean': 6.23, 'SD': 1.25}, 10: {'SUV_max': 5.59, 'SUV_mean': 3.25, 'SD': 1.0}, 11: {'SUV_max': 4.21, 'SUV_mean': 2.59, 'SD': 0.64}, 12: {'SUV_max': 3.36, 'SUV_mean': 1.93, 'SD': 0.53}, 13: {'SUV_max': 8.43, 'SUV_mean': 4.81, 'SD': 1.27}}\n",
      "[10, 'POLYGON', 0.6799999999999997, 11, 'POLYGON', 1.3199999999999998, 12, 'POLYGON', 0.54, 13, 'POLYGON', 0.27999999999999936]\n",
      "[10, 'POLYGON', 0.4900000000000002, 11, 'POLYGON', 0.6799999999999999, 12, 'POLYGON', 0.3899999999999999, 13, 'POLYGON', 0.2699999999999996]\n",
      "[10, 'POLYGON', 0.10999999999999999, 13, 'POLYGON', 0.14000000000000012]\n",
      "MIP PET\n",
      "MIP MASK\n",
      "164\n",
      "FALSE MASK\n",
      "{1: {'SUV_max': 9.05, 'SUV_mean': 5.0, 'SD': 0.95}, 2: {'SUV_max': 25.66, 'SUV_mean': 12.48, 'SD': 1.72}, 3: {'SUV_max': 9.99, 'SUV_mean': 5.89, 'SD': 1.45}, 4: {'SUV_max': 20.28, 'SUV_mean': 12.49, 'SD': 2.46}, 5: {'SUV_max': 34.21, 'SUV_mean': 18.5, 'SD': 3.92}, 6: {'SUV_max': 25.28, 'SUV_mean': 15.8, 'SD': 3.42}, 7: {'SUV_max': 23.31, 'SUV_mean': 12.73, 'SD': 2.51}, 8: {'SUV_max': 31.44, 'SUV_mean': 15.69, 'SD': 2.24}, 9: {'SUV_max': 25.15, 'SUV_mean': 13.07, 'SD': 1.92}, 10: {'SUV_max': 31.16, 'SUV_mean': 17.75, 'SD': 3.02}, 11: {'SUV_max': 7.15, 'SUV_mean': 3.72, 'SD': 0.72}, 12: {'SUV_max': 24.96, 'SUV_mean': 14.17, 'SD': 2.73}, 13: {'SUV_max': 31.06, 'SUV_mean': 17.0, 'SD': 2.87}, 14: {'SUV_max': 30.07, 'SUV_mean': 17.07, 'SD': 3.4}, 15: {'SUV_max': 27.29, 'SUV_mean': 14.89, 'SD': 2.56}, 16: {'SUV_max': 28.59, 'SUV_mean': 16.22, 'SD': 3.97}, 17: {'SUV_max': 30.85, 'SUV_mean': 18.77, 'SD': 3.39}, 18: {'SUV_max': 33.68, 'SUV_mean': 19.1, 'SD': 4.3}, 19: {'SUV_max': 31.33, 'SUV_mean': 17.66, 'SD': 3.19}, 20: {'SUV_max': 26.16, 'SUV_mean': 16.19, 'SD': 2.77}, 21: {'SUV_max': 23.46, 'SUV_mean': 14.72, 'SD': 3.24}, 22: {'SUV_max': 28.77, 'SUV_mean': 18.2, 'SD': 3.55}, 23: {'SUV_max': 30.01, 'SUV_mean': 17.27, 'SD': 3.89}, 24: {'SUV_max': 34.87, 'SUV_mean': 20.44, 'SD': 4.33}, 25: {'SUV_max': 25.63, 'SUV_mean': 15.47, 'SD': 4.11}, 26: {'SUV_max': 20.62, 'SUV_mean': 12.26, 'SD': 2.39}, 27: {'SUV_max': 33.23, 'SUV_mean': 17.63, 'SD': 2.93}, 28: {'SUV_max': 44.91, 'SUV_mean': 24.66, 'SD': 4.6}, 29: {'SUV_max': 32.31, 'SUV_mean': 18.81, 'SD': 4.62}, 30: {'SUV_max': 27.65, 'SUV_mean': 16.82, 'SD': 3.22}, 31: {'SUV_max': 21.24, 'SUV_mean': 10.89, 'SD': 1.84}, 32: {'SUV_max': 11.62, 'SUV_mean': 6.75, 'SD': 1.46}, 33: {'SUV_max': 9.89, 'SUV_mean': 5.77, 'SD': 1.31}, 34: {'SUV_max': 29.57, 'SUV_mean': 16.5, 'SD': 3.84}, 35: {'SUV_max': 33.68, 'SUV_mean': 20.19, 'SD': 4.56}, 36: {'SUV_max': 27.65, 'SUV_mean': 16.09, 'SD': 3.34}, 37: {'SUV_max': 25.84, 'SUV_mean': 16.09, 'SD': 3.59}, 38: {'SUV_max': 12.89, 'SUV_mean': 7.51, 'SD': 1.63}, 39: {'SUV_max': 24.01, 'SUV_mean': 14.71, 'SD': 3.48}, 40: {'SUV_max': 14.1, 'SUV_mean': 8.45, 'SD': 2.37}, 41: {'SUV_max': 19.9, 'SUV_mean': 11.04, 'SD': 2.16}, 42: {'SUV_max': 13.74, 'SUV_mean': 7.72, 'SD': 1.51}}\n",
      "[32, 'POLYGON', 0.48999999999999844, 40, 'POLYGON', 0.3800000000000008]\n",
      "[32, 'POLYGON', 0.20000000000000018, 39, 'POLYGON', 0.34000000000000163, 40, 'POLYGON', 0.28000000000000114]\n",
      "[39, 'POLYGON', 0.18999999999999995]\n",
      "MIP PET\n",
      "MIP MASK\n",
      "165\n",
      "MASK CORRECT\n",
      "EXPORT NIFTI PT\n",
      "EXPORT NIFTI CT\n",
      "EXPORT NIFTI MASK\n",
      "166\n",
      "FALSE MASK\n",
      "{1: {'SUV_max': 4.99, 'SUV_mean': 3.07, 'SD': 0.68}, 2: {'SUV_max': 3.81, 'SUV_mean': 3.05, 'SD': 0.33}, 3: {'SUV_max': 5.87, 'SUV_mean': 3.19, 'SD': 0.82}, 4: {'SUV_max': 4.25, 'SUV_mean': 3.13, 'SD': 0.44}, 5: {'SUV_max': 3.78, 'SUV_mean': 3.06, 'SD': 0.32}, 6: {'SUV_max': 11.88, 'SUV_mean': 7.05, 'SD': 1.78}, 7: {'SUV_max': 6.13, 'SUV_mean': 3.88, 'SD': 1.05}, 8: {'SUV_max': 12.02, 'SUV_mean': 7.42, 'SD': 1.81}, 9: {'SUV_max': 3.49, 'SUV_mean': 2.88, 'SD': 0.19}, 10: {'SUV_max': 4.27, 'SUV_mean': 2.97, 'SD': 0.26}, 11: {'SUV_max': 12.22, 'SUV_mean': 7.64, 'SD': 1.76}, 12: {'SUV_max': 11.69, 'SUV_mean': 7.44, 'SD': 1.82}, 13: {'SUV_max': 7.93, 'SUV_mean': 4.84, 'SD': 1.26}, 14: {'SUV_max': 9.69, 'SUV_mean': 5.64, 'SD': 1.29}, 15: {'SUV_max': 12.49, 'SUV_mean': 7.21, 'SD': 1.84}, 16: {'SUV_max': 7.31, 'SUV_mean': 4.45, 'SD': 1.19}, 17: {'SUV_max': 4.88, 'SUV_mean': 2.97, 'SD': 0.77}, 18: {'SUV_max': 4.09, 'SUV_mean': 2.36, 'SD': 0.52}, 19: {'SUV_max': 3.53, 'SUV_mean': 2.16, 'SD': 0.53}, 20: {'SUV_max': 4.22, 'SUV_mean': 2.46, 'SD': 0.59}, 21: {'SUV_max': 3.9, 'SUV_mean': 2.33, 'SD': 0.62}, 22: {'SUV_max': 9.69, 'SUV_mean': 5.98, 'SD': 1.38}, 23: {'SUV_max': 3.3, 'SUV_mean': 1.88, 'SD': 0.44}, 24: {'SUV_max': 4.17, 'SUV_mean': 2.54, 'SD': 0.63}, 25: {'SUV_max': 4.07, 'SUV_mean': 2.29, 'SD': 0.56}, 26: {'SUV_max': 3.52, 'SUV_mean': 2.04, 'SD': 0.52}, 27: {'SUV_max': 7.45, 'SUV_mean': 3.33, 'SD': 0.45}, 28: {'SUV_max': 7.12, 'SUV_mean': 3.2, 'SD': 0.36}, 29: {'SUV_max': 6.58, 'SUV_mean': 2.99, 'SD': 0.57}, 30: {'SUV_max': 4.52, 'SUV_mean': 2.35, 'SD': 0.45}, 31: {'SUV_max': 4.59, 'SUV_mean': 2.76, 'SD': 0.52}}\n",
      "[18, 'POLYGON', 0.6199999999999997, 22, 'POLYGON', 1.1399999999999988, 27, 'POLYGON', 1.3200000000000003]\n",
      "[18, 'POLYGON', 0.22999999999999998, 22, 'POLYGON', 0.47000000000000064, 27, 'POLYGON', 0.5]\n",
      "[22, 'POLYGON', 0.10999999999999988, 27, 'POLYGON', 0.16000000000000003]\n",
      "MIP PET\n",
      "MIP MASK\n",
      "167\n",
      "MASK CORRECT\n",
      "EXPORT NIFTI PT\n",
      "EXPORT NIFTI CT\n",
      "EXPORT NIFTI MASK\n",
      "168\n",
      "MASK CORRECT\n",
      "EXPORT NIFTI PT\n",
      "EXPORT NIFTI CT\n",
      "EXPORT NIFTI MASK\n",
      "169\n",
      "MASK CORRECT\n",
      "EXPORT NIFTI PT\n",
      "EXPORT NIFTI CT\n",
      "EXPORT NIFTI MASK\n",
      "170\n",
      "FALSE MASK\n",
      "{1: {'SUV_max': 27.67, 'SUV_mean': 15.47, 'SD': 3.27}, 2: {'SUV_max': 6.32, 'SUV_mean': 4.21, 'SD': 1.29}, 3: {'SUV_max': 20.68, 'SUV_mean': 12.93, 'SD': 3.28}, 4: {'SUV_max': 12.61, 'SUV_mean': 7.31, 'SD': 2.01}, 5: {'SUV_max': 19.38, 'SUV_mean': 11.62, 'SD': 3.3}, 6: {'SUV_max': 16.9, 'SUV_mean': 9.82, 'SD': 2.22}, 7: {'SUV_max': 15.73, 'SUV_mean': 9.72, 'SD': 2.62}, 8: {'SUV_max': 8.63, 'SUV_mean': 4.99, 'SD': 1.19}, 9: {'SUV_max': 20.16, 'SUV_mean': 11.98, 'SD': 2.95}, 10: {'SUV_max': 16.73, 'SUV_mean': 9.39, 'SD': 1.98}, 11: {'SUV_max': 8.23, 'SUV_mean': 4.95, 'SD': 1.3}, 12: {'SUV_max': 10.16, 'SUV_mean': 5.93, 'SD': 1.69}, 13: {'SUV_max': 20.71, 'SUV_mean': 12.75, 'SD': 3.32}, 14: {'SUV_max': 14.28, 'SUV_mean': 8.4, 'SD': 2.12}, 15: {'SUV_max': 3.75, 'SUV_mean': 2.18, 'SD': 0.59}, 16: {'SUV_max': 7.6, 'SUV_mean': 4.77, 'SD': 1.24}, 17: {'SUV_max': 14.0, 'SUV_mean': 7.94, 'SD': 1.64}, 18: {'SUV_max': 21.92, 'SUV_mean': 13.25, 'SD': 3.39}, 19: {'SUV_max': 7.6, 'SUV_mean': 4.65, 'SD': 1.21}, 20: {'SUV_max': 16.9, 'SUV_mean': 10.66, 'SD': 2.6}, 21: {'SUV_max': 15.73, 'SUV_mean': 10.55, 'SD': 2.9}, 22: {'SUV_max': 15.73, 'SUV_mean': 9.97, 'SD': 2.7}, 23: {'SUV_max': 7.74, 'SUV_mean': 4.4, 'SD': 1.03}}\n",
      "[]\n",
      "[18, 'POLYGON', 0.14000000000000057, 19, 'POLYGON', 0.1800000000000006, 20, 'POLYGON', 0.10999999999999943]\n",
      "[16, 'POLYGON', 0.27, 20, 'POLYGON', 0.17999999999999972]\n",
      "MIP PET\n",
      "MIP MASK\n",
      "171\n",
      "FALSE MASK\n",
      "{1: {'SUV_max': 12.36, 'SUV_mean': 7.89, 'SD': 1.82}, 2: {'SUV_max': 13.91, 'SUV_mean': 9.04, 'SD': 2.08}, 3: {'SUV_max': 12.79, 'SUV_mean': 7.8, 'SD': 1.81}, 4: {'SUV_max': 14.68, 'SUV_mean': 8.44, 'SD': 2.15}, 5: {'SUV_max': 6.74, 'SUV_mean': 4.17, 'SD': 1.01}, 6: {'SUV_max': 7.21, 'SUV_mean': 4.36, 'SD': 1.1}, 7: {'SUV_max': 4.63, 'SUV_mean': 3.15, 'SD': 0.48}, 8: {'SUV_max': 5.06, 'SUV_mean': 3.38, 'SD': 0.65}, 9: {'SUV_max': 7.42, 'SUV_mean': 4.29, 'SD': 1.08}, 10: {'SUV_max': 11.92, 'SUV_mean': 6.8, 'SD': 1.56}, 11: {'SUV_max': 8.55, 'SUV_mean': 4.98, 'SD': 1.24}, 12: {'SUV_max': 5.4, 'SUV_mean': 3.1, 'SD': 0.8}, 13: {'SUV_max': 8.66, 'SUV_mean': 4.86, 'SD': 1.0}, 14: {'SUV_max': 4.46, 'SUV_mean': 2.78, 'SD': 0.67}}\n",
      "[]\n",
      "[14, 'POLYGON', 0.15000000000000036]\n",
      "[]\n",
      "MIP PET\n",
      "MIP MASK\n",
      "172\n",
      "MASK CORRECT\n",
      "EXPORT NIFTI PT\n",
      "EXPORT NIFTI CT\n",
      "EXPORT NIFTI MASK\n",
      "173\n",
      "['/media/deeplearning/Elements/REMARC_Validated_DICOMS/11009101876005/pet0/1.3.12.2.1107.5.99.1.41145.2.0.1036514644702272/1.3.12.2.1107.5.99.1.41145.2.0.1036514644702272', 'PT', '/media/deeplearning/Elements/REMARC_Validated_DICOMS/11009101876005/pet0/1.3.12.2.1107.5.1.4.41145.5.0.930423729112368/1.3.12.2.1107.5.1.4.41145.5.0.930423729112368', 'CT', '1.2.250.1.38.2.1.102.121219092724.101020839', 'V0', '11009101876005', '/media/deeplearning/Elements/REMARC_csv/11009101876005_dec 21_2012.csv']\n",
      "index 196 is out of bounds for axis 2 with size 83\n",
      "174\n",
      "['/media/deeplearning/Elements/REMARC_Validated_DICOMS/61009719016034/pet0/1.2.840.113619.2.248.116523399845.16300.1400109802387.5/1.2.840.113619.2.248.116523399845.16300.1400109802387.5', 'CT', '/media/deeplearning/Elements/REMARC_Validated_DICOMS/61009719016034/pet0/1.2.840.113619.2.248.116523399845.16300.1400109803119.313/1.2.840.113619.2.248.116523399845.16300.1400109803119.313', 'PT', '1.2.840.113619.2.248.116523399845.16300.1400109802387.4', 'V0', '61009719016034', '/media/deeplearning/Elements/REMARC_csv/61009719016034_jul 11_2012.csv']\n",
      "[Errno 2] No such file or directory: '/media/deeplearning/Elements/REMARC_Validated_DICOMS/61009719016034/pet0/1.2.840.113619.2.248.116523399845.16300.1400109803119.313/1.2.840.113619.2.248.116523399845.16300.1400109803119.313'\n",
      "175\n",
      "FALSE MASK\n",
      "{1: {'SUV_max': 15.38, 'SUV_mean': 9.24, 'SD': 2.3}, 2: {'SUV_max': 16.41, 'SUV_mean': 10.28, 'SD': 2.68}, 3: {'SUV_max': 18.98, 'SUV_mean': 11.54, 'SD': 2.73}, 4: {'SUV_max': 17.71, 'SUV_mean': 10.08, 'SD': 2.32}, 5: {'SUV_max': 21.93, 'SUV_mean': 13.51, 'SD': 3.28}, 6: {'SUV_max': 14.45, 'SUV_mean': 8.51, 'SD': 2.06}, 7: {'SUV_max': 6.62, 'SUV_mean': 3.89, 'SD': 0.97}, 8: {'SUV_max': 21.77, 'SUV_mean': 12.51, 'SD': 2.71}, 9: {'SUV_max': 8.11, 'SUV_mean': 4.66, 'SD': 1.1}, 10: {'SUV_max': 22.42, 'SUV_mean': 13.78, 'SD': 3.05}, 11: {'SUV_max': 5.4, 'SUV_mean': 3.35, 'SD': 0.76}, 12: {'SUV_max': 14.67, 'SUV_mean': 8.56, 'SD': 2.15}, 13: {'SUV_max': 18.47, 'SUV_mean': 10.92, 'SD': 2.47}, 14: {'SUV_max': 18.54, 'SUV_mean': 10.98, 'SD': 2.77}, 15: {'SUV_max': 18.42, 'SUV_mean': 11.84, 'SD': 2.86}, 16: {'SUV_max': 5.23, 'SUV_mean': 3.11, 'SD': 0.77}, 17: {'SUV_max': 16.92, 'SUV_mean': 10.19, 'SD': 2.33}, 18: {'SUV_max': 4.02, 'SUV_mean': 2.81, 'SD': 0.54}, 19: {'SUV_max': 6.34, 'SUV_mean': 3.58, 'SD': 1.03}, 20: {'SUV_max': 15.07, 'SUV_mean': 8.94, 'SD': 2.27}, 21: {'SUV_max': 15.51, 'SUV_mean': 9.04, 'SD': 2.21}, 22: {'SUV_max': 24.18, 'SUV_mean': 15.55, 'SD': 2.94}, 23: {'SUV_max': 21.96, 'SUV_mean': 14.3, 'SD': 2.9}, 24: {'SUV_max': 20.0, 'SUV_mean': 12.55, 'SD': 2.55}, 25: {'SUV_max': 21.67, 'SUV_mean': 12.76, 'SD': 2.88}, 26: {'SUV_max': 14.82, 'SUV_mean': 8.86, 'SD': 1.89}, 27: {'SUV_max': 20.89, 'SUV_mean': 12.58, 'SD': 2.72}, 28: {'SUV_max': 19.32, 'SUV_mean': 10.38, 'SD': 1.86}, 29: {'SUV_max': 6.12, 'SUV_mean': 3.78, 'SD': 0.97}, 30: {'SUV_max': 21.96, 'SUV_mean': 14.5, 'SD': 3.08}, 31: {'SUV_max': 23.42, 'SUV_mean': 14.4, 'SD': 2.72}, 32: {'SUV_max': 20.52, 'SUV_mean': 12.44, 'SD': 2.21}, 33: {'SUV_max': 15.76, 'SUV_mean': 10.03, 'SD': 2.55}, 34: {'SUV_max': 16.41, 'SUV_mean': 10.37, 'SD': 2.66}, 35: {'SUV_max': 19.61, 'SUV_mean': 12.1, 'SD': 3.18}, 36: {'SUV_max': 20.61, 'SUV_mean': 12.6, 'SD': 3.44}, 37: {'SUV_max': 20.89, 'SUV_mean': 12.74, 'SD': 3.27}, 38: {'SUV_max': 14.67, 'SUV_mean': 10.14, 'SD': 2.32}, 39: {'SUV_max': 17.68, 'SUV_mean': 10.8, 'SD': 2.73}, 40: {'SUV_max': 19.93, 'SUV_mean': 14.62, 'SD': 3.58}, 41: {'SUV_max': 15.57, 'SUV_mean': 9.56, 'SD': 2.19}, 42: {'SUV_max': 16.44, 'SUV_mean': 10.24, 'SD': 2.27}, 43: {'SUV_max': 12.06, 'SUV_mean': 6.83, 'SD': 1.55}, 44: {'SUV_max': 3.67, 'SUV_mean': 2.19, 'SD': 0.51}, 45: {'SUV_max': 6.56, 'SUV_mean': 4.1, 'SD': 1.02}, 46: {'SUV_max': 5.0, 'SUV_mean': 2.89, 'SD': 0.68}, 47: {'SUV_max': 3.66, 'SUV_mean': 2.09, 'SD': 0.5}, 48: {'SUV_max': 3.51, 'SUV_mean': 2.19, 'SD': 0.57}}\n",
      "[36, 'POLYGON', 0.5599999999999987]\n",
      "[34, 'POLYGON', 0.16000000000000014, 36, 'POLYGON', 0.6099999999999994, 40, 'POLYGON', 0.6100000000000012]\n",
      "[36, 'POLYGON', 0.29000000000000004, 40, 'POLYGON', 0.18000000000000016]\n",
      "MIP PET\n",
      "MIP MASK \n",
      "176\n",
      "['/media/deeplearning/Elements/REMARC_Validated_DICOMS/11009101536001/pet0/1.3.12.2.1107.5.99.2.45788.30000010030211120750000005388/1.3.12.2.1107.5.99.2.45788.30000010030211120750000005388', 'CT', '/media/deeplearning/Elements/REMARC_Validated_DICOMS/11009101536001/pet0/1.3.12.2.1107.5.99.2.45788.30000010030211120750000005665/1.3.12.2.1107.5.99.2.45788.30000010030211120750000005665', 'PT', '1.3.12.2.1107.5.99.2.45788.30000010030211120750000005666', 'V0', '11009101536001', '/media/deeplearning/Elements/REMARC_csv/11009101536001_apr 8_2009.csv']\n",
      "[Errno 2] No such file or directory: '/media/deeplearning/Elements/REMARC_Validated_DICOMS/11009101536001/pet0/1.3.12.2.1107.5.99.2.45788.30000010030211120750000005665/1.3.12.2.1107.5.99.2.45788.30000010030211120750000005665'\n",
      "177\n",
      "['/media/deeplearning/Elements/REMARC_Validated_DICOMS/11009101336004/pet0/1.2.840.113619.2.290.3.2500492204.339.1339737305.363.3/1.2.840.113619.2.290.3.2500492204.339.1339737305.363.3', 'CT', '/media/deeplearning/Elements/REMARC_Validated_DICOMS/11009101336004/pet0/1.2.840.113619.2.290.3.2500492204.339.1339737305.562/1.2.840.113619.2.290.3.2500492204.339.1339737305.562', 'PT', '1.2.840.113619.2.290.3.2500492204.339.1339737305.358', 'V0', '11009101336004', '/media/deeplearning/Elements/REMARC_csv/11009101336004_jun 15_2012.csv']\n",
      "[Errno 2] No such file or directory: '/media/deeplearning/Elements/REMARC_Validated_DICOMS/11009101336004/pet0/1.2.840.113619.2.290.3.2500492204.339.1339737305.562/1.2.840.113619.2.290.3.2500492204.339.1339737305.562'\n",
      "178\n",
      "['/media/deeplearning/Elements/REMARC_Validated_DICOMS/11009101246004/pet0/1.3.12.2.1107.5.1.4.36159.4.0.7190996532383174/1.3.12.2.1107.5.1.4.36159.4.0.7190996532383174', 'CT', '/media/deeplearning/Elements/REMARC_Validated_DICOMS/11009101246004/pet0/1.3.12.2.1107.5.99.1.1.2.0.1282470924362521/1.3.12.2.1107.5.99.1.1.2.0.1282470924362521', 'PT', '2.16.840.1.113669.632.20.540001.10002175046', 'V0', '11009101246004', '/media/deeplearning/Elements/REMARC_csv/11009101246004_mar 18_2010.csv']\n",
      "[Errno 2] No such file or directory: '/media/deeplearning/Elements/REMARC_Validated_DICOMS/11009101246004/pet0/1.3.12.2.1107.5.99.1.1.2.0.1282470924362521/1.3.12.2.1107.5.99.1.1.2.0.1282470924362521'\n",
      "179\n",
      "['/media/deeplearning/Elements/REMARC_Validated_DICOMS/11009101096030/pet0/1.3.12.2.1107.5.1.4.48467.30000012101807272135900003616/1.3.12.2.1107.5.1.4.48467.30000012101807272135900003616', 'CT', '/media/deeplearning/Elements/REMARC_Validated_DICOMS/11009101096030/pet0/1.3.12.2.1107.5.1.4.48467.30000012101806372332800007465/1.3.12.2.1107.5.1.4.48467.30000012101806372332800007465', 'PT', '2.16.56.465769650.2551326252.3700744947', 'V0', '11009101096030', '/media/deeplearning/Elements/REMARC_csv/11009101096030_jun 10_2013.csv']\n",
      "[Errno 2] No such file or directory: '/media/deeplearning/Elements/REMARC_Validated_DICOMS/11009101096030/pet0/1.3.12.2.1107.5.1.4.48467.30000012101806372332800007465/1.3.12.2.1107.5.1.4.48467.30000012101806372332800007465'\n",
      "180\n",
      "['/media/deeplearning/Elements/REMARC_Validated_DICOMS/11009101036021/pet0/1.2.840.113704.7.32.0.28.2.10.48.18553.24906.2.3564.0.1292924837/1.2.840.113704.7.32.0.28.2.10.48.18553.24906.2.3564.0.1292924837', 'PT', '/media/deeplearning/Elements/REMARC_Validated_DICOMS/11009101036021/pet0/1.2.840.113704.7.32.1.2.840.113704.1.111.3260.1292923183.8/1.2.840.113704.7.32.1.2.840.113704.1.111.3260.1292923183.8', 'CT', '1.2.840.113704.1.111.1460.1292922720.9', 'V0', '11009101036021', '/media/deeplearning/Elements/REMARC_csv/11009101036021_dec 21_2010.csv']\n",
      "[Errno 2] No such file or directory: '/media/deeplearning/Elements/REMARC_Validated_DICOMS/11009101036021/pet0/1.2.840.113704.7.32.0.28.2.10.48.18553.24906.2.3564.0.1292924837/1.2.840.113704.7.32.0.28.2.10.48.18553.24906.2.3564.0.1292924837'\n"
     ]
    }
   ]
  },
  {
   "cell_type": "code",
   "execution_count": null,
   "metadata": {},
   "outputs": [],
   "source": []
  },
  {
   "cell_type": "code",
   "execution_count": null,
   "metadata": {},
   "outputs": [],
   "source": []
  },
  {
   "source": [
    "print(\"number of error : \", len(error_dataset))\n",
    "print(\"number of false mask : \" , len(serie_false_mask))"
   ],
   "cell_type": "code",
   "metadata": {
    "tags": []
   },
   "execution_count": 12,
   "outputs": [
    {
     "output_type": "stream",
     "name": "stdout",
     "text": [
      "number of error :  13\nnumber of false mask :  86\n"
     ]
    }
   ]
  },
  {
   "cell_type": "code",
   "execution_count": 13,
   "metadata": {},
   "outputs": [],
   "source": [
    "#Save different json \n",
    "directory_nifti = '/media/deeplearning/Elements/REMARC_NIFTI'\n",
    "write_json_file(directory_nifti, 'false_mask_serie', serie_false_mask)\n",
    "write_json_file(directory_nifti, 'false_mask_results', results_false_mask)\n",
    "\n",
    "write_json_file(directory_nifti, 'error', error_dataset)\n",
    "\n",
    "#mip directory = directory_nifti+'/'+'MIP'\n",
    "#write_json_file(mip_directory, 'path_mip', path_mip)"
   ]
  },
  {
   "cell_type": "code",
   "execution_count": null,
   "metadata": {},
   "outputs": [],
   "source": [
    "#create pdf of MIP for false mask \n",
    "#filename = os.path.join(mip_directory, 'list_mip_dataset.pdf')\n",
    "#create_pdf_mip(path_mip, filename)"
   ]
  },
  {
   "cell_type": "code",
   "execution_count": null,
   "metadata": {},
   "outputs": [],
   "source": [
    "#create csv "
   ]
  },
  {
   "cell_type": "code",
   "execution_count": null,
   "metadata": {},
   "outputs": [],
   "source": []
  },
  {
   "cell_type": "code",
   "execution_count": null,
   "metadata": {},
   "outputs": [],
   "source": []
  },
  {
   "cell_type": "code",
   "execution_count": null,
   "metadata": {},
   "outputs": [],
   "source": []
  },
  {
   "cell_type": "code",
   "execution_count": null,
   "metadata": {},
   "outputs": [],
   "source": []
  },
  {
   "cell_type": "code",
   "execution_count": null,
   "metadata": {},
   "outputs": [],
   "source": []
  },
  {
   "cell_type": "code",
   "execution_count": null,
   "metadata": {},
   "outputs": [],
   "source": []
  },
  {
   "source": [
    "#Generate PET, CT, MASK NIFTI without checking\n",
    "\n",
    "nifti_directory = nifti_directory = '/home/deeplearning/AHL/AHL_NIFTI'\n",
    "\n",
    "error_dataset = []\n",
    "\n",
    "for serie in dataset: \n",
    "    try : \n",
    "        print(dataset.index(serie))\n",
    "\n",
    "        if serie[1] == 'PT' : \n",
    "            serie_pt_objet = SeriesPT(serie[0])\n",
    "            nifti_array = serie_pt_objet.get_numpy_array()\n",
    "            study_uid = serie_pt_objet.get_series_details()['study']['StudyInstanceUID']\n",
    "            size_matrix = serie_pt_objet.get_size_matrix()\n",
    "            mask_objet = MaskBuilder(serie[-1], size_matrix)\n",
    "            mask_4D = mask_objet.mask_array\n",
    "\n",
    "            number_roi = mask_4D.shape[3]\n",
    "\n",
    "            print(\"MASK CORRECT\")\n",
    "                    #generation nifti PT\n",
    "            filename_pt = study_uid+'_'+'nifti_'+'PT'+'.nii'\n",
    "            serie_pt_objet.export_nifti(os.path.join(nifti_directory, filename_pt))\n",
    "            print(\"EXPORT NIFTI PT\")\n",
    "\n",
    "                    #generation nifti CT\n",
    "            serie_ct_objet = SeriesCT(serie[2])\n",
    "            serie_ct_objet.get_numpy_array()\n",
    "            filename_ct = study_uid+'_'+'nifti_'+'CT'+'.nii'\n",
    "            serie_ct_objet.export_nifti(os.path.join(nifti_directory, filename_ct))\n",
    "            print(\"EXPORT NIFTI CT\")\n",
    "\n",
    "                    #generation nifti mask\n",
    "            filename_mask = study_uid+'_'+'nifti_'+'mask'+'.nii'\n",
    "            serie_pt_objet.export_nifti(os.path.join(nifti_directory, filename_mask), mask_4D)\n",
    "            print(\"EXPORT NIFTI MASK\")\n",
    "          \n",
    "          \n",
    "        else : \n",
    "            serie_pt_objet = SeriesPT(serie[2])\n",
    "            nifti_array = serie_pt_objet.get_numpy_array()\n",
    "            study_uid = serie_pt_objet.get_series_details()['study']['StudyInstanceUID']\n",
    "            size_matrix = serie_pt_objet.get_size_matrix()\n",
    "            mask_objet = MaskBuilder(serie[-1], size_matrix)\n",
    "            mask_4D = mask_objet.mask_array\n",
    "            number_roi = mask_4D.shape[3]\n",
    "\n",
    "            print(\"MASK CORRECT\")\n",
    "                    #generation nifti PT\n",
    "            filename_pt = study_uid+'_'+'nifti_'+'PT'+'.nii'\n",
    "            serie_pt_objet.export_nifti(os.path.join(nifti_directory, filename_pt))\n",
    "            print(\"EXPORT NIFTI PT\")\n",
    "\n",
    "                     #generation nifti CT\n",
    "            serie_ct_objet = SeriesCT(serie[0])\n",
    "            serie_ct_objet.get_numpy_array()\n",
    "            filename_ct = study_uid+'_'+'nifti_'+'CT'+'.nii'\n",
    "            serie_ct_objet.export_nifti(os.path.join(nifti_directory, filename_ct))\n",
    "            print(\"EXPORT NIFTI CT\")\n",
    "\n",
    "                    #generation nifti mask\n",
    "            filename_mask = study_uid+'_'+'nifti_'+'mask'+'.nii'\n",
    "            serie_pt_objet.export_nifti(os.path.join(nifti_directory, filename_mask), mask_4D)\n",
    "            print(\"EXPORT NIFTI MASK\")\n",
    "           \n",
    "    except Exception as err : \n",
    "        print(err)\n",
    "        print(serie)\n",
    "        error_dataset.append(serie)"
   ],
   "cell_type": "code",
   "metadata": {
    "tags": []
   },
   "execution_count": null,
   "outputs": []
  },
  {
   "source": [
    "#Generate PET & CT NIFTI only\n",
    "\n",
    "nifti_directory = '/home/deeplearning/AHL/AHL_NIFTI/pet4'\n",
    "\n",
    "error = []\n",
    "for serie in pet_4 : \n",
    "    print(pet_4.index(serie))\n",
    "    try : \n",
    "        if serie[1] == 'PT' : \n",
    "                serie_pt_objet = SeriesPT(serie[0]) \n",
    "                nifti_array = serie_pt_objet.get_numpy_array()\n",
    "                study_uid = serie_pt_objet.get_series_details()['study']['StudyInstanceUID']\n",
    "\n",
    "                                #generation nifti PT\n",
    "                filename_pt = study_uid+'_'+'nifti_'+'PT'+'.nii'\n",
    "                serie_pt_objet.export_nifti(os.path.join(nifti_directory, filename_pt))\n",
    "                print(\"EXPORT NIFTI PT\")\n",
    "                                #generation nifti CT\n",
    "                serie_ct_objet = SeriesCT(serie[2])\n",
    "                serie_ct_objet.get_numpy_array()\n",
    "                filename_ct = study_uid+'_'+'nifti_'+'CT'+'.nii'\n",
    "                serie_ct_objet.export_nifti(os.path.join(nifti_directory, filename_ct))\n",
    "                print(\"EXPORT NIFTI CT\")\n",
    "\n",
    "        else : \n",
    "                serie_pt_objet = SeriesPT(serie[2]) \n",
    "                nifti_array = serie_pt_objet.get_numpy_array()\n",
    "                study_uid = serie_pt_objet.get_series_details()['study']['StudyInstanceUID']\n",
    "\n",
    "                        \n",
    "                                #generation nifti PT\n",
    "                filename_pt = study_uid+'_'+'nifti_'+'PT'+'.nii'\n",
    "                serie_pt_objet.export_nifti(os.path.join(nifti_directory, filename_pt))\n",
    "                print(\"EXPORT NIFTI PT\")\n",
    "                                #generation nifti CT\n",
    "                serie_ct_objet = SeriesCT(serie[0])\n",
    "                serie_ct_objet.get_numpy_array()\n",
    "                filename_ct = study_uid+'_'+'nifti_'+'CT'+'.nii'\n",
    "                serie_ct_objet.export_nifti(os.path.join(nifti_directory, filename_ct))\n",
    "                print(\"EXPORT NIFTI CT\")\n",
    " \n",
    "\n",
    "    except Exception as err : \n",
    "        print(serie)\n",
    "        print(err)\n",
    "        error.append(serie)"
   ],
   "cell_type": "code",
   "metadata": {
    "tags": []
   },
   "execution_count": null,
   "outputs": []
  },
  {
   "cell_type": "code",
   "execution_count": null,
   "metadata": {},
   "outputs": [],
   "source": [
    "#Generate PET only\n",
    "\n",
    "nifti_directory = '/home/deeplearning/AHL/suv_test'\n",
    "dataset = dataset[0:10]\n",
    "\n",
    "error = []\n",
    "for serie in dataset : \n",
    "    print(dataset.index(serie))\n",
    "    print(serie[0])\n",
    "    try : \n",
    "                serie_pt_objet = SeriesPT(serie[1]) \n",
    "                nifti_array = serie_pt_objet.get_numpy_array()\n",
    "                study_uid = serie_pt_objet.get_series_details()['study']['StudyInstanceUID']\n",
    "\n",
    "                                #generation nifti PT\n",
    "                filename_pt = study_uid+'_'+'nifti_'+'PT'+'.nii'\n",
    "                serie_pt_objet.export_nifti(os.path.join(nifti_directory, filename_pt))\n",
    "                print(\"EXPORT NIFTI PT\")\n",
    " \n",
    "\n",
    "    except Exception as err : \n",
    "        print(serie)\n",
    "        print(err)\n",
    "        error.append(serie)"
   ]
  }
 ],
 "metadata": {
  "file_extension": ".py",
  "kernelspec": {
   "display_name": "Python 3.8.5 64-bit",
   "language": "python",
   "name": "python38564bit9ddb669efcd540bea444ed93f0604dc5"
  },
  "language_info": {
   "codemirror_mode": {
    "name": "ipython",
    "version": 3
   },
   "file_extension": ".py",
   "mimetype": "text/x-python",
   "name": "python",
   "nbconvert_exporter": "python",
   "pygments_lexer": "ipython3",
   "version": "3.8.5-final"
  },
  "mimetype": "text/x-python",
  "name": "python",
  "npconvert_exporter": "python",
  "pygments_lexer": "ipython3",
  "version": 3
 },
 "nbformat": 4,
 "nbformat_minor": 2
}