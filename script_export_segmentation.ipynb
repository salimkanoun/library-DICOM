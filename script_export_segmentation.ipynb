{
 "cells": [
  {
   "cell_type": "code",
   "execution_count": 1,
   "metadata": {},
   "outputs": [],
   "source": [
    "import matplotlib.pyplot as plt\n",
    "import numpy as np\n",
    "import json \n",
    "\n",
    "from dicom_to_cnn.model.segmentation.ExportSegmentation_Writer import ExportSegmentation_Writer\n",
    "from dicom_to_cnn.model.reader.Series import Series \n",
    "\n",
    "import SimpleITK as sitk "
   ]
  },
  {
   "cell_type": "code",
   "execution_count": 2,
   "metadata": {},
   "outputs": [
    {
     "data": {
      "text/plain": [
       "''"
      ]
     },
     "execution_count": 2,
     "metadata": {},
     "output_type": "execute_result"
    }
   ],
   "source": [
    "path = r'C:\\Users\\wendy\\Documents\\STAGE\\DicomSeg\\dicom\\1.2.276.0.7230010.3.1.4.2267612261.1368.1197888473.4\\1.2.276.0.7230010.3.1.4.2267612261.1368.1197888484.513\\7030106071217114802'\n",
    "serie = Series(path)\n",
    "instance = serie.get_first_instance_metadata()\n",
    "instance.get_study_description()"
   ]
  },
  {
   "cell_type": "code",
   "execution_count": 10,
   "metadata": {},
   "outputs": [
    {
     "name": "stdout",
     "output_type": "stream",
     "text": [
      "16-bit signed integer\n",
      "(144, 144, 276)\n",
      "16-bit unsigned integer\n",
      "Enter filename for json file (filename or nothing):\n",
      "Enter serie description (serie description or nothing):\n",
      "Enter body part examined (body part or nothing) : \n",
      "Enter ROI n°1 description/name (segment description or nothing) : \n"
     ]
    }
   ],
   "source": [
    "pet_path = path\n",
    "mask_path = r'C:\\Users\\wendy\\Documents\\STAGE\\DicomSeg\\mask_9d6b3c32f48ad50a34778618a6e9303e.nii'\n",
    "mask_img = sitk.ReadImage(mask_path) #16-bit signed integer\n",
    "mask_img = sitk.Cast(mask_img, sitk.sitkUInt16) #16-bit unsigned integer , need it for dicomseg\n",
    "filename = 'test'\n",
    "directory_path =   r'C:\\Users\\wendy\\Documents\\STAGE\\DicomSeg'\n",
    "mode = 'dicomseg' #or 'rtstruct'\n",
    "writer = ExportSegmentation_Writer(mask_img, mode = mode, serie_path=pet_path)\n",
    "writer.save_file(filename, directory_path)"
   ]
  },
  {
   "cell_type": "code",
   "execution_count": null,
   "metadata": {},
   "outputs": [],
   "source": []
  },
  {
   "cell_type": "code",
   "execution_count": null,
   "metadata": {},
   "outputs": [],
   "source": []
  },
  {
   "cell_type": "code",
   "execution_count": null,
   "metadata": {},
   "outputs": [],
   "source": []
  },
  {
   "cell_type": "code",
   "execution_count": null,
   "metadata": {},
   "outputs": [],
   "source": []
  },
  {
   "cell_type": "code",
   "execution_count": null,
   "metadata": {},
   "outputs": [],
   "source": []
  },
  {
   "cell_type": "code",
   "execution_count": null,
   "metadata": {},
   "outputs": [],
   "source": []
  },
  {
   "cell_type": "code",
   "execution_count": null,
   "metadata": {},
   "outputs": [],
   "source": [
    "pet_path = : 'abs path of the associated serie PET'\n",
    "mask_img =: a 3D sitk.Image of shape (z,y,x)\n",
    "filename = 'name of the generated dicom file'\n",
    "directory_path =  'abs//path//directory'\n",
    "mode = 'rtstruct' #or 'dicomseg'\n",
    "writer = ExportSegmentation_Writer(mask_img, mode = mode, pet_path=pet_path)\n",
    "writer.save_file(filename, directory_path)\n",
    "\n",
    "\n"
   ]
  }
 ],
 "metadata": {
  "kernelspec": {
   "display_name": "Python 3",
   "language": "python",
   "name": "python3"
  },
  "language_info": {
   "codemirror_mode": {
    "name": "ipython",
    "version": 3
   },
   "file_extension": ".py",
   "mimetype": "text/x-python",
   "name": "python",
   "nbconvert_exporter": "python",
   "pygments_lexer": "ipython3",
   "version": "3.7.4"
  }
 },
 "nbformat": 4,
 "nbformat_minor": 2
}
