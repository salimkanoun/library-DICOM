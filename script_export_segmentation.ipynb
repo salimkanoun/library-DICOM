{
 "cells": [
  {
   "cell_type": "code",
   "execution_count": 1,
   "metadata": {},
   "outputs": [],
   "source": [
    "import matplotlib.pyplot as plt\n",
    "import numpy as np\n",
    "import json \n",
    "\n",
    "from dicom_to_cnn.model.segmentation.ExportSegmentation_Writer import ExportSegmentation_Writer\n",
    "from dicom_to_cnn.model.segmentation.rtstruct.RTSS_Writer import RTSS_Writer \n",
    "from dicom_to_cnn.model.segmentation.dicom_seg.DICOMSEG_Writer import DICOMSEG_Writer\n",
    "from dicom_to_cnn.model.reader.Series import Series \n",
    "\n",
    "import SimpleITK as sitk "
   ]
  },
  {
   "cell_type": "code",
   "execution_count": 2,
   "metadata": {},
   "outputs": [],
   "source": [
    "pet_path = r'C:\\Users\\wendy\\Documents\\STAGE\\test_export\\1.2.250.1.199.10.90001.93080.20120515093605\\1.3.12.2.1107.5.1.4.1007.30000012051508440440600007559\\1.3.12.2.1107.5.1.4.1007.30000012051508440440600007559'\n",
    "mask_path = r'C:\\Users\\wendy\\Documents\\STAGE\\test_export\\1.2.250.1.199.10.90001.93080.20120515093605_inference_pred.nii'\n",
    "mask_img = sitk.ReadImage(mask_path)\n",
    "mask_img = sitk.ConnectedComponent(mask_img)\n",
    "\n",
    "#RTSTRUCT\n",
    "filename = 'test_rtstruct_labelled'\n",
    "directory_path = r'C:\\Users\\wendy\\Documents\\STAGE\\test_export' \n",
    "writer = RTSS_Writer(mask_img, serie_path=pet_path)\n",
    "writer.setDictName('dict')\n",
    "writer.setBodyPartExaminated('all body')\n",
    "writer.setSeriesDescription('description')\n",
    "writer.setAutoRTROIInterpretedType()\n",
    "writer.setAutoRoiName()\n",
    "writer.save_file(filename, directory_path)"
   ]
  },
  {
   "cell_type": "code",
   "execution_count": 3,
   "metadata": {},
   "outputs": [],
   "source": [
    "#DICOMSEG\n",
    "filename = 'test_dicomseg_labelled'\n",
    "directory_path = r'C:\\Users\\wendy\\Documents\\STAGE\\test_export' \n",
    "writer = DICOMSEG_Writer(mask_img, serie_path=pet_path)\n",
    "writer.setDictName('dict')\n",
    "writer.setBodyPartExaminated('all body')\n",
    "writer.setSeriesDescription('description')\n",
    "#writer.setAutoRTROIInterpretedType()\n",
    "writer.setAutoRoiName()\n",
    "writer.save_file(filename, directory_path)"
   ]
  },
  {
   "cell_type": "code",
   "execution_count": null,
   "metadata": {},
   "outputs": [],
   "source": []
  },
  {
   "cell_type": "code",
   "execution_count": null,
   "metadata": {},
   "outputs": [],
   "source": []
  },
  {
   "cell_type": "code",
   "execution_count": null,
   "metadata": {},
   "outputs": [],
   "source": []
  },
  {
   "cell_type": "code",
   "execution_count": null,
   "metadata": {},
   "outputs": [],
   "source": []
  },
  {
   "cell_type": "code",
   "execution_count": null,
   "metadata": {},
   "outputs": [],
   "source": [
    "pet_path = : 'abs path of the associated serie PET'\n",
    "mask_img =: a 3D sitk.Image of shape (z,y,x)\n",
    "filename = 'name of the generated dicom file'\n",
    "directory_path =  'abs//path//directory'\n",
    "mode = 'rtstruct' #or 'dicomseg'\n",
    "writer = ExportSegmentation_Writer(mask_img, mode = mode, serie_path=pet_path)\n",
    "writer.save_file(filename, directory_path)\n",
    "\n",
    "\n"
   ]
  }
 ],
 "metadata": {
  "kernelspec": {
   "display_name": "Python 3",
   "language": "python",
   "name": "python3"
  },
  "language_info": {
   "codemirror_mode": {
    "name": "ipython",
    "version": 3
   },
   "file_extension": ".py",
   "mimetype": "text/x-python",
   "name": "python",
   "nbconvert_exporter": "python",
   "pygments_lexer": "ipython3",
   "version": "3.7.4"
  }
 },
 "nbformat": 4,
 "nbformat_minor": 2
}
