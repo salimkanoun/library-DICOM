{
 "cells": [
  {
   "cell_type": "code",
   "execution_count": 1,
   "metadata": {},
   "outputs": [],
   "source": [
    "import matplotlib.pyplot as plt\n",
    "import numpy as np\n",
    "import json \n",
    "\n",
    "from dicom_to_cnn.model.segmentation.ExportSegmentation_Writer import ExportSegmentation_Writer\n",
    "from dicom_to_cnn.model.reader.Series import Series \n",
    "\n",
    "import SimpleITK as sitk "
   ]
  },
  {
   "cell_type": "code",
   "execution_count": null,
   "metadata": {},
   "outputs": [],
   "source": [
    "pet_path = : 'abs path of the associated serie PET'\n",
    "mask_img =: a 3D sitk.Image of shape (z,y,x)\n",
    "filename = 'name of the generated dicom file'\n",
    "directory_path =  'abs//path//directory'\n",
    "mode = 'rtstruct' #or 'dicomseg'\n",
    "writer = ExportSegmentation_Writer(mask_img, mode = mode, pet_path=pet_path)\n",
    "writer.save_file(filename, directory_path)\n",
    "\n",
    "\n"
   ]
  }
 ],
 "metadata": {
  "kernelspec": {
   "display_name": "Python 3",
   "language": "python",
   "name": "python3"
  },
  "language_info": {
   "codemirror_mode": {
    "name": "ipython",
    "version": 3
   },
   "file_extension": ".py",
   "mimetype": "text/x-python",
   "name": "python",
   "nbconvert_exporter": "python",
   "pygments_lexer": "ipython3",
   "version": "3.7.4"
  }
 },
 "nbformat": 4,
 "nbformat_minor": 2
}
