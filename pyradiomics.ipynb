{
 "metadata": {
  "language_info": {
   "codemirror_mode": {
    "name": "ipython",
    "version": 3
   },
   "file_extension": ".py",
   "mimetype": "text/x-python",
   "name": "python",
   "nbconvert_exporter": "python",
   "pygments_lexer": "ipython3",
   "version": "3.8.5-final"
  },
  "orig_nbformat": 2,
  "kernelspec": {
   "name": "python38564bit9a8409779cd04c3cbd0c5f1e859a644e",
   "display_name": "Python 3.8.5 64-bit"
  }
 },
 "nbformat": 4,
 "nbformat_minor": 2,
 "cells": [
  {
   "cell_type": "code",
   "execution_count": 1,
   "metadata": {},
   "outputs": [],
   "source": [
    "from radiomics.featureextractor import RadiomicsFeatureExtractor \n",
    "import SimpleITK as sitk \n",
    "import os \n",
    "import numpy as np \n",
    "from library_dicom.dicom_processor.tools.pyradiomic import *\n",
    "import csv"
   ]
  },
  {
   "cell_type": "code",
   "execution_count": 2,
   "metadata": {},
   "outputs": [],
   "source": [
    "csv_path= '/home/deeplearning/AHL/AHL_NIFTI_V2.csv'\n",
    "csv_file = []\n",
    "with open(csv_path, 'r') as csv_file :\n",
    "    reader = csv.reader(csv_file, delimiter = ',') #liste pour chaque ligne \n",
    "    csv_file = []\n",
    "    for row in reader :\n",
    "        csv_file.append(row)\n",
    "        \n",
    "del csv_file[0] #enlever première ligne"
   ]
  },
  {
   "cell_type": "code",
   "execution_count": 3,
   "metadata": {},
   "outputs": [],
   "source": [
    "dataset = []\n",
    "for row in csv_file : \n",
    "    if 'pet0' in row : \n",
    "        dataset.append(row)"
   ]
  },
  {
   "cell_type": "code",
   "execution_count": 4,
   "metadata": {},
   "outputs": [
    {
     "output_type": "stream",
     "name": "stdout",
     "text": [
      "Nombre de mask à traiter : 118\n"
     ]
    }
   ],
   "source": [
    "print(\"Nombre de mask à traiter :\", len(dataset))"
   ]
  },
  {
   "cell_type": "code",
   "execution_count": 34,
   "metadata": {},
   "outputs": [
    {
     "output_type": "stream",
     "name": "stdout",
     "text": [
      "0\n",
      "taille :  (256, 256, 299, 11)\n",
      "1\n",
      "taille :  (256, 256, 335, 22)\n",
      "2\n",
      "taille :  (144, 144, 234, 10)\n",
      "3\n",
      "taille :  (144, 144, 255, 20)\n",
      "4\n",
      "taille :  (144, 144, 297, 36)\n",
      "5\n",
      "taille :  (256, 256, 287, 6)\n",
      "6\n",
      "taille :  (168, 168, 297, 17)\n",
      "7\n",
      "taille :  (128, 128, 335, 7)\n",
      "8\n",
      "taille :  (168, 168, 244, 21)\n",
      "9\n",
      "taille :  (200, 200, 419, 51)\n",
      "10\n",
      "taille :  (144, 144, 234, 6)\n",
      "11\n",
      "taille :  (144, 144, 234, 10)\n",
      "12\n",
      "taille :  (256, 256, 335, 111)\n",
      "13\n",
      "taille :  (256, 256, 299, 13)\n",
      "14\n",
      "taille :  (256, 256, 287, 29)\n",
      "15\n",
      "taille :  (256, 256, 287, 13)\n",
      "16\n",
      "taille :  (256, 256, 327, 17)\n",
      "17\n",
      "taille :  (144, 144, 213, 12)\n",
      "18\n",
      "taille :  (144, 144, 255, 12)\n",
      "19\n",
      "taille :  (168, 168, 287, 24)\n",
      "20\n",
      "taille :  (144, 144, 234, 5)\n",
      "21\n",
      "taille :  (256, 256, 299, 3)\n",
      "22\n",
      "taille :  (144, 144, 276, 61)\n",
      "23\n",
      "taille :  (128, 128, 327, 53)\n",
      "24\n",
      "taille :  (168, 168, 215, 16)\n",
      "25\n",
      "taille :  (168, 168, 479, 38)\n",
      "26\n",
      "taille :  (200, 200, 323, 38)\n",
      "27\n",
      "taille :  (144, 144, 276, 7)\n",
      "28\n",
      "taille :  (128, 128, 299, 7)\n",
      "29\n",
      "taille :  (256, 256, 371, 11)\n",
      "30\n",
      "taille :  (256, 256, 227, 16)\n",
      "31\n",
      "taille :  (200, 200, 481, 88)\n",
      "32\n",
      "taille :  (168, 168, 324, 14)\n",
      "33\n",
      "taille :  (169, 169, 213, 23)\n",
      "34\n",
      "taille :  (256, 256, 299, 7)\n",
      "35\n",
      "taille :  (144, 144, 276, 16)\n",
      "36\n",
      "taille :  (256, 256, 371, 8)\n",
      "37\n",
      "taille :  (168, 168, 286, 7)\n",
      "38\n",
      "taille :  (168, 168, 287, 7)\n",
      "39\n",
      "taille :  (144, 144, 234, 4)\n",
      "40\n",
      "taille :  (169, 169, 234, 11)\n",
      "41\n",
      "taille :  (200, 200, 419, 29)\n",
      "42\n",
      "taille :  (128, 128, 299, 14)\n",
      "43\n",
      "taille :  (144, 144, 234, 22)\n",
      "44\n",
      "taille :  (256, 256, 287, 5)\n",
      "45\n",
      "taille :  (256, 256, 299, 8)\n",
      "46\n",
      "taille :  (144, 144, 234, 10)\n",
      "47\n",
      "taille :  (144, 144, 213, 23)\n",
      "48\n",
      "taille :  (256, 256, 287, 10)\n",
      "49\n",
      "taille :  (200, 200, 481, 4)\n",
      "50\n",
      "taille :  (200, 200, 419, 52)\n",
      "51\n",
      "taille :  (144, 144, 213, 5)\n",
      "52\n",
      "taille :  (256, 256, 335, 15)\n",
      "53\n",
      "taille :  (128, 128, 313, 17)\n",
      "54\n",
      "taille :  (144, 144, 234, 27)\n",
      "55\n",
      "taille :  (144, 144, 213, 19)\n",
      "56\n",
      "taille :  (256, 256, 327, 7)\n",
      "57\n",
      "taille :  (200, 200, 419, 33)\n",
      "58\n",
      "taille :  (256, 256, 287, 5)\n",
      "59\n",
      "taille :  (144, 144, 255, 23)\n",
      "60\n",
      "taille :  (256, 256, 287, 11)\n",
      "61\n",
      "taille :  (168, 168, 429, 53)\n",
      "62\n",
      "taille :  (168, 168, 479, 9)\n",
      "63\n",
      "taille :  (144, 144, 213, 3)\n",
      "64\n",
      "taille :  (144, 144, 255)\n",
      "65\n",
      "taille :  (144, 144, 255, 8)\n",
      "66\n",
      "taille :  (256, 256, 299, 28)\n",
      "67\n",
      "taille :  (256, 256, 335, 13)\n",
      "68\n",
      "taille :  (256, 256, 287, 41)\n",
      "69\n",
      "taille :  (128, 128, 313, 33)\n",
      "70\n",
      "taille :  (168, 168, 405, 17)\n",
      "71\n",
      "taille :  (200, 200, 419, 21)\n",
      "72\n",
      "taille :  (200, 200, 357, 39)\n",
      "73\n",
      "taille :  (192, 192, 335, 7)\n",
      "74\n",
      "taille :  (144, 144, 276, 33)\n",
      "75\n",
      "taille :  (200, 200, 419, 31)\n",
      "76\n",
      "taille :  (128, 128, 263, 14)\n",
      "77\n",
      "taille :  (128, 128, 275, 14)\n",
      "78\n",
      "taille :  (144, 144, 234, 19)\n",
      "79\n",
      "taille :  (256, 256, 299, 59)\n",
      "80\n",
      "taille :  (144, 144, 234, 11)\n",
      "81\n",
      "taille :  (200, 200, 419, 76)\n",
      "82\n",
      "taille :  (144, 144, 255, 10)\n",
      "83\n",
      "taille :  (168, 168, 248, 16)\n",
      "84\n",
      "taille :  (256, 256, 287, 7)\n",
      "85\n",
      "taille :  (256, 256, 287, 9)\n",
      "86\n",
      "taille :  (144, 144, 276, 33)\n",
      "87\n",
      "taille :  (128, 128, 313, 12)\n",
      "88\n",
      "taille :  (144, 144, 276, 18)\n",
      "89\n",
      "taille :  (168, 168, 287, 22)\n",
      "90\n",
      "taille :  (144, 144, 255, 12)\n",
      "91\n",
      "taille :  (256, 256, 299, 12)\n",
      "92\n",
      "taille :  (144, 144, 255, 4)\n",
      "93\n",
      "taille :  (144, 144, 276, 7)\n",
      "94\n",
      "taille :  (128, 128, 299, 30)\n",
      "95\n",
      "taille :  (144, 144, 255, 21)\n",
      "96\n",
      "taille :  (144, 144, 255, 12)\n",
      "97\n",
      "taille :  (168, 168, 324, 55)\n",
      "98\n",
      "taille :  (144, 144, 234, 2)\n",
      "99\n",
      "taille :  (144, 144, 213, 10)\n",
      "100\n",
      "taille :  (256, 256, 287, 8)\n",
      "101\n",
      "taille :  (168, 168, 215, 6)\n",
      "102\n",
      "taille :  (256, 256, 299, 19)\n",
      "103\n",
      "taille :  (256, 256, 335, 7)\n",
      "104\n",
      "taille :  (200, 200, 419, 55)\n",
      "105\n",
      "taille :  (144, 144, 276, 10)\n",
      "106\n",
      "taille :  (144, 144, 276, 22)\n",
      "107\n",
      "taille :  (144, 144, 255, 31)\n",
      "108\n",
      "taille :  (256, 256, 299, 41)\n",
      "109\n",
      "taille :  (200, 200, 357, 90)\n",
      "110\n",
      "taille :  (128, 128, 313, 38)\n",
      "111\n",
      "taille :  (200, 200, 221, 14)\n",
      "112\n",
      "taille :  (128, 128, 275, 11)\n",
      "113\n",
      "taille :  (144, 144, 234, 13)\n",
      "114\n",
      "taille :  (144, 144, 234, 9)\n",
      "115\n",
      "taille :  (168, 168, 186, 12)\n",
      "116\n",
      "taille :  (256, 256, 299, 12)\n",
      "117\n",
      "taille :  (168, 168, 405, 30)\n"
     ]
    }
   ],
   "source": [
    "for data in dataset : \n",
    "    print(dataset.index(data))\n",
    "    img = sitk.ReadImage(data[-1])\n",
    "    array = sitk.GetArrayFromImage(img).transpose()\n",
    "    print(\"taille : \" , array.shape)"
   ]
  },
  {
   "cell_type": "code",
   "execution_count": 5,
   "metadata": {
    "tags": []
   },
   "outputs": [
    {
     "output_type": "stream",
     "name": "stdout",
     "text": [
      "0\n",
      "mask seuillé\n",
      "GLCM is symmetrical, therefore Sum Average = 2 * Joint Average, only 1 needs to be calculated\n",
      "GLCM is symmetrical, therefore Sum Average = 2 * Joint Average, only 1 needs to be calculated\n",
      "GLCM is symmetrical, therefore Sum Average = 2 * Joint Average, only 1 needs to be calculated\n",
      "GLCM is symmetrical, therefore Sum Average = 2 * Joint Average, only 1 needs to be calculated\n",
      "GLCM is symmetrical, therefore Sum Average = 2 * Joint Average, only 1 needs to be calculated\n",
      "GLCM is symmetrical, therefore Sum Average = 2 * Joint Average, only 1 needs to be calculated\n",
      "GLCM is symmetrical, therefore Sum Average = 2 * Joint Average, only 1 needs to be calculated\n",
      "GLCM is symmetrical, therefore Sum Average = 2 * Joint Average, only 1 needs to be calculated\n",
      "GLCM is symmetrical, therefore Sum Average = 2 * Joint Average, only 1 needs to be calculated\n",
      "GLCM is symmetrical, therefore Sum Average = 2 * Joint Average, only 1 needs to be calculated\n",
      "GLCM is symmetrical, therefore Sum Average = 2 * Joint Average, only 1 needs to be calculated\n",
      "1\n",
      "mask seuillé\n",
      "GLCM is symmetrical, therefore Sum Average = 2 * Joint Average, only 1 needs to be calculated\n",
      "GLCM is symmetrical, therefore Sum Average = 2 * Joint Average, only 1 needs to be calculated\n",
      "GLCM is symmetrical, therefore Sum Average = 2 * Joint Average, only 1 needs to be calculated\n",
      "GLCM is symmetrical, therefore Sum Average = 2 * Joint Average, only 1 needs to be calculated\n",
      "GLCM is symmetrical, therefore Sum Average = 2 * Joint Average, only 1 needs to be calculated\n",
      "GLCM is symmetrical, therefore Sum Average = 2 * Joint Average, only 1 needs to be calculated\n",
      "GLCM is symmetrical, therefore Sum Average = 2 * Joint Average, only 1 needs to be calculated\n",
      "GLCM is symmetrical, therefore Sum Average = 2 * Joint Average, only 1 needs to be calculated\n",
      "GLCM is symmetrical, therefore Sum Average = 2 * Joint Average, only 1 needs to be calculated\n",
      "GLCM is symmetrical, therefore Sum Average = 2 * Joint Average, only 1 needs to be calculated\n",
      "GLCM is symmetrical, therefore Sum Average = 2 * Joint Average, only 1 needs to be calculated\n",
      "GLCM is symmetrical, therefore Sum Average = 2 * Joint Average, only 1 needs to be calculated\n",
      "GLCM is symmetrical, therefore Sum Average = 2 * Joint Average, only 1 needs to be calculated\n",
      "GLCM is symmetrical, therefore Sum Average = 2 * Joint Average, only 1 needs to be calculated\n",
      "GLCM is symmetrical, therefore Sum Average = 2 * Joint Average, only 1 needs to be calculated\n",
      "GLCM is symmetrical, therefore Sum Average = 2 * Joint Average, only 1 needs to be calculated\n",
      "GLCM is symmetrical, therefore Sum Average = 2 * Joint Average, only 1 needs to be calculated\n",
      "GLCM is symmetrical, therefore Sum Average = 2 * Joint Average, only 1 needs to be calculated\n",
      "GLCM is symmetrical, therefore Sum Average = 2 * Joint Average, only 1 needs to be calculated\n",
      "GLCM is symmetrical, therefore Sum Average = 2 * Joint Average, only 1 needs to be calculated\n",
      "GLCM is symmetrical, therefore Sum Average = 2 * Joint Average, only 1 needs to be calculated\n",
      "GLCM is symmetrical, therefore Sum Average = 2 * Joint Average, only 1 needs to be calculated\n"
     ]
    }
   ],
   "source": [
    "distance_max = []\n",
    "for nifti in dataset[0:2] : \n",
    "    try : \n",
    "        print(dataset.index(nifti))\n",
    "        liste_center = get_center_of_mass(nifti[-1], thresh = True, pet_path=nifti[-2])\n",
    "        d_max = calcul_distance_max(liste_center)\n",
    "        nifti.append(d_max)\n",
    "    except Exception as err : \n",
    "        print(err)"
   ]
  },
  {
   "cell_type": "code",
   "execution_count": 7,
   "metadata": {},
   "outputs": [
    {
     "output_type": "execute_result",
     "data": {
      "text/plain": [
       "['CAS^LA',\n",
       " '13011101171001',\n",
       " '1.2.840.113619.2.55.3.34213890.622.1304662387.127',\n",
       " 'pet0',\n",
       " '/home/deeplearning/AHL/AHL_NIFTI/13011101171001/PET0/1.2.840.113619.2.55.3.34213890.622.1304662387.127_nifti_CT.nii',\n",
       " '/home/deeplearning/AHL/AHL_NIFTI/13011101171001/PET0/1.2.840.113619.2.55.3.34213890.622.1304662387.127_nifti_PT.nii',\n",
       " '/home/deeplearning/AHL/AHL_NIFTI/13011101171001/PET0/1.2.840.113619.2.55.3.34213890.622.1304662387.127_nifti_mask.nii',\n",
       " 693.34]"
      ]
     },
     "metadata": {},
     "execution_count": 7
    }
   ],
   "source": [
    "dataset[1]"
   ]
  },
  {
   "cell_type": "code",
   "execution_count": 6,
   "metadata": {},
   "outputs": [],
   "source": [
    "#find date in json \n",
    "import json \n",
    "liste_json = []\n",
    "list_dir = os.listdir('/home/deeplearning/AHL/AHL_JSON')\n",
    "list_dir.remove('AHL_JSON_1')\n",
    "for file_ in list_dir : \n",
    "    liste_json.append(os.path.join('/home/deeplearning/AHL/AHL_JSON', file_))\n",
    "\n",
    "\n",
    "for data in dataset : \n",
    "    for json_path in liste_json : \n",
    "        with open(json_path) as json_file : \n",
    "            reader = json.load(json_file)\n",
    "\n",
    "            uid = reader['study']['StudyInstanceUID']\n",
    "\n",
    "            if uid == data[2] : \n",
    "\n",
    "                data.append(reader['study']['StudyDate'])\n",
    "\n",
    "                break\n",
    "\n",
    "    "
   ]
  },
  {
   "cell_type": "code",
   "execution_count": 7,
   "metadata": {},
   "outputs": [
    {
     "output_type": "execute_result",
     "data": {
      "text/plain": [
       "['TAB^DO',\n",
       " '13011101051024',\n",
       " '1.2.840.113619.2.290.3.279748722.295.1383548122.441',\n",
       " 'pet0',\n",
       " '/home/deeplearning/AHL/AHL_NIFTI/13011101051024/PET0/1.2.840.113619.2.290.3.279748722.295.1383548122.441_nifti_CT.nii',\n",
       " '/home/deeplearning/AHL/AHL_NIFTI/13011101051024/PET0/1.2.840.113619.2.290.3.279748722.295.1383548122.441_nifti_PT.nii',\n",
       " '/home/deeplearning/AHL/AHL_NIFTI/13011101051024/PET0/1.2.840.113619.2.290.3.279748722.295.1383548122.441_nifti_mask.nii',\n",
       " 174.42,\n",
       " '20131104']"
      ]
     },
     "metadata": {},
     "execution_count": 7
    }
   ],
   "source": [
    "dataset[0]"
   ]
  },
  {
   "cell_type": "code",
   "execution_count": 8,
   "metadata": {},
   "outputs": [],
   "source": [
    "for data in dataset : \n",
    "    year = data[-1][0:4]\n",
    "    month = data[-1][4:6]\n",
    "    day = data[-1][6:8]\n",
    "    l = [year, month, day]\n",
    "    date = \"_\".join(l)\n",
    "\n",
    "    data.append(date)"
   ]
  },
  {
   "cell_type": "code",
   "execution_count": 12,
   "metadata": {
    "tags": []
   },
   "outputs": [],
   "source": [
    "nifti_directory = '/home/deeplearning/AHL'\n",
    "filename = 'AHL2011_dMax.csv'\n",
    "\n",
    "with open(os.path.join(nifti_directory, filename), 'w') as csv_file : \n",
    "    csv_writer = csv.writer(csv_file, delimiter=',', quotechar='\"', quoting=csv.QUOTE_MINIMAL)\n",
    "    csv_writer.writerow([\"PATIENT ID\", \"DATE\", \"STUDY_UID\", \"D_MAX\"])\n",
    "    for i in range(len(dataset)) : \n",
    "        if i != 64 : \n",
    "            csv_writer.writerow([dataset[i][1], dataset[i][-1], dataset[i][2], dataset[i][-3]])\n",
    "        else : \n",
    "            csv_writer.writerow([dataset[i][1], dataset[i][-1], dataset[i][2], 0])"
   ]
  },
  {
   "cell_type": "code",
   "execution_count": null,
   "metadata": {},
   "outputs": [],
   "source": []
  },
  {
   "cell_type": "code",
   "execution_count": null,
   "metadata": {},
   "outputs": [],
   "source": []
  },
  {
   "cell_type": "code",
   "execution_count": null,
   "metadata": {},
   "outputs": [],
   "source": []
  },
  {
   "cell_type": "code",
   "execution_count": 5,
   "metadata": {},
   "outputs": [],
   "source": [
    "from library_dicom.dicom_processor.tools.threshold_mask import * \n",
    "from library_dicom.dicom_processor.tools.create_mip import *\n",
    "\n",
    "dataset[0]\n",
    "\n",
    "mask_array = sitk.GetArrayFromImage(sitk.ReadImage(dataset[64][-1])).transpose()\n",
    "pet_array = sitk.GetArrayFromImage(sitk.ReadImage(dataset[64][-2])).transpose()"
   ]
  },
  {
   "cell_type": "code",
   "execution_count": 9,
   "metadata": {},
   "outputs": [
    {
     "output_type": "execute_result",
     "data": {
      "text/plain": [
       "'/media/deeplearning/78ca2911-9e9f-4f78-b80a-848024b95f92/test_gif/PT_MASK_0.png'"
      ]
     },
     "metadata": {},
     "execution_count": 9
    }
   ],
   "source": [
    "directory = '/media/deeplearning/78ca2911-9e9f-4f78-b80a-848024b95f92/test_gif'\n",
    "mip_superposition_show(mask_array, pet_array, angle = 0, vmin=0, vmax = 10, cmap_pet = 'gray', cmap_mask = 'hsv', save = True, directory = directory)"
   ]
  },
  {
   "cell_type": "code",
   "execution_count": 12,
   "metadata": {},
   "outputs": [],
   "source": [
    "mip_superposition_gif(mask_array, pet_array, vmin = 0, vmax = 5, cmap_pet = 'Greys', cmap_mask = 'hsv', directory =directory, name='test')"
   ]
  }
 ]
}