{
 "metadata": {
  "language_info": {
   "codemirror_mode": {
    "name": "ipython",
    "version": 3
   },
   "file_extension": ".py",
   "mimetype": "text/x-python",
   "name": "python",
   "nbconvert_exporter": "python",
   "pygments_lexer": "ipython3",
   "version": "3.8.5"
  },
  "orig_nbformat": 2,
  "kernelspec": {
   "name": "python38264bit4afc185bc98b42c389abdbb3fbeec8dd",
   "display_name": "Python 3.8.5 64-bit"
  },
  "metadata": {
   "interpreter": {
    "hash": "31f2aee4e71d21fbe5cf8b01ff0e069b9275f58929596ceb00d14d90e3e16cd6"
   }
  }
 },
 "nbformat": 4,
 "nbformat_minor": 2,
 "cells": [
  {
   "cell_type": "code",
   "execution_count": 1,
   "metadata": {},
   "outputs": [],
   "source": [
    "from library_dicom.dicom_processor.tools.pyradiomic import *\n",
    "import SimpleITK as sitk \n",
    "import os \n",
    "import numpy as np \n",
    "import csv\n",
    "import json \n",
    "from library_dicom.dicom_processor.model.csv_reader.CsvReader import CsvReader"
   ]
  },
  {
   "cell_type": "code",
   "execution_count": 2,
   "metadata": {},
   "outputs": [],
   "source": [
    "csv_path= '/media/deeplearning/LACIE SHARE/PVAB/NIFTI/PVAB_NIFTI.csv'\n",
    "with open(csv_path, 'r') as csv_file :\n",
    "    reader = csv.reader(csv_file, delimiter = ',') #liste pour chaque ligne \n",
    "    csv_file_ = []\n",
    "    for row in reader :\n",
    "        csv_file_.append(row)\n",
    "        \n",
    "del csv_file_[0] #enlever première ligne"
   ]
  },
  {
   "cell_type": "code",
   "execution_count": 3,
   "metadata": {},
   "outputs": [],
   "source": [
    "for row in csv_file_ : \n",
    "    ct = row[4]\n",
    "    pet = row[5]\n",
    "    mask = row[6]\n",
    "    x = ct.replace('/media/oncopole/LACIE SHARE/PVAB', '/media/oncopole/LACIE SHARE/PVAB/NIFTI')\n",
    "    y = pet.replace('/media/oncopole/LACIE SHARE/PVAB', '/media/oncopole/LACIE SHARE/PVAB/NIFTI')\n",
    "    z = mask.replace('/media/oncopole/LACIE SHARE/PVAB', '/media/oncopole/LACIE SHARE/PVAB/NIFTI')\n",
    "    row[4]= x \n",
    "    row[5] = y \n",
    "    row[6] = z "
   ]
  },
  {
   "cell_type": "code",
   "execution_count": null,
   "metadata": {},
   "outputs": [],
   "source": [
    "directory = '/media/deeplearning/LACIE SHARE/PVAB/NIFTI/'\n",
    "filename = 'PVAB_NIFTI_V2.csv'\n",
    "\n",
    "with open(os.path.join(directory, filename), 'w') as csv_file : \n",
    "    csv_writer = csv.writer(csv_file, delimiter=',', quotechar='\"', quoting=csv.QUOTE_MINIMAL)\n",
    "    csv_writer.writerow([\"PATIENT NAME\", \"PATIENT_ID\", \"STUDY UID\", \"PET\", \"NIFTI_CT\", \"NIFTI_PET\", \"NIFTI_MASK\", \"STUDY\"])\n",
    "    for serie in dataset: \n",
    "        csv_writer.writerow([serie[0], serie[1], serie[2], serie[3], serie[4], serie[5], serie[6], serie[7]])"
   ]
  },
  {
   "cell_type": "code",
   "execution_count": null,
   "metadata": {},
   "outputs": [],
   "source": []
  },
  {
   "cell_type": "code",
   "execution_count": null,
   "metadata": {},
   "outputs": [],
   "source": []
  },
  {
   "cell_type": "code",
   "execution_count": 2,
   "metadata": {},
   "outputs": [],
   "source": [
    "\n",
    "csv_path= '/media/deeplearning/LACIE SHARE/PVAB/NIFTI/PVAB_NIFTI.csv'\n",
    "with open(csv_path, 'r') as csv_file :\n",
    "    reader = csv.reader(csv_file, delimiter = ',') #liste pour chaque ligne \n",
    "    csv_file_ = []\n",
    "    for row in reader :\n",
    "        csv_file_.append(row)\n",
    "        \n",
    "del csv_file_[0] #enlever première ligne"
   ]
  },
  {
   "cell_type": "code",
   "execution_count": 3,
   "metadata": {},
   "outputs": [
    {
     "output_type": "stream",
     "name": "stdout",
     "text": [
      "Nombre de mask à traiter :  76\n"
     ]
    }
   ],
   "source": [
    "print(\"Nombre de mask à traiter : \", len(csv_file_))"
   ]
  },
  {
   "source": [
    "#### - Keep only pet 0 "
   ],
   "cell_type": "markdown",
   "metadata": {}
  },
  {
   "cell_type": "code",
   "execution_count": 4,
   "metadata": {},
   "outputs": [
    {
     "output_type": "stream",
     "name": "stdout",
     "text": [
      "76\n"
     ]
    }
   ],
   "source": [
    "pet0 = []\n",
    "for row in csv_file_ : \n",
    "    if 'PET0' in row : \n",
    "        pet0.append(row)\n",
    "print(len(pet0))"
   ]
  },
  {
   "cell_type": "code",
   "execution_count": 5,
   "metadata": {
    "tags": []
   },
   "outputs": [],
   "source": [
    "#get date \n",
    "json_path = '/media/deeplearning/LACIE SHARE/PVAB/pvab_dataset.json'\n",
    "dataset = []\n",
    "with open(json_path) as json_file : \n",
    "    reader = json.load(json_file)\n",
    "    for info in reader :\n",
    "        dataset.append(info)\n",
    "\n",
    "#print(len(dataset))\n",
    "for row in pet0 : \n",
    "    patient_id = row[0]\n",
    "    for liste in dataset : \n",
    "        if patient_id in liste : \n",
    "            row.append(liste[-1])\n",
    "\n",
    "#check if every study has its csv \n",
    "for row in pet0 : \n",
    "    if len(row) != 9 : \n",
    "        print(row)\n"
   ]
  },
  {
   "cell_type": "code",
   "execution_count": 9,
   "metadata": {},
   "outputs": [],
   "source": [
    "#get_date \n",
    "for row in pet0 : \n",
    "    #change csv_path \n",
    "    csv_file_path = row[-1]\n",
    "    x = csv_file_path.replace('oncopole', 'deeplearning')\n",
    "    row[-1] = x \n",
    "\n",
    "    #change pet and mask path \n",
    "    pet = row[5]\n",
    "    mask= row[6]\n",
    "    x = pet.replace('oncopole', 'deeplearning')\n",
    "    y = mask.replace('oncopole', 'deeplearning')\n",
    "    row[5] = x \n",
    "    row[6] = y \n",
    "\n",
    "    #get date \n",
    "\n",
    "    reader = CsvReader(row[-1])\n",
    "    date = reader.get_date()\n",
    "    row.append(date)\n"
   ]
  },
  {
   "cell_type": "code",
   "execution_count": 10,
   "metadata": {},
   "outputs": [],
   "source": [
    "for row in pet0 : \n",
    "    if len(row) != 10 : \n",
    "        print(row)"
   ]
  },
  {
   "cell_type": "code",
   "execution_count": 11,
   "metadata": {},
   "outputs": [
    {
     "output_type": "execute_result",
     "data": {
      "text/plain": [
       "['13014101023001',\n",
       " '13014101023001',\n",
       " '1.2.276.0.7230010.3.1.2.380371712.1.1605271362.777715',\n",
       " 'PET0',\n",
       " '/media/oncopole/LACIE SHARE/PVAB/13014101023001/PET0/1.2.276.0.7230010.3.1.2.380371712.1.1605271362.777715_nifti_CT.nii',\n",
       " '/media/deeplearning/LACIE SHARE/PVAB/13014101023001/PET0/1.2.276.0.7230010.3.1.2.380371712.1.1605271362.777715_nifti_PT.nii',\n",
       " '/media/deeplearning/LACIE SHARE/PVAB/13014101023001/PET0/1.2.276.0.7230010.3.1.2.380371712.1.1605271362.777715_nifti_mask.nii',\n",
       " 'pvab',\n",
       " '/media/deeplearning/LACIE SHARE/PVAB/PVAB_csv/1004/13014101023001_PET0_41.csv',\n",
       " ' May 15_2017']"
      ]
     },
     "metadata": {},
     "execution_count": 11
    }
   ],
   "source": [
    "pet0[0]"
   ]
  },
  {
   "cell_type": "code",
   "execution_count": 12,
   "metadata": {
    "tags": [
     "outputPrepend"
    ]
   },
   "outputs": [
    {
     "output_type": "stream",
     "name": "stdout",
     "text": [
      "ase.cxx:97:\nsitk::ERROR: The file \"/media/deeplearning/LACIE SHARE/PVAB/13014101213003/PET0/1.2.276.0.7230010.3.1.2.346817536.1.1604927295.742870_nifti_PT.nii\" does not exist.\n53\n['13014101343001', '13014101343001', '1.2.276.0.7230010.3.1.2.447480576.1.1615450568.262291', 'PET0', '/media/oncopole/LACIE SHARE/PVAB/13014101343001/PET0/1.2.276.0.7230010.3.1.2.447480576.1.1615450568.262291_nifti_CT.nii', '/media/deeplearning/LACIE SHARE/PVAB/13014101343001/PET0/1.2.276.0.7230010.3.1.2.447480576.1.1615450568.262291_nifti_PT.nii', '/media/deeplearning/LACIE SHARE/PVAB/13014101343001/PET0/1.2.276.0.7230010.3.1.2.447480576.1.1615450568.262291_nifti_mask.nii', 'pvab', '/media/deeplearning/LACIE SHARE/PVAB/PVAB_csv/1024/13014101343001_PET0_41.csv', ' Sep 22_2016']\nException thrown in SimpleITK ImageFileReader_Execute: /tmp/SimpleITK/Code/IO/src/sitkImageReaderBase.cxx:97:\nsitk::ERROR: The file \"/media/deeplearning/LACIE SHARE/PVAB/13014101343001/PET0/1.2.276.0.7230010.3.1.2.447480576.1.1615450568.262291_nifti_PT.nii\" does not exist.\n54\n['13014101343002', '13014101343002', '1.2.276.0.7230010.3.1.2.447480576.1.1615452191.266251', 'PET0', '/media/oncopole/LACIE SHARE/PVAB/13014101343002/PET0/1.2.276.0.7230010.3.1.2.447480576.1.1615452191.266251_nifti_CT.nii', '/media/deeplearning/LACIE SHARE/PVAB/13014101343002/PET0/1.2.276.0.7230010.3.1.2.447480576.1.1615452191.266251_nifti_PT.nii', '/media/deeplearning/LACIE SHARE/PVAB/13014101343002/PET0/1.2.276.0.7230010.3.1.2.447480576.1.1615452191.266251_nifti_mask.nii', 'pvab', '/media/deeplearning/LACIE SHARE/PVAB/PVAB_csv/1026/13014101343002_PET0_41.csv', ' May 22_2017']\nException thrown in SimpleITK ImageFileReader_Execute: /tmp/SimpleITK/Code/IO/src/sitkImageReaderBase.cxx:97:\nsitk::ERROR: The file \"/media/deeplearning/LACIE SHARE/PVAB/13014101343002/PET0/1.2.276.0.7230010.3.1.2.447480576.1.1615452191.266251_nifti_PT.nii\" does not exist.\n55\n['13014101343004', '13014101343004', '1.2.276.0.7230010.3.1.2.447480576.1.1615452949.270503', 'PET0', '/media/oncopole/LACIE SHARE/PVAB/13014101343004/PET0/1.2.276.0.7230010.3.1.2.447480576.1.1615452949.270503_nifti_CT.nii', '/media/deeplearning/LACIE SHARE/PVAB/13014101343004/PET0/1.2.276.0.7230010.3.1.2.447480576.1.1615452949.270503_nifti_PT.nii', '/media/deeplearning/LACIE SHARE/PVAB/13014101343004/PET0/1.2.276.0.7230010.3.1.2.447480576.1.1615452949.270503_nifti_mask.nii', 'pvab', '/media/deeplearning/LACIE SHARE/PVAB/PVAB_csv/1022/13014101343004_PET0_41.csv', ' Oct 20_2017']\nException thrown in SimpleITK ImageFileReader_Execute: /tmp/SimpleITK/Code/IO/src/sitkImageReaderBase.cxx:97:\nsitk::ERROR: The file \"/media/deeplearning/LACIE SHARE/PVAB/13014101343004/PET0/1.2.276.0.7230010.3.1.2.447480576.1.1615452949.270503_nifti_PT.nii\" does not exist.\n56\n['13014101603001', '13014101603001', '1.2.276.0.7230010.3.1.2.447480576.1.1612953073.237455', 'PET0', '/media/oncopole/LACIE SHARE/PVAB/13014101603001/PET0/1.2.276.0.7230010.3.1.2.447480576.1.1612953073.237455_nifti_CT.nii', '/media/deeplearning/LACIE SHARE/PVAB/13014101603001/PET0/1.2.276.0.7230010.3.1.2.447480576.1.1612953073.237455_nifti_PT.nii', '/media/deeplearning/LACIE SHARE/PVAB/13014101603001/PET0/1.2.276.0.7230010.3.1.2.447480576.1.1612953073.237455_nifti_mask.nii', 'pvab', '/media/deeplearning/LACIE SHARE/PVAB/PVAB_csv/955/13014101603001_PET0_41.csv', ' Mar 18_2016']\nException thrown in SimpleITK ImageFileReader_Execute: /tmp/SimpleITK/Code/IO/src/sitkImageReaderBase.cxx:97:\nsitk::ERROR: The file \"/media/deeplearning/LACIE SHARE/PVAB/13014101603001/PET0/1.2.276.0.7230010.3.1.2.447480576.1.1612953073.237455_nifti_PT.nii\" does not exist.\n57\n['13014101603002', '13014101603002', '1.2.276.0.7230010.3.1.2.447480576.1.1612954852.240673', 'PET0', '/media/oncopole/LACIE SHARE/PVAB/13014101603002/PET0/1.2.276.0.7230010.3.1.2.447480576.1.1612954852.240673_nifti_CT.nii', '/media/deeplearning/LACIE SHARE/PVAB/13014101603002/PET0/1.2.276.0.7230010.3.1.2.447480576.1.1612954852.240673_nifti_PT.nii', '/media/deeplearning/LACIE SHARE/PVAB/13014101603002/PET0/1.2.276.0.7230010.3.1.2.447480576.1.1612954852.240673_nifti_mask.nii', 'pvab', '/media/deeplearning/LACIE SHARE/PVAB/PVAB_csv/919/13014101603002_PET0_41.csv', ' Nov 7_2017']\nException thrown in SimpleITK ImageFileReader_Execute: /tmp/SimpleITK/Code/IO/src/sitkImageReaderBase.cxx:97:\nsitk::ERROR: The file \"/media/deeplearning/LACIE SHARE/PVAB/13014101603002/PET0/1.2.276.0.7230010.3.1.2.447480576.1.1612954852.240673_nifti_PT.nii\" does not exist.\n58\n['13014101643001', '13014101643001', '1.2.276.0.7230010.3.1.2.413926400.1.1609937326.491502', 'PET0', '/media/oncopole/LACIE SHARE/PVAB/13014101643001/PET0/1.2.276.0.7230010.3.1.2.413926400.1.1609937326.491502_nifti_CT.nii', '/media/deeplearning/LACIE SHARE/PVAB/13014101643001/PET0/1.2.276.0.7230010.3.1.2.413926400.1.1609937326.491502_nifti_PT.nii', '/media/deeplearning/LACIE SHARE/PVAB/13014101643001/PET0/1.2.276.0.7230010.3.1.2.413926400.1.1609937326.491502_nifti_mask.nii', 'pvab', '/media/deeplearning/LACIE SHARE/PVAB/PVAB_csv/968/13014101643001_PET0_41.csv', ' Dec 14_2015']\nException thrown in SimpleITK ImageFileReader_Execute: /tmp/SimpleITK/Code/IO/src/sitkImageReaderBase.cxx:97:\nsitk::ERROR: The file \"/media/deeplearning/LACIE SHARE/PVAB/13014101643001/PET0/1.2.276.0.7230010.3.1.2.413926400.1.1609937326.491502_nifti_PT.nii\" does not exist.\n59\n['13014101643003', '13014101643003', '1.2.276.0.7230010.3.1.2.413926400.1.1609938458.496611', 'PET0', '/media/oncopole/LACIE SHARE/PVAB/13014101643003/PET0/1.2.276.0.7230010.3.1.2.413926400.1.1609938458.496611_nifti_CT.nii', '/media/deeplearning/LACIE SHARE/PVAB/13014101643003/PET0/1.2.276.0.7230010.3.1.2.413926400.1.1609938458.496611_nifti_PT.nii', '/media/deeplearning/LACIE SHARE/PVAB/13014101643003/PET0/1.2.276.0.7230010.3.1.2.413926400.1.1609938458.496611_nifti_mask.nii', 'pvab', '/media/deeplearning/LACIE SHARE/PVAB/PVAB_csv/986/13014101643003_PET0_41.csv', ' Mar 16_2018']\nException thrown in SimpleITK ImageFileReader_Execute: /tmp/SimpleITK/Code/IO/src/sitkImageReaderBase.cxx:97:\nsitk::ERROR: The file \"/media/deeplearning/LACIE SHARE/PVAB/13014101643003/PET0/1.2.276.0.7230010.3.1.2.413926400.1.1609938458.496611_nifti_PT.nii\" does not exist.\n60\n['13014101763001', '13014101763001', '1.2.276.0.7230010.3.1.2.413926400.1.1611228970.588254', 'PET0', '/media/oncopole/LACIE SHARE/PVAB/13014101763001/PET0/1.2.276.0.7230010.3.1.2.413926400.1.1611228970.588254_nifti_CT.nii', '/media/deeplearning/LACIE SHARE/PVAB/13014101763001/PET0/1.2.276.0.7230010.3.1.2.413926400.1.1611228970.588254_nifti_PT.nii', '/media/deeplearning/LACIE SHARE/PVAB/13014101763001/PET0/1.2.276.0.7230010.3.1.2.413926400.1.1611228970.588254_nifti_mask.nii', 'pvab', '/media/deeplearning/LACIE SHARE/PVAB/PVAB_csv/921/13014101763001_PET0_41.csv', ' Feb 24_2016']\nException thrown in SimpleITK ImageFileReader_Execute: /tmp/SimpleITK/Code/IO/src/sitkImageReaderBase.cxx:97:\nsitk::ERROR: The file \"/media/deeplearning/LACIE SHARE/PVAB/13014101763001/PET0/1.2.276.0.7230010.3.1.2.413926400.1.1611228970.588254_nifti_PT.nii\" does not exist.\n61\n['13014101763002', '13014101763002', '1.2.276.0.7230010.3.1.2.413926400.1.1611231543.590842', 'PET0', '/media/oncopole/LACIE SHARE/PVAB/13014101763002/PET0/1.2.276.0.7230010.3.1.2.413926400.1.1611231543.590842_nifti_CT.nii', '/media/deeplearning/LACIE SHARE/PVAB/13014101763002/PET0/1.2.276.0.7230010.3.1.2.413926400.1.1611231543.590842_nifti_PT.nii', '/media/deeplearning/LACIE SHARE/PVAB/13014101763002/PET0/1.2.276.0.7230010.3.1.2.413926400.1.1611231543.590842_nifti_mask.nii', 'pvab', '/media/deeplearning/LACIE SHARE/PVAB/PVAB_csv/999/13014101763002_PET0_41.csv', ' Mar 16_2017']\nException thrown in SimpleITK ImageFileReader_Execute: /tmp/SimpleITK/Code/IO/src/sitkImageReaderBase.cxx:97:\nsitk::ERROR: The file \"/media/deeplearning/LACIE SHARE/PVAB/13014101763002/PET0/1.2.276.0.7230010.3.1.2.413926400.1.1611231543.590842_nifti_PT.nii\" does not exist.\n62\n['13014101853001', '13014101853001', '1.2.276.0.7230010.3.1.2.413926400.1.1610445011.543278', 'PET0', '/media/oncopole/LACIE SHARE/PVAB/13014101853001/PET0/1.2.276.0.7230010.3.1.2.413926400.1.1610445011.543278_nifti_CT.nii', '/media/deeplearning/LACIE SHARE/PVAB/13014101853001/PET0/1.2.276.0.7230010.3.1.2.413926400.1.1610445011.543278_nifti_PT.nii', '/media/deeplearning/LACIE SHARE/PVAB/13014101853001/PET0/1.2.276.0.7230010.3.1.2.413926400.1.1610445011.543278_nifti_mask.nii', 'pvab', '/media/deeplearning/LACIE SHARE/PVAB/PVAB_csv/923/13014101853001_PET0_41.csv', ' Jun 9_2016']\nException thrown in SimpleITK ImageFileReader_Execute: /tmp/SimpleITK/Code/IO/src/sitkImageReaderBase.cxx:97:\nsitk::ERROR: The file \"/media/deeplearning/LACIE SHARE/PVAB/13014101853001/PET0/1.2.276.0.7230010.3.1.2.413926400.1.1610445011.543278_nifti_PT.nii\" does not exist.\n63\n['13014101873001', '13014101873001', '1.2.276.0.7230010.3.1.2.380371712.1.1605521279.787203', 'PET0', '/media/oncopole/LACIE SHARE/PVAB/13014101873001/PET0/1.2.276.0.7230010.3.1.2.380371712.1.1605521279.787203_nifti_CT.nii', '/media/deeplearning/LACIE SHARE/PVAB/13014101873001/PET0/1.2.276.0.7230010.3.1.2.380371712.1.1605521279.787203_nifti_PT.nii', '/media/deeplearning/LACIE SHARE/PVAB/13014101873001/PET0/1.2.276.0.7230010.3.1.2.380371712.1.1605521279.787203_nifti_mask.nii', 'pvab', '/media/deeplearning/LACIE SHARE/PVAB/PVAB_csv/911/13014101873001_PET0_41.csv', ' Aug 14_2015']\nException thrown in SimpleITK ImageFileReader_Execute: /tmp/SimpleITK/Code/IO/src/sitkImageReaderBase.cxx:97:\nsitk::ERROR: The file \"/media/deeplearning/LACIE SHARE/PVAB/13014101873001/PET0/1.2.276.0.7230010.3.1.2.380371712.1.1605521279.787203_nifti_PT.nii\" does not exist.\n64\n['13014101873002', '13014101873002', '1.2.276.0.7230010.3.1.2.380371712.1.1605529806.793995', 'PET0', '/media/oncopole/LACIE SHARE/PVAB/13014101873002/PET0/1.2.276.0.7230010.3.1.2.380371712.1.1605529806.793995_nifti_CT.nii', '/media/deeplearning/LACIE SHARE/PVAB/13014101873002/PET0/1.2.276.0.7230010.3.1.2.380371712.1.1605529806.793995_nifti_PT.nii', '/media/deeplearning/LACIE SHARE/PVAB/13014101873002/PET0/1.2.276.0.7230010.3.1.2.380371712.1.1605529806.793995_nifti_mask.nii', 'pvab', '/media/deeplearning/LACIE SHARE/PVAB/PVAB_csv/884/13014101873002_PET0_41.csv', ' Nov 2_2015']\nException thrown in SimpleITK ImageFileReader_Execute: /tmp/SimpleITK/Code/IO/src/sitkImageReaderBase.cxx:97:\nsitk::ERROR: The file \"/media/deeplearning/LACIE SHARE/PVAB/13014101873002/PET0/1.2.276.0.7230010.3.1.2.380371712.1.1605529806.793995_nifti_PT.nii\" does not exist.\n65\n['13014101873003', '13014101873003', '1.2.276.0.7230010.3.1.2.380371712.1.1605539762.798561', 'PET0', '/media/oncopole/LACIE SHARE/PVAB/13014101873003/PET0/1.2.276.0.7230010.3.1.2.380371712.1.1605539762.798561_nifti_CT.nii', '/media/deeplearning/LACIE SHARE/PVAB/13014101873003/PET0/1.2.276.0.7230010.3.1.2.380371712.1.1605539762.798561_nifti_PT.nii', '/media/deeplearning/LACIE SHARE/PVAB/13014101873003/PET0/1.2.276.0.7230010.3.1.2.380371712.1.1605539762.798561_nifti_mask.nii', 'pvab', '/media/deeplearning/LACIE SHARE/PVAB/PVAB_csv/945/13014101873003_PET0_41.csv', ' Feb 16_2016']\nException thrown in SimpleITK ImageFileReader_Execute: /tmp/SimpleITK/Code/IO/src/sitkImageReaderBase.cxx:97:\nsitk::ERROR: The file \"/media/deeplearning/LACIE SHARE/PVAB/13014101873003/PET0/1.2.276.0.7230010.3.1.2.380371712.1.1605539762.798561_nifti_PT.nii\" does not exist.\n66\n['13014101873004', '13014101873004', '1.2.276.0.7230010.3.1.2.380371712.1.1605605432.800797', 'PET0', '/media/oncopole/LACIE SHARE/PVAB/13014101873004/PET0/1.2.276.0.7230010.3.1.2.380371712.1.1605605432.800797_nifti_CT.nii', '/media/deeplearning/LACIE SHARE/PVAB/13014101873004/PET0/1.2.276.0.7230010.3.1.2.380371712.1.1605605432.800797_nifti_PT.nii', '/media/deeplearning/LACIE SHARE/PVAB/13014101873004/PET0/1.2.276.0.7230010.3.1.2.380371712.1.1605605432.800797_nifti_mask.nii', 'pvab', '/media/deeplearning/LACIE SHARE/PVAB/PVAB_csv/943/13014101873004_PET0_41.csv', ' Apr 4_2016']\nException thrown in SimpleITK ImageFileReader_Execute: /tmp/SimpleITK/Code/IO/src/sitkImageReaderBase.cxx:97:\nsitk::ERROR: The file \"/media/deeplearning/LACIE SHARE/PVAB/13014101873004/PET0/1.2.276.0.7230010.3.1.2.380371712.1.1605605432.800797_nifti_PT.nii\" does not exist.\n67\n['13014101873006', '13014101873006', '1.2.276.0.7230010.3.1.2.380371712.1.1605609219.805129', 'PET0', '/media/oncopole/LACIE SHARE/PVAB/13014101873006/PET0/1.2.276.0.7230010.3.1.2.380371712.1.1605609219.805129_nifti_CT.nii', '/media/deeplearning/LACIE SHARE/PVAB/13014101873006/PET0/1.2.276.0.7230010.3.1.2.380371712.1.1605609219.805129_nifti_PT.nii', '/media/deeplearning/LACIE SHARE/PVAB/13014101873006/PET0/1.2.276.0.7230010.3.1.2.380371712.1.1605609219.805129_nifti_mask.nii', 'pvab', '/media/deeplearning/LACIE SHARE/PVAB/PVAB_csv/941/13014101873006_PET0_41.csv', ' Jul 11_2016']\nException thrown in SimpleITK ImageFileReader_Execute: /tmp/SimpleITK/Code/IO/src/sitkImageReaderBase.cxx:97:\nsitk::ERROR: The file \"/media/deeplearning/LACIE SHARE/PVAB/13014101873006/PET0/1.2.276.0.7230010.3.1.2.380371712.1.1605609219.805129_nifti_PT.nii\" does not exist.\n68\n['13014101873007', '13014101873007', '1.2.276.0.7230010.3.1.2.380371712.1.1605617003.809873', 'PET0', '/media/oncopole/LACIE SHARE/PVAB/13014101873007/PET0/1.2.276.0.7230010.3.1.2.380371712.1.1605617003.809873_nifti_CT.nii', '/media/deeplearning/LACIE SHARE/PVAB/13014101873007/PET0/1.2.276.0.7230010.3.1.2.380371712.1.1605617003.809873_nifti_PT.nii', '/media/deeplearning/LACIE SHARE/PVAB/13014101873007/PET0/1.2.276.0.7230010.3.1.2.380371712.1.1605617003.809873_nifti_mask.nii', 'pvab', '/media/deeplearning/LACIE SHARE/PVAB/PVAB_csv/939/13014101873007_PET0_41.csv', ' Jan 6_2017']\nException thrown in SimpleITK ImageFileReader_Execute: /tmp/SimpleITK/Code/IO/src/sitkImageReaderBase.cxx:97:\nsitk::ERROR: The file \"/media/deeplearning/LACIE SHARE/PVAB/13014101873007/PET0/1.2.276.0.7230010.3.1.2.380371712.1.1605617003.809873_nifti_PT.nii\" does not exist.\n69\n['13014101883001', '13014101883001', '1.2.276.0.7230010.3.1.2.413926400.1.1606751330.371461', 'PET0', '/media/oncopole/LACIE SHARE/PVAB/13014101883001/PET0/1.2.276.0.7230010.3.1.2.413926400.1.1606751330.371461_nifti_CT.nii', '/media/deeplearning/LACIE SHARE/PVAB/13014101883001/PET0/1.2.276.0.7230010.3.1.2.413926400.1.1606751330.371461_nifti_PT.nii', '/media/deeplearning/LACIE SHARE/PVAB/13014101883001/PET0/1.2.276.0.7230010.3.1.2.413926400.1.1606751330.371461_nifti_mask.nii', 'pvab', '/media/deeplearning/LACIE SHARE/PVAB/PVAB_csv/861/13014101883001_PET0_41.csv', ' Jan 28_2016']\nException thrown in SimpleITK ImageFileReader_Execute: /tmp/SimpleITK/Code/IO/src/sitkImageReaderBase.cxx:97:\nsitk::ERROR: The file \"/media/deeplearning/LACIE SHARE/PVAB/13014101883001/PET0/1.2.276.0.7230010.3.1.2.413926400.1.1606751330.371461_nifti_PT.nii\" does not exist.\n70\n['13014102343001', '13014102343001', '1.2.276.0.7230010.3.1.2.413926400.1.1608293000.453147', 'PET0', '/media/oncopole/LACIE SHARE/PVAB/13014102343001/PET0/1.2.276.0.7230010.3.1.2.413926400.1.1608293000.453147_nifti_CT.nii', '/media/deeplearning/LACIE SHARE/PVAB/13014102343001/PET0/1.2.276.0.7230010.3.1.2.413926400.1.1608293000.453147_nifti_PT.nii', '/media/deeplearning/LACIE SHARE/PVAB/13014102343001/PET0/1.2.276.0.7230010.3.1.2.413926400.1.1608293000.453147_nifti_mask.nii', 'pvab', '/media/deeplearning/LACIE SHARE/PVAB/PVAB_csv/1002/13014102343001_PET0_41.csv', ' Dec 8_2015']\nException thrown in SimpleITK ImageFileReader_Execute: /tmp/SimpleITK/Code/IO/src/sitkImageReaderBase.cxx:97:\nsitk::ERROR: The file \"/media/deeplearning/LACIE SHARE/PVAB/13014102343001/PET0/1.2.276.0.7230010.3.1.2.413926400.1.1608293000.453147_nifti_PT.nii\" does not exist.\n71\n['13014102343002', '13014102343002', '1.2.276.0.7230010.3.1.2.413926400.1.1608293649.455073', 'PET0', '/media/oncopole/LACIE SHARE/PVAB/13014102343002/PET0/1.2.276.0.7230010.3.1.2.413926400.1.1608293649.455073_nifti_CT.nii', '/media/deeplearning/LACIE SHARE/PVAB/13014102343002/PET0/1.2.276.0.7230010.3.1.2.413926400.1.1608293649.455073_nifti_PT.nii', '/media/deeplearning/LACIE SHARE/PVAB/13014102343002/PET0/1.2.276.0.7230010.3.1.2.413926400.1.1608293649.455073_nifti_mask.nii', 'pvab', '/media/deeplearning/LACIE SHARE/PVAB/PVAB_csv/993/13014102343002_PET0_41.csv', ' Jan 18_2016']\nException thrown in SimpleITK ImageFileReader_Execute: /tmp/SimpleITK/Code/IO/src/sitkImageReaderBase.cxx:97:\nsitk::ERROR: The file \"/media/deeplearning/LACIE SHARE/PVAB/13014102343002/PET0/1.2.276.0.7230010.3.1.2.413926400.1.1608293649.455073_nifti_PT.nii\" does not exist.\n72\n['13014103213001', '13014103213001', '1.2.276.0.7230010.3.1.2.413926400.1.1609938631.498876', 'PET0', '/media/oncopole/LACIE SHARE/PVAB/13014103213001/PET0/1.2.276.0.7230010.3.1.2.413926400.1.1609938631.498876_nifti_CT.nii', '/media/deeplearning/LACIE SHARE/PVAB/13014103213001/PET0/1.2.276.0.7230010.3.1.2.413926400.1.1609938631.498876_nifti_PT.nii', '/media/deeplearning/LACIE SHARE/PVAB/13014103213001/PET0/1.2.276.0.7230010.3.1.2.413926400.1.1609938631.498876_nifti_mask.nii', 'pvab', '/media/deeplearning/LACIE SHARE/PVAB/PVAB_csv/937/13014103213001_PET0_41.csv', ' Nov 4_2016']\nException thrown in SimpleITK ImageFileReader_Execute: /tmp/SimpleITK/Code/IO/src/sitkImageReaderBase.cxx:97:\nsitk::ERROR: The file \"/media/deeplearning/LACIE SHARE/PVAB/13014103213001/PET0/1.2.276.0.7230010.3.1.2.413926400.1.1609938631.498876_nifti_PT.nii\" does not exist.\n73\n['13014104083001', '13014104083001', '1.2.276.0.7230010.3.1.2.413926400.1.1610614094.562072', 'PET0', '/media/oncopole/LACIE SHARE/PVAB/13014104083001/PET0/1.2.276.0.7230010.3.1.2.413926400.1.1610614094.562072_nifti_CT.nii', '/media/deeplearning/LACIE SHARE/PVAB/13014104083001/PET0/1.2.276.0.7230010.3.1.2.413926400.1.1610614094.562072_nifti_PT.nii', '/media/deeplearning/LACIE SHARE/PVAB/13014104083001/PET0/1.2.276.0.7230010.3.1.2.413926400.1.1610614094.562072_nifti_mask.nii', 'pvab', '/media/deeplearning/LACIE SHARE/PVAB/PVAB_csv/1010/13014104083001_PET0_41.csv', ' Sep 10_2015']\nException thrown in SimpleITK ImageFileReader_Execute: /tmp/SimpleITK/Code/IO/src/sitkImageReaderBase.cxx:97:\nsitk::ERROR: The file \"/media/deeplearning/LACIE SHARE/PVAB/13014104083001/PET0/1.2.276.0.7230010.3.1.2.413926400.1.1610614094.562072_nifti_PT.nii\" does not exist.\n74\n['13014104083003', '13014104083003', '1.2.276.0.7230010.3.1.2.413926400.1.1610620817.565225', 'PET0', '/media/oncopole/LACIE SHARE/PVAB/13014104083003/PET0/1.2.276.0.7230010.3.1.2.413926400.1.1610620817.565225_nifti_CT.nii', '/media/deeplearning/LACIE SHARE/PVAB/13014104083003/PET0/1.2.276.0.7230010.3.1.2.413926400.1.1610620817.565225_nifti_PT.nii', '/media/deeplearning/LACIE SHARE/PVAB/13014104083003/PET0/1.2.276.0.7230010.3.1.2.413926400.1.1610620817.565225_nifti_mask.nii', 'pvab', '/media/deeplearning/LACIE SHARE/PVAB/PVAB_csv/973/13014104083003_PET0_41.csv', ' Jan 30_2017']\nException thrown in SimpleITK ImageFileReader_Execute: /tmp/SimpleITK/Code/IO/src/sitkImageReaderBase.cxx:97:\nsitk::ERROR: The file \"/media/deeplearning/LACIE SHARE/PVAB/13014104083003/PET0/1.2.276.0.7230010.3.1.2.413926400.1.1610620817.565225_nifti_PT.nii\" does not exist.\n75\n['13014107173001', '13014107173001', '1.2.276.0.7230010.3.1.2.413926400.1.1606388548.351723', 'PET0', '/media/oncopole/LACIE SHARE/PVAB/13014107173001/PET0/1.2.276.0.7230010.3.1.2.413926400.1.1606388548.351723_nifti_CT.nii', '/media/deeplearning/LACIE SHARE/PVAB/13014107173001/PET0/1.2.276.0.7230010.3.1.2.413926400.1.1606388548.351723_nifti_PT.nii', '/media/deeplearning/LACIE SHARE/PVAB/13014107173001/PET0/1.2.276.0.7230010.3.1.2.413926400.1.1606388548.351723_nifti_mask.nii', 'pvab', '/media/deeplearning/LACIE SHARE/PVAB/PVAB_csv/961/13014107173001_PET0_41.csv', ' Jul 13_2017']\nException thrown in SimpleITK ImageFileReader_Execute: /tmp/SimpleITK/Code/IO/src/sitkImageReaderBase.cxx:97:\nsitk::ERROR: The file \"/media/deeplearning/LACIE SHARE/PVAB/13014107173001/PET0/1.2.276.0.7230010.3.1.2.413926400.1.1606388548.351723_nifti_PT.nii\" does not exist.\n"
     ]
    }
   ],
   "source": [
    "for nifti in pet0 : \n",
    "    try : \n",
    "        print(pet0.index(nifti))\n",
    "        mask_path = nifti[-4]\n",
    "        pet_path = nifti[-5]\n",
    "        liste_center = get_center_of_mass(mask_path, thresh = True, pet_path = pet_path)\n",
    "        d_max = calcul_distance_max(liste_center)\n",
    "        nifti.append(d_max)\n",
    "    except Exception as err : \n",
    "        print(nifti)\n",
    "        print(err)"
   ]
  },
  {
   "cell_type": "code",
   "execution_count": null,
   "metadata": {
    "tags": []
   },
   "outputs": [],
   "source": [
    "nifti_directory = '/media/deeplearning/LACIE SHARE'\n",
    "filename = 'AHL2011_dMax_v5.csv'\n",
    "\n",
    "\n",
    "with open(os.path.join(nifti_directory, filename), 'w') as csv_file : \n",
    "    csv_writer = csv.writer(csv_file, delimiter=',', quotechar='\"', quoting=csv.QUOTE_MINIMAL)\n",
    "    csv_writer.writerow([\"PATIENT ID\", \"DATE\", \"STUDY_UID\", \"D_MAX\"])\n",
    "    for row in pet0: \n",
    "        csv_writer.writerow([row[1], row[-2], row[2], row[-1]])\n"
   ]
  },
  {
   "cell_type": "code",
   "execution_count": null,
   "metadata": {},
   "outputs": [],
   "source": []
  }
 ]
}