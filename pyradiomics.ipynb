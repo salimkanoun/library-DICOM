{
 "metadata": {
  "language_info": {
   "codemirror_mode": {
    "name": "ipython",
    "version": 3
   },
   "file_extension": ".py",
   "mimetype": "text/x-python",
   "name": "python",
   "nbconvert_exporter": "python",
   "pygments_lexer": "ipython3",
   "version": "3.8.5"
  },
  "orig_nbformat": 2,
  "kernelspec": {
   "name": "python38564bit9a8409779cd04c3cbd0c5f1e859a644e",
   "display_name": "Python 3.8.5 64-bit"
  },
  "metadata": {
   "interpreter": {
    "hash": "31f2aee4e71d21fbe5cf8b01ff0e069b9275f58929596ceb00d14d90e3e16cd6"
   }
  }
 },
 "nbformat": 4,
 "nbformat_minor": 2,
 "cells": [
  {
   "cell_type": "code",
   "execution_count": null,
   "metadata": {},
   "outputs": [],
   "source": [
    "from library_dicom.dicom_processor.tools.pyradiomic import *\n",
    "import SimpleITK as sitk \n",
    "import os \n",
    "import numpy as np \n",
    "import csv\n",
    "import json \n",
    "from library_dicom.dicom_processor.model.csv_reader.CsvReader import CsvReader"
   ]
  },
  {
   "cell_type": "code",
   "execution_count": null,
   "metadata": {},
   "outputs": [],
   "source": [
    "csv_path= '/media/deeplearning/LACIE SHARE/PVAB/NIFTI/unconstant/PVAB_NIFTI_unconstant.csv'\n",
    "with open(csv_path, 'r') as csv_file :\n",
    "    reader = csv.reader(csv_file, delimiter = ',') #liste pour chaque ligne \n",
    "    csv_file_ = []\n",
    "    for row in reader :\n",
    "        csv_file_.append(row)\n",
    "        \n",
    "del csv_file_[0] #enlever première ligne"
   ]
  },
  {
   "cell_type": "code",
   "execution_count": null,
   "metadata": {},
   "outputs": [],
   "source": [
    "print(\"Nombre de mask à traiter : \", len(csv_file_))"
   ]
  },
  {
   "source": [
    "#### - Keep only pet 0 "
   ],
   "cell_type": "markdown",
   "metadata": {}
  },
  {
   "cell_type": "code",
   "execution_count": null,
   "metadata": {},
   "outputs": [],
   "source": [
    "pet0 = []\n",
    "for row in csv_file_ : \n",
    "    if 'PET0' in row : \n",
    "        pet0.append(row)\n",
    "print(len(pet0))"
   ]
  },
  {
   "cell_type": "code",
   "execution_count": null,
   "metadata": {
    "tags": []
   },
   "outputs": [],
   "source": [
    "#get date \n",
    "json_path = '/media/deeplearning/LACIE SHARE/PVAB/pvab_dataset.json'\n",
    "dataset = []\n",
    "with open(json_path) as json_file : \n",
    "    reader = json.load(json_file)\n",
    "    for info in reader :\n",
    "        dataset.append(info)\n",
    "\n",
    "#print(len(dataset))\n",
    "for row in pet0 : \n",
    "    patient_id = row[0]\n",
    "    for liste in dataset : \n",
    "        if patient_id in liste : \n",
    "            row.append(liste[-1])\n",
    "\n",
    "#check if every study has its csv \n",
    "for row in pet0 : \n",
    "    if len(row) != 9 : \n",
    "        print(row)\n"
   ]
  },
  {
   "cell_type": "code",
   "execution_count": null,
   "metadata": {},
   "outputs": [],
   "source": [
    "#get_date \n",
    "for row in pet0 : \n",
    "    #change csv_path \n",
    "    csv_file_path = row[-1]\n",
    "    x = csv_file_path.replace('oncopole', 'deeplearning')\n",
    "    row[-1] = x \n",
    "\n",
    "    #change pet and mask path \n",
    "    pet = row[5]\n",
    "    mask= row[6]\n",
    "    x = pet.replace('oncopole', 'deeplearning')\n",
    "    y = mask.replace('oncopole', 'deeplearning')\n",
    "    row[5] = x \n",
    "    row[6] = y \n",
    "\n",
    "    #get date \n",
    "\n",
    "    reader = CsvReader(row[-1])\n",
    "    date = reader.get_date()\n",
    "    row.append(date)\n"
   ]
  },
  {
   "cell_type": "code",
   "execution_count": null,
   "metadata": {
    "tags": []
   },
   "outputs": [],
   "source": [
    "for row in pet0 : \n",
    "    if len(row) != 10 : \n",
    "        print(row)"
   ]
  },
  {
   "cell_type": "code",
   "execution_count": null,
   "metadata": {
    "tags": []
   },
   "outputs": [],
   "source": [
    "for nifti in pet0: \n",
    "    try : \n",
    "        print(pet0.index(nifti))\n",
    "        mask_path = nifti[-4]\n",
    "        pet_path = nifti[-5]\n",
    "        liste_center = get_center_of_mass(mask_path, thresh = True, pet_path = pet_path)\n",
    "        d_max = calcul_distance_max(liste_center)\n",
    "        nifti.append(d_max)\n",
    "    except Exception as err : \n",
    "        print(nifti)\n",
    "        print(err)"
   ]
  },
  {
   "cell_type": "code",
   "execution_count": null,
   "metadata": {
    "tags": []
   },
   "outputs": [],
   "source": [
    "nifti_directory = '/media/deeplearning/LACIE SHARE/PVAB'\n",
    "filename = 'PVAB_dMax_v2.csv'\n",
    "\n",
    "\n",
    "with open(os.path.join(nifti_directory, filename), 'w') as csv_file : \n",
    "    csv_writer = csv.writer(csv_file, delimiter=',', quotechar='\"', quoting=csv.QUOTE_MINIMAL)\n",
    "    csv_writer.writerow([\"PATIENT ID\", \"DATE\", \"STUDY_UID\", \"D_MAX\"])\n",
    "    for row in pet0: \n",
    "        csv_writer.writerow([row[1], row[-2], row[2], row[-1]])\n"
   ]
  },
  {
   "cell_type": "code",
   "execution_count": null,
   "metadata": {},
   "outputs": [],
   "source": []
  }
 ]
}