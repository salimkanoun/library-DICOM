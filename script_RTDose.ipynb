{
 "metadata": {
  "language_info": {
   "codemirror_mode": {
    "name": "ipython",
    "version": 3
   },
   "file_extension": ".py",
   "mimetype": "text/x-python",
   "name": "python",
   "nbconvert_exporter": "python",
   "pygments_lexer": "ipython3",
   "version": "3.8.5-final"
  },
  "orig_nbformat": 2,
  "kernelspec": {
   "name": "python38264bit4afc185bc98b42c389abdbb3fbeec8dd",
   "display_name": "Python 3.8.2 64-bit",
   "language": "python"
  }
 },
 "nbformat": 4,
 "nbformat_minor": 2,
 "cells": [
  {
   "cell_type": "code",
   "execution_count": 1,
   "metadata": {},
   "outputs": [],
   "source": [
    "from library_dicom.rtss_processor.model.MaskBuilder_RTSS import MaskBuilder_RTSS\n",
    "\n",
    "import matplotlib.pyplot as plt\n",
    "import numpy as np\n",
    "import pydicom "
   ]
  },
  {
   "cell_type": "code",
   "execution_count": 30,
   "metadata": {},
   "outputs": [],
   "source": [
    "#Olivier Morel "
   ]
  },
  {
   "cell_type": "code",
   "execution_count": 2,
   "metadata": {},
   "outputs": [
    {
     "output_type": "execute_result",
     "data": {
      "text/plain": [
       "(0002, 0000) File Meta Information Group Length  UL: 210\n",
       "(0002, 0001) File Meta Information Version       OB: b'\\x00\\x01'\n",
       "(0002, 0002) Media Storage SOP Class UID         UI: RT Structure Set Storage\n",
       "(0002, 0003) Media Storage SOP Instance UID      UI: 1.2.826.0.1.3680043.8.498.86443752726605617670000524230569848202\n",
       "(0002, 0010) Transfer Syntax UID                 UI: Explicit VR Little Endian\n",
       "(0002, 0012) Implementation Class UID            UI: 1.2.826.0.1.3680043.8.498.1\n",
       "(0002, 0013) Implementation Version Name         SH: 'PYDICOM 2.1.2'"
      ]
     },
     "metadata": {},
     "execution_count": 2
    }
   ],
   "source": [
    "rtss_path = '/media/deeplearning/LACIE SHARE/Olivier_Morel_sarcome/rtss_prediction_mask_pet_ExpVR.dcm'\n",
    "dataset = pydicom.filereader.read_file_meta_info(rtss_path)\n",
    "dataset"
   ]
  },
  {
   "cell_type": "code",
   "execution_count": 3,
   "metadata": {},
   "outputs": [
    {
     "output_type": "execute_result",
     "data": {
      "text/plain": [
       "(0002, 0000) File Meta Information Group Length  UL: 196\n",
       "(0002, 0001) File Meta Information Version       OB: b'\\x00\\x01'\n",
       "(0002, 0002) Media Storage SOP Class UID         UI: Positron Emission Tomography Image Storage\n",
       "(0002, 0003) Media Storage SOP Instance UID      UI: 1.2.250.1.59.453.859.92444169.1516.1370594209.2.3.698\n",
       "(0002, 0010) Transfer Syntax UID                 UI: Explicit VR Little Endian\n",
       "(0002, 0012) Implementation Class UID            UI: 1.2.826.0.1.3680043.2.708\n",
       "(0002, 0013) Implementation Version Name         SH: 'Keosys_1.0.0.1'"
      ]
     },
     "metadata": {},
     "execution_count": 3
    }
   ],
   "source": [
    "pet_path = '/media/deeplearning/LACIE SHARE/Olivier_Morel_sarcome/1.2.250.1.59.453.859.92444169.1516.1370594209.2.2.8/PI_001_0c48958885a54911889fe1604fa5d65b.dcm'\n",
    "dataset = pydicom.filereader.read_file_meta_info(pet_path)\n",
    "dataset"
   ]
  },
  {
   "cell_type": "code",
   "execution_count": 4,
   "metadata": {},
   "outputs": [
    {
     "output_type": "execute_result",
     "data": {
      "text/plain": [
       "(0002, 0000) File Meta Information Group Length  UL: 194\n",
       "(0002, 0001) File Meta Information Version       OB: b'\\x00\\x01'\n",
       "(0002, 0002) Media Storage SOP Class UID         UI: CT Image Storage\n",
       "(0002, 0003) Media Storage SOP Instance UID      UI: 1.2.250.1.59.453.859.92444169.1516.1370594209.2.3.1422\n",
       "(0002, 0010) Transfer Syntax UID                 UI: Explicit VR Little Endian\n",
       "(0002, 0012) Implementation Class UID            UI: 1.2.826.0.1.3680043.2.708\n",
       "(0002, 0013) Implementation Version Name         SH: 'Keosys_1.0.0.1'"
      ]
     },
     "metadata": {},
     "execution_count": 4
    }
   ],
   "source": [
    "ct_path = '/media/deeplearning/LACIE SHARE/Olivier_Morel_sarcome/1.2.250.1.59.453.859.92444169.1516.1370594209.2.2.10/CT_001_00a2a193579041f0b5d76e0bc54410fd.dcm'\n",
    "dataset = pydicom.filereader.read_file_meta_info(ct_path)\n",
    "dataset"
   ]
  },
  {
   "cell_type": "code",
   "execution_count": null,
   "metadata": {},
   "outputs": [],
   "source": [
    "#RTSTRUCT Erwan"
   ]
  },
  {
   "cell_type": "code",
   "execution_count": 5,
   "metadata": {},
   "outputs": [
    {
     "output_type": "execute_result",
     "data": {
      "text/plain": [
       "(0002, 0000) File Meta Information Group Length  UL: 198\n",
       "(0002, 0001) File Meta Information Version       OB: b'\\x00\\x01'\n",
       "(0002, 0002) Media Storage SOP Class UID         UI: RT Structure Set Storage\n",
       "(0002, 0003) Media Storage SOP Instance UID      UI: 1.2.840.113619.2.80.1303088600.31043.1589463282.3\n",
       "(0002, 0010) Transfer Syntax UID                 UI: Explicit VR Little Endian\n",
       "(0002, 0012) Implementation Class UID            UI: 1.2.276.0.7230010.3.0.3.6.4\n",
       "(0002, 0013) Implementation Version Name         SH: 'OFFIS_DCMTK_364'"
      ]
     },
     "metadata": {},
     "execution_count": 5
    }
   ],
   "source": [
    "true_rtss = '/media/deeplearning/78ca2911-9e9f-4f78-b80a-848024b95f92/RT_STRUCT/201802409 BARAT GALPIN ELIANE/103893708 Tepscan FDG/RTSTRUCT PETVCAR RTSS RTSS/RT000000.dcm'\n",
    "dataset = pydicom.filereader.read_file_meta_info(true_rtss)\n",
    "dataset"
   ]
  },
  {
   "cell_type": "code",
   "execution_count": 6,
   "metadata": {},
   "outputs": [
    {
     "output_type": "execute_result",
     "data": {
      "text/plain": [
       "(0002, 0000) File Meta Information Group Length  UL: 196\n",
       "(0002, 0001) File Meta Information Version       OB: b'\\x00\\x01'\n",
       "(0002, 0002) Media Storage SOP Class UID         UI: Positron Emission Tomography Image Storage\n",
       "(0002, 0003) Media Storage SOP Instance UID      UI: 1.2.840.113619.2.354.3523896338.1521108515.449390\n",
       "(0002, 0010) Transfer Syntax UID                 UI: Explicit VR Little Endian\n",
       "(0002, 0012) Implementation Class UID            UI: 1.2.276.0.7230010.3.0.3.6.4\n",
       "(0002, 0013) Implementation Version Name         SH: 'OFFIS_DCMTK_364'"
      ]
     },
     "metadata": {},
     "execution_count": 6
    }
   ],
   "source": [
    "tep_path = '/media/deeplearning/78ca2911-9e9f-4f78-b80a-848024b95f92/RT_STRUCT/201802409 BARAT GALPIN ELIANE/103893708 Tepscan FDG/PT WB FDG VPHD 2min/PT000000.dcm'\n",
    "dataset = pydicom.filereader.read_file_meta_info(tep_path)\n",
    "dataset"
   ]
  },
  {
   "cell_type": "code",
   "execution_count": 7,
   "metadata": {},
   "outputs": [
    {
     "output_type": "execute_result",
     "data": {
      "text/plain": [
       "(0002, 0000) File Meta Information Group Length  UL: 198\n",
       "(0002, 0001) File Meta Information Version       OB: b'\\x00\\x01'\n",
       "(0002, 0002) Media Storage SOP Class UID         UI: CT Image Storage\n",
       "(0002, 0003) Media Storage SOP Instance UID      UI: 1.2.840.113619.2.354.3.3523896338.709.1521096512.159.1\n",
       "(0002, 0010) Transfer Syntax UID                 UI: Explicit VR Little Endian\n",
       "(0002, 0012) Implementation Class UID            UI: 1.2.276.0.7230010.3.0.3.6.4\n",
       "(0002, 0013) Implementation Version Name         SH: 'OFFIS_DCMTK_364'"
      ]
     },
     "metadata": {},
     "execution_count": 7
    }
   ],
   "source": [
    "ct_path = '/media/deeplearning/78ca2911-9e9f-4f78-b80a-848024b95f92/RT_STRUCT/201802409 BARAT GALPIN ELIANE/103893708 Tepscan FDG/CT CT STD 2.5mm/CT000000.dcm'\n",
    "dataset = pydicom.filereader.read_file_meta_info(ct_path)\n",
    "dataset"
   ]
  },
  {
   "cell_type": "code",
   "execution_count": null,
   "metadata": {},
   "outputs": [],
   "source": []
  },
  {
   "cell_type": "code",
   "execution_count": null,
   "metadata": {},
   "outputs": [],
   "source": []
  },
  {
   "cell_type": "code",
   "execution_count": null,
   "metadata": {},
   "outputs": [],
   "source": []
  },
  {
   "cell_type": "code",
   "execution_count": null,
   "metadata": {},
   "outputs": [],
   "source": []
  },
  {
   "cell_type": "code",
   "execution_count": 28,
   "metadata": {},
   "outputs": [],
   "source": [
    "rtstruct_directory = '/media/deeplearning/78ca2911-9e9f-4f78-b80a-848024b95f92/RTDOSE/102710245 TDM therapie APC/RTSTRUCT Groupes de structures ARIA RadOnc/RT000000.dcm'\n",
    "rtdose_file = '/media/deeplearning/78ca2911-9e9f-4f78-b80a-848024b95f92/RTDOSE/102710245 TDM therapie APC/RTDOSE Doses Eclipse/RT000000.dcm'\n",
    "ct_path = '/media/deeplearning/78ca2911-9e9f-4f78-b80a-848024b95f92/RTDOSE/102710245 TDM therapie APC/CT pelvis apc/CT000000.dcm'\n",
    "rt_plan_path = '/media/deeplearning/78ca2911-9e9f-4f78-b80a-848024b95f92/RTDOSE/102710245 TDM therapie APC/RTPLAN Plans ARIA RadOnc/RT000000.dcm'"
   ]
  },
  {
   "cell_type": "code",
   "execution_count": 79,
   "metadata": {},
   "outputs": [
    {
     "output_type": "execute_result",
     "data": {
      "text/plain": [
       "'EXTERNAL'"
      ]
     },
     "metadata": {},
     "execution_count": 79
    }
   ],
   "source": [
    "rtss_data.RTROIObservationsSequence[0].RTROIInterpretedType"
   ]
  },
  {
   "cell_type": "code",
   "execution_count": 67,
   "metadata": {},
   "outputs": [
    {
     "output_type": "stream",
     "name": "stdout",
     "text": [
      "1\nCONTOUR EXTERNE\n2\nVessie\n3\nRectum\n4\nTeteFemorDte\n5\nTeteFemorGche\n6\nBulbe Penien\n7\nGrele\n8\nSigmoide\n9\nCTVloge\n10\nPTV\n11\nCouchSurface\n12\nCouchInterior\n13\nPTV_HDOPT\n14\nOverlapRectum\n15\nRectum-PTVs\n16\nVessie-PTVs\n17\nOverlapVessie\n"
     ]
    }
   ],
   "source": [
    "rtss_data = pydicom.dcmread(rtstruct_directory)\n",
    "for i in range(len(rtss_data.StructureSetROISequence)):\n",
    "    print(rtss_data.StructureSetROISequence[i].ROINumber)\n",
    "    print(rtss_data.StructureSetROISequence[i].ROIName)"
   ]
  },
  {
   "cell_type": "code",
   "execution_count": 9,
   "metadata": {},
   "outputs": [],
   "source": [
    "dataset = pydicom.dcmread(rtdose_file)"
   ]
  },
  {
   "cell_type": "code",
   "execution_count": 78,
   "metadata": {},
   "outputs": [
    {
     "output_type": "execute_result",
     "data": {
      "text/plain": [
       "<matplotlib.image.AxesImage at 0x7fd6c0220760>"
      ]
     },
     "metadata": {},
     "execution_count": 78
    },
    {
     "output_type": "display_data",
     "data": {
      "text/plain": "<Figure size 432x288 with 1 Axes>",
      "image/svg+xml": "<?xml version=\"1.0\" encoding=\"utf-8\" standalone=\"no\"?>\n<!DOCTYPE svg PUBLIC \"-//W3C//DTD SVG 1.1//EN\"\n  \"http://www.w3.org/Graphics/SVG/1.1/DTD/svg11.dtd\">\n<!-- Created with matplotlib (https://matplotlib.org/) -->\n<svg height=\"251.207956pt\" version=\"1.1\" viewBox=\"0 0 355.406709 251.207956\" width=\"355.406709pt\" xmlns=\"http://www.w3.org/2000/svg\" xmlns:xlink=\"http://www.w3.org/1999/xlink\">\n <metadata>\n  <rdf:RDF xmlns:cc=\"http://creativecommons.org/ns#\" xmlns:dc=\"http://purl.org/dc/elements/1.1/\" xmlns:rdf=\"http://www.w3.org/1999/02/22-rdf-syntax-ns#\">\n   <cc:Work>\n    <dc:type rdf:resource=\"http://purl.org/dc/dcmitype/StillImage\"/>\n    <dc:date>2021-03-16T14:51:25.597194</dc:date>\n    <dc:format>image/svg+xml</dc:format>\n    <dc:creator>\n     <cc:Agent>\n      <dc:title>Matplotlib v3.3.0, https://matplotlib.org/</dc:title>\n     </cc:Agent>\n    </dc:creator>\n   </cc:Work>\n  </rdf:RDF>\n </metadata>\n <defs>\n  <style type=\"text/css\">*{stroke-linecap:butt;stroke-linejoin:round;}</style>\n </defs>\n <g id=\"figure_1\">\n  <g id=\"patch_1\">\n   <path d=\"M 0 251.207956 \nL 355.406709 251.207956 \nL 355.406709 0 \nL 0 0 \nz\n\" style=\"fill:none;\"/>\n  </g>\n  <g id=\"axes_1\">\n   <g id=\"patch_2\">\n    <path d=\"M 26.925 227.329831 \nL 339.772347 227.329831 \nL 339.772347 9.889831 \nL 26.925 9.889831 \nz\n\" style=\"fill:#ffffff;\"/>\n   </g>\n   <g clip-path=\"url(#p0e73394c3b)\">\n    <image height=\"218\" id=\"imageaef8c4fd3c\" transform=\"scale(1 -1)translate(0 -218)\" width=\"313\" x=\"26.925\" xlink:href=\"data:image/png;base64,\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\" y=\"-9.329831\"/>\n   </g>\n   <g id=\"matplotlib.axis_1\">\n    <g id=\"xtick_1\">\n     <g id=\"line2d_1\">\n      <defs>\n       <path d=\"M 0 0 \nL 0 3.5 \n\" id=\"m260223f35c\" style=\"stroke:#000000;stroke-width:0.8;\"/>\n      </defs>\n      <g>\n       <use style=\"stroke:#000000;stroke-width:0.8;\" x=\"28.034388\" xlink:href=\"#m260223f35c\" y=\"227.329831\"/>\n      </g>\n     </g>\n     <g id=\"text_1\">\n      <!-- 0 -->\n      <g transform=\"translate(24.853138 241.928268)scale(0.1 -0.1)\">\n       <defs>\n        <path d=\"M 31.78125 66.40625 \nQ 24.171875 66.40625 20.328125 58.90625 \nQ 16.5 51.421875 16.5 36.375 \nQ 16.5 21.390625 20.328125 13.890625 \nQ 24.171875 6.390625 31.78125 6.390625 \nQ 39.453125 6.390625 43.28125 13.890625 \nQ 47.125 21.390625 47.125 36.375 \nQ 47.125 51.421875 43.28125 58.90625 \nQ 39.453125 66.40625 31.78125 66.40625 \nz\nM 31.78125 74.21875 \nQ 44.046875 74.21875 50.515625 64.515625 \nQ 56.984375 54.828125 56.984375 36.375 \nQ 56.984375 17.96875 50.515625 8.265625 \nQ 44.046875 -1.421875 31.78125 -1.421875 \nQ 19.53125 -1.421875 13.0625 8.265625 \nQ 6.59375 17.96875 6.59375 36.375 \nQ 6.59375 54.828125 13.0625 64.515625 \nQ 19.53125 74.21875 31.78125 74.21875 \nz\n\" id=\"DejaVuSans-48\"/>\n       </defs>\n       <use xlink:href=\"#DejaVuSans-48\"/>\n      </g>\n     </g>\n    </g>\n    <g id=\"xtick_2\">\n     <g id=\"line2d_2\">\n      <g>\n       <use style=\"stroke:#000000;stroke-width:0.8;\" x=\"72.409898\" xlink:href=\"#m260223f35c\" y=\"227.329831\"/>\n      </g>\n     </g>\n     <g id=\"text_2\">\n      <!-- 20 -->\n      <g transform=\"translate(66.047398 241.928268)scale(0.1 -0.1)\">\n       <defs>\n        <path d=\"M 19.1875 8.296875 \nL 53.609375 8.296875 \nL 53.609375 0 \nL 7.328125 0 \nL 7.328125 8.296875 \nQ 12.9375 14.109375 22.625 23.890625 \nQ 32.328125 33.6875 34.8125 36.53125 \nQ 39.546875 41.84375 41.421875 45.53125 \nQ 43.3125 49.21875 43.3125 52.78125 \nQ 43.3125 58.59375 39.234375 62.25 \nQ 35.15625 65.921875 28.609375 65.921875 \nQ 23.96875 65.921875 18.8125 64.3125 \nQ 13.671875 62.703125 7.8125 59.421875 \nL 7.8125 69.390625 \nQ 13.765625 71.78125 18.9375 73 \nQ 24.125 74.21875 28.421875 74.21875 \nQ 39.75 74.21875 46.484375 68.546875 \nQ 53.21875 62.890625 53.21875 53.421875 \nQ 53.21875 48.921875 51.53125 44.890625 \nQ 49.859375 40.875 45.40625 35.40625 \nQ 44.1875 33.984375 37.640625 27.21875 \nQ 31.109375 20.453125 19.1875 8.296875 \nz\n\" id=\"DejaVuSans-50\"/>\n       </defs>\n       <use xlink:href=\"#DejaVuSans-50\"/>\n       <use x=\"63.623047\" xlink:href=\"#DejaVuSans-48\"/>\n      </g>\n     </g>\n    </g>\n    <g id=\"xtick_3\">\n     <g id=\"line2d_3\">\n      <g>\n       <use style=\"stroke:#000000;stroke-width:0.8;\" x=\"116.785408\" xlink:href=\"#m260223f35c\" y=\"227.329831\"/>\n      </g>\n     </g>\n     <g id=\"text_3\">\n      <!-- 40 -->\n      <g transform=\"translate(110.422908 241.928268)scale(0.1 -0.1)\">\n       <defs>\n        <path d=\"M 37.796875 64.3125 \nL 12.890625 25.390625 \nL 37.796875 25.390625 \nz\nM 35.203125 72.90625 \nL 47.609375 72.90625 \nL 47.609375 25.390625 \nL 58.015625 25.390625 \nL 58.015625 17.1875 \nL 47.609375 17.1875 \nL 47.609375 0 \nL 37.796875 0 \nL 37.796875 17.1875 \nL 4.890625 17.1875 \nL 4.890625 26.703125 \nz\n\" id=\"DejaVuSans-52\"/>\n       </defs>\n       <use xlink:href=\"#DejaVuSans-52\"/>\n       <use x=\"63.623047\" xlink:href=\"#DejaVuSans-48\"/>\n      </g>\n     </g>\n    </g>\n    <g id=\"xtick_4\">\n     <g id=\"line2d_4\">\n      <g>\n       <use style=\"stroke:#000000;stroke-width:0.8;\" x=\"161.160918\" xlink:href=\"#m260223f35c\" y=\"227.329831\"/>\n      </g>\n     </g>\n     <g id=\"text_4\">\n      <!-- 60 -->\n      <g transform=\"translate(154.798418 241.928268)scale(0.1 -0.1)\">\n       <defs>\n        <path d=\"M 33.015625 40.375 \nQ 26.375 40.375 22.484375 35.828125 \nQ 18.609375 31.296875 18.609375 23.390625 \nQ 18.609375 15.53125 22.484375 10.953125 \nQ 26.375 6.390625 33.015625 6.390625 \nQ 39.65625 6.390625 43.53125 10.953125 \nQ 47.40625 15.53125 47.40625 23.390625 \nQ 47.40625 31.296875 43.53125 35.828125 \nQ 39.65625 40.375 33.015625 40.375 \nz\nM 52.59375 71.296875 \nL 52.59375 62.3125 \nQ 48.875 64.0625 45.09375 64.984375 \nQ 41.3125 65.921875 37.59375 65.921875 \nQ 27.828125 65.921875 22.671875 59.328125 \nQ 17.53125 52.734375 16.796875 39.40625 \nQ 19.671875 43.65625 24.015625 45.921875 \nQ 28.375 48.1875 33.59375 48.1875 \nQ 44.578125 48.1875 50.953125 41.515625 \nQ 57.328125 34.859375 57.328125 23.390625 \nQ 57.328125 12.15625 50.6875 5.359375 \nQ 44.046875 -1.421875 33.015625 -1.421875 \nQ 20.359375 -1.421875 13.671875 8.265625 \nQ 6.984375 17.96875 6.984375 36.375 \nQ 6.984375 53.65625 15.1875 63.9375 \nQ 23.390625 74.21875 37.203125 74.21875 \nQ 40.921875 74.21875 44.703125 73.484375 \nQ 48.484375 72.75 52.59375 71.296875 \nz\n\" id=\"DejaVuSans-54\"/>\n       </defs>\n       <use xlink:href=\"#DejaVuSans-54\"/>\n       <use x=\"63.623047\" xlink:href=\"#DejaVuSans-48\"/>\n      </g>\n     </g>\n    </g>\n    <g id=\"xtick_5\">\n     <g id=\"line2d_5\">\n      <g>\n       <use style=\"stroke:#000000;stroke-width:0.8;\" x=\"205.536429\" xlink:href=\"#m260223f35c\" y=\"227.329831\"/>\n      </g>\n     </g>\n     <g id=\"text_5\">\n      <!-- 80 -->\n      <g transform=\"translate(199.173929 241.928268)scale(0.1 -0.1)\">\n       <defs>\n        <path d=\"M 31.78125 34.625 \nQ 24.75 34.625 20.71875 30.859375 \nQ 16.703125 27.09375 16.703125 20.515625 \nQ 16.703125 13.921875 20.71875 10.15625 \nQ 24.75 6.390625 31.78125 6.390625 \nQ 38.8125 6.390625 42.859375 10.171875 \nQ 46.921875 13.96875 46.921875 20.515625 \nQ 46.921875 27.09375 42.890625 30.859375 \nQ 38.875 34.625 31.78125 34.625 \nz\nM 21.921875 38.8125 \nQ 15.578125 40.375 12.03125 44.71875 \nQ 8.5 49.078125 8.5 55.328125 \nQ 8.5 64.0625 14.71875 69.140625 \nQ 20.953125 74.21875 31.78125 74.21875 \nQ 42.671875 74.21875 48.875 69.140625 \nQ 55.078125 64.0625 55.078125 55.328125 \nQ 55.078125 49.078125 51.53125 44.71875 \nQ 48 40.375 41.703125 38.8125 \nQ 48.828125 37.15625 52.796875 32.3125 \nQ 56.78125 27.484375 56.78125 20.515625 \nQ 56.78125 9.90625 50.3125 4.234375 \nQ 43.84375 -1.421875 31.78125 -1.421875 \nQ 19.734375 -1.421875 13.25 4.234375 \nQ 6.78125 9.90625 6.78125 20.515625 \nQ 6.78125 27.484375 10.78125 32.3125 \nQ 14.796875 37.15625 21.921875 38.8125 \nz\nM 18.3125 54.390625 \nQ 18.3125 48.734375 21.84375 45.5625 \nQ 25.390625 42.390625 31.78125 42.390625 \nQ 38.140625 42.390625 41.71875 45.5625 \nQ 45.3125 48.734375 45.3125 54.390625 \nQ 45.3125 60.0625 41.71875 63.234375 \nQ 38.140625 66.40625 31.78125 66.40625 \nQ 25.390625 66.40625 21.84375 63.234375 \nQ 18.3125 60.0625 18.3125 54.390625 \nz\n\" id=\"DejaVuSans-56\"/>\n       </defs>\n       <use xlink:href=\"#DejaVuSans-56\"/>\n       <use x=\"63.623047\" xlink:href=\"#DejaVuSans-48\"/>\n      </g>\n     </g>\n    </g>\n    <g id=\"xtick_6\">\n     <g id=\"line2d_6\">\n      <g>\n       <use style=\"stroke:#000000;stroke-width:0.8;\" x=\"249.911939\" xlink:href=\"#m260223f35c\" y=\"227.329831\"/>\n      </g>\n     </g>\n     <g id=\"text_6\">\n      <!-- 100 -->\n      <g transform=\"translate(240.368189 241.928268)scale(0.1 -0.1)\">\n       <defs>\n        <path d=\"M 12.40625 8.296875 \nL 28.515625 8.296875 \nL 28.515625 63.921875 \nL 10.984375 60.40625 \nL 10.984375 69.390625 \nL 28.421875 72.90625 \nL 38.28125 72.90625 \nL 38.28125 8.296875 \nL 54.390625 8.296875 \nL 54.390625 0 \nL 12.40625 0 \nz\n\" id=\"DejaVuSans-49\"/>\n       </defs>\n       <use xlink:href=\"#DejaVuSans-49\"/>\n       <use x=\"63.623047\" xlink:href=\"#DejaVuSans-48\"/>\n       <use x=\"127.246094\" xlink:href=\"#DejaVuSans-48\"/>\n      </g>\n     </g>\n    </g>\n    <g id=\"xtick_7\">\n     <g id=\"line2d_7\">\n      <g>\n       <use style=\"stroke:#000000;stroke-width:0.8;\" x=\"294.287449\" xlink:href=\"#m260223f35c\" y=\"227.329831\"/>\n      </g>\n     </g>\n     <g id=\"text_7\">\n      <!-- 120 -->\n      <g transform=\"translate(284.743699 241.928268)scale(0.1 -0.1)\">\n       <use xlink:href=\"#DejaVuSans-49\"/>\n       <use x=\"63.623047\" xlink:href=\"#DejaVuSans-50\"/>\n       <use x=\"127.246094\" xlink:href=\"#DejaVuSans-48\"/>\n      </g>\n     </g>\n    </g>\n    <g id=\"xtick_8\">\n     <g id=\"line2d_8\">\n      <g>\n       <use style=\"stroke:#000000;stroke-width:0.8;\" x=\"338.662959\" xlink:href=\"#m260223f35c\" y=\"227.329831\"/>\n      </g>\n     </g>\n     <g id=\"text_8\">\n      <!-- 140 -->\n      <g transform=\"translate(329.119209 241.928268)scale(0.1 -0.1)\">\n       <use xlink:href=\"#DejaVuSans-49\"/>\n       <use x=\"63.623047\" xlink:href=\"#DejaVuSans-52\"/>\n       <use x=\"127.246094\" xlink:href=\"#DejaVuSans-48\"/>\n      </g>\n     </g>\n    </g>\n   </g>\n   <g id=\"matplotlib.axis_2\">\n    <g id=\"ytick_1\">\n     <g id=\"line2d_9\">\n      <defs>\n       <path d=\"M 0 0 \nL -3.5 0 \n\" id=\"m8c38fbc1b9\" style=\"stroke:#000000;stroke-width:0.8;\"/>\n      </defs>\n      <g>\n       <use style=\"stroke:#000000;stroke-width:0.8;\" x=\"26.925\" xlink:href=\"#m8c38fbc1b9\" y=\"10.999219\"/>\n      </g>\n     </g>\n     <g id=\"text_9\">\n      <!-- 0 -->\n      <g transform=\"translate(13.5625 14.798437)scale(0.1 -0.1)\">\n       <use xlink:href=\"#DejaVuSans-48\"/>\n      </g>\n     </g>\n    </g>\n    <g id=\"ytick_2\">\n     <g id=\"line2d_10\">\n      <g>\n       <use style=\"stroke:#000000;stroke-width:0.8;\" x=\"26.925\" xlink:href=\"#m8c38fbc1b9\" y=\"55.374729\"/>\n      </g>\n     </g>\n     <g id=\"text_10\">\n      <!-- 20 -->\n      <g transform=\"translate(7.2 59.173948)scale(0.1 -0.1)\">\n       <use xlink:href=\"#DejaVuSans-50\"/>\n       <use x=\"63.623047\" xlink:href=\"#DejaVuSans-48\"/>\n      </g>\n     </g>\n    </g>\n    <g id=\"ytick_3\">\n     <g id=\"line2d_11\">\n      <g>\n       <use style=\"stroke:#000000;stroke-width:0.8;\" x=\"26.925\" xlink:href=\"#m8c38fbc1b9\" y=\"99.750239\"/>\n      </g>\n     </g>\n     <g id=\"text_11\">\n      <!-- 40 -->\n      <g transform=\"translate(7.2 103.549458)scale(0.1 -0.1)\">\n       <use xlink:href=\"#DejaVuSans-52\"/>\n       <use x=\"63.623047\" xlink:href=\"#DejaVuSans-48\"/>\n      </g>\n     </g>\n    </g>\n    <g id=\"ytick_4\">\n     <g id=\"line2d_12\">\n      <g>\n       <use style=\"stroke:#000000;stroke-width:0.8;\" x=\"26.925\" xlink:href=\"#m8c38fbc1b9\" y=\"144.125749\"/>\n      </g>\n     </g>\n     <g id=\"text_12\">\n      <!-- 60 -->\n      <g transform=\"translate(7.2 147.924968)scale(0.1 -0.1)\">\n       <use xlink:href=\"#DejaVuSans-54\"/>\n       <use x=\"63.623047\" xlink:href=\"#DejaVuSans-48\"/>\n      </g>\n     </g>\n    </g>\n    <g id=\"ytick_5\">\n     <g id=\"line2d_13\">\n      <g>\n       <use style=\"stroke:#000000;stroke-width:0.8;\" x=\"26.925\" xlink:href=\"#m8c38fbc1b9\" y=\"188.50126\"/>\n      </g>\n     </g>\n     <g id=\"text_13\">\n      <!-- 80 -->\n      <g transform=\"translate(7.2 192.300478)scale(0.1 -0.1)\">\n       <use xlink:href=\"#DejaVuSans-56\"/>\n       <use x=\"63.623047\" xlink:href=\"#DejaVuSans-48\"/>\n      </g>\n     </g>\n    </g>\n   </g>\n   <g id=\"patch_3\">\n    <path d=\"M 26.925 227.329831 \nL 26.925 9.889831 \n\" style=\"fill:none;stroke:#000000;stroke-linecap:square;stroke-linejoin:miter;stroke-width:0.8;\"/>\n   </g>\n   <g id=\"patch_4\">\n    <path d=\"M 339.772347 227.329831 \nL 339.772347 9.889831 \n\" style=\"fill:none;stroke:#000000;stroke-linecap:square;stroke-linejoin:miter;stroke-width:0.8;\"/>\n   </g>\n   <g id=\"patch_5\">\n    <path d=\"M 26.925 227.329831 \nL 339.772347 227.329831 \n\" style=\"fill:none;stroke:#000000;stroke-linecap:square;stroke-linejoin:miter;stroke-width:0.8;\"/>\n   </g>\n   <g id=\"patch_6\">\n    <path d=\"M 26.925 9.889831 \nL 339.772347 9.889831 \n\" style=\"fill:none;stroke:#000000;stroke-linecap:square;stroke-linejoin:miter;stroke-width:0.8;\"/>\n   </g>\n  </g>\n </g>\n <defs>\n  <clipPath id=\"p0e73394c3b\">\n   <rect height=\"217.44\" width=\"312.847347\" x=\"26.925\" y=\"9.889831\"/>\n  </clipPath>\n </defs>\n</svg>\n",
      "image/png": "[encoded data removed]"
     },
     "metadata": {
      "needs_background": "light"
     }
    }
   ],
   "source": [
    "import matplotlib.pyplot as plt \n",
    "array = np.transpose(dataset.pixel_array, axes = (1,2,0))\n",
    "plt.imshow(array[:,:,10])"
   ]
  },
  {
   "cell_type": "code",
   "execution_count": 71,
   "metadata": {},
   "outputs": [
    {
     "output_type": "execute_result",
     "data": {
      "text/plain": [
       "Dataset.file_meta -------------------------------\n",
       "(0002, 0000) File Meta Information Group Length  UL: 198\n",
       "(0002, 0001) File Meta Information Version       OB: b'\\x00\\x01'\n",
       "(0002, 0002) Media Storage SOP Class UID         UI: RT Dose Storage\n",
       "(0002, 0003) Media Storage SOP Instance UID      UI: 1.2.246.352.71.7.144611647299.630517.20160613153132\n",
       "(0002, 0010) Transfer Syntax UID                 UI: Implicit VR Little Endian\n",
       "(0002, 0012) Implementation Class UID            UI: 1.2.276.0.7230010.3.0.3.6.4\n",
       "(0002, 0013) Implementation Version Name         SH: 'OFFIS_DCMTK_364'\n",
       "-------------------------------------------------\n",
       "(0008, 0005) Specific Character Set              CS: 'ISO_IR 192'\n",
       "(0008, 0012) Instance Creation Date              DA: '20210315'\n",
       "(0008, 0013) Instance Creation Time              TM: '153750'\n",
       "(0008, 0016) SOP Class UID                       UI: RT Dose Storage\n",
       "(0008, 0018) SOP Instance UID                    UI: 1.2.246.352.71.7.144611647299.630517.20160613153132\n",
       "(0008, 0020) Study Date                          DA: '20160530'\n",
       "(0008, 0030) Study Time                          TM: '133945'\n",
       "(0008, 0050) Accession Number                    SH: '102710245'\n",
       "(0008, 0060) Modality                            CS: 'RTDOSE'\n",
       "(0008, 0070) Manufacturer                        LO: 'Varian Medical Systems'\n",
       "(0008, 0090) Referring Physician's Name          PN: 'GRAFF-CAILLEAUD^PIERRE'\n",
       "(0008, 1010) Station Name                        SH: 'srvariabd'\n",
       "(0008, 1030) Study Description                   LO: 'TDM therapie APC'\n",
       "(0008, 103e) Series Description                  LO: 'Doses Eclipse'\n",
       "(0008, 1048) Physician(s) of Record              PN: 'ESTEYRIE^Vincent'\n",
       "(0008, 1070) Operators' Name                     PN: 'lp'\n",
       "(0008, 1090) Manufacturer's Model Name           LO: 'ARIA RadOnc'\n",
       "(0010, 0010) Patient's Name                      PN: 'MAZANA^RENE'\n",
       "(0010, 0020) Patient ID                          LO: '201511064'\n",
       "(0010, 0030) Patient's Birth Date                DA: '19470109'\n",
       "(0010, 0032) Patient's Birth Time                TM: '000000'\n",
       "(0010, 0040) Patient's Sex                       CS: 'M'\n",
       "(0018, 0050) Slice Thickness                     DS: None\n",
       "(0018, 1000) Device Serial Number                LO: '144611647299'\n",
       "(0018, 1020) Software Versions                   LO: '11.0.42'\n",
       "(0020, 000d) Study Instance UID                  UI: 1.2.840.113619.2.278.3.3523880722.420.1464584245.596\n",
       "(0020, 000e) Series Instance UID                 UI: 1.2.246.352.71.2.144611647299.1990575.20160613151015\n",
       "(0020, 0010) Study ID                            SH: '6244'\n",
       "(0020, 0011) Series Number                       IS: \"24\"\n",
       "(0020, 0032) Image Position (Patient)            DS: [-175.4716337, -143.6510593, -187.5]\n",
       "(0020, 0037) Image Orientation (Patient)         DS: [1, 0, 0, 0, 1, 0]\n",
       "(0020, 0052) Frame of Reference UID              UI: 1.2.840.113619.2.278.3.3523880722.420.1464584245.597.15305.1\n",
       "(0020, 1040) Position Reference Indicator        LO: ''\n",
       "(0028, 0002) Samples per Pixel                   US: 1\n",
       "(0028, 0004) Photometric Interpretation          CS: 'MONOCHROME2'\n",
       "(0028, 0008) Number of Frames                    IS: \"167\"\n",
       "(0028, 0009) Frame Increment Pointer             AT: (3004, 000c)\n",
       "(0028, 0010) Rows                                US: 98\n",
       "(0028, 0011) Columns                             US: 141\n",
       "(0028, 0030) Pixel Spacing                       DS: [2.5, 2.5]\n",
       "(0028, 0100) Bits Allocated                      US: 32\n",
       "(0028, 0101) Bits Stored                         US: 32\n",
       "(0028, 0102) High Bit                            US: 31\n",
       "(0028, 0103) Pixel Representation                US: 0\n",
       "(3004, 0002) Dose Units                          CS: 'GY'\n",
       "(3004, 0004) Dose Type                           CS: 'PHYSICAL'\n",
       "(3004, 000a) Dose Summation Type                 CS: 'PLAN'\n",
       "(3004, 000c) Grid Frame Offset Vector            DS: Array of 167 elements\n",
       "(3004, 000e) Dose Grid Scaling                   DS: \"6.5363400333e-05\"\n",
       "(3004, 0014) Tissue Heterogeneity Correction     CS: ['IMAGE', 'ROI_OVERRIDE']\n",
       "(3004, 0050)  DVH Sequence  15 item(s) ---- \n",
       "   (3004, 0001) DVH Type                            CS: 'CUMULATIVE'\n",
       "   (3004, 0002) Dose Units                          CS: 'GY'\n",
       "   (3004, 0004) Dose Type                           CS: 'PHYSICAL'\n",
       "   (3004, 0052) DVH Dose Scaling                    DS: \"1.0\"\n",
       "   (3004, 0054) DVH Volume Units                    CS: 'CM3'\n",
       "   (3004, 0056) DVH Number of Bins                  IS: \"6957\"\n",
       "   (3004, 0058) DVH Data                            DS: Array of 13914 elements\n",
       "   (3004, 0060)  DVH Referenced ROI Sequence  1 item(s) ---- \n",
       "      (3004, 0062) DVH ROI Contribution Type           CS: 'INCLUDED'\n",
       "      (3006, 0084) Referenced ROI Number               IS: \"1\"\n",
       "      ---------\n",
       "   (3004, 0070) DVH Minimum Dose                    DS: \"0.0\"\n",
       "   (3004, 0072) DVH Maximum Dose                    DS: \"69.5520831161484\"\n",
       "   (3004, 0074) DVH Mean Dose                       DS: \"4.53078282727093\"\n",
       "   ---------\n",
       "   (3004, 0001) DVH Type                            CS: 'CUMULATIVE'\n",
       "   (3004, 0002) Dose Units                          CS: 'GY'\n",
       "   (3004, 0004) Dose Type                           CS: 'PHYSICAL'\n",
       "   (3004, 0052) DVH Dose Scaling                    DS: \"1.0\"\n",
       "   (3004, 0054) DVH Volume Units                    CS: 'CM3'\n",
       "   (3004, 0056) DVH Number of Bins                  IS: \"6819\"\n",
       "   (3004, 0058) DVH Data                            DS: Array of 13638 elements\n",
       "   (3004, 0060)  DVH Referenced ROI Sequence  1 item(s) ---- \n",
       "      (3004, 0062) DVH ROI Contribution Type           CS: 'INCLUDED'\n",
       "      (3006, 0084) Referenced ROI Number               IS: \"2\"\n",
       "      ---------\n",
       "   (3004, 0070) DVH Minimum Dose                    DS: \"6.51603154964954\"\n",
       "   (3004, 0072) DVH Maximum Dose                    DS: \"68.1752684515418\"\n",
       "   (3004, 0074) DVH Mean Dose                       DS: \"43.2105192699604\"\n",
       "   ---------\n",
       "   (3004, 0001) DVH Type                            CS: 'CUMULATIVE'\n",
       "   (3004, 0002) Dose Units                          CS: 'GY'\n",
       "   (3004, 0004) Dose Type                           CS: 'PHYSICAL'\n",
       "   (3004, 0052) DVH Dose Scaling                    DS: \"1.0\"\n",
       "   (3004, 0054) DVH Volume Units                    CS: 'CM3'\n",
       "   (3004, 0056) DVH Number of Bins                  IS: \"6708\"\n",
       "   (3004, 0058) DVH Data                            DS: Array of 13416 elements\n",
       "   (3004, 0060)  DVH Referenced ROI Sequence  1 item(s) ---- \n",
       "      (3004, 0062) DVH ROI Contribution Type           CS: 'INCLUDED'\n",
       "      (3006, 0084) Referenced ROI Number               IS: \"3\"\n",
       "      ---------\n",
       "   (3004, 0070) DVH Minimum Dose                    DS: \"2.95681379355428\"\n",
       "   (3004, 0072) DVH Maximum Dose                    DS: \"67.0684699937094\"\n",
       "   (3004, 0074) DVH Mean Dose                       DS: \"35.1206245650437\"\n",
       "   ---------\n",
       "   (3004, 0001) DVH Type                            CS: 'CUMULATIVE'\n",
       "   (3004, 0002) Dose Units                          CS: 'GY'\n",
       "   (3004, 0004) Dose Type                           CS: 'PHYSICAL'\n",
       "   (3004, 0052) DVH Dose Scaling                    DS: \"1.0\"\n",
       "   (3004, 0054) DVH Volume Units                    CS: 'CM3'\n",
       "   (3004, 0056) DVH Number of Bins                  IS: \"3291\"\n",
       "   (3004, 0058) DVH Data                            DS: Array of 6582 elements\n",
       "   (3004, 0060)  DVH Referenced ROI Sequence  1 item(s) ---- \n",
       "      (3004, 0062) DVH ROI Contribution Type           CS: 'INCLUDED'\n",
       "      (3006, 0084) Referenced ROI Number               IS: \"4\"\n",
       "      ---------\n",
       "   (3004, 0070) DVH Minimum Dose                    DS: \"0.51325115366773\"\n",
       "   (3004, 0072) DVH Maximum Dose                    DS: \"32.8984016262189\"\n",
       "   (3004, 0074) DVH Mean Dose                       DS: \"12.7988222091391\"\n",
       "   ---------\n",
       "   (3004, 0001) DVH Type                            CS: 'CUMULATIVE'\n",
       "   (3004, 0002) Dose Units                          CS: 'GY'\n",
       "   (3004, 0004) Dose Type                           CS: 'PHYSICAL'\n",
       "   (3004, 0052) DVH Dose Scaling                    DS: \"1.0\"\n",
       "   (3004, 0054) DVH Volume Units                    CS: 'CM3'\n",
       "   (3004, 0056) DVH Number of Bins                  IS: \"3904\"\n",
       "   (3004, 0058) DVH Data                            DS: Array of 7808 elements\n",
       "   (3004, 0060)  DVH Referenced ROI Sequence  1 item(s) ---- \n",
       "      (3004, 0062) DVH ROI Contribution Type           CS: 'INCLUDED'\n",
       "      (3006, 0084) Referenced ROI Number               IS: \"5\"\n",
       "      ---------\n",
       "   (3004, 0070) DVH Minimum Dose                    DS: \"0.59403305712686\"\n",
       "   (3004, 0072) DVH Maximum Dose                    DS: \"39.0228432983861\"\n",
       "   (3004, 0074) DVH Mean Dose                       DS: \"13.7220083304923\"\n",
       "   ---------\n",
       "   (3004, 0001) DVH Type                            CS: 'CUMULATIVE'\n",
       "   (3004, 0002) Dose Units                          CS: 'GY'\n",
       "   (3004, 0004) Dose Type                           CS: 'PHYSICAL'\n",
       "   (3004, 0052) DVH Dose Scaling                    DS: \"1.0\"\n",
       "   (3004, 0054) DVH Volume Units                    CS: 'CM3'\n",
       "   (3004, 0056) DVH Number of Bins                  IS: \"6600\"\n",
       "   (3004, 0058) DVH Data                            DS: Array of 13200 elements\n",
       "   (3004, 0060)  DVH Referenced ROI Sequence  1 item(s) ---- \n",
       "      (3004, 0062) DVH ROI Contribution Type           CS: 'INCLUDED'\n",
       "      (3006, 0084) Referenced ROI Number               IS: \"6\"\n",
       "      ---------\n",
       "   (3004, 0070) DVH Minimum Dose                    DS: \"6.1378458734194\"\n",
       "   (3004, 0072) DVH Maximum Dose                    DS: \"65.9853402073912\"\n",
       "   (3004, 0074) DVH Mean Dose                       DS: \"26.4703760848916\"\n",
       "   ---------\n",
       "   (3004, 0001) DVH Type                            CS: 'CUMULATIVE'\n",
       "   (3004, 0002) Dose Units                          CS: 'GY'\n",
       "   (3004, 0004) Dose Type                           CS: 'PHYSICAL'\n",
       "   (3004, 0052) DVH Dose Scaling                    DS: \"1.0\"\n",
       "   (3004, 0054) DVH Volume Units                    CS: 'CM3'\n",
       "   (3004, 0056) DVH Number of Bins                  IS: \"191\"\n",
       "   (3004, 0058) DVH Data                            DS: Array of 382 elements\n",
       "   (3004, 0060)  DVH Referenced ROI Sequence  1 item(s) ---- \n",
       "      (3004, 0062) DVH ROI Contribution Type           CS: 'INCLUDED'\n",
       "      (3006, 0084) Referenced ROI Number               IS: \"7\"\n",
       "      ---------\n",
       "   (3004, 0070) DVH Minimum Dose                    DS: \"0.0\"\n",
       "   (3004, 0072) DVH Maximum Dose                    DS: \"1.8994113085865\"\n",
       "   (3004, 0074) DVH Mean Dose                       DS: \"0.1381432382065\"\n",
       "   ---------\n",
       "   (3004, 0001) DVH Type                            CS: 'CUMULATIVE'\n",
       "   (3004, 0002) Dose Units                          CS: 'GY'\n",
       "   (3004, 0004) Dose Type                           CS: 'PHYSICAL'\n",
       "   (3004, 0052) DVH Dose Scaling                    DS: \"1.0\"\n",
       "   (3004, 0054) DVH Volume Units                    CS: 'CM3'\n",
       "   (3004, 0056) DVH Number of Bins                  IS: \"2200\"\n",
       "   (3004, 0058) DVH Data                            DS: Array of 4400 elements\n",
       "   (3004, 0060)  DVH Referenced ROI Sequence  1 item(s) ---- \n",
       "      (3004, 0062) DVH ROI Contribution Type           CS: 'INCLUDED'\n",
       "      (3006, 0084) Referenced ROI Number               IS: \"8\"\n",
       "      ---------\n",
       "   (3004, 0070) DVH Minimum Dose                    DS: \"0.06955551235671\"\n",
       "   (3004, 0072) DVH Maximum Dose                    DS: \"21.981079685661\"\n",
       "   (3004, 0074) DVH Mean Dose                       DS: \"2.6034780032995\"\n",
       "   ---------\n",
       "   (3004, 0001) DVH Type                            CS: 'CUMULATIVE'\n",
       "   (3004, 0002) Dose Units                          CS: 'GY'\n",
       "   (3004, 0004) Dose Type                           CS: 'PHYSICAL'\n",
       "   (3004, 0052) DVH Dose Scaling                    DS: \"1.0\"\n",
       "   (3004, 0054) DVH Volume Units                    CS: 'CM3'\n",
       "   (3004, 0056) DVH Number of Bins                  IS: \"6927\"\n",
       "   (3004, 0058) DVH Data                            DS: Array of 13854 elements\n",
       "   (3004, 0060)  DVH Referenced ROI Sequence  1 item(s) ---- \n",
       "      (3004, 0062) DVH ROI Contribution Type           CS: 'INCLUDED'\n",
       "      (3006, 0084) Referenced ROI Number               IS: \"9\"\n",
       "      ---------\n",
       "   (3004, 0070) DVH Minimum Dose                    DS: \"63.4488409734892\"\n",
       "   (3004, 0072) DVH Maximum Dose                    DS: \"69.2571852416477\"\n",
       "   (3004, 0074) DVH Mean Dose                       DS: \"65.8644951370559\"\n",
       "   ---------\n",
       "   (3004, 0001) DVH Type                            CS: 'CUMULATIVE'\n",
       "   (3004, 0002) Dose Units                          CS: 'GY'\n",
       "   (3004, 0004) Dose Type                           CS: 'PHYSICAL'\n",
       "   (3004, 0052) DVH Dose Scaling                    DS: \"1.0\"\n",
       "   (3004, 0054) DVH Volume Units                    CS: 'CM3'\n",
       "   (3004, 0056) DVH Number of Bins                  IS: \"6957\"\n",
       "   (3004, 0058) DVH Data                            DS: Array of 13914 elements\n",
       "   (3004, 0060)  DVH Referenced ROI Sequence  1 item(s) ---- \n",
       "      (3004, 0062) DVH ROI Contribution Type           CS: 'INCLUDED'\n",
       "      (3006, 0084) Referenced ROI Number               IS: \"10\"\n",
       "      ---------\n",
       "   (3004, 0070) DVH Minimum Dose                    DS: \"53.25534456573\"\n",
       "   (3004, 0072) DVH Maximum Dose                    DS: \"69.5520831161484\"\n",
       "   (3004, 0074) DVH Mean Dose                       DS: \"65.7129906261333\"\n",
       "   ---------\n",
       "   (3004, 0001) DVH Type                            CS: 'CUMULATIVE'\n",
       "   (3004, 0002) Dose Units                          CS: 'GY'\n",
       "   (3004, 0004) Dose Type                           CS: 'PHYSICAL'\n",
       "   (3004, 0052) DVH Dose Scaling                    DS: \"1.0\"\n",
       "   (3004, 0054) DVH Volume Units                    CS: 'CM3'\n",
       "   (3004, 0056) DVH Number of Bins                  IS: \"6957\"\n",
       "   (3004, 0058) DVH Data                            DS: Array of 13914 elements\n",
       "   (3004, 0060)  DVH Referenced ROI Sequence  1 item(s) ---- \n",
       "      (3004, 0062) DVH ROI Contribution Type           CS: 'INCLUDED'\n",
       "      (3006, 0084) Referenced ROI Number               IS: \"13\"\n",
       "      ---------\n",
       "   (3004, 0070) DVH Minimum Dose                    DS: \"53.6226832694641\"\n",
       "   (3004, 0072) DVH Maximum Dose                    DS: \"69.5520831161484\"\n",
       "   (3004, 0074) DVH Mean Dose                       DS: \"65.8501019115941\"\n",
       "   ---------\n",
       "   (3004, 0001) DVH Type                            CS: 'CUMULATIVE'\n",
       "   (3004, 0002) Dose Units                          CS: 'GY'\n",
       "   (3004, 0004) Dose Type                           CS: 'PHYSICAL'\n",
       "   (3004, 0052) DVH Dose Scaling                    DS: \"1.0\"\n",
       "   (3004, 0054) DVH Volume Units                    CS: 'CM3'\n",
       "   (3004, 0056) DVH Number of Bins                  IS: \"6708\"\n",
       "   (3004, 0058) DVH Data                            DS: Array of 13416 elements\n",
       "   (3004, 0060)  DVH Referenced ROI Sequence  1 item(s) ---- \n",
       "      (3004, 0062) DVH ROI Contribution Type           CS: 'INCLUDED'\n",
       "      (3006, 0084) Referenced ROI Number               IS: \"14\"\n",
       "      ---------\n",
       "   (3004, 0070) DVH Minimum Dose                    DS: \"57.8203003317068\"\n",
       "   (3004, 0072) DVH Maximum Dose                    DS: \"67.0684699937094\"\n",
       "   (3004, 0074) DVH Mean Dose                       DS: \"64.145639982809\"\n",
       "   ---------\n",
       "   (3004, 0001) DVH Type                            CS: 'CUMULATIVE'\n",
       "   (3004, 0002) Dose Units                          CS: 'GY'\n",
       "   (3004, 0004) Dose Type                           CS: 'PHYSICAL'\n",
       "   (3004, 0052) DVH Dose Scaling                    DS: \"1.0\"\n",
       "   (3004, 0054) DVH Volume Units                    CS: 'CM3'\n",
       "   (3004, 0056) DVH Number of Bins                  IS: \"6370\"\n",
       "   (3004, 0058) DVH Data                            DS: Array of 12740 elements\n",
       "   (3004, 0060)  DVH Referenced ROI Sequence  1 item(s) ---- \n",
       "      (3004, 0062) DVH ROI Contribution Type           CS: 'INCLUDED'\n",
       "      (3006, 0084) Referenced ROI Number               IS: \"15\"\n",
       "      ---------\n",
       "   (3004, 0070) DVH Minimum Dose                    DS: \"2.95496070657104\"\n",
       "   (3004, 0072) DVH Maximum Dose                    DS: \"63.6832777026822\"\n",
       "   (3004, 0074) DVH Mean Dose                       DS: \"27.7959215149893\"\n",
       "   ---------\n",
       "   (3004, 0001) DVH Type                            CS: 'CUMULATIVE'\n",
       "   (3004, 0002) Dose Units                          CS: 'GY'\n",
       "   (3004, 0004) Dose Type                           CS: 'PHYSICAL'\n",
       "   (3004, 0052) DVH Dose Scaling                    DS: \"1.0\"\n",
       "   (3004, 0054) DVH Volume Units                    CS: 'CM3'\n",
       "   (3004, 0056) DVH Number of Bins                  IS: \"6627\"\n",
       "   (3004, 0058) DVH Data                            DS: Array of 13254 elements\n",
       "   (3004, 0060)  DVH Referenced ROI Sequence  1 item(s) ---- \n",
       "      (3004, 0062) DVH ROI Contribution Type           CS: 'INCLUDED'\n",
       "      (3006, 0084) Referenced ROI Number               IS: \"16\"\n",
       "      ---------\n",
       "   (3004, 0070) DVH Minimum Dose                    DS: \"6.50708791069396\"\n",
       "   (3004, 0072) DVH Maximum Dose                    DS: \"66.2556107471728\"\n",
       "   (3004, 0074) DVH Mean Dose                       DS: \"30.1243183275348\"\n",
       "   ---------\n",
       "   (3004, 0001) DVH Type                            CS: 'CUMULATIVE'\n",
       "   (3004, 0002) Dose Units                          CS: 'GY'\n",
       "   (3004, 0004) Dose Type                           CS: 'PHYSICAL'\n",
       "   (3004, 0052) DVH Dose Scaling                    DS: \"1.0\"\n",
       "   (3004, 0054) DVH Volume Units                    CS: 'CM3'\n",
       "   (3004, 0056) DVH Number of Bins                  IS: \"6819\"\n",
       "   (3004, 0058) DVH Data                            DS: Array of 13638 elements\n",
       "   (3004, 0060)  DVH Referenced ROI Sequence  1 item(s) ---- \n",
       "      (3004, 0062) DVH ROI Contribution Type           CS: 'INCLUDED'\n",
       "      (3006, 0084) Referenced ROI Number               IS: \"17\"\n",
       "      ---------\n",
       "   (3004, 0070) DVH Minimum Dose                    DS: \"57.2020983271331\"\n",
       "   (3004, 0072) DVH Maximum Dose                    DS: \"68.1752684515418\"\n",
       "   (3004, 0074) DVH Mean Dose                       DS: \"64.7813026896554\"\n",
       "   ---------\n",
       "(300c, 0002)  Referenced RT Plan Sequence  1 item(s) ---- \n",
       "   (0008, 1150) Referenced SOP Class UID            UI: RT Plan Storage\n",
       "   (0008, 1155) Referenced SOP Instance UID         UI: 1.2.246.352.71.5.144611647299.415501.20160613151119\n",
       "   ---------\n",
       "(300c, 0060)  Referenced Structure Set Sequence  1 item(s) ---- \n",
       "   (0008, 1150) Referenced SOP Class UID            UI: RT Structure Set Storage\n",
       "   (0008, 1155) Referenced SOP Instance UID         UI: 1.2.246.352.205.5059691523314846042.2794244995757993901\n",
       "   ---------\n",
       "(7fe0, 0010) Pixel Data                          OW: Array of 9230424 elements"
      ]
     },
     "metadata": {},
     "execution_count": 71
    }
   ],
   "source": [
    "dataset"
   ]
  },
  {
   "cell_type": "code",
   "execution_count": 70,
   "metadata": {},
   "outputs": [
    {
     "output_type": "execute_result",
     "data": {
      "text/plain": [
       "(3004, 0001) DVH Type                            CS: 'CUMULATIVE'\n",
       "(3004, 0002) Dose Units                          CS: 'GY'\n",
       "(3004, 0004) Dose Type                           CS: 'PHYSICAL'\n",
       "(3004, 0052) DVH Dose Scaling                    DS: \"1.0\"\n",
       "(3004, 0054) DVH Volume Units                    CS: 'CM3'\n",
       "(3004, 0056) DVH Number of Bins                  IS: \"6957\"\n",
       "(3004, 0058) DVH Data                            DS: Array of 13914 elements\n",
       "(3004, 0060)  DVH Referenced ROI Sequence  1 item(s) ---- \n",
       "   (3004, 0062) DVH ROI Contribution Type           CS: 'INCLUDED'\n",
       "   (3006, 0084) Referenced ROI Number               IS: \"1\"\n",
       "   ---------\n",
       "(3004, 0070) DVH Minimum Dose                    DS: \"0.0\"\n",
       "(3004, 0072) DVH Maximum Dose                    DS: \"69.5520831161484\"\n",
       "(3004, 0074) DVH Mean Dose                       DS: \"4.53078282727093\""
      ]
     },
     "metadata": {},
     "execution_count": 70
    }
   ],
   "source": [
    "#RTDose anonymisé \n",
    "\n",
    "rt_dose_ano_path = '/media/deeplearning/78ca2911-9e9f-4f78-b80a-848024b95f92/RTDOSE/RT_DOSE_ORTHANC/RT000000.dcm'\n",
    "rt_dose_ano_dataset = pydicom.dcmread(rt_dose_ano_path)\n",
    "rt_dose_ano_dataset.DVHSequence[0]"
   ]
  },
  {
   "cell_type": "code",
   "execution_count": null,
   "metadata": {},
   "outputs": [],
   "source": []
  },
  {
   "cell_type": "code",
   "execution_count": null,
   "metadata": {},
   "outputs": [],
   "source": []
  }
 ]
}