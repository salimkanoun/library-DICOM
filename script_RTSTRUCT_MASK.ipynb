{
 "cells": [
  {
   "cell_type": "code",
   "execution_count": null,
   "metadata": {},
   "outputs": [],
   "source": [
    "from library_dicom.dicom_processor.model.reader.Instance_RTSS import Instance_RTSS\n",
    "\n",
    "from library_dicom.rtss_processor.model.MaskBuilder_RTSS import MaskBuilder_RTSS\n",
    "from library_dicom.dicom_processor.model.Series import Series\n",
    "\n",
    "import matplotlib.pyplot as plt\n",
    "import numpy as np"
   ]
  },
  {
   "cell_type": "markdown",
   "metadata": {},
   "source": [
    "### RTSTRUCT file -> Mask "
   ]
  },
  {
   "cell_type": "code",
   "execution_count": null,
   "metadata": {},
   "outputs": [],
   "source": [
    "rtss_path = '/media/deeplearning/78ca2911-9e9f-4f78-b80a-848024b95f92/RT_STRUCT/201802409 BARAT GALPIN ELIANE/103893708 Tepscan FDG/RTSTRUCT PETVCAR RTSS RTSS/RT000000.dcm'\n",
    "#rtss_path = '/media/deeplearning/78ca2911-9e9f-4f78-b80a-848024b95f92/RT_STRUCT/rtss.dcm'\n",
    "ct_path = '/media/deeplearning/78ca2911-9e9f-4f78-b80a-848024b95f92/RT_STRUCT/201802409 BARAT GALPIN ELIANE/103893708 Tepscan FDG/CT CT STD 2.5mm'\n",
    "pet_path = '/media/deeplearning/78ca2911-9e9f-4f78-b80a-848024b95f92/RT_STRUCT/201802409 BARAT GALPIN ELIANE/103893708 Tepscan FDG/PT WB FDG VPHD 2min'"
   ]
  },
  {
   "cell_type": "code",
   "execution_count": null,
   "metadata": {
    "tags": []
   },
   "outputs": [],
   "source": [
    "mask_builder_rtss = MaskBuilder_RTSS(rtss_path, pet_path)"
   ]
  },
  {
   "cell_type": "code",
   "execution_count": null,
   "metadata": {
    "tags": []
   },
   "outputs": [],
   "source": [
    "from time import process_time\n",
    "t1_start = process_time()\n",
    "mask_4D = mask_builder_rtss.rtss_to_4D_mask()\n",
    "t1_stop = process_time() \n",
    "print(\"diff début fin :\", t1_stop-t1_start)  "
   ]
  },
  {
   "cell_type": "code",
   "execution_count": null,
   "metadata": {},
   "outputs": [],
   "source": [
    "mask_builder_rtss.number_of_roi"
   ]
  },
  {
   "cell_type": "code",
   "execution_count": null,
   "metadata": {},
   "outputs": [],
   "source": [
    "mask_4D.shape"
   ]
  },
  {
   "cell_type": "code",
   "execution_count": null,
   "metadata": {},
   "outputs": [],
   "source": [
    "plt.imshow(mask_4D[:,:,237,0]) #0 pour ROI 1\n",
    "plt.show()\n",
    "#3Dslicer <= 309 slice |  308 ième => Python "
   ]
  },
  {
   "cell_type": "code",
   "execution_count": null,
   "metadata": {},
   "outputs": [],
   "source": []
  },
  {
   "cell_type": "markdown",
   "metadata": {},
   "source": [
    "### Mask -> RTSTRUCT file \n"
   ]
  },
  {
   "cell_type": "code",
   "execution_count": null,
   "metadata": {},
   "outputs": [],
   "source": [
    "from library_dicom.rtss_processor.model.RTSS_Writer import RTSS_Writer\n",
    "import pydicom"
   ]
  },
  {
   "cell_type": "code",
   "execution_count": null,
   "metadata": {},
   "outputs": [],
   "source": [
    "dataset = {}\n",
    "for i in range(1,11):\n",
    "    data = {}\n",
    "    data['ROIName'] = str(i)\n",
    "    data['ROIGenerationAlgorithm'] = 'SEMIAUTOMATIC'\n",
    "    dataset[i] = data\n",
    "print(dataset)    "
   ]
  },
  {
   "cell_type": "code",
   "execution_count": null,
   "metadata": {},
   "outputs": [],
   "source": [
    "new_rtss = RTSS_Writer(mask_4D, ct_path, dataset)"
   ]
  },
  {
   "cell_type": "code",
   "execution_count": null,
   "metadata": {},
   "outputs": [],
   "source": [
    "filename = 'rtss_2.dcm'\n",
    "directory_path = '/media/deeplearning/78ca2911-9e9f-4f78-b80a-848024b95f92/RT_STRUCT'\n",
    "new_rtss.save_file(filename, directory_path)"
   ]
  },
  {
   "cell_type": "code",
   "execution_count": null,
   "metadata": {},
   "outputs": [],
   "source": []
  }
 ],
 "metadata": {
  "kernelspec": {
   "display_name": "Python 3.8.2 64-bit",
   "language": "python",
   "name": "python38264bit4afc185bc98b42c389abdbb3fbeec8dd"
  },
  "language_info": {
   "codemirror_mode": {
    "name": "ipython",
    "version": 3
   },
   "file_extension": ".py",
   "mimetype": "text/x-python",
   "name": "python",
   "nbconvert_exporter": "python",
   "pygments_lexer": "ipython3",
   "version": "3.8.5-final"
  }
 },
 "nbformat": 4,
 "nbformat_minor": 2
}