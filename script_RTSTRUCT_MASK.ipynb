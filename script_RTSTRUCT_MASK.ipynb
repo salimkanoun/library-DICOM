{
 "cells": [
  {
   "cell_type": "code",
   "execution_count": 1,
   "metadata": {},
   "outputs": [],
   "source": [
    "from library_dicom.dicom_processor.model.reader.Instance_RTSS import Instance_RTSS\n",
    "\n",
    "from library_dicom.rtss_processor.model.MaskBuilder_RTSS import MaskBuilder_RTSS\n",
    "from library_dicom.dicom_processor.model.Series import Series\n",
    "\n",
    "import matplotlib.pyplot as plt\n",
    "import numpy as np"
   ]
  },
  {
   "cell_type": "markdown",
   "metadata": {},
   "source": [
    "### RTSTRUCT file -> Mask "
   ]
  },
  {
   "cell_type": "code",
   "execution_count": null,
   "metadata": {},
   "outputs": [],
   "source": [
    "rtss_path = "
   ]
  },
  {
   "cell_type": "code",
   "execution_count": null,
   "metadata": {},
   "outputs": [],
   "source": [
    "mask_builder_rtss = MaskBuilder_RTSS(rtss_path, CT_path)"
   ]
  },
  {
   "cell_type": "code",
   "execution_count": null,
   "metadata": {},
   "outputs": [],
   "source": [
    "from time import process_time\n",
    "t1_start = process_time()\n",
    "mask_4D = mask_builder_rtss.rtss_to_4D_mask()\n",
    "t1_stop = process_time() \n",
    "print(\"diff début fin :\", t1_stop-t1_start)  "
   ]
  },
  {
   "cell_type": "code",
   "execution_count": null,
   "metadata": {},
   "outputs": [],
   "source": [
    "mask_builder_rtss.number_of_roi"
   ]
  },
  {
   "cell_type": "code",
   "execution_count": null,
   "metadata": {},
   "outputs": [],
   "source": [
    "plt.imshow(mask_4D[:,:,308,0]) #0 pour ROI 1\n",
    "plt.show()\n",
    "#3Dslicer <= 309 slice |  308 ième => Python "
   ]
  },
  {
   "cell_type": "code",
   "execution_count": null,
   "metadata": {},
   "outputs": [],
   "source": []
  },
  {
   "cell_type": "markdown",
   "metadata": {},
   "source": [
    "### Mask -> RTSTRUCT file \n"
   ]
  },
  {
   "cell_type": "code",
   "execution_count": null,
   "metadata": {},
   "outputs": [],
   "source": [
    "from library_dicom.rtss_processor.model.RTSS_Writer import RTSS_Writer\n",
    "import pydicom"
   ]
  },
  {
   "cell_type": "code",
   "execution_count": null,
   "metadata": {},
   "outputs": [],
   "source": [
    "dataset = {}\n",
    "for i in range(1,11):\n",
    "    data = {}\n",
    "    data['ROIName'] = str(i)\n",
    "    data['ROIGenerationAlgorithm'] = 'SEMIAUTOMATIC'\n",
    "    dataset[i] = data\n",
    "print(dataset)    "
   ]
  },
  {
   "cell_type": "code",
   "execution_count": null,
   "metadata": {},
   "outputs": [],
   "source": [
    "new_rtss = RTSS_Writer(mask_4D, CT_path, dataset)\n"
   ]
  },
  {
   "cell_type": "code",
   "execution_count": null,
   "metadata": {},
   "outputs": [],
   "source": [
    "directory = r'C:\\Users\\wendy\\Documents\\STAGE\\DicomRT\\201802409 BARAT GALPIN ELIANE\\103893708 Tepscan FDG\\new_rtss'\n",
    "filename = r'test2.dcm'"
   ]
  },
  {
   "cell_type": "code",
   "execution_count": null,
   "metadata": {},
   "outputs": [],
   "source": [
    "new_rtss.save_file(filename, directory)"
   ]
  },
  {
   "cell_type": "code",
   "execution_count": null,
   "metadata": {},
   "outputs": [],
   "source": []
  },
  {
   "cell_type": "code",
   "execution_count": null,
   "metadata": {},
   "outputs": [],
   "source": [
    "### Test RTSTRUCT CT ROI to PET ROI "
   ]
  },
  {
   "cell_type": "code",
   "execution_count": 10,
   "metadata": {},
   "outputs": [],
   "source": [
    "from library_dicom.dicom_processor.model.SeriesCT import SeriesCT\n",
    "from library_dicom.dicom_processor.model.SeriesPT import SeriesPT\n",
    "\n",
    "ct_path = '/media/oncopole/DD 2To/Jakob/Example Data/1.2.826.0.1.3417726.3.1622984591/1.2.826.0.1.3417726.3.458434.20201008132231363'\n",
    "pet_path = '/media/oncopole/DD 2To/Jakob/Example Data/1.2.826.0.1.3417726.3.1622984591/1.2.826.0.1.3417726.3.30343.20201008132234488'\n",
    "\n",
    "rt_path = '/media/oncopole/DD 2To/Jakob/Example Data/1.2.826.0.1.3417726.3.1622984591/1.2.826.0.1.3417726.3.714187.20201008132226221/1.2.826.0.1.3417726.3.280294.20201008132226252.dcm'"
   ]
  },
  {
   "cell_type": "code",
   "execution_count": 3,
   "metadata": {},
   "outputs": [],
   "source": [
    "serie_pet_object = SeriesPT(pet_path)\n",
    "serie_ct_object = SeriesCT(ct_path)\n",
    "instance_pet = serie_pet_object.get_instances_ordered()\n",
    "instance_ct = serie_ct_object.get_instances_ordered()"
   ]
  },
  {
   "cell_type": "code",
   "execution_count": 8,
   "metadata": {},
   "outputs": [
    {
     "output_type": "stream",
     "name": "stdout",
     "text": [
      "[\"-49.68300975\", \"-55.30265248\", \"-57.10406392\"]\n[\"-50.293084\", \"-50.293084\", \"-65.307512\"]\n[-49.68300975, -55.30265248, -57.10406392]\n[-50.293084, -50.293084, -65.307512]\ndelta :  [-0.6100742500000038, 5.009568479999999, -8.203448080000001]\n"
     ]
    }
   ],
   "source": [
    "origin_pet = instance_pet[0].get_instance_tags()['ImagePosition']\n",
    "origin_ct = instance_ct[0].get_instance_tags()['ImagePosition']\n",
    "print(origin_pet)\n",
    "print(origin_ct)\n",
    "\n",
    "delta = []\n",
    "for i in range(3):\n",
    "    origin_pet[i] = float(origin_pet[i])\n",
    "    origin_ct[i] = float(origin_ct[i])\n",
    "\n",
    "    delta.append(origin_ct[i] - origin_pet[i])\n",
    "print(origin_pet)\n",
    "print(origin_ct)\n",
    "print(\"delta : \", delta)"
   ]
  },
  {
   "cell_type": "code",
   "execution_count": 39,
   "metadata": {
    "tags": []
   },
   "outputs": [],
   "source": [
    "rtss_object = Instance_RTSS(rt_path)\n",
    "rtss_object.get_number_of_roi()\n",
    "#ATTENTION : Instance RTSS, ROI qui commence a 1 et non à 0. A décaler de 1\n",
    "\n",
    "index = [14, 25]\n",
    "contour = []\n",
    "for i in index:\n",
    "    contour.append(rtss_object.get_contour_data(i))\n",
    "    \n",
    "for roi in contour : \n",
    "    for slice in roi : \n",
    "        for i in range(len(slice)):\n",
    "            slice[i] = float(slice[i])"
   ]
  },
  {
   "cell_type": "code",
   "execution_count": 40,
   "metadata": {},
   "outputs": [
    {
     "output_type": "execute_result",
     "data": {
      "text/plain": [
       "[32.968744, -6.0897680000209, -38.218544, 32.968744, -5.8797760000209, -38.218544, 32.54876, -5.8797760000209, -38.218544, 32.54876, -5.6697840000209, -38.218544, 32.128776, -5.6697840000209, -38.218544, 32.128776, -5.4597920000209, -38.218544, 31.708792, -5.4597920000209, -38.218544, 31.708792, -5.2498000000209, -38.218544, 31.4988, -5.2498000000209, -38.218544, 31.4988, -5.0398080000209, -38.218544, 31.288808, -5.0398080000209, -38.218544, 31.288808, -4.8298160000209, -38.218544, 31.078816, -4.8298160000209, -38.218544, 31.078816, -4.4098320000209, -38.218544, 30.868824, -4.4098320000209, -38.218544, 30.868824, -4.1998400000209, -38.218544, 30.658832, -4.1998400000209, -38.218544, 30.658832, -3.3598720000209, -38.218544, 30.868824, -3.3598720000209, -38.218544, 30.868824, -3.1498800000209, -38.218544, 31.288808, -3.1498800000209, -38.218544, 31.288808, -2.9398880000209, -38.218544, 32.968744, -2.9398880000209, -38.218544, 32.968744, -3.1498800000209, -38.218544, 33.178736, -3.1498800000209, -38.218544, 33.178736, -3.3598720000209, -38.218544, 33.59872, -3.3598720000209, -38.218544, 33.59872, -3.5698640000209, -38.218544, 34.018704, -3.5698640000209, -38.218544, 34.018704, -3.7798560000209, -38.218544, 34.228696, -3.7798560000209, -38.218544, 34.228696, -3.9898480000209, -38.218544, 34.64868, -3.9898480000209, -38.218544, 34.64868, -4.1998400000209, -38.218544, 35.068664, -4.1998400000209, -38.218544, 35.068664, -4.4098320000209, -38.218544, 35.278656, -4.4098320000209, -38.218544, 35.278656, -4.6198240000209, -38.218544, 35.488648, -4.6198240000209, -38.218544, 35.488648, -4.8298160000209, -38.218544, 35.69864, -4.8298160000209, -38.218544, 35.69864, -5.6697840000209, -38.218544, 35.488648, -5.6697840000209, -38.218544, 35.488648, -5.8797760000209, -38.218544, 35.068664, -5.8797760000209, -38.218544, 35.068664, -6.0897680000209, -38.218544, 32.968744, -6.0897680000209, -38.218544]"
      ]
     },
     "metadata": {},
     "execution_count": 40
    }
   ],
   "source": [
    "contour[0][0]"
   ]
  },
  {
   "cell_type": "code",
   "execution_count": 41,
   "metadata": {},
   "outputs": [
    {
     "output_type": "stream",
     "name": "stdout",
     "text": [
      "slices Tumor 1.2L :  47\nslices Tumor 2.2L :  50\n"
     ]
    }
   ],
   "source": [
    "#Tumeur 1.2L\n",
    "print(\"slices Tumor 1.2L : \", len(contour[0]))\n",
    "print(\"slices Tumor 2.2L : \", len(contour[1]))"
   ]
  },
  {
   "cell_type": "code",
   "execution_count": 42,
   "metadata": {},
   "outputs": [],
   "source": [
    "#change coordonate \n",
    "#On a les coordonnées CT \n",
    "#On veut les transformer en coordonées PT \n",
    "#coord_ct - delta = coord_pt\n",
    "contour_pet = contour\n",
    "for roi in contour_pet : \n",
    "    for slice in roi : \n",
    "        for i in range(len(slice)):\n",
    "            slice[i] = float(slice[i])\n",
    "            if i%3 == 0 :\n",
    "                slice[i] = slice[i] - delta[0]\n",
    "\n",
    "            elif i%3 == 1 : \n",
    "                slice[i] = slice[i] -  delta[1]\n",
    "\n",
    "            elif i%3 == 2 : \n",
    "                slice[i] = slice[i] - delta[2]"
   ]
  },
  {
   "cell_type": "code",
   "execution_count": 43,
   "metadata": {},
   "outputs": [
    {
     "output_type": "execute_result",
     "data": {
      "text/plain": [
       "[33.578818250000005, -11.099336480020899, -30.01509592, 33.578818250000005, -10.889344480020899, -30.01509592, 33.158834250000005, -10.889344480020899, -30.01509592, 33.158834250000005, -10.6793524800209, -30.01509592, 32.738850250000006, -10.6793524800209, -30.01509592, 32.738850250000006, -10.4693604800209, -30.01509592, 32.31886625, -10.4693604800209, -30.01509592, 32.31886625, -10.2593684800209, -30.01509592, 32.10887425, -10.2593684800209, -30.01509592, 32.10887425, -10.049376480020898, -30.01509592, 31.898882250000003, -10.049376480020898, -30.01509592, 31.898882250000003, -9.839384480020898, -30.01509592, 31.688890250000004, -9.839384480020898, -30.01509592, 31.688890250000004, -9.419400480020899, -30.01509592, 31.478898250000004, -9.419400480020899, -30.01509592, 31.478898250000004, -9.209408480020898, -30.01509592, 31.268906250000004, -9.209408480020898, -30.01509592, 31.268906250000004, -8.369440480020899, -30.01509592, 31.478898250000004, -8.369440480020899, -30.01509592, 31.478898250000004, -8.159448480020899, -30.01509592, 31.898882250000003, -8.159448480020899, -30.01509592, 31.898882250000003, -7.949456480020899, -30.01509592, 33.578818250000005, -7.949456480020899, -30.01509592, 33.578818250000005, -8.159448480020899, -30.01509592, 33.788810250000004, -8.159448480020899, -30.01509592, 33.788810250000004, -8.369440480020899, -30.01509592, 34.208794250000004, -8.369440480020899, -30.01509592, 34.208794250000004, -8.579432480020898, -30.01509592, 34.62877825, -8.579432480020898, -30.01509592, 34.62877825, -8.789424480020898, -30.01509592, 34.83877025, -8.789424480020898, -30.01509592, 34.83877025, -8.999416480020898, -30.01509592, 35.25875425, -8.999416480020898, -30.01509592, 35.25875425, -9.209408480020898, -30.01509592, 35.67873825, -9.209408480020898, -30.01509592, 35.67873825, -9.419400480020899, -30.01509592, 35.88873025, -9.419400480020899, -30.01509592, 35.88873025, -9.629392480020899, -30.01509592, 36.09872225, -9.629392480020899, -30.01509592, 36.09872225, -9.839384480020898, -30.01509592, 36.30871425, -9.839384480020898, -30.01509592, 36.30871425, -10.6793524800209, -30.01509592, 36.09872225, -10.6793524800209, -30.01509592, 36.09872225, -10.889344480020899, -30.01509592, 35.67873825, -10.889344480020899, -30.01509592, 35.67873825, -11.099336480020899, -30.01509592, 33.578818250000005, -11.099336480020899, -30.01509592]"
      ]
     },
     "metadata": {},
     "execution_count": 43
    }
   ],
   "source": [
    "contour_pet[0][0]"
   ]
  }
 ],
 "metadata": {
  "kernelspec": {
   "display_name": "Python 3",
   "language": "python",
   "name": "python3"
  },
  "language_info": {
   "codemirror_mode": {
    "name": "ipython",
    "version": 3
   },
   "file_extension": ".py",
   "mimetype": "text/x-python",
   "name": "python",
   "nbconvert_exporter": "python",
   "pygments_lexer": "ipython3",
   "version": "3.8.5-final"
  }
 },
 "nbformat": 4,
 "nbformat_minor": 2
}