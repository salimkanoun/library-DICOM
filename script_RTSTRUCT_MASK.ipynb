{
 "cells": [
  {
   "cell_type": "code",
   "execution_count": 3,
   "metadata": {},
   "outputs": [],
   "source": [
    "from library_dicom.dicom_processor.model.reader.Instance_RTSS import Instance_RTSS\n",
    "\n",
    "from library_dicom.rtss_processor.model.MaskBuilder_RTSS import MaskBuilder_RTSS\n",
    "from library_dicom.dicom_processor.model.Series import Series\n",
    "\n",
    "import matplotlib.pyplot as plt\n",
    "import numpy as np"
   ]
  },
  {
   "cell_type": "markdown",
   "metadata": {},
   "source": [
    "### RTSTRUCT file -> Mask "
   ]
  },
  {
   "cell_type": "code",
   "execution_count": null,
   "metadata": {},
   "outputs": [],
   "source": [
    "rtss_path = "
   ]
  },
  {
   "cell_type": "code",
   "execution_count": null,
   "metadata": {},
   "outputs": [],
   "source": [
    "mask_builder_rtss = MaskBuilder_RTSS(rtss_path, CT_path)"
   ]
  },
  {
   "cell_type": "code",
   "execution_count": null,
   "metadata": {},
   "outputs": [],
   "source": [
    "from time import process_time\n",
    "t1_start = process_time()\n",
    "mask_4D = mask_builder_rtss.rtss_to_4D_mask()\n",
    "t1_stop = process_time() \n",
    "print(\"diff début fin :\", t1_stop-t1_start)  "
   ]
  },
  {
   "cell_type": "code",
   "execution_count": null,
   "metadata": {},
   "outputs": [],
   "source": [
    "mask_builder_rtss.number_of_roi"
   ]
  },
  {
   "cell_type": "code",
   "execution_count": null,
   "metadata": {},
   "outputs": [],
   "source": [
    "plt.imshow(mask_4D[:,:,308,0]) #0 pour ROI 1\n",
    "plt.show()\n",
    "#3Dslicer <= 309 slice |  308 ième => Python "
   ]
  },
  {
   "cell_type": "code",
   "execution_count": null,
   "metadata": {},
   "outputs": [],
   "source": []
  },
  {
   "cell_type": "markdown",
   "metadata": {},
   "source": [
    "### Mask -> RTSTRUCT file \n"
   ]
  },
  {
   "cell_type": "code",
   "execution_count": null,
   "metadata": {},
   "outputs": [],
   "source": [
    "from library_dicom.rtss_processor.model.RTSS_Writer import RTSS_Writer\n",
    "import pydicom"
   ]
  },
  {
   "cell_type": "code",
   "execution_count": null,
   "metadata": {},
   "outputs": [],
   "source": [
    "dataset = {}\n",
    "for i in range(1,11):\n",
    "    data = {}\n",
    "    data['ROIName'] = str(i)\n",
    "    data['ROIGenerationAlgorithm'] = 'SEMIAUTOMATIC'\n",
    "    dataset[i] = data\n",
    "print(dataset)    "
   ]
  },
  {
   "cell_type": "code",
   "execution_count": null,
   "metadata": {},
   "outputs": [],
   "source": [
    "new_rtss = RTSS_Writer(mask_4D, CT_path, dataset)\n"
   ]
  },
  {
   "cell_type": "code",
   "execution_count": null,
   "metadata": {},
   "outputs": [],
   "source": [
    "directory = r'C:\\Users\\wendy\\Documents\\STAGE\\DicomRT\\201802409 BARAT GALPIN ELIANE\\103893708 Tepscan FDG\\new_rtss'\n",
    "filename = r'test2.dcm'"
   ]
  },
  {
   "cell_type": "code",
   "execution_count": null,
   "metadata": {},
   "outputs": [],
   "source": [
    "new_rtss.save_file(filename, directory)"
   ]
  },
  {
   "cell_type": "code",
   "execution_count": null,
   "metadata": {},
   "outputs": [],
   "source": []
  },
  {
   "cell_type": "code",
   "execution_count": null,
   "metadata": {},
   "outputs": [],
   "source": [
    "### Test RTSTRUCT CT ROI to PET ROI "
   ]
  },
  {
   "cell_type": "code",
   "execution_count": 4,
   "metadata": {},
   "outputs": [],
   "source": [
    "from library_dicom.dicom_processor.model.SeriesCT import SeriesCT\n",
    "from library_dicom.dicom_processor.model.SeriesPT import SeriesPT\n",
    "\n",
    "ct_path = '/media/oncopole/DD 2To/Jakob/Example Data/1.2.826.0.1.3417726.3.1622984591/1.2.826.0.1.3417726.3.458434.20201008132231363'\n",
    "pet_path = '/media/oncopole/DD 2To/Jakob/Example Data/1.2.826.0.1.3417726.3.1622984591/1.2.826.0.1.3417726.3.30343.20201008132234488'\n",
    "\n",
    "rt_path = '/media/oncopole/DD 2To/Jakob/Example Data/1.2.826.0.1.3417726.3.1622984591/1.2.826.0.1.3417726.3.714187.20201008132226221'"
   ]
  },
  {
   "cell_type": "code",
   "execution_count": 10,
   "metadata": {},
   "outputs": [],
   "source": [
    "serie_pet_object = SeriesPT(pet_path)\n",
    "serie_ct_object = SeriesCT(ct_path)\n",
    "instance_pet = serie_pet_object.get_instances_ordered()\n",
    "instance_ct = serie_ct_object.get_instances_ordered()"
   ]
  },
  {
   "cell_type": "code",
   "execution_count": 15,
   "metadata": {},
   "outputs": [
    {
     "output_type": "execute_result",
     "data": {
      "text/plain": [
       "{'PixelSpacing': [\"0.3985997409\", \"0.3924781443\"],\n",
       " 'ImagePosition': [\"-49.68300975\", \"-55.30265248\", \"-57.10406392\"],\n",
       " 'ImageOrientation': [\"1.0\", \"0.0\", \"0.0\", \"0.0\", \"1.0\", \"0.0\"],\n",
       " 'RescaleSlope': \"2.86798479606006\",\n",
       " 'RescaleIntercept': \"0.0\",\n",
       " 'SOPInstanceUID': '1.2.826.0.1.3417726.3.298287.20201008132234519'}"
      ]
     },
     "metadata": {},
     "execution_count": 15
    }
   ],
   "source": [
    "instance_pet[0].get_instance_tags()\n"
   ]
  },
  {
   "cell_type": "code",
   "execution_count": 16,
   "metadata": {},
   "outputs": [
    {
     "output_type": "stream",
     "name": "stdout",
     "text": [
      "[256, 256, 159]\n"
     ]
    }
   ],
   "source": [
    "print(serie_pet_object.get_size_matrix())"
   ]
  },
  {
   "cell_type": "code",
   "execution_count": 17,
   "metadata": {},
   "outputs": [
    {
     "output_type": "execute_result",
     "data": {
      "text/plain": [
       "{'PixelSpacing': [\"0.209992\", \"0.209992\"],\n",
       " 'ImagePosition': [\"-50.293084\", \"-50.293084\", \"-65.307512\"],\n",
       " 'ImageOrientation': [\"1.0\", \"0.0\", \"0.0\", \"0.0\", \"1.0\", \"0.0\"],\n",
       " 'RescaleSlope': \"1.0\",\n",
       " 'RescaleIntercept': \"-999.9912109\",\n",
       " 'SOPInstanceUID': '1.2.826.0.1.3417726.3.825854.20201008132231394'}"
      ]
     },
     "metadata": {},
     "execution_count": 17
    }
   ],
   "source": [
    "instance_ct[0].get_instance_tags()"
   ]
  },
  {
   "cell_type": "code",
   "execution_count": 18,
   "metadata": {},
   "outputs": [
    {
     "output_type": "execute_result",
     "data": {
      "text/plain": [
       "[480, 480, 623]"
      ]
     },
     "metadata": {},
     "execution_count": 18
    }
   ],
   "source": [
    "serie_ct_object.get_size_matrix()"
   ]
  },
  {
   "cell_type": "code",
   "execution_count": null,
   "metadata": {},
   "outputs": [],
   "source": []
  },
  {
   "cell_type": "code",
   "execution_count": null,
   "metadata": {},
   "outputs": [],
   "source": []
  }
 ],
 "metadata": {
  "kernelspec": {
   "display_name": "Python 3",
   "language": "python",
   "name": "python3"
  },
  "language_info": {
   "codemirror_mode": {
    "name": "ipython",
    "version": 3
   },
   "file_extension": ".py",
   "mimetype": "text/x-python",
   "name": "python",
   "nbconvert_exporter": "python",
   "pygments_lexer": "ipython3",
   "version": "3.8.5-final"
  }
 },
 "nbformat": 4,
 "nbformat_minor": 2
}