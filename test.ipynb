{
 "cells": [
  {
   "cell_type": "code",
   "execution_count": 1,
   "metadata": {},
   "outputs": [],
   "source": [
    "import SimpleITK as sitk \n",
    "import numpy as np \n",
    "from dicom_to_cnn.model.fusion.Fusion_2 import Fusion \n",
    "\n",
    "path_pet = r'C:\\Users\\wendy\\Documents\\STAGE\\PET0\\1.2.250.1.74.20120625133000.1000031365770_nifti_PT.nii'\n",
    "path_mask= r'C:\\Users\\wendy\\Documents\\STAGE\\PET0\\1.2.250.1.74.20120625133000.1000031365770_nifti_mask_3d.nii'\n",
    "path_ct = r'C:\\Users\\wendy\\Documents\\STAGE\\PET0\\1.2.250.1.74.20120625133000.1000031365770_nifti_CT.nii'\n",
    "\n",
    "ct_img = sitk.ReadImage(path_ct)\n",
    "pet_img = sitk.ReadImage(path_pet)\n",
    "mask_img = sitk.ReadImage(path_mask)"
   ]
  },
  {
   "cell_type": "code",
   "execution_count": 2,
   "metadata": {},
   "outputs": [
    {
     "output_type": "stream",
     "name": "stdout",
     "text": [
      "(512, 512, 287)\n(128, 128, 287)\n(128, 128, 287)\n"
     ]
    }
   ],
   "source": [
    "print(ct_img.GetSize())\n",
    "print(pet_img.GetSize())\n",
    "print(mask_img.GetSize())"
   ]
  },
  {
   "cell_type": "code",
   "execution_count": 6,
   "metadata": {},
   "outputs": [
    {
     "output_type": "stream",
     "name": "stdout",
     "text": [
      "(128, 128, 256)\n"
     ]
    }
   ],
   "source": [
    "target_size = (128, 128, 256)\n",
    "target_spacing = (4.0, 4.0, 4.0)\n",
    "target_direction = (1,0,0,0,1,0,0,0,1)\n",
    "objet = Fusion()\n",
    "objet.set_origin_image(pet_img)\n",
    "objet.set_target_volume(target_size, target_spacing, target_direction)\n",
    "resampled_pet_img = objet.resample(pet_img, defaultValuePixel = -1000.0)\n",
    "print(resampled_pet_img.GetSize())"
   ]
  },
  {
   "cell_type": "code",
   "execution_count": null,
   "metadata": {},
   "outputs": [],
   "source": []
  },
  {
   "cell_type": "code",
   "execution_count": null,
   "metadata": {},
   "outputs": [],
   "source": []
  },
  {
   "cell_type": "code",
   "execution_count": null,
   "metadata": {},
   "outputs": [],
   "source": []
  },
  {
   "cell_type": "code",
   "execution_count": 18,
   "metadata": {},
   "outputs": [
    {
     "output_type": "stream",
     "name": "stdout",
     "text": [
      "(287, 128, 128)\n(287, 128, 128, 4)\n(4, 287, 128, 128)\n pet : [0.51949181 0.73331306 1.63131293 2.94115327 3.65347926 4.76085606\n 3.40138746 2.56708954 2.72634439 1.53847599 1.01626821 0.9394802\n 0.86688962 1.20564569 1.89352791 3.04263195 3.70458896 3.23768828\n 3.37768442 0.85726026]\n\npet / np.max(pet) : [0.06057394 0.08550598 0.19021483 0.34294521 0.42600406 0.55512673\n 0.39660957 0.29932852 0.317898   0.17938983 0.1184992  0.10954555\n 0.10108132 0.14058105 0.22078969 0.35477786 0.43196356 0.37752187\n 0.39384574 0.09995851]\n\npet trunc : [0.         0.         0.         0.03511393 0.50764723 0.98840181\n 0.30211108 0.         0.         0.         0.         0.\n 0.         0.         0.         0.07694786 0.54967959 0.18530498\n 0.28400269 0.        ]\n"
     ]
    }
   ],
   "source": [
    "from scipy.stats import truncnorm\n",
    "pet_array = sitk.GetArrayFromImage(sitk.ReadImage(path_pet))\n",
    "mask_array = sitk.GetArrayFromImage(sitk.ReadImage(path_mask))\n",
    "print(pet_array.shape)\n",
    "print(mask_array.shape)\n",
    "mask_array = np.transpose(mask_array, (3,0,1,2))\n",
    "print(mask_array.shape)\n",
    "lower, upper = 0.33, 0.60\n",
    "mu, std = 0.42, 0.06\n",
    "a, b = (lower - mu) / std, (upper - mu) / std\n",
    "\n",
    "for num_slice in range(3, mask_array.shape[0]):\n",
    "    lower, upper = 0.33, 0.60\n",
    "    mu, std = 0.42, 0.06\n",
    "    a, b = (lower - mu) / std, (upper - mu) / std\n",
    "    mask_slice = mask_array[num_slice]  # R.O.I\n",
    "    roi = pet_array[mask_slice > 0]\n",
    "    print(\" pet :\", roi[-20:])\n",
    "    print('')\n",
    "    n = roi / np.max(roi)\n",
    "    print(\"pet / np.max(pet) :\", n[-20:])\n",
    "    print('')\n",
    "    roi_trunc = truncnorm.cdf(roi / np.max(roi), a, b, loc=mu, scale=std)\n",
    "    print(\"pet trunc :\", roi_trunc[-20:])"
   ]
  },
  {
   "cell_type": "code",
   "execution_count": null,
   "metadata": {},
   "outputs": [],
   "source": []
  },
  {
   "cell_type": "code",
   "execution_count": null,
   "metadata": {},
   "outputs": [],
   "source": []
  },
  {
   "cell_type": "code",
   "execution_count": null,
   "metadata": {},
   "outputs": [],
   "source": []
  },
  {
   "cell_type": "code",
   "execution_count": null,
   "metadata": {},
   "outputs": [],
   "source": []
  },
  {
   "cell_type": "code",
   "execution_count": null,
   "metadata": {},
   "outputs": [],
   "source": []
  }
 ],
 "metadata": {
  "kernelspec": {
   "name": "python374jvsc74a57bd05fa85048b1ccf2db2d380087d6d5e0fd15f1aeb7f6a05be2df0496f553dfa61b",
   "display_name": "Python 3.7.4 64-bit ('base': conda)"
  },
  "language_info": {
   "codemirror_mode": {
    "name": "ipython",
    "version": 3
   },
   "file_extension": ".py",
   "mimetype": "text/x-python",
   "name": "python",
   "nbconvert_exporter": "python",
   "pygments_lexer": "ipython3",
   "version": "3.7.4"
  }
 },
 "nbformat": 4,
 "nbformat_minor": 2
}