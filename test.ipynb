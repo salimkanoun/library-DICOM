{
 "cells": [
  {
   "cell_type": "code",
   "execution_count": 1,
   "metadata": {},
   "outputs": [],
   "source": [
    "import SimpleITK as sitk \n",
    "import numpy as np \n",
    "from dicom_to_cnn.model.fusion.Fusion_2 import Fusion \n",
    "\n",
    "path_pet = r'C:\\Users\\wendy\\Documents\\STAGE\\PET0\\1.2.250.1.74.20120625133000.1000031365770_nifti_PT.nii'\n",
    "path_mask= r'C:\\Users\\wendy\\Documents\\STAGE\\PET0\\1.2.250.1.74.20120625133000.1000031365770_nifti_mask_3d.nii'\n",
    "path_ct = r'C:\\Users\\wendy\\Documents\\STAGE\\PET0\\1.2.250.1.74.20120625133000.1000031365770_nifti_CT.nii'\n",
    "\n",
    "ct_img = sitk.ReadImage(path_ct)\n",
    "pet_img = sitk.ReadImage(path_pet)\n",
    "mask_img = sitk.ReadImage(path_mask)"
   ]
  },
  {
   "cell_type": "code",
   "execution_count": 2,
   "metadata": {},
   "outputs": [
    {
     "output_type": "stream",
     "name": "stdout",
     "text": [
      "(512, 512, 287)\n(128, 128, 287)\n(128, 128, 287)\n"
     ]
    }
   ],
   "source": [
    "print(ct_img.GetSize())\n",
    "print(pet_img.GetSize())\n",
    "print(mask_img.GetSize())"
   ]
  },
  {
   "cell_type": "code",
   "execution_count": 6,
   "metadata": {},
   "outputs": [
    {
     "output_type": "stream",
     "name": "stdout",
     "text": [
      "(128, 128, 256)\n"
     ]
    }
   ],
   "source": [
    "target_size = (128, 128, 256)\n",
    "target_spacing = (4.0, 4.0, 4.0)\n",
    "target_direction = (1,0,0,0,1,0,0,0,1)\n",
    "objet = Fusion()\n",
    "objet.set_origin_image(pet_img)\n",
    "objet.set_target_volume(target_size, target_spacing, target_direction)\n",
    "resampled_pet_img = objet.resample(pet_img, defaultValuePixel = -1000.0)\n",
    "print(resampled_pet_img.GetSize())"
   ]
  },
  {
   "cell_type": "code",
   "execution_count": null,
   "metadata": {},
   "outputs": [],
   "source": []
  },
  {
   "cell_type": "code",
   "execution_count": 1,
   "metadata": {},
   "outputs": [],
   "source": [
    "from dicom_to_cnn.model.segmentation.MaskBuilder_DICOMSEG import MaskBuilder_DICOMSEG \n",
    "\n",
    "path =  r'C:\\Users\\wendy\\Documents\\STAGE\\PET0\\sarcome_dicom_seg.dcm'\n",
    "\n",
    "objet = MaskBuilder_DICOMSEG(path)\n",
    "matrix = objet.get_numpy_array()"
   ]
  },
  {
   "cell_type": "code",
   "execution_count": 2,
   "metadata": {},
   "outputs": [
    {
     "output_type": "execute_result",
     "data": {
      "text/plain": [
       "(139, 256, 256)"
      ]
     },
     "metadata": {},
     "execution_count": 2
    }
   ],
   "source": [
    "matrix.shape"
   ]
  },
  {
   "cell_type": "code",
   "execution_count": null,
   "metadata": {},
   "outputs": [],
   "source": []
  },
  {
   "cell_type": "code",
   "execution_count": null,
   "metadata": {},
   "outputs": [],
   "source": []
  },
  {
   "cell_type": "code",
   "execution_count": null,
   "metadata": {},
   "outputs": [],
   "source": []
  },
  {
   "cell_type": "code",
   "execution_count": null,
   "metadata": {},
   "outputs": [],
   "source": []
  },
  {
   "cell_type": "code",
   "execution_count": null,
   "metadata": {},
   "outputs": [],
   "source": []
  }
 ],
 "metadata": {
  "kernelspec": {
   "name": "python374jvsc74a57bd05fa85048b1ccf2db2d380087d6d5e0fd15f1aeb7f6a05be2df0496f553dfa61b",
   "display_name": "Python 3.7.4 64-bit ('base': conda)"
  },
  "language_info": {
   "codemirror_mode": {
    "name": "ipython",
    "version": 3
   },
   "file_extension": ".py",
   "mimetype": "text/x-python",
   "name": "python",
   "nbconvert_exporter": "python",
   "pygments_lexer": "ipython3",
   "version": "3.7.4"
  }
 },
 "nbformat": 4,
 "nbformat_minor": 2
}