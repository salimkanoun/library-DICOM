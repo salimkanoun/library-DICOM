{
 "cells": [
  {
   "cell_type": "code",
   "execution_count": 2,
   "metadata": {},
   "outputs": [
    {
     "name": "stdout",
     "output_type": "stream",
     "text": [
      "(287, 128, 128)\n",
      "(287, 128, 128, 4)\n"
     ]
    }
   ],
   "source": [
    "import SimpleITK as sitk \n",
    "import numpy as np \n",
    "from dicom_to_cnn.model.post_processing.mip.MIP_Generator import MIP_Generator\n",
    "from dicom_to_cnn.tools.visualization.create_mip import *\n",
    "\n",
    "path_pet = r'C:\\Users\\wendy\\Documents\\STAGE\\PET0\\1.2.250.1.74.20120625133000.1000031365770_nifti_PT.nii'\n",
    "path_mask= r'C:\\Users\\wendy\\Documents\\STAGE\\PET0\\1.2.250.1.74.20120625133000.1000031365770_nifti_mask_3d.nii'\n",
    "pet_array = sitk.GetArrayFromImage(sitk.ReadImage(path_pet))\n",
    "mask_array = sitk.GetArrayFromImage(sitk.ReadImage(path_mask))\n",
    "print(pet_array.shape)\n",
    "print(mask_array.shape)\n",
    "\n",
    "#mip_generator = MIP_Generator(pet_array)\n",
    "#mip = mip_generator.projection(0)\n",
    "#mip_generator.save('t', r'C:\\Users\\wendy\\Documents\\STAGE\\PET0', vmin=0, vmax=7 )\n",
    "#mip_generator.create_mip_gif('t_gif', r'C:\\Users\\wendy\\Documents\\STAGE\\PET0', vmin=0, vmax=7)\n",
    "\n",
    "save_projection_two_modality(pet_array, mask_array, angle=0, filename='2t', directory=r'C:\\Users\\wendy\\Documents\\STAGE\\PET0', vmin=0, vmax=7)\n",
    "create_gif_two_modality(pet_array, mask_array, filename='2t_gif', directory=r'C:\\Users\\wendy\\Documents\\STAGE\\PET0', vmin=0, vmax=7)"
   ]
  }
 ],
 "metadata": {
  "kernelspec": {
   "display_name": "Python 3",
   "language": "python",
   "name": "python3"
  },
  "language_info": {
   "codemirror_mode": {
    "name": "ipython",
    "version": 3
   },
   "file_extension": ".py",
   "mimetype": "text/x-python",
   "name": "python",
   "nbconvert_exporter": "python",
   "pygments_lexer": "ipython3",
   "version": "3.7.4"
  }
 },
 "nbformat": 4,
 "nbformat_minor": 2
}
