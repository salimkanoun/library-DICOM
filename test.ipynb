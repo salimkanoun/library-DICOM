{
 "metadata": {
  "language_info": {
   "codemirror_mode": {
    "name": "ipython",
    "version": 3
   },
   "file_extension": ".py",
   "mimetype": "text/x-python",
   "name": "python",
   "nbconvert_exporter": "python",
   "pygments_lexer": "ipython3",
   "version": "3.8.5"
  },
  "orig_nbformat": 2,
  "kernelspec": {
   "name": "python3",
   "display_name": "Python 3.8.5 64-bit ('base': conda)",
   "metadata": {
    "interpreter": {
     "hash": "6a0b6c04207aa6f5c33e08335e377a5793c5a1abe8e179f13df17cfd923ec7d1"
    }
   }
  }
 },
 "nbformat": 4,
 "nbformat_minor": 2,
 "cells": [
  {
   "cell_type": "code",
   "execution_count": 1,
   "metadata": {},
   "outputs": [],
   "source": [
    "import os \n",
    "import csv\n",
    "from library_dicom.dicom_processor.tools.folders import * "
   ]
  },
  {
   "cell_type": "code",
   "execution_count": null,
   "metadata": {},
   "outputs": [],
   "source": [
    "#Studies already done "
   ]
  },
  {
   "cell_type": "code",
   "execution_count": 2,
   "metadata": {},
   "outputs": [],
   "source": [
    "ahl_csv_path = '/media/oncopole/83c5223d-7a01-4ed0-b268-b877a7da96e2/AHL_NIFTI/AHL2011_NIFTI_V4.csv'\n",
    "with open(ahl_csv_path, 'r') as csv_file :\n",
    "    reader = csv.reader(csv_file, delimiter = ',') #liste pour chaque ligne \n",
    "    csv_file = []\n",
    "    for row in reader :\n",
    "        csv_file.append(row)\n",
    "        \n",
    "del csv_file[0] #enlever première ligne"
   ]
  },
  {
   "cell_type": "code",
   "execution_count": 3,
   "metadata": {},
   "outputs": [],
   "source": [
    "#keep only pet0 \n",
    "studies = []\n",
    "for row in csv_file : \n",
    "    if 'pet0' in row : \n",
    "        studies.append(row)"
   ]
  },
  {
   "cell_type": "code",
   "execution_count": 4,
   "metadata": {},
   "outputs": [
    {
     "output_type": "execute_result",
     "data": {
      "text/plain": [
       "669"
      ]
     },
     "metadata": {},
     "execution_count": 4
    }
   ],
   "source": [
    "len(studies)"
   ]
  },
  {
   "cell_type": "code",
   "execution_count": 5,
   "metadata": {},
   "outputs": [
    {
     "output_type": "execute_result",
     "data": {
      "text/plain": [
       "['CON,DA',\n",
       " '13011101331015',\n",
       " '1.2.124.113532.10.149.172.5.20131107.93455.7725981',\n",
       " 'pet0',\n",
       " 'AHL_NIFTI/13011101331015/pet0/1.2.124.113532.10.149.172.5.20131107.93455.7725981_nifti_CT.nii',\n",
       " 'AHL_NIFTI/13011101331015/pet0/1.2.124.113532.10.149.172.5.20131107.93455.7725981_nifti_PT.nii',\n",
       " 'AHL_NIFTI/13011101331015/pet0/1.2.124.113532.10.149.172.5.20131107.93455.7725981_nifti_mask.nii']"
      ]
     },
     "metadata": {},
     "execution_count": 5
    }
   ],
   "source": [
    "studies[0]"
   ]
  },
  {
   "cell_type": "code",
   "execution_count": 6,
   "metadata": {},
   "outputs": [],
   "source": [
    "#Studies to do \n",
    "ahl_validated_dicom_directory = '/media/oncopole/DD 2To/AHL/AHL2011_Validated_DICOMS'\n",
    "csv_path = '/media/oncopole/DD 2To/AHL/AHL2011_CSV_DATA/pet0.csv'\n",
    "with open(csv_path, 'r') as csv_file :\n",
    "    reader = csv.reader(csv_file, delimiter = ';') #liste pour chaque ligne \n",
    "    csv_file = []\n",
    "    for row in reader :\n",
    "        csv_file.append(row)\n",
    "        \n",
    "del csv_file[0] #enlever première ligne"
   ]
  },
  {
   "cell_type": "code",
   "execution_count": 7,
   "metadata": {},
   "outputs": [
    {
     "output_type": "execute_result",
     "data": {
      "text/plain": [
       "796"
      ]
     },
     "metadata": {},
     "execution_count": 7
    }
   ],
   "source": [
    "len(csv_file)"
   ]
  },
  {
   "cell_type": "code",
   "execution_count": 8,
   "metadata": {},
   "outputs": [],
   "source": [
    "done = []\n",
    "for row in csv_file : \n",
    "    patient_id = row[1]\n",
    "    for study in studies : \n",
    "        if patient_id in study : \n",
    "            done.append(row)"
   ]
  },
  {
   "cell_type": "code",
   "execution_count": 9,
   "metadata": {},
   "outputs": [],
   "source": [
    "len(done)\n",
    "for r in done : \n",
    "    csv_file.remove(r)"
   ]
  },
  {
   "cell_type": "code",
   "execution_count": 10,
   "metadata": {},
   "outputs": [
    {
     "output_type": "execute_result",
     "data": {
      "text/plain": [
       "74"
      ]
     },
     "metadata": {},
     "execution_count": 10
    }
   ],
   "source": [
    "len(csv_file)"
   ]
  },
  {
   "cell_type": "code",
   "execution_count": 11,
   "metadata": {},
   "outputs": [],
   "source": [
    "write_json_file('/media/oncopole/DD 2To/AHL', 'ahl_to_do', csv_file)"
   ]
  },
  {
   "cell_type": "code",
   "execution_count": 12,
   "metadata": {},
   "outputs": [],
   "source": [
    "series_paths = get_series_path('/media/oncopole/DD 2To/AHL/AHL2011_Validated_DICOMS')\n",
    "export_folder = '/media/oncopole/DD 2To/AHL'"
   ]
  },
  {
   "cell_type": "code",
   "execution_count": 13,
   "metadata": {},
   "outputs": [
    {
     "output_type": "execute_result",
     "data": {
      "text/plain": [
       "3976"
      ]
     },
     "metadata": {},
     "execution_count": 13
    }
   ],
   "source": [
    "len(series_paths)"
   ]
  },
  {
   "cell_type": "code",
   "execution_count": 14,
   "metadata": {},
   "outputs": [
    {
     "output_type": "execute_result",
     "data": {
      "text/plain": [
       "'/media/oncopole/DD 2To/AHL/AHL2011_Validated_DICOMS/13011101031011/1.2.840.113704.1.111.2552.1344321001.3/1.2.840.113704.1.111.2332.1344322265.8/1.2.840.113704.1.111.2332.1344322265.8'"
      ]
     },
     "metadata": {},
     "execution_count": 14
    }
   ],
   "source": [
    "series_paths[0]"
   ]
  },
  {
   "cell_type": "code",
   "execution_count": 16,
   "metadata": {},
   "outputs": [],
   "source": [
    "check = []\n",
    "for row in csv_file : \n",
    "    patient_id  = row[1]\n",
    "    study_uid = row[2]\n",
    "    liste = []\n",
    "    for serie_path in series_paths : \n",
    "        if patient_id in serie_path and study_uid in serie_path:\n",
    "            liste.append(serie_path)\n",
    "    if liste != [] :\n",
    "        check.append(liste)"
   ]
  },
  {
   "cell_type": "code",
   "execution_count": 17,
   "metadata": {},
   "outputs": [
    {
     "output_type": "execute_result",
     "data": {
      "text/plain": [
       "46"
      ]
     },
     "metadata": {},
     "execution_count": 17
    }
   ],
   "source": [
    "len(check)"
   ]
  },
  {
   "cell_type": "code",
   "execution_count": 18,
   "metadata": {},
   "outputs": [
    {
     "output_type": "stream",
     "name": "stdout",
     "text": [
      "2\n2\n2\n2\n2\n2\n2\n2\n2\n2\n2\n2\n2\n2\n2\n2\n2\n2\n2\n2\n2\n2\n2\n2\n2\n2\n2\n2\n2\n2\n2\n2\n2\n2\n2\n2\n2\n2\n2\n2\n2\n2\n2\n2\n2\n2\n"
     ]
    }
   ],
   "source": [
    "for liste in check : \n",
    "    print(len(liste)) "
   ]
  },
  {
   "cell_type": "code",
   "execution_count": 19,
   "metadata": {},
   "outputs": [
    {
     "output_type": "execute_result",
     "data": {
      "text/plain": [
       "['/media/oncopole/DD 2To/AHL/AHL2011_Validated_DICOMS/13011101431012/1.2.124.113532.172.16.25.2.20130121.814.1220583/1.2.840.113704.1.111.3652.1359035909.11/imagys_AHL2011_13011101431012_ce32ad94-1872-4340-9e14-a2b6ec451cf0',\n",
       " '/media/oncopole/DD 2To/AHL/AHL2011_Validated_DICOMS/13011101431012/1.2.124.113532.172.16.25.2.20130121.814.1220583/1.3.46.670589.28.2.12.30.26421.36112.2.3508.0.1359080111/imagys_AHL2011_13011101431012_c72b9b8c-80b3-4803-a240-62a9ec6b6302']"
      ]
     },
     "metadata": {},
     "execution_count": 19
    }
   ],
   "source": [
    "check[0]"
   ]
  },
  {
   "cell_type": "code",
   "execution_count": 20,
   "metadata": {},
   "outputs": [],
   "source": [
    "write_json_file('/media/oncopole/DD 2To/AHL', 'dataset_ahl', check)"
   ]
  },
  {
   "cell_type": "code",
   "execution_count": 21,
   "metadata": {},
   "outputs": [],
   "source": [
    "from library_dicom.dicom_processor.model.Series import Series"
   ]
  },
  {
   "cell_type": "code",
   "execution_count": 26,
   "metadata": {},
   "outputs": [
    {
     "output_type": "stream",
     "name": "stdout",
     "text": [
      "0\n",
      "1\n",
      "2\n",
      "3\n",
      "4\n",
      "5\n",
      "6\n",
      "7\n",
      "8\n",
      "9\n",
      "10\n",
      "11\n",
      "12\n",
      "13\n",
      "14\n",
      "15\n",
      "16\n",
      "17\n",
      "18\n",
      "19\n",
      "20\n",
      "21\n",
      "21\n",
      "21\n",
      "24\n",
      "25\n",
      "26\n",
      "27\n",
      "28\n",
      "29\n",
      "30\n",
      "31\n",
      "32\n",
      "33\n",
      "34\n",
      "35\n",
      "36\n",
      "37\n",
      "38\n",
      "39\n",
      "40\n",
      "41\n",
      "42\n",
      "43\n",
      "44\n",
      "45\n"
     ]
    }
   ],
   "source": [
    "dataset = []\n",
    "for study in check : \n",
    "    print(check.index(study))\n",
    "    new_liste = []\n",
    "    for path in study : \n",
    "        new_liste.append(path)\n",
    "        serie_objet = Series(path)\n",
    "        instances = serie_objet.get_instances_ordered()\n",
    "        serie_tags = instances[0].get_series_tags()\n",
    "        modal = serie_tags['Modality']\n",
    "        new_liste.append(modal)\n",
    "    serie_objet = Series(study[0])\n",
    "    instances = serie_objet.get_instances_ordered()\n",
    "    study_tags = instances[0].get_studies_tags()\n",
    "    study_uid = study_tags['StudyInstanceUID']\n",
    "    patient_tags = instances[0].get_patients_tags()\n",
    "    patient_id = patient_tags['PatientID']\n",
    "    new_liste.append(study_uid)\n",
    "    new_liste.append('pet0')\n",
    "    new_liste.append(patient_id)\n",
    "    dataset.append(new_liste)\n"
   ]
  },
  {
   "cell_type": "code",
   "execution_count": 27,
   "metadata": {},
   "outputs": [],
   "source": [
    "write_json_file('/media/oncopole/DD 2To/AHL', 'ahl_dataset', dataset)"
   ]
  },
  {
   "cell_type": "code",
   "execution_count": 29,
   "metadata": {},
   "outputs": [
    {
     "output_type": "execute_result",
     "data": {
      "text/plain": [
       "['/media/oncopole/DD 2To/AHL/AHL2011_Validated_DICOMS/13011101431012/1.2.124.113532.172.16.25.2.20130121.814.1220583/1.2.840.113704.1.111.3652.1359035909.11/imagys_AHL2011_13011101431012_ce32ad94-1872-4340-9e14-a2b6ec451cf0',\n",
       " 'CT',\n",
       " '/media/oncopole/DD 2To/AHL/AHL2011_Validated_DICOMS/13011101431012/1.2.124.113532.172.16.25.2.20130121.814.1220583/1.3.46.670589.28.2.12.30.26421.36112.2.3508.0.1359080111/imagys_AHL2011_13011101431012_c72b9b8c-80b3-4803-a240-62a9ec6b6302',\n",
       " 'PT',\n",
       " '1.2.124.113532.172.16.25.2.20130121.814.1220583',\n",
       " 'pet0',\n",
       " '13011101431012']"
      ]
     },
     "metadata": {},
     "execution_count": 29
    }
   ],
   "source": [
    "dataset[0]"
   ]
  },
  {
   "cell_type": "code",
   "execution_count": 30,
   "metadata": {},
   "outputs": [],
   "source": [
    "csv_directory = '/media/oncopole/DD 2To/AHL/AHL2011_CSV_DATA/AHL2011-CSV'\n",
    "for data in dataset : \n",
    "    study_uid = data[-3]\n",
    "    for row in csv_file : \n",
    "        if study_uid == row[2] : \n",
    "            data.append(os.path.join(csv_directory, row[4]))"
   ]
  },
  {
   "cell_type": "code",
   "execution_count": 34,
   "metadata": {},
   "outputs": [],
   "source": [
    "new = []\n",
    "for data in dataset : \n",
    "    if data not in new : \n",
    "        new.append(data)"
   ]
  },
  {
   "cell_type": "code",
   "execution_count": 36,
   "metadata": {},
   "outputs": [
    {
     "output_type": "stream",
     "name": "stdout",
     "text": [
      "['/media/oncopole/DD 2To/AHL/AHL2011_Validated_DICOMS/13011101021018/1.2.840.113619.2.290.3.2500492204.214.1361944919.828/1.2.840.113619.2.290.3.2500492204.214.1361944919.833.3/1.2.840.113619.2.290.3.2500492204.214.1361944919.833.3', 'CT', '/media/oncopole/DD 2To/AHL/AHL2011_Validated_DICOMS/13011101021018/1.2.840.113619.2.290.3.2500492204.214.1361944919.828/1.2.840.113619.2.290.3.2500492204.214.1361944920.206/1.2.840.113619.2.290.3.2500492204.214.1361944920.206', 'PT', '1.2.840.113619.2.290.3.2500492204.214.1361944919.828', 'pet0', '13011101021018', '/media/oncopole/DD 2To/AHL/AHL2011_CSV_DATA/AHL2011-CSV/cro_ma_feb 27_2013_SK.csv', '/media/oncopole/DD 2To/AHL/AHL2011_CSV_DATA/AHL2011-CSV/cro_ma_feb 27_2013_abr.csv', '/media/oncopole/DD 2To/AHL/AHL2011_CSV_DATA/AHL2011-CSV/cro_ma_feb 27_2013-EV.csv']\n['/media/oncopole/DD 2To/AHL/AHL2011_Validated_DICOMS/13011101391005/1.2.250.1.59.453.859.92444169.1436.1348829892.1.1.1/1.2.250.1.59.453.859.92444169.1436.1348829892.1.2.5/1.2.250.1.59.453.859.92444169.1436.1348829892.1.2.5', 'PT', '/media/oncopole/DD 2To/AHL/AHL2011_Validated_DICOMS/13011101391005/1.2.250.1.59.453.859.92444169.1436.1348829892.1.1.1/1.2.250.1.59.453.859.92444169.1436.1348829892.1.2.6/1.2.250.1.59.453.859.92444169.1436.1348829892.1.2.6', 'CT', '1.2.250.1.59.453.859.92444169.1436.1348829892.1.1.1', 'pet0', '13011101391005']\n"
     ]
    }
   ],
   "source": [
    "for data in new : \n",
    "    if len(data) != 8 : \n",
    "        print(data )"
   ]
  },
  {
   "cell_type": "code",
   "execution_count": 39,
   "metadata": {},
   "outputs": [],
   "source": [
    "write_json_file('/media/oncopole/DD 2To/AHL', 'ahl_dataset', dataset)"
   ]
  },
  {
   "cell_type": "code",
   "execution_count": 40,
   "metadata": {},
   "outputs": [
    {
     "output_type": "execute_result",
     "data": {
      "text/plain": [
       "44"
      ]
     },
     "metadata": {},
     "execution_count": 40
    }
   ],
   "source": [
    "len(new)"
   ]
  },
  {
   "cell_type": "code",
   "execution_count": 42,
   "metadata": {},
   "outputs": [],
   "source": [
    "csv_path= '/media/oncopole/DD 2To/AHL/NIFTI/AHL2011_NIFTI.csv'\n",
    "with open(csv_path, 'r') as csv_file :\n",
    "    reader = csv.reader(csv_file, delimiter = ',') #liste pour chaque ligne \n",
    "    csv_file = []\n",
    "    for row in reader :\n",
    "        csv_file.append(row)\n",
    "        \n",
    "del csv_file[0] #enlever première ligne"
   ]
  },
  {
   "cell_type": "code",
   "execution_count": 43,
   "metadata": {},
   "outputs": [
    {
     "output_type": "execute_result",
     "data": {
      "text/plain": [
       "['13011101431012',\n",
       " '13011101431012',\n",
       " '1.2.124.113532.172.16.25.2.20130121.814.1220583',\n",
       " 'pet0',\n",
       " '/media/oncopole/DD 2To/AHL/NIFTI/13011101431012/pet0/1.2.124.113532.172.16.25.2.20130121.814.1220583_nifti_CT.nii',\n",
       " '/media/oncopole/DD 2To/AHL/NIFTI/13011101431012/pet0/1.2.124.113532.172.16.25.2.20130121.814.1220583_nifti_PT.nii',\n",
       " '/media/oncopole/DD 2To/AHL/NIFTI/13011101431012/pet0/1.2.124.113532.172.16.25.2.20130121.814.1220583_nifti_mask.nii']"
      ]
     },
     "metadata": {},
     "execution_count": 43
    }
   ],
   "source": [
    "csv_file[0]"
   ]
  },
  {
   "cell_type": "code",
   "execution_count": 44,
   "metadata": {},
   "outputs": [],
   "source": [
    "json_path = '/media/oncopole/DD 2To/AHL/unconstant/unconstant_spacing.json'\n",
    "dataset = []\n",
    "with open(json_path) as json_file : \n",
    "    reader = json.load(json_file)\n",
    "    for info in reader :\n",
    "        dataset.append(info)"
   ]
  },
  {
   "cell_type": "code",
   "execution_count": 45,
   "metadata": {},
   "outputs": [
    {
     "output_type": "execute_result",
     "data": {
      "text/plain": [
       "['/media/oncopole/DD 2To/AHL/AHL2011_Validated_DICOMS/13011101431012/1.2.124.113532.172.16.25.2.20130121.814.1220583/1.2.840.113704.1.111.3652.1359035909.11/imagys_AHL2011_13011101431012_ce32ad94-1872-4340-9e14-a2b6ec451cf0',\n",
       " 'CT',\n",
       " '/media/oncopole/DD 2To/AHL/AHL2011_Validated_DICOMS/13011101431012/1.2.124.113532.172.16.25.2.20130121.814.1220583/1.3.46.670589.28.2.12.30.26421.36112.2.3508.0.1359080111/imagys_AHL2011_13011101431012_c72b9b8c-80b3-4803-a240-62a9ec6b6302',\n",
       " 'PT',\n",
       " '1.2.124.113532.172.16.25.2.20130121.814.1220583',\n",
       " 'pet0',\n",
       " '13011101431012',\n",
       " '/media/oncopole/DD 2To/AHL/AHL2011_CSV_DATA/AHL2011-CSV/can_sy_jan 24_2013.csv']"
      ]
     },
     "metadata": {},
     "execution_count": 45
    }
   ],
   "source": [
    "dataset[0]"
   ]
  },
  {
   "cell_type": "code",
   "execution_count": 51,
   "metadata": {},
   "outputs": [],
   "source": [
    "unconstant = []\n",
    "good = []\n",
    "for row in csv_file : \n",
    "    patient_id = row[1]\n",
    "    for data in dataset : \n",
    "        if patient_id in data : \n",
    "            row.append('unconstant')\n"
   ]
  },
  {
   "cell_type": "code",
   "execution_count": 59,
   "metadata": {},
   "outputs": [],
   "source": [
    "unconstant = []\n",
    "good = []\n",
    "for row in csv_file : \n",
    "    if 'unconstant' in row : \n",
    "        unconstant.append(row)\n",
    "    else : good.append(row)"
   ]
  },
  {
   "cell_type": "code",
   "execution_count": 61,
   "metadata": {},
   "outputs": [
    {
     "output_type": "execute_result",
     "data": {
      "text/plain": [
       "22"
      ]
     },
     "metadata": {},
     "execution_count": 61
    }
   ],
   "source": [
    "len(unconstant)"
   ]
  },
  {
   "cell_type": "code",
   "execution_count": 63,
   "metadata": {},
   "outputs": [
    {
     "output_type": "execute_result",
     "data": {
      "text/plain": [
       "['13011101051002',\n",
       " '13011101051002',\n",
       " '1.2.250.1.74.20110825143500.60000017823632',\n",
       " 'pet0',\n",
       " '/media/oncopole/DD 2To/AHL/NIFTI/13011101051002/pet0/1.2.250.1.74.20110825143500.60000017823632_nifti_CT.nii',\n",
       " '/media/oncopole/DD 2To/AHL/NIFTI/13011101051002/pet0/1.2.250.1.74.20110825143500.60000017823632_nifti_PT.nii',\n",
       " '/media/oncopole/DD 2To/AHL/NIFTI/13011101051002/pet0/1.2.250.1.74.20110825143500.60000017823632_nifti_mask.nii']"
      ]
     },
     "metadata": {},
     "execution_count": 63
    }
   ],
   "source": [
    "good[0]"
   ]
  },
  {
   "cell_type": "code",
   "execution_count": 65,
   "metadata": {},
   "outputs": [],
   "source": [
    "directory = '/media/oncopole/DD 2To/AHL/NIFTI'\n",
    "filename = 'AHL2011_NIFTI_unconstant.csv'\n",
    "\n",
    "with open(os.path.join(directory, filename), 'w') as csv_file : \n",
    "    csv_writer = csv.writer(csv_file, delimiter=',', quotechar='\"', quoting=csv.QUOTE_MINIMAL)\n",
    "    csv_writer.writerow([\"PATIENT NAME\", \"PATIENT_ID\", \"STUDY UID\", \"PET\", \"NIFTI_CT\", \"NIFTI_PET\", \"NIFTI_MASK\"])\n",
    "    for serie in unconstant: \n",
    "        csv_writer.writerow([serie[0], serie[1], serie[2], serie[3], serie[4], serie[5], serie[6]])"
   ]
  },
  {
   "cell_type": "code",
   "execution_count": null,
   "metadata": {},
   "outputs": [],
   "source": []
  }
 ]
}