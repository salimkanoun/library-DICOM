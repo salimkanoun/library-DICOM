{
 "metadata": {
  "language_info": {
   "codemirror_mode": {
    "name": "ipython",
    "version": 3
   },
   "file_extension": ".py",
   "mimetype": "text/x-python",
   "name": "python",
   "nbconvert_exporter": "python",
   "pygments_lexer": "ipython3",
   "version": "3.8.5-final"
  },
  "orig_nbformat": 2,
  "kernelspec": {
   "name": "python38264bit4afc185bc98b42c389abdbb3fbeec8dd",
   "display_name": "Python 3.8.2 64-bit",
   "language": "python"
  }
 },
 "nbformat": 4,
 "nbformat_minor": 2,
 "cells": [
  {
   "cell_type": "code",
   "execution_count": 1,
   "metadata": {},
   "outputs": [],
   "source": [
    "import os \n",
    "import csv\n",
    "from library_dicom.dicom_processor.tools.folders import * "
   ]
  },
  {
   "cell_type": "code",
   "execution_count": null,
   "metadata": {},
   "outputs": [],
   "source": [
    "#Studies already done "
   ]
  },
  {
   "cell_type": "code",
   "execution_count": 2,
   "metadata": {},
   "outputs": [],
   "source": [
    "ahl_csv_path = '/media/deeplearning/LACIE SHARE/AHL_NIFTI/AHL2011_dMax_v4.csv'\n",
    "with open(ahl_csv_path, 'r') as csv_file :\n",
    "    reader = csv.reader(csv_file, delimiter = ',') #liste pour chaque ligne \n",
    "    csv_file = []\n",
    "    for row in reader :\n",
    "        csv_file.append(row)\n",
    "        \n",
    "del csv_file[0] #enlever première ligne"
   ]
  },
  {
   "cell_type": "code",
   "execution_count": 6,
   "metadata": {},
   "outputs": [
    {
     "output_type": "stream",
     "name": "stdout",
     "text": [
      "711\n['13011101431012', '2013_01_24', '1.2.124.113532.172.16.25.2.20130121.814.1220583', '325.44']\n"
     ]
    }
   ],
   "source": [
    "studies = csv_file\n",
    "print(len(studies))\n",
    "print(studies[0])"
   ]
  },
  {
   "cell_type": "code",
   "execution_count": 8,
   "metadata": {},
   "outputs": [],
   "source": [
    "#Studies to do \n",
    "ahl_validated_dicom_directory = '/media/oncopole/DD 2To/AHL/AHL2011_Validated_DICOMS'\n",
    "csv_path = '/media/deeplearning/LACIE SHARE/AHL_NIFTI/pet0.csv'\n",
    "with open(csv_path, 'r') as csv_file :\n",
    "    reader = csv.reader(csv_file, delimiter = ';') #liste pour chaque ligne \n",
    "    csv_file = []\n",
    "    for row in reader :\n",
    "        csv_file.append(row)\n",
    "        \n",
    "del csv_file[0] #enlever première ligne"
   ]
  },
  {
   "cell_type": "code",
   "execution_count": 9,
   "metadata": {},
   "outputs": [
    {
     "output_type": "execute_result",
     "data": {
      "text/plain": [
       "796"
      ]
     },
     "metadata": {},
     "execution_count": 9
    }
   ],
   "source": [
    "len(csv_file)"
   ]
  },
  {
   "cell_type": "code",
   "execution_count": 11,
   "metadata": {},
   "outputs": [
    {
     "output_type": "stream",
     "name": "stdout",
     "text": [
      "739\n"
     ]
    }
   ],
   "source": [
    "patient_id  = []\n",
    "for row in csv_file : \n",
    "    if row[1] not in patient_id : \n",
    "        patient_id.append(row[1])\n",
    "print(len(patient_id))"
   ]
  },
  {
   "cell_type": "code",
   "execution_count": 12,
   "metadata": {},
   "outputs": [
    {
     "output_type": "stream",
     "name": "stdout",
     "text": [
      "711\n"
     ]
    }
   ],
   "source": [
    "d_max = []\n",
    "for row in studies : \n",
    "    d_max.append(row[0])\n",
    "print(len(d_max))"
   ]
  },
  {
   "cell_type": "code",
   "execution_count": 13,
   "metadata": {},
   "outputs": [],
   "source": [
    "to_do = []\n",
    "for id_ in patient_id : \n",
    "    if id_ not in d_max : \n",
    "        to_do.append(id_)"
   ]
  },
  {
   "cell_type": "code",
   "execution_count": 15,
   "metadata": {},
   "outputs": [],
   "source": [
    "dataset = []\n",
    "for id_ in to_do : \n",
    "    for row in csv_file : \n",
    "        if id_ in row : \n",
    "            dataset.append(row)\n",
    "            break"
   ]
  },
  {
   "cell_type": "code",
   "execution_count": 21,
   "metadata": {},
   "outputs": [
    {
     "output_type": "stream",
     "name": "stdout",
     "text": [
      "13011101331006\n13011101601004\n13011101481009\n13011101481010\n13011101481011\n53011101371002\n53011101401009\n13011103311013\n13011101251021\n13011101251016\n13011101251010\n53011106341001\n13011101021008\n13011103311005\n13011101031024\n13011101251025\n13011101431001\n53011106341002\n53011106341005\n53011106341004\n53011106341006\n53011106341007\n13011101391002\n13011101391005\n13011101481003\n13011101251027\n53011101821010\n53011101821011\n"
     ]
    }
   ],
   "source": [
    "d = []\n",
    "for data in dataset : \n",
    "    print(data[1])\n",
    "    d.append(data[1])"
   ]
  },
  {
   "cell_type": "code",
   "execution_count": 20,
   "metadata": {},
   "outputs": [
    {
     "output_type": "stream",
     "name": "stdout",
     "text": [
      "28\n"
     ]
    }
   ],
   "source": [
    "print(len(dataset))"
   ]
  },
  {
   "cell_type": "code",
   "execution_count": 22,
   "metadata": {},
   "outputs": [
    {
     "output_type": "execute_result",
     "data": {
      "text/plain": [
       "['13011101331006',\n",
       " '13011101601004',\n",
       " '13011101481009',\n",
       " '13011101481010',\n",
       " '13011101481011',\n",
       " '53011101371002',\n",
       " '53011101401009',\n",
       " '13011103311013',\n",
       " '13011101251021',\n",
       " '13011101251016',\n",
       " '13011101251010',\n",
       " '53011106341001',\n",
       " '13011101021008',\n",
       " '13011103311005',\n",
       " '13011101031024',\n",
       " '13011101251025',\n",
       " '13011101431001',\n",
       " '53011106341002',\n",
       " '53011106341005',\n",
       " '53011106341004',\n",
       " '53011106341006',\n",
       " '53011106341007',\n",
       " '13011101391002',\n",
       " '13011101391005',\n",
       " '13011101481003',\n",
       " '13011101251027',\n",
       " '53011101821010',\n",
       " '53011101821011']"
      ]
     },
     "metadata": {},
     "execution_count": 22
    }
   ],
   "source": [
    "d"
   ]
  },
  {
   "cell_type": "code",
   "execution_count": null,
   "metadata": {},
   "outputs": [],
   "source": []
  },
  {
   "cell_type": "code",
   "execution_count": 8,
   "metadata": {},
   "outputs": [],
   "source": [
    "done = []\n",
    "for row in csv_file : \n",
    "    patient_id = row[1]\n",
    "    for study in studies : \n",
    "        if patient_id in study : \n",
    "            done.append(row)"
   ]
  },
  {
   "cell_type": "code",
   "execution_count": 9,
   "metadata": {},
   "outputs": [],
   "source": [
    "len(done)\n",
    "for r in done : \n",
    "    csv_file.remove(r)"
   ]
  },
  {
   "cell_type": "code",
   "execution_count": 10,
   "metadata": {},
   "outputs": [
    {
     "output_type": "execute_result",
     "data": {
      "text/plain": [
       "74"
      ]
     },
     "metadata": {},
     "execution_count": 10
    }
   ],
   "source": [
    "len(csv_file)"
   ]
  },
  {
   "cell_type": "code",
   "execution_count": 11,
   "metadata": {},
   "outputs": [],
   "source": [
    "write_json_file('/media/oncopole/DD 2To/AHL', 'ahl_to_do', csv_file)"
   ]
  },
  {
   "cell_type": "code",
   "execution_count": 12,
   "metadata": {},
   "outputs": [],
   "source": [
    "series_paths = get_series_path('/media/oncopole/DD 2To/AHL/AHL2011_Validated_DICOMS')\n",
    "export_folder = '/media/oncopole/DD 2To/AHL'"
   ]
  },
  {
   "cell_type": "code",
   "execution_count": 13,
   "metadata": {},
   "outputs": [
    {
     "output_type": "execute_result",
     "data": {
      "text/plain": [
       "3976"
      ]
     },
     "metadata": {},
     "execution_count": 13
    }
   ],
   "source": [
    "len(series_paths)"
   ]
  },
  {
   "cell_type": "code",
   "execution_count": 14,
   "metadata": {},
   "outputs": [
    {
     "output_type": "execute_result",
     "data": {
      "text/plain": [
       "'/media/oncopole/DD 2To/AHL/AHL2011_Validated_DICOMS/13011101031011/1.2.840.113704.1.111.2552.1344321001.3/1.2.840.113704.1.111.2332.1344322265.8/1.2.840.113704.1.111.2332.1344322265.8'"
      ]
     },
     "metadata": {},
     "execution_count": 14
    }
   ],
   "source": [
    "series_paths[0]"
   ]
  },
  {
   "cell_type": "code",
   "execution_count": 16,
   "metadata": {},
   "outputs": [],
   "source": [
    "check = []\n",
    "for row in csv_file : \n",
    "    patient_id  = row[1]\n",
    "    study_uid = row[2]\n",
    "    liste = []\n",
    "    for serie_path in series_paths : \n",
    "        if patient_id in serie_path and study_uid in serie_path:\n",
    "            liste.append(serie_path)\n",
    "    if liste != [] :\n",
    "        check.append(liste)"
   ]
  },
  {
   "cell_type": "code",
   "execution_count": 17,
   "metadata": {},
   "outputs": [
    {
     "output_type": "execute_result",
     "data": {
      "text/plain": [
       "46"
      ]
     },
     "metadata": {},
     "execution_count": 17
    }
   ],
   "source": [
    "len(check)"
   ]
  },
  {
   "cell_type": "code",
   "execution_count": 18,
   "metadata": {},
   "outputs": [
    {
     "output_type": "stream",
     "name": "stdout",
     "text": [
      "2\n2\n2\n2\n2\n2\n2\n2\n2\n2\n2\n2\n2\n2\n2\n2\n2\n2\n2\n2\n2\n2\n2\n2\n2\n2\n2\n2\n2\n2\n2\n2\n2\n2\n2\n2\n2\n2\n2\n2\n2\n2\n2\n2\n2\n2\n"
     ]
    }
   ],
   "source": [
    "for liste in check : \n",
    "    print(len(liste)) "
   ]
  },
  {
   "cell_type": "code",
   "execution_count": 19,
   "metadata": {},
   "outputs": [
    {
     "output_type": "execute_result",
     "data": {
      "text/plain": [
       "['/media/oncopole/DD 2To/AHL/AHL2011_Validated_DICOMS/13011101431012/1.2.124.113532.172.16.25.2.20130121.814.1220583/1.2.840.113704.1.111.3652.1359035909.11/imagys_AHL2011_13011101431012_ce32ad94-1872-4340-9e14-a2b6ec451cf0',\n",
       " '/media/oncopole/DD 2To/AHL/AHL2011_Validated_DICOMS/13011101431012/1.2.124.113532.172.16.25.2.20130121.814.1220583/1.3.46.670589.28.2.12.30.26421.36112.2.3508.0.1359080111/imagys_AHL2011_13011101431012_c72b9b8c-80b3-4803-a240-62a9ec6b6302']"
      ]
     },
     "metadata": {},
     "execution_count": 19
    }
   ],
   "source": [
    "check[0]"
   ]
  },
  {
   "cell_type": "code",
   "execution_count": 20,
   "metadata": {},
   "outputs": [],
   "source": [
    "write_json_file('/media/oncopole/DD 2To/AHL', 'dataset_ahl', check)"
   ]
  },
  {
   "cell_type": "code",
   "execution_count": 21,
   "metadata": {},
   "outputs": [],
   "source": [
    "from library_dicom.dicom_processor.model.Series import Series"
   ]
  },
  {
   "cell_type": "code",
   "execution_count": 26,
   "metadata": {},
   "outputs": [
    {
     "output_type": "stream",
     "name": "stdout",
     "text": [
      "0\n",
      "1\n",
      "2\n",
      "3\n",
      "4\n",
      "5\n",
      "6\n",
      "7\n",
      "8\n",
      "9\n",
      "10\n",
      "11\n",
      "12\n",
      "13\n",
      "14\n",
      "15\n",
      "16\n",
      "17\n",
      "18\n",
      "19\n",
      "20\n",
      "21\n",
      "21\n",
      "21\n",
      "24\n",
      "25\n",
      "26\n",
      "27\n",
      "28\n",
      "29\n",
      "30\n",
      "31\n",
      "32\n",
      "33\n",
      "34\n",
      "35\n",
      "36\n",
      "37\n",
      "38\n",
      "39\n",
      "40\n",
      "41\n",
      "42\n",
      "43\n",
      "44\n",
      "45\n"
     ]
    }
   ],
   "source": [
    "dataset = []\n",
    "for study in check : \n",
    "    print(check.index(study))\n",
    "    new_liste = []\n",
    "    for path in study : \n",
    "        new_liste.append(path)\n",
    "        serie_objet = Series(path)\n",
    "        instances = serie_objet.get_instances_ordered()\n",
    "        serie_tags = instances[0].get_series_tags()\n",
    "        modal = serie_tags['Modality']\n",
    "        new_liste.append(modal)\n",
    "    serie_objet = Series(study[0])\n",
    "    instances = serie_objet.get_instances_ordered()\n",
    "    study_tags = instances[0].get_studies_tags()\n",
    "    study_uid = study_tags['StudyInstanceUID']\n",
    "    patient_tags = instances[0].get_patients_tags()\n",
    "    patient_id = patient_tags['PatientID']\n",
    "    new_liste.append(study_uid)\n",
    "    new_liste.append('pet0')\n",
    "    new_liste.append(patient_id)\n",
    "    dataset.append(new_liste)\n"
   ]
  },
  {
   "cell_type": "code",
   "execution_count": 27,
   "metadata": {},
   "outputs": [],
   "source": [
    "write_json_file('/media/oncopole/DD 2To/AHL', 'ahl_dataset', dataset)"
   ]
  },
  {
   "cell_type": "code",
   "execution_count": 29,
   "metadata": {},
   "outputs": [
    {
     "output_type": "execute_result",
     "data": {
      "text/plain": [
       "['/media/oncopole/DD 2To/AHL/AHL2011_Validated_DICOMS/13011101431012/1.2.124.113532.172.16.25.2.20130121.814.1220583/1.2.840.113704.1.111.3652.1359035909.11/imagys_AHL2011_13011101431012_ce32ad94-1872-4340-9e14-a2b6ec451cf0',\n",
       " 'CT',\n",
       " '/media/oncopole/DD 2To/AHL/AHL2011_Validated_DICOMS/13011101431012/1.2.124.113532.172.16.25.2.20130121.814.1220583/1.3.46.670589.28.2.12.30.26421.36112.2.3508.0.1359080111/imagys_AHL2011_13011101431012_c72b9b8c-80b3-4803-a240-62a9ec6b6302',\n",
       " 'PT',\n",
       " '1.2.124.113532.172.16.25.2.20130121.814.1220583',\n",
       " 'pet0',\n",
       " '13011101431012']"
      ]
     },
     "metadata": {},
     "execution_count": 29
    }
   ],
   "source": [
    "dataset[0]"
   ]
  },
  {
   "cell_type": "code",
   "execution_count": 30,
   "metadata": {},
   "outputs": [],
   "source": [
    "csv_directory = '/media/oncopole/DD 2To/AHL/AHL2011_CSV_DATA/AHL2011-CSV'\n",
    "for data in dataset : \n",
    "    study_uid = data[-3]\n",
    "    for row in csv_file : \n",
    "        if study_uid == row[2] : \n",
    "            data.append(os.path.join(csv_directory, row[4]))"
   ]
  },
  {
   "cell_type": "code",
   "execution_count": 34,
   "metadata": {},
   "outputs": [],
   "source": [
    "new = []\n",
    "for data in dataset : \n",
    "    if data not in new : \n",
    "        new.append(data)"
   ]
  },
  {
   "cell_type": "code",
   "execution_count": 36,
   "metadata": {},
   "outputs": [
    {
     "output_type": "stream",
     "name": "stdout",
     "text": [
      "['/media/oncopole/DD 2To/AHL/AHL2011_Validated_DICOMS/13011101021018/1.2.840.113619.2.290.3.2500492204.214.1361944919.828/1.2.840.113619.2.290.3.2500492204.214.1361944919.833.3/1.2.840.113619.2.290.3.2500492204.214.1361944919.833.3', 'CT', '/media/oncopole/DD 2To/AHL/AHL2011_Validated_DICOMS/13011101021018/1.2.840.113619.2.290.3.2500492204.214.1361944919.828/1.2.840.113619.2.290.3.2500492204.214.1361944920.206/1.2.840.113619.2.290.3.2500492204.214.1361944920.206', 'PT', '1.2.840.113619.2.290.3.2500492204.214.1361944919.828', 'pet0', '13011101021018', '/media/oncopole/DD 2To/AHL/AHL2011_CSV_DATA/AHL2011-CSV/cro_ma_feb 27_2013_SK.csv', '/media/oncopole/DD 2To/AHL/AHL2011_CSV_DATA/AHL2011-CSV/cro_ma_feb 27_2013_abr.csv', '/media/oncopole/DD 2To/AHL/AHL2011_CSV_DATA/AHL2011-CSV/cro_ma_feb 27_2013-EV.csv']\n['/media/oncopole/DD 2To/AHL/AHL2011_Validated_DICOMS/13011101391005/1.2.250.1.59.453.859.92444169.1436.1348829892.1.1.1/1.2.250.1.59.453.859.92444169.1436.1348829892.1.2.5/1.2.250.1.59.453.859.92444169.1436.1348829892.1.2.5', 'PT', '/media/oncopole/DD 2To/AHL/AHL2011_Validated_DICOMS/13011101391005/1.2.250.1.59.453.859.92444169.1436.1348829892.1.1.1/1.2.250.1.59.453.859.92444169.1436.1348829892.1.2.6/1.2.250.1.59.453.859.92444169.1436.1348829892.1.2.6', 'CT', '1.2.250.1.59.453.859.92444169.1436.1348829892.1.1.1', 'pet0', '13011101391005']\n"
     ]
    }
   ],
   "source": [
    "for data in new : \n",
    "    if len(data) != 8 : \n",
    "        print(data )"
   ]
  },
  {
   "cell_type": "code",
   "execution_count": 39,
   "metadata": {},
   "outputs": [],
   "source": [
    "write_json_file('/media/oncopole/DD 2To/AHL', 'ahl_dataset', dataset)"
   ]
  },
  {
   "cell_type": "code",
   "execution_count": 40,
   "metadata": {},
   "outputs": [
    {
     "output_type": "execute_result",
     "data": {
      "text/plain": [
       "44"
      ]
     },
     "metadata": {},
     "execution_count": 40
    }
   ],
   "source": [
    "len(new)"
   ]
  },
  {
   "cell_type": "code",
   "execution_count": 42,
   "metadata": {},
   "outputs": [],
   "source": [
    "csv_path= '/media/oncopole/DD 2To/AHL/NIFTI/AHL2011_NIFTI.csv'\n",
    "with open(csv_path, 'r') as csv_file :\n",
    "    reader = csv.reader(csv_file, delimiter = ',') #liste pour chaque ligne \n",
    "    csv_file = []\n",
    "    for row in reader :\n",
    "        csv_file.append(row)\n",
    "        \n",
    "del csv_file[0] #enlever première ligne"
   ]
  },
  {
   "cell_type": "code",
   "execution_count": 43,
   "metadata": {},
   "outputs": [
    {
     "output_type": "execute_result",
     "data": {
      "text/plain": [
       "['13011101431012',\n",
       " '13011101431012',\n",
       " '1.2.124.113532.172.16.25.2.20130121.814.1220583',\n",
       " 'pet0',\n",
       " '/media/oncopole/DD 2To/AHL/NIFTI/13011101431012/pet0/1.2.124.113532.172.16.25.2.20130121.814.1220583_nifti_CT.nii',\n",
       " '/media/oncopole/DD 2To/AHL/NIFTI/13011101431012/pet0/1.2.124.113532.172.16.25.2.20130121.814.1220583_nifti_PT.nii',\n",
       " '/media/oncopole/DD 2To/AHL/NIFTI/13011101431012/pet0/1.2.124.113532.172.16.25.2.20130121.814.1220583_nifti_mask.nii']"
      ]
     },
     "metadata": {},
     "execution_count": 43
    }
   ],
   "source": [
    "csv_file[0]"
   ]
  },
  {
   "cell_type": "code",
   "execution_count": 44,
   "metadata": {},
   "outputs": [],
   "source": [
    "json_path = '/media/oncopole/DD 2To/AHL/unconstant/unconstant_spacing.json'\n",
    "dataset = []\n",
    "with open(json_path) as json_file : \n",
    "    reader = json.load(json_file)\n",
    "    for info in reader :\n",
    "        dataset.append(info)"
   ]
  },
  {
   "cell_type": "code",
   "execution_count": 45,
   "metadata": {},
   "outputs": [
    {
     "output_type": "execute_result",
     "data": {
      "text/plain": [
       "['/media/oncopole/DD 2To/AHL/AHL2011_Validated_DICOMS/13011101431012/1.2.124.113532.172.16.25.2.20130121.814.1220583/1.2.840.113704.1.111.3652.1359035909.11/imagys_AHL2011_13011101431012_ce32ad94-1872-4340-9e14-a2b6ec451cf0',\n",
       " 'CT',\n",
       " '/media/oncopole/DD 2To/AHL/AHL2011_Validated_DICOMS/13011101431012/1.2.124.113532.172.16.25.2.20130121.814.1220583/1.3.46.670589.28.2.12.30.26421.36112.2.3508.0.1359080111/imagys_AHL2011_13011101431012_c72b9b8c-80b3-4803-a240-62a9ec6b6302',\n",
       " 'PT',\n",
       " '1.2.124.113532.172.16.25.2.20130121.814.1220583',\n",
       " 'pet0',\n",
       " '13011101431012',\n",
       " '/media/oncopole/DD 2To/AHL/AHL2011_CSV_DATA/AHL2011-CSV/can_sy_jan 24_2013.csv']"
      ]
     },
     "metadata": {},
     "execution_count": 45
    }
   ],
   "source": [
    "dataset[0]"
   ]
  },
  {
   "cell_type": "code",
   "execution_count": 51,
   "metadata": {},
   "outputs": [],
   "source": [
    "unconstant = []\n",
    "good = []\n",
    "for row in csv_file : \n",
    "    patient_id = row[1]\n",
    "    for data in dataset : \n",
    "        if patient_id in data : \n",
    "            row.append('unconstant')\n"
   ]
  },
  {
   "cell_type": "code",
   "execution_count": 59,
   "metadata": {},
   "outputs": [],
   "source": [
    "unconstant = []\n",
    "good = []\n",
    "for row in csv_file : \n",
    "    if 'unconstant' in row : \n",
    "        unconstant.append(row)\n",
    "    else : good.append(row)"
   ]
  },
  {
   "cell_type": "code",
   "execution_count": 61,
   "metadata": {},
   "outputs": [
    {
     "output_type": "execute_result",
     "data": {
      "text/plain": [
       "22"
      ]
     },
     "metadata": {},
     "execution_count": 61
    }
   ],
   "source": [
    "len(unconstant)"
   ]
  },
  {
   "cell_type": "code",
   "execution_count": 63,
   "metadata": {},
   "outputs": [
    {
     "output_type": "execute_result",
     "data": {
      "text/plain": [
       "['13011101051002',\n",
       " '13011101051002',\n",
       " '1.2.250.1.74.20110825143500.60000017823632',\n",
       " 'pet0',\n",
       " '/media/oncopole/DD 2To/AHL/NIFTI/13011101051002/pet0/1.2.250.1.74.20110825143500.60000017823632_nifti_CT.nii',\n",
       " '/media/oncopole/DD 2To/AHL/NIFTI/13011101051002/pet0/1.2.250.1.74.20110825143500.60000017823632_nifti_PT.nii',\n",
       " '/media/oncopole/DD 2To/AHL/NIFTI/13011101051002/pet0/1.2.250.1.74.20110825143500.60000017823632_nifti_mask.nii']"
      ]
     },
     "metadata": {},
     "execution_count": 63
    }
   ],
   "source": [
    "good[0]"
   ]
  },
  {
   "cell_type": "code",
   "execution_count": 65,
   "metadata": {},
   "outputs": [],
   "source": [
    "directory = '/media/oncopole/DD 2To/AHL/NIFTI'\n",
    "filename = 'AHL2011_NIFTI_unconstant.csv'\n",
    "\n",
    "with open(os.path.join(directory, filename), 'w') as csv_file : \n",
    "    csv_writer = csv.writer(csv_file, delimiter=',', quotechar='\"', quoting=csv.QUOTE_MINIMAL)\n",
    "    csv_writer.writerow([\"PATIENT NAME\", \"PATIENT_ID\", \"STUDY UID\", \"PET\", \"NIFTI_CT\", \"NIFTI_PET\", \"NIFTI_MASK\"])\n",
    "    for serie in unconstant: \n",
    "        csv_writer.writerow([serie[0], serie[1], serie[2], serie[3], serie[4], serie[5], serie[6]])"
   ]
  },
  {
   "cell_type": "code",
   "execution_count": null,
   "metadata": {},
   "outputs": [],
   "source": []
  }
 ]
}