{
 "cells": [
  {
   "cell_type": "code",
   "execution_count": 1,
   "metadata": {},
   "outputs": [
    {
     "name": "stdout",
     "output_type": "stream",
     "text": [
      "(512, 512, 287)\n"
     ]
    }
   ],
   "source": [
    "import SimpleITK as sitk \n",
    "import numpy as np \n",
    "\n",
    "path_pet = r'C:\\Users\\wendy\\Documents\\STAGE\\PET0\\1.2.250.1.74.20120625133000.1000031365770_nifti_PT.nii'\n",
    "path_mask= r'C:\\Users\\wendy\\Documents\\STAGE\\PET0\\1.2.250.1.74.20120625133000.1000031365770_nifti_mask_3d.nii'\n",
    "path_ct = r'C:\\Users\\wendy\\Documents\\STAGE\\PET0\\1.2.250.1.74.20120625133000.1000031365770_nifti_CT.nii'\n",
    "\n",
    "ct_img = sitk.ReadImage(path_ct)\n",
    "print(ct_img.GetSize())\n",
    "pet_img = sitk.ReadImage(path_pet)\n",
    "mask_img = sitk.ReadImage(path_mask)\n",
    "\n",
    "#ct = r'C:\\Users\\wendy\\Documents\\STAGE\\PET0\\image_9d1f6b1606e0b318a8dff0928564ccc4.nii'\n",
    "#ct_img = sitk.ReadImage(ct)\n",
    "#print(ct_img.GetSize())"
   ]
  },
  {
   "cell_type": "code",
   "execution_count": 3,
   "metadata": {},
   "outputs": [
    {
     "name": "stdout",
     "output_type": "stream",
     "text": [
      "256\n",
      "256\n",
      "480\n",
      "(1024, 256, 256)\n"
     ]
    },
    {
     "data": {
      "text/plain": [
       "'C:\\\\Users\\\\wendy\\\\Documents\\\\STAGE\\\\PET0\\\\mip_ct.png'"
      ]
     },
     "execution_count": 3,
     "metadata": {},
     "output_type": "execute_result"
    }
   ],
   "source": [
    "from dicom_to_cnn.model.reader.Nifti import Nifti \n",
    "from dicom_to_cnn.model.post_processing.mip.MIP_Generator import MIP_Generator \n",
    "\n",
    "objet = Nifti(path_ct)\n",
    "resampled = objet.resample(shape=(256, 256, 1024))\n",
    "resampled[np.where(resampled < 500)] = 0 #500 UH\n",
    "normalize = resampled[:,:,:,]/np.max(resampled)\n",
    "mip_generator = MIP_Generator(normalize)\n",
    "mip_generator.project(angle=0)\n",
    "mip_generator.save_as_png('mip_ct',  r'C:\\Users\\wendy\\Documents\\STAGE\\PET0', vmin=0, vmax=1)\n"
   ]
  },
  {
   "cell_type": "code",
   "execution_count": null,
   "metadata": {},
   "outputs": [],
   "source": []
  },
  {
   "cell_type": "code",
   "execution_count": null,
   "metadata": {},
   "outputs": [],
   "source": []
  },
  {
   "cell_type": "code",
   "execution_count": null,
   "metadata": {},
   "outputs": [],
   "source": []
  },
  {
   "cell_type": "code",
   "execution_count": null,
   "metadata": {},
   "outputs": [],
   "source": []
  },
  {
   "cell_type": "code",
   "execution_count": 21,
   "metadata": {},
   "outputs": [],
   "source": [
    "from skimage import filters\n",
    "def roi_seg(mask_array:np.ndarray, pet_array:np.ndarray, threshold:str='0.41'): \n",
    "    \"\"\"otsu segmentation of mask_array np.ndarray\n",
    "\n",
    "        Args:\n",
    "            mask_array (np.ndarray): [shape [c,z,y,x]]\n",
    "            pet_array (np.ndarray): [shape [z,y,x]]\n",
    "            threshold (str): ['otsu', '0.41', '2.5', and '4.0']\n",
    "\n",
    "        Returns:\n",
    "            [np.ndarray]: [shape [z,y,x]]\n",
    "    \"\"\"\n",
    "    new_mask = np.zeros(mask_array.shape[1:], dtype=np.uint8)\n",
    "    for num_slice in range(mask_array.shape[0]):\n",
    "        mask_slice = mask_array[num_slice]  # R.O.I\n",
    "        roi = pet_array[mask_slice > 0]\n",
    "        if len(roi) == 0:\n",
    "            continue\n",
    "        try:\n",
    "                        # apply threshold\n",
    "            if threshold == 'otsu' : \n",
    "                t = filters.threshold_otsu(roi)\n",
    "            if threshold == '0.41' : \n",
    "                t = np.max(roi) * float(threshold)\n",
    "            if threshold == '2.5' or threshold == '4.0' : \n",
    "                t = float(threshold)\n",
    "            new_mask[np.where((pet_array >= t) & (mask_slice > 0))] = 1\n",
    "        except Exception as e:\n",
    "            print(e)\n",
    "            print(sys.exc_info()[0])\n",
    "    return new_mask\n",
    "\n",
    "\n",
    "def roi2mask(mask_img, pet_img):\n",
    "    \"\"\"\n",
    "    Generate the mask from the ROI of the pet scan\n",
    "    Args:\n",
    "            :param mask_img: sitk image, raw mask (i.e ROI)\n",
    "            :param pet_img: sitk image, the corresponding pet scan\n",
    "\n",
    "    :return: sitk image, the ground truth segmentation\n",
    "    \"\"\"\n",
    "        # transform to numpy\n",
    "    origin = mask_img.GetOrigin()\n",
    "    spacing = mask_img.GetSpacing()\n",
    "    direction = tuple(mask_img.GetDirection())\n",
    "    mask_array = sitk.GetArrayFromImage(mask_img)\n",
    "    pet_array = sitk.GetArrayFromImage(pet_img)\n",
    "\n",
    "        # get 3D meta information\n",
    "    if len(mask_array.shape) == 3:\n",
    "        mask_array = np.expand_dims(mask_array, axis=0)\n",
    "    else:\n",
    "        mask_array = np.transpose(mask_array, (3,0,1,2))\n",
    "\n",
    "    new_masks = []\n",
    "        #otsu \n",
    "    new_masks.append(roi_seg(mask_array, pet_array, threshold='otsu'))\n",
    "        #41%\n",
    "    new_masks.append(roi_seg(mask_array, pet_array, threshold='0.41'))\n",
    "        #2.5\n",
    "    new_masks.append(roi_seg(mask_array, pet_array, threshold='2.5'))\n",
    "        #4.0\n",
    "    new_masks.append(roi_seg(mask_array, pet_array, threshold='4.0'))\n",
    "\n",
    "    new_mask = new_masks[0] if len(new_masks) == 1 else np.mean(np.array(new_masks), axis=0)\n",
    "\n",
    "                # reconvert to sitk and restore 3D meta-information\n",
    "    print(new_mask.shape)\n",
    "    print(np.unique(new_mask))\n",
    "    new_mask = sitk.GetImageFromArray(new_mask)\n",
    "    new_mask.SetOrigin(origin)\n",
    "    new_mask.SetDirection(direction)\n",
    "    new_mask.SetSpacing(spacing)\n",
    "\n",
    "    return new_mask"
   ]
  },
  {
   "cell_type": "code",
   "execution_count": 22,
   "metadata": {},
   "outputs": [
    {
     "name": "stdout",
     "output_type": "stream",
     "text": [
      "(287, 128, 128)\n",
      "[0.   0.25 0.5  0.75 1.  ]\n"
     ]
    }
   ],
   "source": [
    "matrix = roi2mask(mask_img, pet_img)"
   ]
  },
  {
   "cell_type": "code",
   "execution_count": 17,
   "metadata": {},
   "outputs": [
    {
     "data": {
      "text/plain": [
       "(128, 128, 287)"
      ]
     },
     "execution_count": 17,
     "metadata": {},
     "output_type": "execute_result"
    }
   ],
   "source": [
    "matrix.GetSize()"
   ]
  },
  {
   "cell_type": "code",
   "execution_count": null,
   "metadata": {},
   "outputs": [],
   "source": []
  },
  {
   "cell_type": "code",
   "execution_count": null,
   "metadata": {},
   "outputs": [],
   "source": []
  },
  {
   "cell_type": "code",
   "execution_count": null,
   "metadata": {},
   "outputs": [],
   "source": []
  },
  {
   "cell_type": "code",
   "execution_count": 2,
   "metadata": {},
   "outputs": [
    {
     "name": "stdout",
     "output_type": "stream",
     "text": [
      "(512, 512, 287)\n",
      "(128, 128, 287)\n",
      "(128, 128, 287)\n"
     ]
    }
   ],
   "source": [
    "print(ct_img.GetSize())\n",
    "print(pet_img.GetSize())\n",
    "print(mask_img.GetSize())"
   ]
  },
  {
   "cell_type": "code",
   "execution_count": 6,
   "metadata": {},
   "outputs": [
    {
     "name": "stdout",
     "output_type": "stream",
     "text": [
      "(128, 128, 256)\n"
     ]
    }
   ],
   "source": [
    "target_size = (128, 128, 256)\n",
    "target_spacing = (4.0, 4.0, 4.0)\n",
    "target_direction = (1,0,0,0,1,0,0,0,1)\n",
    "objet = Fusion()\n",
    "objet.set_origin_image(pet_img)\n",
    "objet.set_target_volume(target_size, target_spacing, target_direction)\n",
    "resampled_pet_img = objet.resample(pet_img, defaultValuePixel = -1000.0)\n",
    "print(resampled_pet_img.GetSize())"
   ]
  },
  {
   "cell_type": "code",
   "execution_count": null,
   "metadata": {},
   "outputs": [],
   "source": []
  },
  {
   "cell_type": "code",
   "execution_count": 1,
   "metadata": {},
   "outputs": [],
   "source": [
    "from dicom_to_cnn.model.segmentation.MaskBuilder_DICOMSEG import MaskBuilder_DICOMSEG \n",
    "\n",
    "path =  r'C:\\Users\\wendy\\Documents\\STAGE\\PET0\\sarcome_dicom_seg.dcm'\n",
    "\n",
    "objet = MaskBuilder_DICOMSEG(path)\n",
    "matrix = objet.get_numpy_array()"
   ]
  },
  {
   "cell_type": "code",
   "execution_count": 2,
   "metadata": {},
   "outputs": [
    {
     "data": {
      "text/plain": [
       "(139, 256, 256)"
      ]
     },
     "execution_count": 2,
     "metadata": {},
     "output_type": "execute_result"
    }
   ],
   "source": [
    "matrix.shape"
   ]
  },
  {
   "cell_type": "code",
   "execution_count": null,
   "metadata": {},
   "outputs": [],
   "source": []
  },
  {
   "cell_type": "code",
   "execution_count": null,
   "metadata": {},
   "outputs": [],
   "source": []
  },
  {
   "cell_type": "code",
   "execution_count": null,
   "metadata": {},
   "outputs": [],
   "source": []
  },
  {
   "cell_type": "code",
   "execution_count": null,
   "metadata": {},
   "outputs": [],
   "source": []
  },
  {
   "cell_type": "code",
   "execution_count": null,
   "metadata": {},
   "outputs": [],
   "source": []
  }
 ],
 "metadata": {
  "kernelspec": {
   "display_name": "Python 3",
   "language": "python",
   "name": "python3"
  },
  "language_info": {
   "codemirror_mode": {
    "name": "ipython",
    "version": 3
   },
   "file_extension": ".py",
   "mimetype": "text/x-python",
   "name": "python",
   "nbconvert_exporter": "python",
   "pygments_lexer": "ipython3",
   "version": "3.7.4"
  }
 },
 "nbformat": 4,
 "nbformat_minor": 2
}
