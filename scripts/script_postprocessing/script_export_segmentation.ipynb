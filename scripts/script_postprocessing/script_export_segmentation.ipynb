{
 "cells": [
  {
   "cell_type": "code",
   "execution_count": 1,
   "metadata": {},
   "outputs": [],
   "source": [
    "import matplotlib.pyplot as plt\n",
    "import numpy as np\n",
    "import json \n",
    "\n",
    "from dicom_to_cnn.model.segmentation.ExportSegmentation_Writer import ExportSegmentation_Writer\n",
    "from dicom_to_cnn.model.segmentation.rtstruct.RTSS_Writer import RTSS_Writer \n",
    "from dicom_to_cnn.model.segmentation.dicom_seg.DICOMSEG_Writer import DICOMSEG_Writer\n",
    "from dicom_to_cnn.model.reader.Series import Series \n",
    "\n",
    "import SimpleITK as sitk "
   ]
  },
  {
   "cell_type": "code",
   "execution_count": 3,
   "metadata": {},
   "outputs": [],
   "source": [
    "pet_path = \n",
    "mask_path = \n",
    "mask_img = sitk.ReadImage(mask_path)\n",
    "\n",
    "\n",
    "#RTSTRUCT\n",
    "filename = 'filename.dcm'\n",
    "directory_path = 'directory where to export the dicom' \n",
    "writer = RTSS_Writer(mask_img, serie_path=pet_path)\n",
    "writer.setDictName('dict')\n",
    "writer.setBodyPartExaminated('all body')\n",
    "writer.setSeriesDescription('description')\n",
    "writer.setAutoRTROIInterpretedType()\n",
    "writer.setAutoRoiName()\n",
    "writer.save_file(filename, directory_path)"
   ]
  },
  {
   "cell_type": "code",
   "execution_count": 4,
   "metadata": {},
   "outputs": [],
   "source": [
    "#DICOMSEG\n",
    "filename = 'filename.dcm'\n",
    "directory_path = 'directory where to export the dicom' \n",
    "writer = DICOMSEG_Writer(mask_img, serie_path=pet_path)\n",
    "writer.setDictName('dict')\n",
    "writer.setBodyPartExaminated('all body')\n",
    "writer.setSeriesDescription('description')\n",
    "#writer.setAutoRTROIInterpretedType()\n",
    "writer.setAutoRoiName()\n",
    "writer.save_file(filename, directory_path)"
   ]
  },
  {
   "cell_type": "code",
   "execution_count": null,
   "metadata": {},
   "outputs": [],
   "source": []
  }
 ],
 "metadata": {
  "kernelspec": {
   "display_name": "Python 3",
   "language": "python",
   "name": "python3"
  },
  "language_info": {
   "codemirror_mode": {
    "name": "ipython",
    "version": 3
   },
   "file_extension": ".py",
   "mimetype": "text/x-python",
   "name": "python",
   "nbconvert_exporter": "python",
   "pygments_lexer": "ipython3",
   "version": "3.7.4"
  }
 },
 "nbformat": 4,
 "nbformat_minor": 2
}
