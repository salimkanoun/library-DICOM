{
 "metadata": {
  "language_info": {
   "codemirror_mode": {
    "name": "ipython",
    "version": 3
   },
   "file_extension": ".py",
   "mimetype": "text/x-python",
   "name": "python",
   "nbconvert_exporter": "python",
   "pygments_lexer": "ipython3",
   "version": 3
  },
  "orig_nbformat": 2
 },
 "nbformat": 4,
 "nbformat_minor": 2,
 "cells": [
  {
   "cell_type": "code",
   "execution_count": null,
   "metadata": {},
   "outputs": [],
   "source": [
    "import matplotlib.pyplot as plt\n",
    "import numpy as np\n",
    "import json \n",
    "\n",
    "from library_dicom.dicom_processor.model.post_processing.export_segmentation.ExportSegmentation_Writer import ExportSegmentation_Writer"
   ]
  },
  {
   "cell_type": "code",
   "execution_count": null,
   "metadata": {},
   "outputs": [],
   "source": [
    "pet_img = : a sitk.Image \n",
    "mask_img =: a 3D sitk.Image of shape (x,y,z)\n",
    "filename = 'name of the generated dicom file'\n",
    "directory_path =  'abs//path//directory'\n",
    "mode = 'rtstruct' #or 'dicomseg'\n",
    "writer = ExportSegmentation_Writer(mask_img, pet_path, mode=mode)\n",
    "writer.generate_dicom(filename, directory_path)\n",
    "\n",
    "\n"
   ]
  }
 ]
}