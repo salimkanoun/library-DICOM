{
 "cells": [
  {
   "cell_type": "code",
   "execution_count": null,
   "metadata": {},
   "outputs": [],
   "source": [
    "import matplotlib.pyplot as plt\n",
    "import numpy as np\n",
    "import json \n",
    "\n",
    "from dicom_to_cnn.model.segmentation.MaskBuilder_RTSS import MaskBuilder_RTSS"
   ]
  },
  {
   "cell_type": "markdown",
   "metadata": {},
   "source": [
    "## RTSTRUCT file -> np.ndarray Mask "
   ]
  },
  {
   "cell_type": "code",
   "execution_count": null,
   "metadata": {},
   "outputs": [],
   "source": [
    "rtss_path = 'abs//path//rtss.dcm'\n",
    "ct_path = 'abs//path//ct//directory'\n",
    "pet_path = 'abs//path//pet//directory'"
   ]
  },
  {
   "cell_type": "markdown",
   "metadata": {},
   "source": [
    "### CT RTSS to PET array"
   ]
  },
  {
   "cell_type": "code",
   "execution_count": null,
   "metadata": {
    "tags": []
   },
   "outputs": [],
   "source": [
    "mask_builder_rtss = MaskBuilder_RTSS(rtss_path, pet_path)"
   ]
  },
  {
   "cell_type": "code",
   "execution_count": null,
   "metadata": {
    "tags": []
   },
   "outputs": [],
   "source": [
    "from time import process_time\n",
    "t1_start = process_time()\n",
    "mask_4D = mask_builder_rtss.rtss_to_4D_mask()\n",
    "t1_stop = process_time() \n",
    "print(\"time to build a 4D mask :\", t1_stop-t1_start)"
   ]
  },
  {
   "cell_type": "code",
   "execution_count": null,
   "metadata": {},
   "outputs": [],
   "source": [
    "print(\"Number of ROI in RTSS : \", mask_builder_rtss.number_of_roi)\n",
    "print(\"Size of array in PET Modality : \", mask_4D.shape)"
   ]
  },
  {
   "cell_type": "markdown",
   "metadata": {},
   "source": [
    "### CT RTSS to CT array "
   ]
  },
  {
   "cell_type": "code",
   "execution_count": null,
   "metadata": {
    "tags": []
   },
   "outputs": [],
   "source": [
    "mask_builder_rtss = MaskBuilder_RTSS(rtss_path, ct_path)"
   ]
  },
  {
   "cell_type": "code",
   "execution_count": null,
   "metadata": {
    "tags": []
   },
   "outputs": [],
   "source": [
    "from time import process_time\n",
    "t1_start = process_time()\n",
    "mask_4D = mask_builder_rtss.rtss_to_4D_mask()\n",
    "t1_stop = process_time() \n",
    "print(\"time to build a 4D mask :\", t1_stop-t1_start)"
   ]
  },
  {
   "cell_type": "code",
   "execution_count": null,
   "metadata": {},
   "outputs": [],
   "source": [
    "print(\"Number of ROI in RTSS : \", mask_builder_rtss.number_of_roi)\n",
    "print(\"Size of array in CT Modality : \", mask_4D.shape)"
   ]
  }
 ],
 "metadata": {
  "kernelspec": {
   "display_name": "Python 3",
   "language": "python",
   "name": "python3"
  },
  "language_info": {
   "codemirror_mode": {
    "name": "ipython",
    "version": 3
   },
   "file_extension": ".py",
   "mimetype": "text/x-python",
   "name": "python",
   "nbconvert_exporter": "python",
   "pygments_lexer": "ipython3",
   "version": "3.7.4"
  },
  "metadata": {
   "interpreter": {
    "hash": "c7d23fb0837a4a0a91752f770154e9c12a4b06fcadfa60e9b64621a47348d0b2"
   }
  }
 },
 "nbformat": 4,
 "nbformat_minor": 2
}