{
 "metadata": {
  "language_info": {
   "codemirror_mode": {
    "name": "ipython",
    "version": 3
   },
   "file_extension": ".py",
   "mimetype": "text/x-python",
   "name": "python",
   "nbconvert_exporter": "python",
   "pygments_lexer": "ipython3",
   "version": "3.8.5-final"
  },
  "orig_nbformat": 2,
  "kernelspec": {
   "name": "python38264bit4afc185bc98b42c389abdbb3fbeec8dd",
   "display_name": "Python 3.8.2 64-bit"
  }
 },
 "nbformat": 4,
 "nbformat_minor": 2,
 "cells": [
  {
   "cell_type": "code",
   "execution_count": null,
   "metadata": {
    "tags": []
   },
   "outputs": [],
   "source": [
    "import numpy as np\n",
    "import SimpleITK as sitk\n",
    "import csv \n",
    "\n",
    "from dicom_to_cnn.model.post_processing.clustering.Watershed import Watershed "
   ]
  },
  {
   "cell_type": "code",
   "execution_count": null,
   "metadata": {},
   "outputs": [],
   "source": [
    "csv_path= 'abs//path//csv'\n",
    "#CSV FIRST LINE : HEADER like ['PATIENT_ID', 'STUDY_UID', 'NIFTI_CT', 'NIFTI_PET', 'NIFTI_MASK']\n",
    "#Csv has to have at each row : patient_id, study_uid, nifti_path_ct, nifti_path_pet, nifti_path_mask (value)\n",
    "#Here, Nifti_mask has to be a 3D BINARY sitk.Image oh shape (x,y,z) \n",
    "with open(csv_path, 'r') as csv_file :\n",
    "    reader = csv.reader(csv_file, delimiter = ',') #change delimiter if needed \n",
    "    dataset = []\n",
    "    for row in reader :\n",
    "        dataset.append(row)  \n",
    "del dataset[0] #remove header !"
   ]
  },
  {
   "cell_type": "code",
   "execution_count": null,
   "metadata": {},
   "outputs": [],
   "source": [
    "#WATERSHED MODEL \n",
    "\n",
    "for row in dataset : \n",
    "    print('patient number {}'.format(dataset.index(row)))\n",
    "    try : \n",
    "        pet_img = sitk.ReadImage(row[3])\n",
    "        mask_img = sitk.ReadImage(row[4])\n",
    "        watershed_img = Watershed(mask_img, pet_img).applied_watershed_model()\n",
    "        \n",
    "    except Exception as err : \n",
    "        print(row)\n",
    "        print(err)"
   ]
  }
 ]
}