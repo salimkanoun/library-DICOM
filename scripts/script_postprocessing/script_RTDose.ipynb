{
 "cells": [
  {
   "cell_type": "code",
   "execution_count": null,
   "metadata": {},
   "outputs": [],
   "source": [
    "import matplotlib.pyplot as plt\n",
    "import numpy as np\n",
    "import pydicom \n",
    "from dicom_to_cnn.model.reader.Instance_RTDose import Instance_RTDose \n",
    "from dicom_to_cnn.tools.rt_processor.DVH_data import *"
   ]
  },
  {
   "cell_type": "code",
   "execution_count": null,
   "metadata": {},
   "outputs": [],
   "source": [
    "#ORIGINAUX \n",
    "#rtstruct_file = '/media/deeplearning/78ca2911-9e9f-4f78-b80a-848024b95f92/RTDOSE/102710245 TDM therapie APC/RTSTRUCT Groupes de structures ARIA RadOnc/RT000000.dcm'\n",
    "#rtdose_file = '/media/deeplearning/78ca2911-9e9f-4f78-b80a-848024b95f92/RTDOSE/102710245 TDM therapie APC/RTDOSE Doses Eclipse/RT000000.dcm'\n",
    "#rt_plan_file= '/media/deeplearning/78ca2911-9e9f-4f78-b80a-848024b95f92/RTDOSE/102710245 TDM therapie APC/RTPLAN Plans ARIA RadOnc/RT000000.dcm'\n",
    "\n",
    "rtstruct_file = r'C:\\Users\\wendy\\Documents\\STAGE\\RTDose\\Dose Anonymisation\\Originaux\\RTSTRUCT Groupes de structures ARIA RadOnc\\RT000000.dcm'\n",
    "rtdose_file = r'C:\\Users\\wendy\\Documents\\STAGE\\RTDose\\Dose Anonymisation\\Originaux\\RTDOSE Doses Eclipse\\RT000000.dcm'"
   ]
  },
  {
   "cell_type": "code",
   "execution_count": null,
   "metadata": {},
   "outputs": [],
   "source": [
    "instance_objet = Instance_RTDose(rtdose_file)\n",
    "dictionnary_origin = instance_objet.wrap_DHVSequence_in_dict(rtstruct_file)\n",
    "generate_plot(dictionnary_origin, mode = 'cumulative', dose_mode = 'Gray', volume_mode='%')"
   ]
  },
  {
   "cell_type": "code",
   "execution_count": null,
   "metadata": {},
   "outputs": [],
   "source": [
    "instance_objet = Instance_RTDose(rtdose_file)\n",
    "dictionnary_origin = instance_objet.wrap_DHVSequence_in_dict(rtstruct_file)\n",
    "generate_plot(dictionnary_origin, mode = 'differentiel', dose_mode = 'Gray', volume_mode='%')"
   ]
  }
 ],
 "metadata": {
  "kernelspec": {
   "display_name": "Python 3",
   "language": "python",
   "name": "python3"
  },
  "language_info": {
   "codemirror_mode": {
    "name": "ipython",
    "version": 3
   },
   "file_extension": ".py",
   "mimetype": "text/x-python",
   "name": "python",
   "nbconvert_exporter": "python",
   "pygments_lexer": "ipython3",
   "version": "3.7.4"
  },
  "metadata": {
   "interpreter": {
    "hash": "31f2aee4e71d21fbe5cf8b01ff0e069b9275f58929596ceb00d14d90e3e16cd6"
   }
  }
 },
 "nbformat": 4,
 "nbformat_minor": 2
}
