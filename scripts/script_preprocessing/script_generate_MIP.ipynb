{
 "metadata": {
  "language_info": {
   "codemirror_mode": {
    "name": "ipython",
    "version": 3
   },
   "file_extension": ".py",
   "mimetype": "text/x-python",
   "name": "python",
   "nbconvert_exporter": "python",
   "pygments_lexer": "ipython3",
   "version": 3
  },
  "orig_nbformat": 2
 },
 "nbformat": 4,
 "nbformat_minor": 2,
 "cells": [
  {
   "cell_type": "code",
   "execution_count": null,
   "metadata": {},
   "outputs": [],
   "source": [
    "import csv \n",
    "\n",
    "from library_dicom.dicom_processor.model.builder.MIP_builder.MIP_Builder import MIP_Builder \n",
    "from library_dicom.dicom_processor.model.reader.Nifti import Nifti "
   ]
  },
  {
   "cell_type": "code",
   "execution_count": null,
   "metadata": {},
   "outputs": [],
   "source": [
    "csv_path= 'abs//path//csv'\n",
    "#CSV FIRST LINE HEADER ['PATIENT_ID', 'STUDY_UID', 'NIFTI_CT', 'NIFTI_PET', 'NIFTI_MASK'] principaly\n",
    "#Csv has to have at each row : patient_id, study_uid, nifti_path_ct, nifti_path_pet, nifti_path_mask (value)\n",
    "with open(csv_path, 'r') as csv_file :\n",
    "    reader = csv.reader(csv_file, delimiter = ',') #change delimiter if needed \n",
    "    dataset = []\n",
    "    for row in reader :\n",
    "        dataset.append(row)\n",
    "del dataset[0] #remove header !"
   ]
  },
  {
   "cell_type": "code",
   "execution_count": null,
   "metadata": {},
   "outputs": [],
   "source": [
    "MIP_directory = 'abs//path//MIP//directory'\n",
    "for row in dataset :\n",
    "    print('patient number {}'.format(dataset.index(row)))\n",
    "    try : \n",
    "        ct_nparray_resampled = Nifti(row[2]).resample_and_normalize(mode='ct')\n",
    "        png_filename = MIP_Builder(ct_nparray_resample).save_mip(angle=0, study_uid=row[0], directory=MIP_directory)\n",
    "    except Exception as err :\n",
    "        print(row)\n",
    "        print(err)"
   ]
  }
 ]
}