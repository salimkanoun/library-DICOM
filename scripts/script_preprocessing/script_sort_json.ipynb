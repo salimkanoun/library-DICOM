{
 "nbformat": 4,
 "nbformat_minor": 2,
 "metadata": {
  "language_info": {
   "name": "python",
   "codemirror_mode": {
    "name": "ipython",
    "version": 2
   },
   "version": "3.8.5"
  },
  "orig_nbformat": 2,
  "file_extension": ".py",
  "mimetype": "text/x-python",
  "name": "python",
  "npconvert_exporter": "python",
  "pygments_lexer": "ipython2",
  "version": 2,
  "kernelspec": {
   "name": "python3",
   "display_name": "Python 3.8.5 64-bit ('base': conda)",
   "metadata": {
    "interpreter": {
     "hash": "6a0b6c04207aa6f5c33e08335e377a5793c5a1abe8e179f13df17cfd923ec7d1"
    }
   }
  }
 },
 "cells": [
  {
   "cell_type": "code",
   "execution_count": null,
   "metadata": {},
   "outputs": [],
   "source": [
    "import json\n",
    "import os\n",
    "import pprint\n",
    "import shutil\n",
    "from collections import defaultdict, Counter\n",
    "from library_dicom.dicom_processor.model.reader.Series import Series\n",
    "from library_dicom.dicom_processor.tools.cleaning_dicom.folders import write_json_file\n",
    "from library_dicom.dicom_processor.tools.cleaning_dicom.cleaning_series import *"
   ]
  },
  {
   "source": [
    "json_folder = 'abs//path//json_folder'\n",
    "liste_json = os.listdir(json_folder)\n",
    "merged_content = generate_merged_file(json_folder)\n",
    "write_json_file(json_folder, 'merged_files', merged_content)"
   ],
   "cell_type": "code",
   "metadata": {},
   "execution_count": null,
   "outputs": []
  },
  {
   "cell_type": "code",
   "execution_count": null,
   "metadata": {},
   "outputs": [],
   "source": [
    "non_interesting_series  = find_non_intersting_series(os.path.join(json_folder, 'merged_files.json'))\n",
    "print(len(non_interesting_series))"
   ]
  },
  {
   "source": [
    "for non_interisting in non_interesting_series:\n",
    "    try : \n",
    "        shutil.rmtree(non_interisting)\n",
    "    except Exception as err : \n",
    "        print(err)"
   ],
   "cell_type": "code",
   "metadata": {},
   "execution_count": null,
   "outputs": []
  },
  {
   "cell_type": "code",
   "execution_count": null,
   "metadata": {},
   "outputs": [],
   "source": [
    "series_ready, paths_series_ready = find_studies_with_two_series(os.path.join(json_folder, 'merged_files.json'))"
   ]
  },
  {
   "source": [
    "studies_over_two_series, paths = find_studies_over_two_series(os.path.join(json_folder, 'merged_files.json'))"
   ],
   "cell_type": "code",
   "metadata": {
    "tags": []
   },
   "execution_count": null,
   "outputs": []
  },
  {
   "source": [
    "#move studies with more than 2 series \n",
    "export_folder = 'abs//path//where to save the study with more than 2 series'\n",
    "for path in paths : \n",
    "    try : \n",
    "        details = Series(path).get_series_details()\n",
    "        serie_uid = details['series']['SeriesInstanceUID']\n",
    "        patient_id = details['patient']['PatientID']\n",
    "        type_ = details['study']['StudyDescription'] #HAS TO BE PET0, PET2 for example\n",
    "        destination = export_folder+'/'+patient_id+'/'+type_ + '/' + serie_uid\n",
    "        print(destination)\n",
    "        os.makedirs(destination, exist_ok=True)\n",
    "        shutil.move(path, destination)\n",
    "    except Exception as err : \n",
    "        print(err)\n",
    "        "
   ],
   "cell_type": "code",
   "metadata": {
    "tags": []
   },
   "execution_count": null,
   "outputs": []
  },
  {
   "source": [
    "root_destination = 'abs//path//root//destinatio,'\n",
    "for seriesID in series_ready : \n",
    "    try : \n",
    "        source_path = series_ready[seriesID]['path']\n",
    "        parentPatientID = series_ready[seriesID]['parentPatientID']\n",
    "        parentStudyUID = series_ready[seriesID]['parentStudyUID']\n",
    "        type_ = 'PET0' #or PET2, PET4 for example\n",
    "        destination = root_destination+\"/\"+parentPatientID+\"/\"+type_+\"/\"+seriesID\n",
    "        os.makedirs(destination, exist_ok=True)  \n",
    "        shutil.move(source_path, destination)\n",
    "    except Exception as err : \n",
    "        print(err)"
   ],
   "cell_type": "code",
   "metadata": {
    "tags": [
     "outputPrepend"
    ]
   },
   "execution_count": null,
   "outputs": []
  }
 ]
}