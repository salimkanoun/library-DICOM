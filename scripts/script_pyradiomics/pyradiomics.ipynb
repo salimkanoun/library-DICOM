{
 "metadata": {
  "language_info": {
   "codemirror_mode": {
    "name": "ipython",
    "version": 3
   },
   "file_extension": ".py",
   "mimetype": "text/x-python",
   "name": "python",
   "nbconvert_exporter": "python",
   "pygments_lexer": "ipython3",
   "version": "3.7.4"
  },
  "orig_nbformat": 2,
  "kernelspec": {
   "name": "python374jvsc74a57bd05fa85048b1ccf2db2d380087d6d5e0fd15f1aeb7f6a05be2df0496f553dfa61b",
   "display_name": "Python 3.7.4 64-bit ('base': conda)"
  },
  "metadata": {
   "interpreter": {
    "hash": "fd69f43f58546b570e94fd7eba7b65e6bcc7a5bbc4eab0408017d18902915d69"
   }
  }
 },
 "nbformat": 4,
 "nbformat_minor": 2,
 "cells": [
  {
   "cell_type": "code",
   "execution_count": null,
   "metadata": {},
   "outputs": [],
   "source": [
    "import SimpleITK as sitk \n",
    "import os \n",
    "import numpy as np \n",
    "import csv\n",
    "import json \n",
    "from library_dicom.dicom_processor.model.builder.mask_csv_builder.CsvReader import CsvReader\n",
    "from library_dicom.dicom_processor.tools.pyradiomic.pyradiomics import *"
   ]
  },
  {
   "cell_type": "code",
   "execution_count": null,
   "metadata": {},
   "outputs": [],
   "source": [
    "csv_path= 'abs//path//csv'\n",
    "#CSV FIRST LINE HEADER ['PATIENT_ID', 'STUDY_UID', 'NIFTI_CT', 'NIFTI_PET', 'NIFTI_MASK']\n",
    "#Csv has to have at each row : patient_id, study_uid, nifti_path_ct, nifti_path_pet, nifti_path_mask (value)\n",
    "with open(csv_path, 'r') as csv_file :\n",
    "    reader = csv.reader(csv_file, delimiter = ',') #change delimiter if needed \n",
    "    dataset = []\n",
    "    for row in reader :\n",
    "        dataset.append(row)\n",
    "        \n",
    "del dataset[0] #remove header !"
   ]
  },
  {
   "cell_type": "code",
   "execution_count": null,
   "metadata": {},
   "outputs": [],
   "source": [
    "print(\"Number of mask to treat : \", len(csv_file_))"
   ]
  },
  {
   "cell_type": "code",
   "execution_count": null,
   "metadata": {},
   "outputs": [],
   "source": [
    "#CALCUL OF DMAX : maximal distance between 2 ROI \n",
    "#add the value in the row \n",
    "for row in dataset : \n",
    "    try : \n",
    "        print('patient number {}'.format(dataset.index(row)))\n",
    "        mask_path = nifti[4]\n",
    "        pet_path = nifti[3]\n",
    "        liste_center = get_center_of_mass(mask_path, thresh = 0.41, pet_path = pet_path)\n",
    "        d_max = calcul_distance_max(liste_center)\n",
    "        row.append(d_max)\n",
    "    except Exception as err : \n",
    "        print(row)\n",
    "        print(err)\n"
   ]
  },
  {
   "cell_type": "code",
   "execution_count": null,
   "metadata": {},
   "outputs": [],
   "source": [
    "#CALCUL 2D and 3D diameter of the bigger ROI in the mask \n",
    "\n",
    "for row in dataset : \n",
    "    try : \n",
    "        print('patient number {}'.format(dataset.index(row)))\n",
    "        number_bigger_roi, maximum_suv_value = get_bigger_roi_number(row[4], row[3])\n",
    "        diam_2d, diam_3d = get_diameter(row[4], row[3], int(number_bigger_roi))\n",
    "        row.append(number_bigger_roi)\n",
    "        row.append(maximum_suv_value)\n",
    "        row.append(diam_2d)\n",
    "        row.append(diam_3d)\n",
    "    except Exception : \n",
    "        print(row)\n",
    "        print(err)\n",
    "        "
   ]
  }
 ]
}