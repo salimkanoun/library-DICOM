{
 "cells": [
  {
   "cell_type": "markdown",
   "metadata": {},
   "source": [
    "# IMPORTS"
   ]
  },
  {
   "cell_type": "code",
   "execution_count": 1,
   "metadata": {},
   "outputs": [],
   "source": [
    "import numpy as np\n",
    "\n",
    "from library_dicom.dicom_handler import DICOM_handler\n",
    "from library_dicom.dicom_modality_specific import modality_DICOM_RTSTRUCT"
   ]
  },
  {
   "cell_type": "markdown",
   "metadata": {},
   "source": [
    "# generation of a new empty RTSTRUCT"
   ]
  },
  {
   "cell_type": "code",
   "execution_count": 2,
   "metadata": {},
   "outputs": [],
   "source": [
    "# directories\n",
    "DICOM_directory = '/media/storage/example_DICOM'\n",
    "new_RTSTRUCT_directory = '/media/storage/example_GeneratedRTSTRUCT'\n",
    "\n",
    "# operations\n",
    "DCM_Serie = DICOM_handler(DICOM_directory)\n",
    "DCM_Serie.generates_empty_RTSTRUCT(new_RTSTRUCT_directory,filename='generated_rtstruct.dcm')\n",
    "DCM_RTSTRUCT = DICOM_handler(new_RTSTRUCT_directory)"
   ]
  },
  {
   "cell_type": "markdown",
   "metadata": {},
   "source": [
    "# generation of a RTSTRUCT from a MASK"
   ]
  },
  {
   "cell_type": "code",
   "execution_count": 3,
   "metadata": {},
   "outputs": [],
   "source": [
    "# directories\n",
    "DICOM_directory = '/media/storage/example_DICOM'\n",
    "RTSTRUCT_directory = '/media/storage/example_TRUE_RTSTRUCT' # an existing RTSTRUCT if not required\n",
    "new_RTSTRUCT_directory = '/media/storage/example_PseudoGeneratedRTSTRUCT'\n",
    "\n",
    "labels_names = ['Background','ROI_1','ROI_2']\n",
    "labels_numbers = [0,1,2]\n",
    "\n",
    "if RTSTRUCT_directory is not None:\n",
    "    RTSTRUCT_Serie = DICOM_handler(RTSTRUCT_directory)\n",
    "else:\n",
    "    RTSTRUCT_Serie = None\n",
    "\n",
    "# creation of example mask\n",
    "mask = np.zeros((100,100,100),dtype=np.int32)\n",
    "mask[10,10,10] = 1\n",
    "mask[20,20,20] = 2\n",
    "    \n",
    "# operations\n",
    "DCM_Serie = DICOM_handler(DICOM_directory)\n",
    "DCM_Serie.generate_RTSTRUCT_from_MASK(mask=mask,path_new_directory=new_RTSTRUCT_directory,\n",
    "                                      labels_names=labels_names,labels_numbers=labels_numbers,\n",
    "                                      existing_RTSTRUCT=RTSTRUCT_Serie.file, # need to send modality_DICOM_RTSTRUCT, not DICOM_handler\n",
    "                                      filename='pseudo_generated_rtstruct.dcm')"
   ]
  }
 ],
 "metadata": {
  "kernelspec": {
   "display_name": "Python 3",
   "language": "python",
   "name": "python3"
  },
  "language_info": {
   "codemirror_mode": {
    "name": "ipython",
    "version": 3
   },
   "file_extension": ".py",
   "mimetype": "text/x-python",
   "name": "python",
   "nbconvert_exporter": "python",
   "pygments_lexer": "ipython3",
   "version": "3.7.4"
  }
 },
 "nbformat": 4,
 "nbformat_minor": 2
}
