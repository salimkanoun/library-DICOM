{
 "cells": [
  {
   "cell_type": "code",
   "execution_count": 1,
   "metadata": {},
   "outputs": [],
   "source": [
    "import json\n",
    "import os\n",
    "from library_dicom.dicom_processor.tools.folders import *\n",
    "\n",
    "from library_dicom.dicom_processor.tools.create_mip import *\n",
    "from library_dicom.dicom_processor.tools.threshold_mask import *\n",
    "\n",
    "import numpy as np\n",
    "import SimpleITK as sitk\n",
    "\n",
    "import csv"
   ]
  },
  {
   "cell_type": "code",
   "execution_count": 44,
   "metadata": {},
   "outputs": [],
   "source": [
    "#PET0 \n",
    "\n",
    "csv_pet0_path = '/media/salim/DD 2To/AHL2011_CSV_DATA/pet0.csv'\n",
    "\n",
    "with open(csv_pet0_path, 'r') as csv_file :\n",
    "    reader = csv.reader(csv_file, delimiter = ';') #liste pour chaque ligne \n",
    "    csv_data = []\n",
    "    for row in reader :\n",
    "        csv_data.append(row)\n",
    "        \n",
    "del csv_data[0] #enlever première ligne\n"
   ]
  },
  {
   "cell_type": "code",
   "execution_count": 59,
   "metadata": {},
   "outputs": [
    {
     "data": {
      "text/plain": [
       "['BESSON,LAURENT',\n",
       " '13011101331006',\n",
       " '1.2.124.113532.10.149.172.5.20121107.74512.6853015',\n",
       " '2',\n",
       " 'besson_laurent_nov 7_2012.csv',\n",
       " '4',\n",
       " '11.79',\n",
       " 'Mediastinal',\n",
       " '5.8',\n",
       " 'Mediastinal',\n",
       " '1.77',\n",
       " '2.19',\n",
       " '2.94',\n",
       " '1.71',\n",
       " '2.43',\n",
       " '3',\n",
       " '12.8',\n",
       " '2.53',\n",
       " '2',\n",
       " '3.44',\n",
       " '2']"
      ]
     },
     "execution_count": 59,
     "metadata": {},
     "output_type": "execute_result"
    }
   ],
   "source": [
    "csv_data[0]"
   ]
  },
  {
   "cell_type": "code",
   "execution_count": 57,
   "metadata": {},
   "outputs": [],
   "source": [
    "csv_pet0_path = '/media/salim/DD 2To/AHL2011_NIFTI/AHL2011_PET0_NIFTI.csv'\n",
    "\n",
    "with open(csv_pet0_path, 'r') as csv_file :\n",
    "    reader = csv.reader(csv_file, delimiter = ',') #liste pour chaque ligne \n",
    "    data = []\n",
    "    for row in reader :\n",
    "       data.append(row)\n",
    "        \n",
    "del data[0] #enlever première ligne\n"
   ]
  },
  {
   "cell_type": "code",
   "execution_count": 58,
   "metadata": {},
   "outputs": [
    {
     "data": {
      "text/plain": [
       "['CON,DA',\n",
       " '1.2.124.113532.10.149.172.5.20131107.93455.7725981',\n",
       " '/media/salim/DD 2To/AHL2011_NIFTI/1.2.124.113532.10.149.172.5.20131107.93455.7725981_nifti_CT.nii',\n",
       " '/media/salim/DD 2To/AHL2011_NIFTI/1.2.124.113532.10.149.172.5.20131107.93455.7725981_nifti_PT.nii',\n",
       " '/media/salim/DD 2To/AHL2011_NIFTI/1.2.124.113532.10.149.172.5.20131107.93455.7725981_nifti_mask.nii']"
      ]
     },
     "execution_count": 58,
     "metadata": {},
     "output_type": "execute_result"
    }
   ],
   "source": [
    "data[0]"
   ]
  },
  {
   "cell_type": "code",
   "execution_count": 61,
   "metadata": {},
   "outputs": [
    {
     "name": "stdout",
     "output_type": "stream",
     "text": [
      "578\n"
     ]
    }
   ],
   "source": [
    "study_uid = []\n",
    "for patient in data : \n",
    "    study_uid.append(patient[1])\n",
    "\n",
    "print(len(study_uid))"
   ]
  },
  {
   "cell_type": "code",
   "execution_count": 45,
   "metadata": {},
   "outputs": [
    {
     "name": "stdout",
     "output_type": "stream",
     "text": [
      "796\n",
      "1740\n"
     ]
    }
   ],
   "source": [
    "print(len(csv_data))\n",
    "\n",
    "list_nifti_pet0 = os.listdir('/media/salim/DD 2To/AHL2011_NIFTI')\n",
    "\n",
    "print(len(list_nifti_pet0))\n",
    "\n",
    "all_liste_pet0 = []\n",
    "for i in range(len(csv_data)) : \n",
    "    subliste = []\n",
    "    subliste.append(csv_data[i][0])\n",
    "    patient_id = csv_data[i][1]\n",
    "    subliste.append(patient_id)\n",
    "    study_uid = csv_data[i][2]\n",
    "    subliste.append(study_uid)\n",
    "    subliste.append(csv_data[i][4])\n",
    "    for nifti in list_nifti_pet0 : \n",
    "        if study_uid in nifti : \n",
    "            subliste.append(nifti)\n",
    "\n",
    "    all_liste_pet0.append(subliste)"
   ]
  },
  {
   "cell_type": "code",
   "execution_count": 47,
   "metadata": {},
   "outputs": [
    {
     "data": {
      "text/plain": [
       "796"
      ]
     },
     "execution_count": 47,
     "metadata": {},
     "output_type": "execute_result"
    }
   ],
   "source": [
    "len(all_liste_pet0)"
   ]
  },
  {
   "cell_type": "code",
   "execution_count": 48,
   "metadata": {},
   "outputs": [
    {
     "name": "stdout",
     "output_type": "stream",
     "text": [
      "['BESSON,LAURENT', '13011101331006', '1.2.124.113532.10.149.172.5.20121107.74512.6853015', 'besson_laurent_nov 7_2012.csv']\n",
      "['MAR,MA', '13011101431008', '1.2.124.113532.172.16.25.2.20120513.956.1094144', 'mar_ma_may 15_2012.csv']\n",
      "['CAN,SY', '13011101431012', '1.2.124.113532.172.16.25.2.20130121.814.1220583', 'can_sy_jan 24_2013.csv']\n",
      "['BOU,KH', '13011101431014', '1.2.124.113532.172.16.25.2.20130330.519.1262881', 'bou_kh_apr 2_2013.csv']\n",
      "['CUR,MA', '13011101431015', '1.2.124.113532.172.16.25.2.20130501.518.1281383', 'cur_ma_may 3_2013.csv']\n",
      "['ARB,AL', '13011101391019', '1.2.124.113532.172.16.4.13.20130416.213156.2050918', 'arb_al_apr 17_2013.csv']\n",
      "['JOL,JO', '53011101881009', '1.2.250.1.199.10.90001.90509.20121214134125', 'jol_jo_dec 14_2012.csv']\n",
      "['PES,DA', '53011101871010', '1.2.250.1.38.2.1.102.130909134419.102538124', 'pes_da_sep 10_2013.csv']\n",
      "['DIA,EL', '53011101871015', '1.2.250.1.38.2.1.102.140128091739.102948944', 'dia_el_feb 12_2014.csv']\n",
      "['BOU,PA', '53011101401002', '1.2.250.1.38.2.1.12.1617369990219.20120131130324.129847032', 'bou_pa_jan 31_2012_SK.csv']\n",
      "['PRO,JE', '53011101851006', '1.2.250.1.38.2.1.12.1617369990219.20130305114511.2082121654', 'pro_je_mar 5_2013.csv']\n",
      "['DUP,CL', '13011102611001', '1.2.250.1.38.2.1.12.5504139343233.20121226095520.1614634521', 'dup_cl_dec 26_2012.csv']\n",
      "['ABD,KA', '13011101601003', '1.2.250.1.38.2.1.12.5504139343233.20130125115348.984452833', 'abd_ka_jan 25_2013.csv']\n",
      "['YIL,EN', '13011101601004', '1.2.250.1.38.2.1.12.5504139343233.20130131112217.414924067', 'yil_en_jan 31_2013.csv']\n",
      "['DEV,AD', '13011101601005', '1.2.250.1.38.2.1.12.5504139343233.20130422091548.1187855451', 'dev_ad_apr 22_2013.csv']\n",
      "['VAN,LU', '13011101601006', '1.2.250.1.38.2.1.12.5504139343233.20130510083223.364727734', 'van_lu_may 10_2013.csv']\n",
      "['GIO,CA', '13011101611003', '1.2.250.1.38.2.1.12.5504139343233.20130711114955.1438368820', 'gio_ca_jul 11_2013.csv']\n",
      "['WAT,MA', '13011101601007', '1.2.250.1.38.2.1.12.5504139343233.20130828111858.1285036040', 'wat_ma_aug 28_2013.csv']\n",
      "['DUF,ES', '13011101601008', '1.2.250.1.38.2.1.12.5504139343233.20131205113413.2008650501', 'duf_es_dec 5_2013.csv']\n",
      "['LEM,RE', '13011101481004', '1.2.250.1.38.2.1.14.1.121129091748.30149', 'lem_re_nov 29_2012.csv']\n",
      "['LHO,VI', '13011101061020', '1.2.250.1.38.2.1.14.1.121227135308.43148', 'lho_vi_dec 27_2012.csv']\n",
      "['J,J', '13011101481009', '1.2.250.1.38.2.1.14.1.130627114228.150222', 'j_j_jun 27_2013.csv']\n",
      "['LUC,VA', '13011101481010', '1.2.250.1.38.2.1.14.1.140203084827.221952', 'luc_va_feb 3_2014.csv']\n",
      "['LED,NA', '13011101481011', '1.2.250.1.38.2.1.14.1.140326111152.229669', 'led_na_mar 26_2014.csv']\n",
      "['VIN,LA', '13011102611002', '1.2.250.1.38.2.1.14.1.32100.3450441', 'vin_la_feb 3_2014.csv']\n",
      "['JUN,AN', '13011101601009', '1.2.250.1.38.2.1.14.1.32100.3467670', 'jun_an_mar 3_2014.csv']\n",
      "['M,W', '13011101391023', '1.2.250.1.59.453.859.92444169.1336.1379941336.1.1.1', 'm_w_jul 31_2013.csv']\n",
      "['RUE,PH', '13011101391029', '1.2.250.1.59.453.859.92444169.2976.1393414751.7.1.1', 'rue_ph_jan 29_2014.csv']\n",
      "['HUB,LA', '13011101391028', '1.2.250.1.59.453.859.92444169.3116.1390838005.4.1.1', 'hub_la_jan 22_2014.csv']\n",
      "['MOR,VI', '13011101391030', '1.2.250.1.59.453.859.92444169.404.1395300029.1.1.1', 'mor_vi_mar 6_2014.csv']\n",
      "['BER,VI', '13011101391016', '1.2.250.1.59.453.859.92444169.420.1359647797.2.1.1', 'ber_vi_jan 30_2013.csv']\n",
      "['CAR,NI', '13011101021026', '1.2.250.1.59.470.940100027.1.20140213153140.5192.127625', 'car_ni_feb 13_2014_abr.csv']\n",
      "['BEC,FA', '13011101051002', '1.2.250.1.74.20110825143500.60000017823632', 'bec_fa_aug 25_2011.csv']\n",
      "['MEN,DA', '13011101051004', '1.2.250.1.74.20110909072000.60000017881892', 'men_da_sep 9_2011.csv']\n",
      "['SER,JO', '13011101051005', '1.2.250.1.74.20120201135500.60000019431451', 'ser_jo_feb 1_2012.csv']\n",
      "['DER,SO', '13011101541001', '1.2.250.1.74.20120216151500.25000033988921', 'der_so_feb 16_2012.csv']\n",
      "['LES,FR', '53011101371002', '1.2.250.1.74.20120625133000.1000031365770', 'les_fr_jun 25_2012.csv']\n",
      "['GUI,AU', '13011101051010', '1.2.250.1.74.20120731071500.60000021484961', 'gui_au_jul 31_2012.csv']\n",
      "['LEF,SA', '13011101531001', '1.2.250.1.74.20120802083000.17000002314751', 'lef_sa_aug 2_2012.csv']\n",
      "['OUC,SA', '13011101541002', '1.2.250.1.74.20120917074500.25000039450990', 'ouc_sa_sep 17_2012.csv']\n",
      "['ZAN,OL', '13011107611001', '1.2.250.1.74.20121107081000.25000040737499', 'zan_ol_nov 7_2012.csv']\n",
      "['BON,FR', '53011101811001', '1.2.250.1.74.20130129123000.31000024982325', 'bon_fr_jan 29_2013.csv']\n",
      "['MET,RE', '13011101051017', '1.2.250.1.74.20130222071500.60000023839296', 'met_re_feb 22_2013.csv']\n",
      "['MAN,AG', '13011101051018', '1.2.250.1.74.20130315071000.60000024035329', 'man_ag_mar 15_2013.csv']\n",
      "['KAR,FA', '13011101541004', '1.2.250.1.74.20130503150500.25000045371998', 'kar_fa_may 3_2013.csv']\n",
      "['LEG,PA', '53011101401007', '1.2.250.1.74.20130605120000.90000007531810', 'leg_pa_jun 5_2013.csv']\n",
      "['G,S', '53011101811006', '1.2.250.1.74.20131009140000.31000030258974', 'g_s_oct 9_2013.csv']\n",
      "['RAK,AN', '53011101811007', '1.2.250.1.74.20131224123000.31000031879911', 'rak_an_dec 24_2013.csv']\n",
      "['OUD,CH', '53011101401009', '1.2.250.1.74.20140225090000.17000003602462', 'oud_ch_feb 28_2014.csv']\n",
      "['LER,MA', '53011101811009', '1.2.250.1.74.20140311090000.31000033603308', 'ler_ma_mar 11_2014.csv']\n",
      "['RUL,FL', '13011110131003', '1.2.276.0.7230010.3.1.2.2103579025.3024.1397055458.2', 'rul_fl_apr 4_2014.csv']\n",
      "['ROG,GE', '13011107211003', '1.2.276.0.7230010.3.2.107011', 'rog_ge_sep 13_2013.csv']\n",
      "['LOO,PA', '13011106211002', '1.2.276.0.7230010.3.2.107137', 'loo_pa_feb 7_2013.csv']\n",
      "['BRE,AL', '13011107211001', '1.2.276.0.7230010.3.2.108003', 'bre_al_may 17_2013.csv']\n",
      "['SOU,VA', '13011106211001', '1.2.276.0.7230010.3.2.108367', 'sou_va_jan 18_2013.csv']\n",
      "['TET,AN', '13011101211014', '1.2.276.0.7230010.3.2.108981', 'tet_an_jun 18_2013-EV.csv']\n",
      "['BAH,CA', '13011106211003', '1.2.276.0.7230010.3.2.111795', 'bah_ca_may 13_2013.csv']\n",
      "['LEG,EL', '13011106211004', '1.2.276.0.7230010.3.2.112070', 'leg_el_aug 12_2013.csv']\n",
      "['THU,KE', '13011107211002', '1.2.276.0.7230010.3.2.112512', 'thu_ke_jun 12_2013.csv']\n",
      "['GOL,SE', '13011106211005', '1.2.276.0.7230010.3.2.114169', 'gol_se_oct 30_2013.csv']\n",
      "['CHO,PA', '13011106211006', '1.2.276.0.7230010.3.2.116236', 'cho_pa_nov 26_2013.csv']\n",
      "['MEU,MA', '13011102171003', '1.2.276.0.7230010.3.2.266925', 'meu_ma_jul 12_2012.csv']\n",
      "['HUB,FL', '13011103311013', '1.2.276.0.72307701.3.2.140190', 'hub_fl_may 23_2013.csv']\n",
      "['JAC,CL', '13011101101006', '1.2.826.0.1.3680043.2.455.30.11.1.81161', 'jac_cl_jul 15_2013.csv']\n",
      "['L,R', '13011104301001', '1.2.840.113619.2.144.40453598.21091.1378791271.827', 'l_r_aug 20_2013.csv']\n",
      "['ESC,SE', '53011101871001', '1.2.840.113619.2.182.12162111331854880.1337851969.832855', 'esc_se_may 24_2012.csv']\n",
      "['R,M', '53011106341003', '1.2.840.113619.2.248.114374074502585.13721.1390913736413.2', 'r_m_jan 15_2014-EV.csv']\n",
      "['GEO,BE', '13011101171002', '1.2.840.113619.2.248.116523018953.15043.1332235650485.2', 'geo_be_dec 28_2011-EV.csv']\n",
      "['COR,AL', '13011103031010', '1.2.840.113619.2.281.3562.1025095209.1369381288.21275000', 'cor_al_apr 2_2013.csv']\n",
      "['V,M', '13011101281002', '1.2.840.113619.2.290.3.1569943720.43.1324052734.969', 'v_m_dec 22_2011.csv']\n",
      "['FRA,YV', '13011101251019', '1.2.840.113619.2.290.3.17436513.15.1359009680.688', 'fra_yv_jan 24_2013.csv']\n",
      "['DIC,AL', '13011101251023', '1.2.840.113619.2.290.3.17436513.21.1369113113.31', 'dic_al_may 21_2013.csv']\n",
      "['FOU,UR', '13011101251021', '1.2.840.113619.2.290.3.17436513.9.1365140300.351', 'fou_ur_apr 5_2013.csv']\n",
      "['HEN,HE', '13011101331009', '1.2.840.113619.2.290.3.2500492204.114.1362723174.772', 'hen_he_mar 8_2013.csv']\n",
      "['MIC,BE', '13011101331020', '1.2.840.113619.2.290.3.2500492204.136.1395124446.663', 'mic_be_mar 18_2014.csv']\n",
      "['CRO,MA', '13011101021018', '1.2.840.113619.2.290.3.2500492204.214.1361944919.828', 'cro_ma_feb 27_2013_SK.csv']\n",
      "['CRO,MA', '13011101021018', '1.2.840.113619.2.290.3.2500492204.214.1361944919.828', 'cro_ma_feb 27_2013_abr.csv']\n",
      "['CRO,MA', '13011101021018', '1.2.840.113619.2.290.3.2500492204.214.1361944919.828', 'cro_ma_feb 27_2013-EV.csv']\n",
      "['TRO,SE', '13011101331021', '1.2.840.113619.2.290.3.2500492204.329.1396421072.951', 'tro_se_apr 2_2014.csv']\n",
      "['HEM,JA', '13011101331019', '1.2.840.113619.2.290.3.2500492204.435.1393828582.267', 'hem_ja_mar 3_2014.csv']\n",
      "['LOU,JU', '13011101331010', '1.2.840.113619.2.290.3.2500492204.830.1362032074.699', 'lou_ju_feb 28_2013.csv']\n",
      "['ALL,MA', '53011101401008', '1.2.840.113619.2.290.3.252365070.134.1385361682.278', 'all_ma_nov 25_2013.csv']\n",
      "['BRA,LI', '13011101621001', '1.2.840.113619.2.290.3.2831155579.129.1328509052.404', 'bra_li_feb 8_2012.csv']\n",
      "['FAR,GA', '13011101621005', '1.2.840.113619.2.290.3.2831155579.636.1371014808.598', 'far_ga_jun 13_2013.csv']\n",
      "['CYN,BE', '13011101621004', '1.2.840.113619.2.290.3.2831155579.859.1349674907.331', 'cyn_be_oct 11_2012.csv']\n",
      "['VER,CL', '13011101621002', '1.2.840.113619.2.290.3.2831155579.956.1333721033.134', 'ver_cl_apr 12_2012.csv']\n",
      "['MIL,MA', '13011105051005', '1.2.840.113619.2.290.3.2831170562.784.1380866924.433', 'mil_ma_oct 4_2013.csv']\n",
      "['MAS,AU', '13011101211013', '1.2.840.113619.2.290.3.346820099.665.1364368288.645', 'mas_au_mar 27_2013-EV.csv']\n",
      "['GEN,TH', '13011103251001', '1.2.840.113619.2.55.1.1762937435.2234.1326982650.524', 'gen_th_jan 19_2012.csv']\n",
      "['MIC,CH', '13011103251004', '1.2.840.113619.2.55.1.1762937435.2257.1346912020.303', 'mic_ch_sep 6_2012.csv']\n",
      "['BOU,MI', '13011101251016', '1.2.840.113619.2.55.1.1762937435.2258.1360569671.915', 'bou_mi_feb 11_2013.csv']\n",
      "['G,CE', '13011101251010', '1.2.840.113619.2.55.1.1762937435.2274.1345446407.436', 'g_ce_aug 20_2012.csv']\n",
      "['L,N', '13011103251003', '1.2.840.113619.2.55.1.1762937435.2279.1340177876.475', 'l_n_jun 20_2012.csv']\n",
      "['MAR,TH', '53011102881001', '1.2.840.113619.2.55.3.279720898.871.1361254276.154', 'mar_th_feb 19_2013.csv']\n",
      "['NAH,IS', '13011101431018', '1.2.840.113619.2.55.3.296496450.541.1386053852.122', 'nah_is_dec 3_2013.csv']\n",
      "['PIT,CH', '13011101171004', '1.2.840.113619.2.55.3.34213890.556.1366002434.926', 'pit_ch_apr 15_2013.csv']\n",
      "['CAS,LA', '13011101171001', '1.2.840.113619.2.55.3.34213890.622.1304662387.127', 'cas_la_may 6_2011-EV.csv']\n",
      "['G,R', '13011101171006', '1.2.840.113619.2.55.3.34213890.688.1393567851.453', 'g_r_feb 28_2014-EV.csv']\n",
      "['MAF,JM', '13011101171005', '1.2.840.113619.2.55.3.34213890.960.1373865291.141', 'maf_jm_jul 15_2013-EV.csv']\n",
      "['ETO,XA', '13011101331004', '1.2.840.113619.2.55.3.698894.747.1350279116.316', 'eto_xa_oct 15_2012.csv']\n",
      "['CHA,VI', '53011106341001', '1.2.840.113704.1.111.10536.1354205240.27', 'cha_vi_nov 29_2012_SK.csv']\n",
      "['CHA,VI', '53011106341001', '1.2.840.113704.1.111.10536.1354205240.27', 'cha_vi_nov 29_2012_abr.csv']\n",
      "['CHA,VI', '53011106341001', '1.2.840.113704.1.111.10536.1354205240.27', 'cha_vi_nov 29_2012-EV.csv']\n",
      "['ATH,KA', '13011101021008', '1.2.840.113704.1.111.1868.1325668823.6', 'ath_ka_jan 4_2012_SK.csv']\n",
      "['T,E', '13011101101010', '1.2.840.113704.1.111.3024.1393944053.16', 't_e_mar 4_2014.csv']\n",
      "['GDA,IN', '13011101031030', '1.2.840.113704.1.111.3556.1391590354.9', 'gda_in_feb 5_2014.csv']\n",
      "['ZEP,KE', '13011103311005', '1.2.840.113704.1.111.5240.1338807850.8', 'zep_ke_jun 4_2012.csv']\n",
      "['BUS,GR', '13011101031025', '1.2.840.113704.7.1.0.114230103158212165.1372842743.2974', 'bus_gr_jun 28_2013.csv']\n",
      "['OUJ,AB', '13011101031029', '1.2.840.113704.7.1.0.114230103158212165.1387188345.0', 'ouj_ab_nov 26_2013.csv']\n",
      "['MEY,MA', '13011101031033', '1.2.840.113704.7.1.0.184991105086229.1394722591.0', 'mey_ma_feb 20_2014.csv']\n",
      "['BOR,FR', '13011101031024', '1.2.840.113704.7.1.0.2502221302191334.1372081542.0', 'bor_fr_jun 20_2013.csv']\n",
      "['AIS,SA', '13011101251034', '1.2.840.113711.3413733.127168.418716561.26.2116281012.10', 'ais_sa_apr 9_2014.csv']\n",
      "['ESC,CA', '13011101251028', '1.2.840.113711.3413733.231508.413371993.26.2116281012.10', 'esc_ca_feb 6_2014.csv']\n",
      "['OBE,RE', '13011101251029', '1.2.840.113711.3413733.322112.414489038.26.2116281012.10', 'obe_re_feb 19_2014.csv']\n",
      "['MAR,FL', '13011101251026', '1.2.840.113711.493413733.304.396946797.26.2116281012.10', 'mar_fl_jul 31_2013.csv']\n",
      "['PIA,LI', '13011101251025', '1.2.840.113711.493413733.7152.393319674.26.2116281012.10', 'pia_li_jun 19_2013.csv']\n",
      "['B,G', '13011101251022', '1.2.840.113711.493413733.8840.394366011.26.1479325270.12', 'b_g_may 10_2013.csv']\n",
      "['AYA,IM', '13011101251017', '1.2.840.113711.493413733.896.384073644.26.2116281012.10', 'aya_im_mar 4_2013.csv']\n",
      "['ABD,MO', '13011101251011', '1.2.840.113711.93413733.15984.368031925.26.2116281012.10', 'abd_mo_sep 4_2012.csv']\n",
      "['ESC,CA', '13011101251028', '1.2.840.113711.93413733.25716.417510817.26.2116281012.10', 'esc_ca_mar 26_2014.csv']\n",
      "['WAT,VE', '13011101251032', '1.2.840.113711.93413733.27284.416217005.26.2116281012.10', 'wat_ve_mar 11_2014.csv']\n",
      "['AOU,FA', '13011101251006', '1.2.840.113711.93413733.48756.362503326.26.2116281012.10', 'aou_fa_jul 2_2012.csv']\n",
      "['BOU,MO', '13011101251005', '1.2.840.113711.93413733.66276.355384878.26.2116281012.10', 'bou_mo_apr 6_2012.csv']\n",
      "['EMI,CH', '13011101251035', '1.2.840.113711.93413733.99344.419425175.26.2116281012.10', 'emi_ch_apr 17_2014.csv']\n",
      "['VIR,BR', '13011101231007', '1.2.928.1024108067', 'vir_br_dec 19_2012-EV.csv']\n",
      "['FAU,MA', '13011101391001', '1.3.12.2.1107.5.1.4.1003.30000011112907214285900000002', 'fau_ma_nov 29_2011.csv']\n",
      "['CHO,TH', '13011101021020', '1.3.12.2.1107.5.1.4.1003.30000013060306511467100000044', 'cho_th_jun 3_2013-abr.csv']\n",
      "['COT,CI', '53011101841001', '1.3.12.2.1107.5.1.4.1007.30000012022408061434300000031', 'cot_ci_feb 24_2012.csv']\n",
      "['KAS,AL', '13011101251018', '1.3.12.2.1107.5.1.4.11061.30000013020407344345300000016', 'kas_al_feb 4_2013.csv']\n",
      "['MOK,EL', '13011101291001', '1.3.12.2.1107.5.1.4.44878.30000012042405574809300000007', 'mok_el_apr 24_2012.csv']\n",
      "['CAD,CE', '13011101251015', '1.3.12.2.1107.5.1.4.44878.30000013011807035856200000028', 'cad_ce_jan 18_2013.csv']\n",
      "['LEC,NI', '13011101061006', '1.3.12.2.1107.5.1.4.45527.30000011112215041559300000025', 'lec_ni_nov 22_2011.csv']\n",
      "['PEZ,OL', '13011101061021', '1.3.12.2.1107.5.1.4.45527.30000013030813185823400000037', 'pez_ol_mar 8_2013.csv']\n",
      "['LEC,FL', '13011101061027', '1.3.12.2.1107.5.1.4.45527.30000014030313011678100000018', 'lec_fl_mar 3_2014.csv']\n",
      "['SCH,MI', '13011101241001', '1.3.12.2.1107.5.6.1.10018.30000011120517503893700001856', 'sch_mi_oct 20_2011-EV.csv']\n",
      "['MEI,CA', '13011102171004', '1.3.12.2.1107.5.6.1.14087.30200113061309323401500001054', 'mei_ca_apr 11_2013.csv']\n",
      "['CHA,LO', '13011101101008', '1.3.46.670589.16.2.2.164.1.157.1.20140218.75740.4551460', 'cha_lo_feb 18_2014.csv']\n",
      "['LIM,SA', '13011101431001', '1.3.46.670589.33.1.6358982691378549313.27791472974246092413', 'lim_sa_sep 29_2011.csv']\n",
      "['COU,CH', '13011101211005', '1.3.51.0.1.1.10.49.10.222.1123288.1121374', 'cou_ch_may 16_2012-EV.csv']\n",
      "['FRE,MA', '13011101211010', '1.3.51.0.1.1.10.49.10.222.1410604.1408803', 'fre_ma_oct 26_2012-EV.csv']\n",
      "['DES,CA', '13011101211012', '1.3.51.0.1.1.10.49.10.222.1614846.1613164', 'des_ca_mar 11_2013-EV.csv']\n",
      "['VAN,MA', '13011101211016', '1.3.51.0.1.1.10.49.10.222.2120603.2119153', 'van_ma_dec 23_2013-EV.csv']\n",
      "['THO,AN', '53011106341002', '1.3.51.0.1.1.129.10.7.50.1310864.310894', 'tho_an_feb 20_2013.csv']\n",
      "['G,J', '53011106341005', '1.3.51.0.1.1.129.10.7.50.1373743.373773', 'g_j_jan 22_2014.csv']\n",
      "['M,G', '53011106341004', '1.3.51.0.1.1.129.10.7.50.1376391.376421', 'm_g_feb 7_2014-EV.csv']\n",
      "['L,C', '53011106341006', '1.3.51.0.1.1.129.10.7.50.1378048.378078', 'l_c_feb 11_2014.csv']\n",
      "['S,S', '53011106341007', '1.3.51.0.1.1.129.10.7.50.1386618.386648', 's_s_mar 28_2014.csv']\n",
      "['CAR,BR', '13011101641002', '10.65.2.10.10.3.11228950', 'car_br_jul 22_2013.csv']\n",
      "['DEB,AN', '13011101641003', '10.65.2.10.10.3.11747018', 'deb_an_jan 6_2014.csv']\n",
      "['ENG,SO', '13011101641004', '10.65.2.10.10.3.11849253', 'eng_so_feb 4_2014.csv']\n",
      "['GRA,RE', '13011101391002', '13011101391002', 'gra_re_jan 4_2012.csv']\n",
      "['POI,NA', '13011101391004', '13011101391004', 'poi_na_jun 6_2012.csv']\n",
      "['DEN,BE', '13011101391005', '13011101391005', 'den_be_jun 13_2012.csv']\n",
      "['DEN,JE', '13011101091006', '2.16.56.465769650.2551326252.3234224452', 'den_je_sep 22_2011.csv']\n",
      "['HUE,MA', '13011101091023', '2.16.56.465769650.2551326252.4188955458', 'hue_ma_jun 17_2013.csv']\n",
      "['MOR,GU', '13011101481003', '2.16.56.465769650.3867004694.2712081016', 'mor_gu_jun 14_2012.csv']\n",
      "['LAU,GA', '13011101061008', '2.16.56.465769650.3867004694.4250603599', 'lau_ga_jan 4_2012.csv']\n",
      "['SAD,MA', '13011101251004', '2.16.840.1.113669.632.20.130001.10007358011', 'sad_ma_mar 28_2012.csv']\n",
      "['MAN,AN', '13011103251002', '2.16.840.1.113669.632.20.130001.10007375138', 'man_an_apr 12_2012.csv']\n",
      "['CON,LU', '13011101251027', '2.16.840.1.113669.632.20.130001.10008144132', 'con_lu_jan 28_2014.csv']\n",
      "['MEU,RE', '53011101821010', '2.16.840.1.113669.632.20.370001.10002169301', 'meu_re_jan 13_2014.csv']\n",
      "['D,C', '53011101821011', '2.16.840.1.113669.632.20.370001.10002207252', 'd_c_feb 26_2014.csv']\n",
      "['EHR,GU', '13011102161002', '2.16.840.1.113669.632.20.670001.10001248735', 'ehr_gu_oct 31_2011.csv']\n",
      "['RUB,JO', '53011101261002', '2.16.840.1.113669.632.20.670001.10001569484', 'rub_jo_aug 1_2012.csv']\n",
      "['MUL,CH', '53011101261007', '2.16.840.1.113669.632.20.670001.10001930426', 'mul_ch_may 31_2013.csv']\n",
      "['BOR,BE', '13011101051027', '7.0403141412128401136192290328311655108151389365002813', 'bor_be_jan 10_2014.csv']\n",
      "166\n"
     ]
    }
   ],
   "source": [
    "no_nifti_pet0  = []\n",
    "for liste in all_liste_pet0: \n",
    "    if len(liste) != 7 : \n",
    "        print(liste)\n",
    "        no_nifti_pet0.append(liste)\n",
    "print(len(no_nifti_pet0))\n"
   ]
  },
  {
   "cell_type": "code",
   "execution_count": 49,
   "metadata": {},
   "outputs": [],
   "source": [
    "for serie in no_nifti_pet0 : \n",
    "    all_liste_pet0.remove(serie)"
   ]
  },
  {
   "cell_type": "code",
   "execution_count": 54,
   "metadata": {},
   "outputs": [
    {
     "name": "stdout",
     "output_type": "stream",
     "text": [
      "630\n"
     ]
    }
   ],
   "source": [
    "print(len(all_liste_pet0))"
   ]
  },
  {
   "cell_type": "code",
   "execution_count": 55,
   "metadata": {},
   "outputs": [
    {
     "name": "stdout",
     "output_type": "stream",
     "text": [
      "630\n"
     ]
    }
   ],
   "source": [
    "#enlever doublon \n",
    "new_liste = []\n",
    "new_liste.append(all_liste_pet0[0])\n",
    "for i in range(1, len(all_liste_pet0)) : \n",
    "    if all_liste_pet0[i] not in new_liste : \n",
    "        new_liste.append(all_liste_pet0[i])\n",
    "print(len(new_liste))"
   ]
  },
  {
   "cell_type": "code",
   "execution_count": 56,
   "metadata": {},
   "outputs": [
    {
     "data": {
      "text/plain": [
       "['CON,DA',\n",
       " '13011101331015',\n",
       " '1.2.124.113532.10.149.172.5.20131107.93455.7725981',\n",
       " 'con_da_nov 7_2013.csv',\n",
       " '1.2.124.113532.10.149.172.5.20131107.93455.7725981_nifti_mask.nii',\n",
       " '1.2.124.113532.10.149.172.5.20131107.93455.7725981_nifti_CT.nii',\n",
       " '1.2.124.113532.10.149.172.5.20131107.93455.7725981_nifti_PT.nii']"
      ]
     },
     "execution_count": 56,
     "metadata": {},
     "output_type": "execute_result"
    }
   ],
   "source": [
    "new_liste[0]"
   ]
  },
  {
   "cell_type": "code",
   "execution_count": 63,
   "metadata": {},
   "outputs": [
    {
     "name": "stdout",
     "output_type": "stream",
     "text": [
      "578\n"
     ]
    }
   ],
   "source": [
    "ahl = []\n",
    "for uid in study_uid : \n",
    "    for serie in new_liste : \n",
    "        if uid in serie : \n",
    "            ahl.append(serie)\n",
    "            break\n",
    "print(len(ahl))"
   ]
  },
  {
   "cell_type": "code",
   "execution_count": 70,
   "metadata": {},
   "outputs": [],
   "source": [
    "sorted_serie = []\n",
    "for serie in ahl : \n",
    "    sub = []\n",
    "    sub.append(serie[0])\n",
    "    sub.append(serie[1])\n",
    "    sub.append(serie[2])\n",
    "    if 'CT' in serie[4] :\n",
    "        sub.append(serie[4])\n",
    "        if 'PT' in serie[5] :\n",
    "            sub.append(serie[5])\n",
    "            sub.append(serie[6])\n",
    "        else : \n",
    "            sub.append(serie[6])\n",
    "            sub.append(serie[5])\n",
    "\n",
    "    elif 'PT' in serie[4] :\n",
    "        if 'CT' in serie[5] :\n",
    "            sub.append(serie[5])\n",
    "            sub.append(serie[4])\n",
    "            sub.append(serie[6])\n",
    "\n",
    "        else : \n",
    "            sub.append(serie[6])\n",
    "            sub.append(serie[4])\n",
    "            sub.append(serie[5])\n",
    "    else : \n",
    "        if 'CT' in serie[5] :\n",
    "            sub.append(serie[5])\n",
    "            sub.append(serie[6])\n",
    "            sub.append(serie[4])\n",
    "        else : \n",
    "            sub.append(serie[6])\n",
    "            sub.append(serie[5])\n",
    "            sub.append(serie[4])\n",
    "    sub.append(\"pet0\")\n",
    "\n",
    "    sorted_serie.append(sub)"
   ]
  },
  {
   "cell_type": "code",
   "execution_count": 71,
   "metadata": {},
   "outputs": [
    {
     "data": {
      "text/plain": [
       "['KOU,CE',\n",
       " '53011101871016',\n",
       " '1.2.250.1.38.2.1.102.140318094230.103100257',\n",
       " '1.2.250.1.38.2.1.102.140318094230.103100257_nifti_CT.nii',\n",
       " '1.2.250.1.38.2.1.102.140318094230.103100257_nifti_PT.nii',\n",
       " '1.2.250.1.38.2.1.102.140318094230.103100257_nifti_mask.nii',\n",
       " 'pet0']"
      ]
     },
     "execution_count": 71,
     "metadata": {},
     "output_type": "execute_result"
    }
   ],
   "source": [
    "sorted_serie[50]"
   ]
  },
  {
   "cell_type": "code",
   "execution_count": 73,
   "metadata": {},
   "outputs": [],
   "source": [
    "nifti_directory = '/media/salim/DD 2To/AHL2011_NIFTI'\n",
    "\n",
    "with open(os.path.join(nifti_directory, 'AHL2011_PET0_NIFTI.csv'), 'w') as csv_file : \n",
    "    csv_writer = csv.writer(csv_file, delimiter=',', quotechar='\"', quoting=csv.QUOTE_MINIMAL)\n",
    "    csv_writer.writerow([\"PATIENT NAME\", \"PATIENT ID\", \"STUDY UID\", \"PET\", \"NIFTI_CT\", \"NIFTI_PET\", \"NIFTI_MASK\"])\n",
    "    for serie in sorted_serie: \n",
    "        csv_writer.writerow([serie[0], serie[1], serie[2], serie[6], os.path.join(nifti_directory,serie[3]), os.path.join(nifti_directory,serie[4]), os.path.join(nifti_directory,serie[5]) ])\n"
   ]
  },
  {
   "cell_type": "code",
   "execution_count": null,
   "metadata": {},
   "outputs": [],
   "source": [
    "#REUNITE CSV \n"
   ]
  },
  {
   "cell_type": "code",
   "execution_count": null,
   "metadata": {},
   "outputs": [],
   "source": []
  },
  {
   "cell_type": "code",
   "execution_count": null,
   "metadata": {},
   "outputs": [],
   "source": []
  },
  {
   "cell_type": "code",
   "execution_count": null,
   "metadata": {},
   "outputs": [],
   "source": []
  },
  {
   "cell_type": "code",
   "execution_count": 2,
   "metadata": {},
   "outputs": [],
   "source": [
    "#CREATE CSV FILE FOR NIFTI\n",
    "#PATIENT NAME  |  STUDY UID  | CT PATH  |  PET PATH  |  MASK PATH \n",
    "\n",
    "csv_pet24_path = '/media/salim/DD 2To/AHL2011_CSV_DATA/pet24.csv'\n",
    "\n",
    "with open(csv_pet24_path, 'r') as csv_file :\n",
    "    reader = csv.reader(csv_file, delimiter = ';') #liste pour chaque ligne \n",
    "    csv_data = []\n",
    "    for row in reader :\n",
    "        csv_data.append(row)\n",
    "        \n",
    "del csv_data[0] #enlever première ligne"
   ]
  },
  {
   "cell_type": "code",
   "execution_count": 3,
   "metadata": {},
   "outputs": [
    {
     "name": "stdout",
     "output_type": "stream",
     "text": [
      "1528\n",
      "2390\n"
     ]
    }
   ],
   "source": [
    "print(len(csv_data))\n",
    "\n",
    "list_nifti = os.listdir('/media/salim/DD 2To/AHL2011_NIFTI_PET24')\n",
    "\n",
    "print(len(list_nifti))"
   ]
  },
  {
   "cell_type": "code",
   "execution_count": 4,
   "metadata": {},
   "outputs": [],
   "source": [
    "#CLEAN TO WRITE THE CSV "
   ]
  },
  {
   "cell_type": "code",
   "execution_count": 4,
   "metadata": {},
   "outputs": [],
   "source": [
    "all_liste = []\n",
    "for i in range(len(csv_data)) : \n",
    "    subliste = []\n",
    "    subliste.append(csv_data[i][0])\n",
    "    patient_id = csv_data[i][1]\n",
    "    subliste.append(patient_id)\n",
    "    study_uid = csv_data[i][2]\n",
    "    subliste.append(study_uid)\n",
    "    subliste.append(csv_data[i][4])\n",
    "    for nifti in list_nifti : \n",
    "        if study_uid in nifti : \n",
    "            subliste.append(nifti)\n",
    "\n",
    "    all_liste.append(subliste)"
   ]
  },
  {
   "cell_type": "code",
   "execution_count": 5,
   "metadata": {},
   "outputs": [
    {
     "name": "stdout",
     "output_type": "stream",
     "text": [
      "['BES,LA', '13011101331006', '1.2.124.113532.10.149.172.5.20130104.83257.6993772', 'bes_la_jan 4_2013.csv', '1.2.124.113532.10.149.172.5.20130104.83257.6993772_nifti_CT.nii', '1.2.124.113532.10.149.172.5.20130104.83257.6993772_nifti_PT.nii']\n"
     ]
    }
   ],
   "source": [
    "len(all_liste)\n",
    "print(all_liste[0])"
   ]
  },
  {
   "cell_type": "code",
   "execution_count": 6,
   "metadata": {},
   "outputs": [],
   "source": [
    "#si pas de nifti, on enleve les patients (=> pas de json)\n",
    "no_nifti  = []\n",
    "for liste in all_liste : \n",
    "    if len(liste) != 6 : \n",
    "        no_nifti.append(liste)"
   ]
  },
  {
   "cell_type": "code",
   "execution_count": 7,
   "metadata": {},
   "outputs": [
    {
     "name": "stdout",
     "output_type": "stream",
     "text": [
      "249\n"
     ]
    }
   ],
   "source": [
    "print(len(no_nifti))"
   ]
  },
  {
   "cell_type": "code",
   "execution_count": 8,
   "metadata": {},
   "outputs": [],
   "source": [
    "for serie in no_nifti : \n",
    "    all_liste.remove(serie)"
   ]
  },
  {
   "cell_type": "code",
   "execution_count": 9,
   "metadata": {},
   "outputs": [
    {
     "name": "stdout",
     "output_type": "stream",
     "text": [
      "1279\n"
     ]
    }
   ],
   "source": [
    "print(len(all_liste))"
   ]
  },
  {
   "cell_type": "code",
   "execution_count": 10,
   "metadata": {},
   "outputs": [
    {
     "data": {
      "text/plain": [
       "['BES,LA',\n",
       " '13011101331006',\n",
       " '1.2.124.113532.10.149.172.5.20130104.83257.6993772',\n",
       " 'bes_la_jan 4_2013.csv',\n",
       " '1.2.124.113532.10.149.172.5.20130104.83257.6993772_nifti_CT.nii',\n",
       " '1.2.124.113532.10.149.172.5.20130104.83257.6993772_nifti_PT.nii']"
      ]
     },
     "execution_count": 10,
     "metadata": {},
     "output_type": "execute_result"
    }
   ],
   "source": [
    "all_liste[0]"
   ]
  },
  {
   "cell_type": "code",
   "execution_count": 11,
   "metadata": {},
   "outputs": [
    {
     "name": "stdout",
     "output_type": "stream",
     "text": [
      "652\n"
     ]
    }
   ],
   "source": [
    "#trier PET2 et PET4\n",
    "\n",
    "patient_id = []\n",
    "patient_id.append(all_liste[0][1])\n",
    "for i in range(1, len(all_liste)) : \n",
    "    if all_liste[i][1] not in patient_id : \n",
    "        patient_id.append(all_liste[i][1])\n",
    "\n",
    "print(len(patient_id))\n",
    "\n",
    "complete_liste = []\n",
    "\n",
    "\n",
    "for name in patient_id : \n",
    "    subliste = []\n",
    "    for serie in all_liste : \n",
    "        if name in serie : \n",
    "            subliste.append(serie)\n",
    "    complete_liste.append(subliste)"
   ]
  },
  {
   "cell_type": "code",
   "execution_count": 12,
   "metadata": {},
   "outputs": [
    {
     "data": {
      "text/plain": [
       "652"
      ]
     },
     "execution_count": 12,
     "metadata": {},
     "output_type": "execute_result"
    }
   ],
   "source": [
    "len(complete_liste)"
   ]
  },
  {
   "cell_type": "code",
   "execution_count": 108,
   "metadata": {},
   "outputs": [
    {
     "name": "stdout",
     "output_type": "stream",
     "text": [
      "['mar 26', '2013']\n",
      "['mar 26', '2013-EV']\n"
     ]
    },
    {
     "ename": "ValueError",
     "evalue": "substring not found",
     "output_type": "error",
     "traceback": [
      "\u001b[0;31m---------------------------------------------------------------------------\u001b[0m",
      "\u001b[0;31mValueError\u001b[0m                                Traceback (most recent call last)",
      "\u001b[0;32m<ipython-input-108-a332e577da07>\u001b[0m in \u001b[0;36m<module>\u001b[0;34m\u001b[0m\n\u001b[1;32m      8\u001b[0m \u001b[0mdate_2\u001b[0m \u001b[0;34m=\u001b[0m \u001b[0;34m(\u001b[0m\u001b[0;34m' '\u001b[0m\u001b[0;34m.\u001b[0m\u001b[0mjoin\u001b[0m\u001b[0;34m(\u001b[0m\u001b[0mdate_2\u001b[0m\u001b[0;34m)\u001b[0m\u001b[0;34m)\u001b[0m\u001b[0;34m\u001b[0m\u001b[0;34m\u001b[0m\u001b[0m\n\u001b[1;32m      9\u001b[0m \u001b[0;32mif\u001b[0m \u001b[0;34m'-'\u001b[0m \u001b[0;32min\u001b[0m \u001b[0mdate_1\u001b[0m \u001b[0;32mor\u001b[0m \u001b[0;34m'-'\u001b[0m \u001b[0;32min\u001b[0m \u001b[0mdate_2\u001b[0m \u001b[0;34m:\u001b[0m\u001b[0;34m\u001b[0m\u001b[0;34m\u001b[0m\u001b[0m\n\u001b[0;32m---> 10\u001b[0;31m     \u001b[0mdate_1\u001b[0m \u001b[0;34m=\u001b[0m \u001b[0mdate_1\u001b[0m\u001b[0;34m[\u001b[0m\u001b[0;36m0\u001b[0m \u001b[0;34m:\u001b[0m \u001b[0mdate_1\u001b[0m\u001b[0;34m.\u001b[0m\u001b[0mindex\u001b[0m\u001b[0;34m(\u001b[0m\u001b[0;34m'-'\u001b[0m\u001b[0;34m)\u001b[0m\u001b[0;34m]\u001b[0m\u001b[0;34m\u001b[0m\u001b[0;34m\u001b[0m\u001b[0m\n\u001b[0m\u001b[1;32m     11\u001b[0m     \u001b[0mdate_2\u001b[0m \u001b[0;34m=\u001b[0m \u001b[0mdate_2\u001b[0m\u001b[0;34m[\u001b[0m\u001b[0;36m0\u001b[0m \u001b[0;34m:\u001b[0m \u001b[0mdate_2\u001b[0m\u001b[0;34m.\u001b[0m\u001b[0mindex\u001b[0m\u001b[0;34m(\u001b[0m\u001b[0;34m'-'\u001b[0m\u001b[0;34m)\u001b[0m\u001b[0;34m]\u001b[0m\u001b[0;34m\u001b[0m\u001b[0;34m\u001b[0m\u001b[0m\n\u001b[1;32m     12\u001b[0m \u001b[0mprint\u001b[0m\u001b[0;34m(\u001b[0m\u001b[0mdate_1\u001b[0m\u001b[0;34m)\u001b[0m\u001b[0;34m\u001b[0m\u001b[0;34m\u001b[0m\u001b[0m\n",
      "\u001b[0;31mValueError\u001b[0m: substring not found"
     ]
    }
   ],
   "source": [
    "from datetime import datetime, timedelta\n",
    "\n",
    "date_1 = complete_liste[247][0][3].split('.')[0].split('_')[2:4]\n",
    "date_2 = complete_liste[247][1][3].split('.')[0].split('_')[2:4]\n",
    "print(date_1)\n",
    "print(date_2)\n",
    "date_1 = (' '.join(date_1))\n",
    "date_2 = (' '.join(date_2))\n",
    "if '-' in date_1 or '-' in date_2 : \n",
    "    date_1 = date_1[0 : date_1.index('-')]\n",
    "    date_2 = date_2[0 : date_2.index('-')]\n",
    "print(date_1)\n",
    "print(date_2)\n",
    "\n",
    "date_1 = datetime.strptime(date_1, \"%b %d %Y\")\n",
    "date_2 = datetime.strptime(date_2, \"%b %d %Y\")\n",
    "\n",
    "print(date_1)\n",
    "print(date_2)\n",
    "\n",
    "print(date_1 < date_2)\n",
    "delta = date_1 < date_2\n",
    "if (delta== True) : \n",
    "    print(\"ok\")\n",
    "    "
   ]
  },
  {
   "cell_type": "code",
   "execution_count": 14,
   "metadata": {},
   "outputs": [],
   "source": [
    "from datetime import datetime, timedelta\n",
    "pet_2 = []\n",
    "pet_4 = []\n",
    "\n",
    "for liste in complete_liste : \n",
    "    #print(complete_liste.index(liste))\n",
    "    if len(liste) == 2 :\n",
    "        date_1 = liste[0][3].split('.')[0].split('_')[2:4]\n",
    "        date_2 = liste[1][3].split('.')[0].split('_')[2:4]\n",
    "        date_1 = (' '.join(date_1))\n",
    "        date_2 = (' '.join(date_2))\n",
    "        if '-' in date_1 : \n",
    "            date_1 = date_1[0 : date_1.index('-')]\n",
    "        if '-' in date_2 : \n",
    "            date_2 = date_2[0 : date_2.index('-')]\n",
    "        date_1 = datetime.strptime(date_1, \"%b %d %Y\")\n",
    "        date_2 = datetime.strptime(date_2, \"%b %d %Y\")\n",
    "        delta = date_1 < date_2\n",
    "        if (delta== True) : \n",
    "        #la premiere liste est la pet2\n",
    "            pet_2.append(liste[0])\n",
    "            pet_4.append(liste[1])\n",
    "        else : \n",
    "            pet_2.append(liste[1])\n",
    "            pet_4.append(liste[0])\n",
    "\n",
    "\n",
    "\n",
    "    else : \n",
    "        pet_2.append(liste[0])"
   ]
  },
  {
   "cell_type": "code",
   "execution_count": 15,
   "metadata": {},
   "outputs": [
    {
     "name": "stdout",
     "output_type": "stream",
     "text": [
      "652\n",
      "525\n"
     ]
    }
   ],
   "source": [
    "print(len(pet_2))\n",
    "print(len(pet_4))"
   ]
  },
  {
   "cell_type": "code",
   "execution_count": 16,
   "metadata": {},
   "outputs": [
    {
     "name": "stdout",
     "output_type": "stream",
     "text": [
      "['BES,LA', '13011101331006', '1.2.124.113532.10.149.172.5.20130104.83257.6993772', 'bes_la_jan 4_2013.csv', '1.2.124.113532.10.149.172.5.20130104.83257.6993772_nifti_CT.nii', '1.2.124.113532.10.149.172.5.20130104.83257.6993772_nifti_PT.nii']\n",
      "['BES,LA', '13011101331006', '1.2.124.113532.10.149.172.5.20130213.83635.7098207', 'bes_la_feb 13_2013.csv', '1.2.124.113532.10.149.172.5.20130213.83635.7098207_nifti_PT.nii', '1.2.124.113532.10.149.172.5.20130213.83635.7098207_nifti_CT.nii']\n"
     ]
    }
   ],
   "source": [
    "print(pet_2[0])\n",
    "print(pet_4[0])"
   ]
  },
  {
   "cell_type": "code",
   "execution_count": 20,
   "metadata": {},
   "outputs": [
    {
     "name": "stdout",
     "output_type": "stream",
     "text": [
      "652\n"
     ]
    }
   ],
   "source": [
    "sorted_pet_2 = []\n",
    "for serie in pet_2 : \n",
    "    sub = []\n",
    "    sub.append(serie[0])\n",
    "    sub.append(serie[1])\n",
    "    sub.append(serie[2])\n",
    "    if 'CT' in serie[4] :\n",
    "        sub.append(serie[4])\n",
    "        sub.append(serie[5])\n",
    "\n",
    "    else : \n",
    "        sub.append(serie[5])\n",
    "        sub.append(serie[4])\n",
    "\n",
    "    #sorted_serie = sorted(serie)\n",
    "    sub.append(\"pet2\")\n",
    "    sorted_pet_2.append(sub)\n",
    "\n",
    "print(len(sorted_pet_2))\n"
   ]
  },
  {
   "cell_type": "code",
   "execution_count": 21,
   "metadata": {},
   "outputs": [
    {
     "name": "stdout",
     "output_type": "stream",
     "text": [
      "525\n"
     ]
    }
   ],
   "source": [
    "sorted_pet_4 = []\n",
    "for serie in pet_4 :\n",
    "    sub = []\n",
    "    sub.append(serie[0])\n",
    "    sub.append(serie[1])\n",
    "    sub.append(serie[2])\n",
    "    if 'CT' in serie[4] :\n",
    "        sub.append(serie[4])\n",
    "        sub.append(serie[5])\n",
    "\n",
    "    else : \n",
    "        sub.append(serie[5])\n",
    "        sub.append(serie[4])\n",
    "\n",
    "    #sorted_serie = sorted(serie)\n",
    "    sub.append(\"pet4\")\n",
    "    sorted_pet_4.append(sub)\n",
    "\n",
    "print(len(sorted_pet_4))"
   ]
  },
  {
   "cell_type": "code",
   "execution_count": 22,
   "metadata": {},
   "outputs": [
    {
     "name": "stdout",
     "output_type": "stream",
     "text": [
      "['BES,LA', '13011101331006', '1.2.124.113532.10.149.172.5.20130104.83257.6993772', '1.2.124.113532.10.149.172.5.20130104.83257.6993772_nifti_CT.nii', '1.2.124.113532.10.149.172.5.20130104.83257.6993772_nifti_PT.nii', 'pet2']\n",
      "['BES,LA', '13011101331006', '1.2.124.113532.10.149.172.5.20130213.83635.7098207', '1.2.124.113532.10.149.172.5.20130213.83635.7098207_nifti_CT.nii', '1.2.124.113532.10.149.172.5.20130213.83635.7098207_nifti_PT.nii', 'pet4']\n"
     ]
    }
   ],
   "source": [
    "print(sorted_pet_2[0])\n",
    "print(sorted_pet_4[0])"
   ]
  },
  {
   "cell_type": "code",
   "execution_count": 141,
   "metadata": {},
   "outputs": [],
   "source": [
    "#print(len(new_liste))"
   ]
  },
  {
   "cell_type": "code",
   "execution_count": 11,
   "metadata": {},
   "outputs": [
    {
     "name": "stdout",
     "output_type": "stream",
     "text": [
      "578\n"
     ]
    }
   ],
   "source": [
    "#TRIER LA LISTE POUR ENSUITE ECRIRE LE CSV\n",
    "#sorted_serie = []\n",
    "#for serie in new_liste : \n",
    "    #sorted_serie.append(sorted(serie))\n",
    "#print(len(sorted_serie))\n"
   ]
  },
  {
   "cell_type": "code",
   "execution_count": 23,
   "metadata": {},
   "outputs": [
    {
     "name": "stdout",
     "output_type": "stream",
     "text": [
      "['BES,LA', '13011101331006', '1.2.124.113532.10.149.172.5.20130104.83257.6993772', '1.2.124.113532.10.149.172.5.20130104.83257.6993772_nifti_CT.nii', '1.2.124.113532.10.149.172.5.20130104.83257.6993772_nifti_PT.nii', 'pet2']\n",
      "['MOR,GU', '13011101481003', '2.16.56.465769650.3867004694.402311097', '2.16.56.465769650.3867004694.402311097_nifti_CT.nii', '2.16.56.465769650.3867004694.402311097_nifti_PT.nii', 'pet2']\n"
     ]
    }
   ],
   "source": [
    "print(sorted_pet_2[0])\n",
    "print(sorted_pet_2[79])"
   ]
  },
  {
   "cell_type": "code",
   "execution_count": 25,
   "metadata": {},
   "outputs": [],
   "source": [
    "#ECRIRE CSV \n",
    "\n",
    "nifti_directory = '/media/salim/DD 2To/AHL2011_NIFTI_PET24'\n",
    "\n",
    "with open(os.path.join(nifti_directory, 'AHL2011_PET24_NIFTI.csv'), 'w') as csv_file : \n",
    "    csv_writer = csv.writer(csv_file, delimiter=',', quotechar='\"', quoting=csv.QUOTE_MINIMAL)\n",
    "    csv_writer.writerow([\"PATIENT NAME\", \"PATIENT ID\", \"STUDY UID\", \"PET\", \"NIFTI_CT\", \"NIFTI_PET\", \"NIFTI_MASK\"])\n",
    "    for serie in sorted_pet_2: \n",
    "        csv_writer.writerow([serie[0], serie[1], serie[2], serie[5], os.path.join(nifti_directory,serie[3]), os.path.join(nifti_directory,serie[4]), ' '])\n",
    "\n",
    "    for serie in sorted_pet_4: \n",
    "        csv_writer.writerow([serie[0], serie[1], serie[2], serie[5], os.path.join(nifti_directory,serie[3]), os.path.join(nifti_directory,serie[4]), ' '])\n"
   ]
  },
  {
   "cell_type": "code",
   "execution_count": 2,
   "metadata": {},
   "outputs": [],
   "source": [
    "#REUNITE CSV \n",
    "\n",
    "csv_pet0 = '/media/storage/AHL2011_NIFTI/AHL2011_PET0_NIFTI.csv'\n",
    "\n",
    "with open(csv_pet0, 'r') as csv_file :\n",
    "    reader = csv.reader(csv_file, delimiter = ',') #liste pour chaque ligne \n",
    "    csv_data_pet0 = []\n",
    "    for row in reader :\n",
    "        csv_data_pet0.append(row)\n",
    "        \n",
    "del csv_data_pet0[0] #enlever première ligne"
   ]
  },
  {
   "cell_type": "code",
   "execution_count": 3,
   "metadata": {},
   "outputs": [],
   "source": [
    "for serie in csv_data_pet0 : \n",
    "    ct = serie[4].split('/')[4:]\n",
    "    ct = '/'.join(ct)\n",
    "    pt = serie[5].split('/')[4:]\n",
    "    pt = '/'.join(pt)\n",
    "    mask = serie[6].split('/')[4:]\n",
    "    mask = '/'.join(mask)\n",
    "    \n",
    "    serie[4] = ct\n",
    "    serie[5] = pt\n",
    "    serie[6] = mask "
   ]
  },
  {
   "cell_type": "code",
   "execution_count": 4,
   "metadata": {},
   "outputs": [
    {
     "data": {
      "text/plain": [
       "578"
      ]
     },
     "execution_count": 4,
     "metadata": {},
     "output_type": "execute_result"
    }
   ],
   "source": [
    "len(csv_data_pet0)"
   ]
  },
  {
   "cell_type": "code",
   "execution_count": 9,
   "metadata": {},
   "outputs": [
    {
     "data": {
      "text/plain": [
       "['CON,DA',\n",
       " '13011101331015',\n",
       " '1.2.124.113532.10.149.172.5.20131107.93455.7725981',\n",
       " 'pet0',\n",
       " 'AHL2011_NIFTI/1.2.124.113532.10.149.172.5.20131107.93455.7725981_nifti_CT.nii',\n",
       " 'AHL2011_NIFTI/1.2.124.113532.10.149.172.5.20131107.93455.7725981_nifti_PT.nii',\n",
       " 'AHL2011_NIFTI/1.2.124.113532.10.149.172.5.20131107.93455.7725981_nifti_mask.nii']"
      ]
     },
     "execution_count": 9,
     "metadata": {},
     "output_type": "execute_result"
    }
   ],
   "source": [
    "csv_data_pet0[0]"
   ]
  },
  {
   "cell_type": "code",
   "execution_count": 5,
   "metadata": {},
   "outputs": [],
   "source": [
    "csv_pet24= '/media/storage/AHL2011_NIFTI_PET24/AHL2011_PET24_NIFTI.csv'\n",
    "\n",
    "with open(csv_pet24, 'r') as csv_file :\n",
    "    reader = csv.reader(csv_file, delimiter = ',') #liste pour chaque ligne \n",
    "    csv_data_pet24 = []\n",
    "    for row in reader :\n",
    "        csv_data_pet24.append(row)\n",
    "        \n",
    "del csv_data_pet24[0] #enlever première ligne"
   ]
  },
  {
   "cell_type": "code",
   "execution_count": 6,
   "metadata": {},
   "outputs": [],
   "source": [
    "for serie in csv_data_pet24 : \n",
    "    ct = serie[4].split('/')[4:]\n",
    "    ct = '/'.join(ct)\n",
    "    pt = serie[5].split('/')[4:]\n",
    "    pt = '/'.join(pt)\n",
    "    mask = serie[6].split('/')[4:]\n",
    "    mask = '/'.join(mask)\n",
    "    \n",
    "    serie[4] = ct\n",
    "    serie[5] = pt\n",
    "    serie[6] = mask "
   ]
  },
  {
   "cell_type": "code",
   "execution_count": 7,
   "metadata": {},
   "outputs": [
    {
     "data": {
      "text/plain": [
       "1177"
      ]
     },
     "execution_count": 7,
     "metadata": {},
     "output_type": "execute_result"
    }
   ],
   "source": [
    "len(csv_data_pet24)"
   ]
  },
  {
   "cell_type": "code",
   "execution_count": 10,
   "metadata": {},
   "outputs": [
    {
     "data": {
      "text/plain": [
       "['BES,LA',\n",
       " '13011101331006',\n",
       " '1.2.124.113532.10.149.172.5.20130104.83257.6993772',\n",
       " 'pet2',\n",
       " 'AHL2011_NIFTI_PET24/1.2.124.113532.10.149.172.5.20130104.83257.6993772_nifti_CT.nii',\n",
       " 'AHL2011_NIFTI_PET24/1.2.124.113532.10.149.172.5.20130104.83257.6993772_nifti_PT.nii',\n",
       " '']"
      ]
     },
     "execution_count": 10,
     "metadata": {},
     "output_type": "execute_result"
    }
   ],
   "source": [
    "csv_data_pet24[0]"
   ]
  },
  {
   "cell_type": "code",
   "execution_count": 11,
   "metadata": {},
   "outputs": [],
   "source": [
    "nifti_directory_pet0 = '/media/storage'\n",
    "nifti_directory_pet24 = '/media/storage'\n",
    "\n",
    "with open(os.path.join('/media/storage', 'AHL2011_NIFTI.csv'), 'w') as csv_file : \n",
    "    csv_writer = csv.writer(csv_file, delimiter=',', quotechar='\"', quoting=csv.QUOTE_MINIMAL)\n",
    "    csv_writer.writerow([\"PATIENT NAME\", \"PATIENT ID\", \"STUDY UID\", \"PET\", \"NIFTI_CT\", \"NIFTI_PET\", \"NIFTI_MASK\"])\n",
    "    for serie in csv_data_pet0: \n",
    "        csv_writer.writerow([serie[0], serie[1], serie[2], serie[3], os.path.join(nifti_directory_pet0,serie[4]), os.path.join(nifti_directory_pet0,serie[5]), os.path.join(nifti_directory_pet0,serie[6])])\n",
    "\n",
    "    for serie in csv_data_pet24: \n",
    "        csv_writer.writerow([serie[0], serie[1], serie[2], serie[3], os.path.join(nifti_directory_pet24,serie[4]), os.path.join(nifti_directory_pet24,serie[5]), ' '])"
   ]
  },
  {
   "cell_type": "code",
   "execution_count": null,
   "metadata": {},
   "outputs": [],
   "source": []
  },
  {
   "cell_type": "code",
   "execution_count": null,
   "metadata": {},
   "outputs": [],
   "source": []
  }
 ],
 "metadata": {
  "file_extension": ".py",
  "kernelspec": {
   "display_name": "Python 3.8.2 64-bit",
   "language": "python",
   "name": "python38264bit741c38d3bcec48dc835c8ad5f1161b3f"
  },
  "language_info": {
   "codemirror_mode": {
    "name": "ipython",
    "version": 3
   },
   "file_extension": ".py",
   "mimetype": "text/x-python",
   "name": "python",
   "nbconvert_exporter": "python",
   "pygments_lexer": "ipython3",
   "version": "3.8.2"
  },
  "mimetype": "text/x-python",
  "name": "python",
  "npconvert_exporter": "python",
  "pygments_lexer": "ipython3",
  "version": 3
 },
 "nbformat": 4,
 "nbformat_minor": 2
}
