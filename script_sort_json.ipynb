{
 "nbformat": 4,
 "nbformat_minor": 2,
 "metadata": {
  "language_info": {
   "name": "python",
   "codemirror_mode": {
    "name": "ipython",
    "version": 2
   },
   "version": "3.8.5-final"
  },
  "orig_nbformat": 2,
  "file_extension": ".py",
  "mimetype": "text/x-python",
  "name": "python",
  "npconvert_exporter": "python",
  "pygments_lexer": "ipython2",
  "version": 2,
  "kernelspec": {
   "name": "python38564bit9a8409779cd04c3cbd0c5f1e859a644e",
   "display_name": "Python 3.8.5 64-bit"
  }
 },
 "cells": [
  {
   "cell_type": "code",
   "execution_count": 87,
   "metadata": {},
   "outputs": [],
   "source": [
    "import json\n",
    "import os\n",
    "import pprint\n",
    "import shutil\n",
    "from collections import defaultdict, Counter\n",
    "from library_dicom.dicom_processor.tools.folders import write_json_file\n",
    "from library_dicom.dicom_processor.tools.cleaning_series import *"
   ]
  },
  {
   "source": [
    "liste_json = os.listdir('/home/deeplearning/AHL/json_v2')\n",
    "merged_content = generate_merged_file('/home/deeplearning/AHL/json_v2')\n",
    "write_json_file('/home/deeplearning/AHL/json_v2', 'merged_files', merged_content)"
   ],
   "cell_type": "code",
   "metadata": {},
   "execution_count": 102,
   "outputs": []
  },
  {
   "cell_type": "code",
   "execution_count": null,
   "metadata": {},
   "outputs": [],
   "source": [
    "#CHECK Non_interesting_series and delete series_json in list of json , and recreate merged_file"
   ]
  },
  {
   "cell_type": "code",
   "execution_count": 90,
   "metadata": {},
   "outputs": [
    {
     "output_type": "stream",
     "name": "stdout",
     "text": [
      "0\n"
     ]
    }
   ],
   "source": [
    "non_interesting_series  = find_non_intersting_series('/home/deeplearning/AHL/json_v2/merged_files.json')\n",
    "print(len(non_interesting_series))"
   ]
  },
  {
   "cell_type": "code",
   "execution_count": 22,
   "metadata": {
    "tags": []
   },
   "outputs": [],
   "source": [
    "non_interest = []\n",
    "for path in non_interesting_series:\n",
    "    non_interest.append(uid)"
   ]
  },
  {
   "cell_type": "code",
   "execution_count": 24,
   "metadata": {},
   "outputs": [],
   "source": [
    "remove_ = []\n",
    "for uid in non_interest : \n",
    "    for json_file in liste_json : \n",
    "        try : \n",
    "            uid_json = json_file[:-5]\n",
    "            if uid == uid_json : \n",
    "                remove_.append(json_file)\n",
    "                break\n",
    "        except Exception as err : \n",
    "            pass\n"
   ]
  },
  {
   "cell_type": "code",
   "execution_count": 27,
   "metadata": {
    "tags": []
   },
   "outputs": [],
   "source": [
    "for remove_file in remove_ : \n",
    "    os.remove(os.path.join('/home/deeplearning/AHL/JSON', remove_file))"
   ]
  },
  {
   "cell_type": "code",
   "execution_count": null,
   "metadata": {},
   "outputs": [],
   "source": []
  },
  {
   "cell_type": "code",
   "execution_count": 103,
   "metadata": {},
   "outputs": [
    {
     "output_type": "stream",
     "name": "stdout",
     "text": [
      "92\n"
     ]
    }
   ],
   "source": [
    "series_ready = find_studies_with_two_series(\"/home/deeplearning/AHL/json_v2/merged_files.json\")\n",
    "print(len(series_ready))"
   ]
  },
  {
   "source": [
    "studies_over_two_series, paths = find_studies_over_two_series('/home/deeplearning/AHL/json_v2/merged_files.json')\n",
    "print(len(studies_over_two_series))\n",
    "#print(Counter(studies_over_two_series))"
   ],
   "cell_type": "code",
   "metadata": {
    "tags": []
   },
   "execution_count": 104,
   "outputs": [
    {
     "output_type": "stream",
     "name": "stdout",
     "text": [
      "675\n"
     ]
    }
   ]
  },
  {
   "source": [
    "for non_interisting in non_interesting_series:\n",
    "    try : \n",
    "        shutil.rmtree(non_interisting)\n",
    "    except Exception as err : \n",
    "        print(err)"
   ],
   "cell_type": "markdown",
   "metadata": {}
  },
  {
   "cell_type": "code",
   "execution_count": null,
   "metadata": {},
   "outputs": [],
   "source": []
  },
  {
   "source": [
    "#copy studies with more than 2 series to check \n",
    "export_folder = '/home/deeplearning/AHL/check_serie'\n",
    "cpt = []\n",
    "for path in paths : \n",
    "    try : \n",
    "        dest = '/'.join(path.split('/')[7:])\n",
    "        #print(dest)\n",
    "        destination = export_folder+'/'+dest\n",
    "        if 'AHLGroupe' in dest : \n",
    "            new = \"/\".join(dest.split('/')[2:])\n",
    "            #print(new)\n",
    "            destination = export_folder+'/'+new\n",
    "        #print(destination)\n",
    "\n",
    "\n",
    "        shutil.copytree(path, destination)\n",
    "    except Exception as err : \n",
    "        print(err)"
   ],
   "cell_type": "code",
   "metadata": {
    "tags": []
   },
   "execution_count": 86,
   "outputs": []
  },
  {
   "source": [
    "import shutil \n",
    "root_destination = \"/home/deeplearning/AHL/AHL_Validated_DICOM\"\n",
    "for seriesID in series_ready : \n",
    "    try : \n",
    "        source_path = series_ready[seriesID]['path']\n",
    "        parentPatientID = series_ready[seriesID]['parentPatientID']\n",
    "        parentStudyUID = series_ready[seriesID]['parentStudyUID']\n",
    "        \n",
    "        #type_ = source_path.split('/')[6]\n",
    "        #print(source_path)\n",
    "        if 'PET0' in source_path : \n",
    "            type_ = 'pet0'\n",
    "\n",
    "        elif 'PET2' in source_path : \n",
    "            type_ = 'pet2'\n",
    "\n",
    "        elif 'PET4' in source_path : \n",
    "            type_ = 'pet4'\n",
    "        \n",
    "        #print(type_)\n",
    "        destination = root_destination+\"/\"+parentPatientID+\"/\"+type_+\"/\"+seriesID\n",
    "        print(destination)\n",
    "        os.makedirs(destination, exist_ok=True)\n",
    "        #copy and not move \n",
    "        #shutil.copytree(source_path, destination)\n",
    "        shutil.move(source_path, destination)\n",
    "    except Exception as err : \n",
    "        print(err)"
   ],
   "cell_type": "code",
   "metadata": {
    "tags": []
   },
   "execution_count": 105,
   "outputs": [
    {
     "output_type": "stream",
     "name": "stdout",
     "text": [
      "/home/deeplearning/AHL/AHL_Validated_DICOM/53011101811007/pet0/1.3.12.2.1107.5.1.4.44861.30000013122407394332800003294\n/home/deeplearning/AHL/AHL_Validated_DICOM/53011101811007/pet0/1.3.12.2.1107.5.1.4.44861.30000013122409073609300005057\n/home/deeplearning/AHL/AHL_Validated_DICOM/13011101251025/pet0/1.3.12.2.1107.5.1.4.11061.30000013061908042143700005650\n/home/deeplearning/AHL/AHL_Validated_DICOM/13011101251025/pet0/1.3.12.2.1107.5.1.4.11061.30000013061908053923400008743\n/home/deeplearning/AHL/AHL_Validated_DICOM/13011102611001/pet0/1.2.840.113704.1.111.2488.1356525948.11\n/home/deeplearning/AHL/AHL_Validated_DICOM/13011102611001/pet0/1.3.46.670589.28.2.12.4.9177.6647.2.1560.0.1356531348\n/home/deeplearning/AHL/AHL_Validated_DICOM/13011106211001/pet0/1.2.840.113619.2.131.163581902.1358512997.885171\n/home/deeplearning/AHL/AHL_Validated_DICOM/13011106211001/pet0/1.2.840.113619.2.55.3.163581902.934.1358434887.970.3\n/home/deeplearning/AHL/AHL_Validated_DICOM/53011101811001/pet0/1.3.12.2.1107.5.1.4.44861.30000013012907385685900003418\n/home/deeplearning/AHL/AHL_Validated_DICOM/53011101811001/pet0/1.3.12.2.1107.5.1.4.44861.30000013012909063529600009027\n/home/deeplearning/AHL/AHL_Validated_DICOM/13011102601002/pet0/1.3.46.670589.28.2.12.4.9156.52312.2.1460.0.1379684385\n/home/deeplearning/AHL/AHL_Validated_DICOM/13011102601002/pet0/1.2.840.113704.1.111.2420.1379677600.11\n/home/deeplearning/AHL/AHL_Validated_DICOM/13011101641004/pet0/1.3.46.670589.28.2.12.21.6000.58488.2.2464.0.1391503487\n/home/deeplearning/AHL/AHL_Validated_DICOM/13011101641004/pet0/1.2.840.113704.1.111.1472.1391502020.11\n/home/deeplearning/AHL/AHL_Validated_DICOM/13011107211003/pet0/1.2.840.113619.2.55.3.163581902.439.1379076124.385.3\n/home/deeplearning/AHL/AHL_Validated_DICOM/13011107211003/pet0/1.2.840.113619.2.131.163581902.1379076406.661196\n/home/deeplearning/AHL/AHL_Validated_DICOM/13011101641002/pet0/1.2.840.113704.1.111.10212.1374497531.18\n/home/deeplearning/AHL/AHL_Validated_DICOM/13011101641002/pet0/1.3.46.670589.28.2.12.21.5993.57592.2.428.0.1374499101\n/home/deeplearning/AHL/AHL_Validated_DICOM/13011106211002/pet0/1.2.840.113619.2.131.163581902.1360241305.623414\n/home/deeplearning/AHL/AHL_Validated_DICOM/13011106211002/pet0/1.2.840.113619.2.55.3.163581902.421.1360216946.210.3\n/home/deeplearning/AHL/AHL_Validated_DICOM/13011107211002/pet0/1.2.840.113619.2.55.3.163581902.770.1371013244.869.3\n/home/deeplearning/AHL/AHL_Validated_DICOM/13011107211002/pet0/1.2.840.113619.2.131.163581902.1371027365.887839\n/home/deeplearning/AHL/AHL_Validated_DICOM/13011101101008/pet2/1.3.46.670589.28.2.12.30.26421.36053.2.5452.0.1398152017\n/home/deeplearning/AHL/AHL_Validated_DICOM/13011101101008/pet2/1.2.840.113704.1.111.8100.1398150485.8\n/home/deeplearning/AHL/AHL_Validated_DICOM/53011101811006/pet0/1.3.12.2.1107.5.1.4.44861.30000013100908071631200012036\n/home/deeplearning/AHL/AHL_Validated_DICOM/53011101811006/pet0/1.3.12.2.1107.5.1.4.44861.30000013100906422870300004658\n/home/deeplearning/AHL/AHL_Validated_DICOM/13011101641003/pet0/1.2.840.113704.1.111.3300.1389008584.11\n/home/deeplearning/AHL/AHL_Validated_DICOM/13011101641003/pet0/1.3.46.670589.28.2.12.30.26387.32401.2.2528.0.1389010037\n/home/deeplearning/AHL/AHL_Validated_DICOM/53011101811009/pet0/1.3.12.2.1107.5.1.4.44861.30000014031107263959300000558\n/home/deeplearning/AHL/AHL_Validated_DICOM/53011101811009/pet0/1.3.12.2.1107.5.1.4.44861.30000014031109015287500001724\n/home/deeplearning/AHL/AHL_Validated_DICOM/13011106211003/pet0/1.2.840.113619.2.131.163581902.1368453353.258948\n/home/deeplearning/AHL/AHL_Validated_DICOM/13011106211003/pet0/1.2.840.113619.2.55.3.163581902.245.1368421564.456.3\n/home/deeplearning/AHL/AHL_Validated_DICOM/53011101841001/pet0/1.3.12.2.1107.5.1.4.1007.30000012022408402554600005306\n/home/deeplearning/AHL/AHL_Validated_DICOM/53011101841001/pet0/1.3.12.2.1107.5.1.4.1007.30000012022408404557800020369\n/home/deeplearning/AHL/AHL_Validated_DICOM/53011101401007/pet0/1.3.46.670589.28.2.12.30.26377.35752.2.2840.0.1370434939\n/home/deeplearning/AHL/AHL_Validated_DICOM/53011101401007/pet0/1.2.840.113704.1.111.1636.1370433388.13\n/home/deeplearning/AHL/AHL_Validated_DICOM/13011101611003/pet0/1.2.840.113704.1.111.7288.1373550963.11\n/home/deeplearning/AHL/AHL_Validated_DICOM/13011101611003/pet0/1.3.46.670589.28.2.12.4.9172.4427.2.508.0.1373552755\n/home/deeplearning/AHL/AHL_Validated_DICOM/13011104301001/pet0/1.2.840.113619.2.144.40453598.21091.1378791273.580\n/home/deeplearning/AHL/AHL_Validated_DICOM/13011104301001/pet0/1.2.840.113619.2.144.40453598.21091.1378791275.324\n/home/deeplearning/AHL/AHL_Validated_DICOM/53011106341003/pet0/1.2.840.113619.2.248.114374074502585.13721.1390913737356.409\n/home/deeplearning/AHL/AHL_Validated_DICOM/53011106341003/pet0/1.2.840.113619.2.248.114374074502585.13721.1390913740629.1505\n/home/deeplearning/AHL/AHL_Validated_DICOM/13011101171002/pet2/1.2.840.113619.2.55.3.34213890.483.1332226499.568\n/home/deeplearning/AHL/AHL_Validated_DICOM/13011101171002/pet2/1.2.840.113619.2.55.3.34213890.483.1332226499.230.3\n/home/deeplearning/AHL/AHL_Validated_DICOM/13011106211004/pet0/1.2.840.113619.2.131.163581902.1376292897.997687\n/home/deeplearning/AHL/AHL_Validated_DICOM/13011106211004/pet0/1.2.840.113619.2.55.3.163581902.812.1376284272.471.3\n/home/deeplearning/AHL/AHL_Validated_DICOM/13011103251001/pet0/1.2.840.113619.2.55.1.1762937435.2234.1326982650.528\n/home/deeplearning/AHL/AHL_Validated_DICOM/13011103251001/pet0/1.2.840.113619.2.131.444444.1326997959.627175\n/home/deeplearning/AHL/AHL_Validated_DICOM/53011101871015/pet0/1.3.12.2.1107.5.1.4.41145.4.0.739399949082153\n/home/deeplearning/AHL/AHL_Validated_DICOM/53011101871015/pet0/1.3.12.2.1107.5.99.1.123456.2.0.15709579130482\n/home/deeplearning/AHL/AHL_Validated_DICOM/13011107211001/pet0/1.2.840.113619.2.131.163581902.1368784917.139638\n/home/deeplearning/AHL/AHL_Validated_DICOM/13011107211001/pet0/1.2.840.113619.2.55.3.163581902.211.1368767824.134.3\n/home/deeplearning/AHL/AHL_Validated_DICOM/53011101401009/pet0/1.2.840.113704.1.111.4536.1393587001.8\n/home/deeplearning/AHL/AHL_Validated_DICOM/53011101401009/pet0/1.3.46.670589.28.2.12.30.26378.9208.2.3596.0.1393635666\n/home/deeplearning/AHL/AHL_Validated_DICOM/13011101171001/pet2/1.2.840.113619.2.55.3.34213890.152.1310449706.244\n/home/deeplearning/AHL/AHL_Validated_DICOM/13011101171001/pet2/1.2.840.113619.2.55.3.34213890.152.1310449705.906.3\n/home/deeplearning/AHL/AHL_Validated_DICOM/13011101171004/pet2/1.2.840.113619.2.55.3.34213890.810.1370581735.605.3\n/home/deeplearning/AHL/AHL_Validated_DICOM/13011101171004/pet2/1.2.840.113619.2.55.3.34213890.810.1370581735.907\n/home/deeplearning/AHL/AHL_Validated_DICOM/53011101851006/pet0/1.2.840.113704.1.111.2748.1362488527.9\n/home/deeplearning/AHL/AHL_Validated_DICOM/53011101851006/pet0/1.3.46.670589.28.2.12.30.26377.34416.2.2148.0.1362576303\n/home/deeplearning/AHL/AHL_Validated_DICOM/53011102881001/pet0/1.2.840.113619.2.55.3.279720898.871.1361254276.159.3\n/home/deeplearning/AHL/AHL_Validated_DICOM/53011102881001/pet0/1.2.840.113619.2.131.279720898.1361265071.218036\n/home/deeplearning/AHL/AHL_Validated_DICOM/13011106211006/pet0/1.2.840.113619.2.55.3.163581902.854.1385445628.839.3\n/home/deeplearning/AHL/AHL_Validated_DICOM/13011106211006/pet0/1.2.840.113619.2.131.163581902.1385478615.154740\n/home/deeplearning/AHL/AHL_Validated_DICOM/13011101171005/pet2/1.2.840.113619.2.55.3.34213890.450.1379051766.157.3\n/home/deeplearning/AHL/AHL_Validated_DICOM/13011101171005/pet2/1.2.840.113619.2.55.3.34213890.450.1379051766.495\n/home/deeplearning/AHL/AHL_Validated_DICOM/13011102611002/pet0/1.3.46.670589.28.2.12.4.9156.52312.2.2640.0.1391440380\n/home/deeplearning/AHL/AHL_Validated_DICOM/13011102611002/pet0/1.2.840.113704.1.111.3200.1391438177.11\n/home/deeplearning/AHL/AHL_Validated_DICOM/13011103251003/pet0/1.2.840.113619.2.55.1.1762937435.2279.1340177876.479\n/home/deeplearning/AHL/AHL_Validated_DICOM/13011103251003/pet0/1.2.840.113619.2.131.444444.1340192199.173307\n/home/deeplearning/AHL/AHL_Validated_DICOM/13011103251002/pet0/1.3.12.2.1107.5.1.4.72430.30000012041207110603100000959\n/home/deeplearning/AHL/AHL_Validated_DICOM/13011103251002/pet0/1.3.12.2.1107.5.1.4.72430.30000012041205393579600000958\n/home/deeplearning/AHL/AHL_Validated_DICOM/13011101101002/pet2/1.3.46.670589.28.2.12.30.26378.9208.2.3780.0.1359761675\n/home/deeplearning/AHL/AHL_Validated_DICOM/13011101101002/pet2/1.2.840.113704.1.111.5936.1359713041.12\n/home/deeplearning/AHL/AHL_Validated_DICOM/13011105051005/pet0/1.2.840.113619.2.290.3.2831170562.784.1380866924.438.3\n/home/deeplearning/AHL/AHL_Validated_DICOM/13011105051005/pet0/1.2.840.113619.2.290.3.2831170562.784.1380866924.739\n/home/deeplearning/AHL/AHL_Validated_DICOM/13011106211005/pet0/1.2.840.113619.2.55.3.163581902.827.1383112782.894.3\n/home/deeplearning/AHL/AHL_Validated_DICOM/13011106211005/pet0/1.2.840.113619.2.131.163581902.1383122524.734799\n/home/deeplearning/AHL/AHL_Validated_DICOM/53011101261002/pet0/1.2.840.113619.2.55.3.296490054.795.1343054263.321.3\n/home/deeplearning/AHL/AHL_Validated_DICOM/53011101261002/pet0/1.2.840.113619.2.131.296490054.1343805938.685281\n/home/deeplearning/AHL/AHL_Validated_DICOM/53011101881009/pet0/1.3.12.2.1107.5.1.4.1007.30000012121409520081200004304\n/home/deeplearning/AHL/AHL_Validated_DICOM/53011101881009/pet0/1.3.12.2.1107.5.1.4.1007.30000012121409522128100016163\n/home/deeplearning/AHL/AHL_Validated_DICOM/53011101401008/pet0/1.2.840.113619.2.290.3.252365070.134.1385361682.283.3\n/home/deeplearning/AHL/AHL_Validated_DICOM/53011101401008/pet0/1.2.840.113619.2.290.3.252365070.134.1385361682.621\n/home/deeplearning/AHL/AHL_Validated_DICOM/13011107611001/pet0/1.2.840.113704.1.111.7428.1352280859.8\n/home/deeplearning/AHL/AHL_Validated_DICOM/13011107611001/pet0/1.3.46.670589.28.2.7.2208342285.2.19756.0.1352285679\n/home/deeplearning/AHL/AHL_Validated_DICOM/13011102161002/pet0/1.2.840.113619.2.55.3.296490054.731.1319470738.350\n/home/deeplearning/AHL/AHL_Validated_DICOM/13011102161002/pet0/1.2.840.113619.2.131.296490054.1320074556.565207\n/home/deeplearning/AHL/AHL_Validated_DICOM/53011101401002/pet0/1.2.840.113704.1.111.6584.1328016854.8\n/home/deeplearning/AHL/AHL_Validated_DICOM/53011101401002/pet0/1.3.46.670589.28.2.12.30.26377.33900.2.3220.0.1328105000\n/home/deeplearning/AHL/AHL_Validated_DICOM/13011101091012/pet2/1.3.12.2.1107.5.1.4.48467.30000012090505544104600013719\n/home/deeplearning/AHL/AHL_Validated_DICOM/13011101091012/pet2/1.3.12.2.1107.5.1.4.48467.30000012090507132345300006759\n"
     ]
    }
   ]
  }
 ]
}