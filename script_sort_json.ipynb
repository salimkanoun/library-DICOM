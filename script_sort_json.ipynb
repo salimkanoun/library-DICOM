{
 "nbformat": 4,
 "nbformat_minor": 2,
 "metadata": {
  "language_info": {
   "name": "python",
   "codemirror_mode": {
    "name": "ipython",
    "version": 2
   },
   "version": "3.8.5-final"
  },
  "orig_nbformat": 2,
  "file_extension": ".py",
  "mimetype": "text/x-python",
  "name": "python",
  "npconvert_exporter": "python",
  "pygments_lexer": "ipython2",
  "version": 2,
  "kernelspec": {
   "name": "python38564bit9a8409779cd04c3cbd0c5f1e859a644e",
   "display_name": "Python 3.8.5 64-bit",
   "language": "python"
  }
 },
 "cells": [
  {
   "cell_type": "code",
   "execution_count": null,
   "metadata": {},
   "outputs": [],
   "source": [
    "import json\n",
    "import os\n",
    "import pprint\n",
    "import shutil\n",
    "from collections import defaultdict, Counter\n",
    "from library_dicom.dicom_processor.tools.folders import write_json_file\n",
    "from library_dicom.dicom_processor.tools.cleaning_series import *"
   ]
  },
  {
   "source": [
    "liste_json = os.listdir('/media/deeplearning/VERBATIM HD/LNH073B_JSON/JSON_2')\n",
    "merged_content = generate_merged_file('/media/deeplearning/VERBATIM HD/LNH073B_JSON/JSON_2')\n",
    "write_json_file('/media/deeplearning/VERBATIM HD/LNH073B_JSON/JSON_2', 'merged_files', merged_content)"
   ],
   "cell_type": "code",
   "metadata": {},
   "execution_count": null,
   "outputs": []
  },
  {
   "cell_type": "code",
   "execution_count": null,
   "metadata": {},
   "outputs": [],
   "source": [
    "non_interesting_series  = find_non_intersting_series('/media/deeplearning/VERBATIM HD/LNH073B_JSON/JSON_2/merged_files.json')\n",
    "print(len(non_interesting_series))"
   ]
  },
  {
   "source": [
    "for non_interisting in non_interesting_series:\n",
    "    try : \n",
    "        shutil.rmtree(non_interisting)\n",
    "    except Exception as err : \n",
    "        print(err)"
   ],
   "cell_type": "code",
   "metadata": {},
   "execution_count": null,
   "outputs": []
  },
  {
   "cell_type": "code",
   "execution_count": null,
   "metadata": {},
   "outputs": [],
   "source": [
    "series_ready, paths_series_ready = find_studies_with_two_series('/media/deeplearning/VERBATIM HD/LNH073B_JSON/JSON_2/merged_files.json')\n",
    "print(len(series_ready))\n",
    "print(len(paths_series_ready))"
   ]
  },
  {
   "cell_type": "code",
   "execution_count": null,
   "metadata": {},
   "outputs": [],
   "source": [
    "paths_series_ready"
   ]
  },
  {
   "source": [
    "studies_over_two_series, paths = find_studies_over_two_series('/media/deeplearning/VERBATIM HD/LNH073B_JSON/JSON_2/merged_files.json')\n",
    "print(len(studies_over_two_series))\n",
    "print(len(paths))\n",
    "#print(Counter(studies_over_two_series))"
   ],
   "cell_type": "code",
   "metadata": {
    "tags": []
   },
   "execution_count": null,
   "outputs": []
  },
  {
   "cell_type": "code",
   "execution_count": null,
   "metadata": {},
   "outputs": [],
   "source": [
    "import csv\n",
    "csv_path= '/media/deeplearning/VERBATIM HD/LNH073B.csv'\n",
    "with open(csv_path, 'r') as csv_file :\n",
    "    reader = csv.reader(csv_file, delimiter = ',') #liste pour chaque ligne \n",
    "    dataset = []\n",
    "    for row in reader :\n",
    "        dataset.append(row)\n",
    "        \n",
    "del dataset[0] #enlever première ligne"
   ]
  },
  {
   "source": [
    "#copy studies with more than 2 series to check \n",
    "from library_dicom.dicom_processor.model.Series import Series\n",
    "export_folder = '/media/deeplearning/VERBATIM HD/LNH073B_check_serie'\n",
    "for path in paths : \n",
    "    try : \n",
    "        print(path)\n",
    "        details = Series(path).get_series_details()\n",
    "        study_uid = details['study']['StudyInstanceUID']\n",
    "        serie_uid = details['series']['SeriesInstanceUID']\n",
    "        print(study_uid)\n",
    "        print(serie_uid)\n",
    "        for row in dataset : \n",
    "            if row[2] == study_uid and row[3]==serie_uid : \n",
    "                patient_id = row[1]\n",
    "        print(patient_id)\n",
    "        #dest = '/'.join(path.split('/')[-3:])\n",
    "        #print(dest)\n",
    "        destination = export_folder+'/'+patient_id+'/'+study_uid+'/'+serie_uid\n",
    "        print(destination)\n",
    "        os.makedirs(destination, exist_ok=True)\n",
    "        \n",
    "        shutil.move(path, destination)\n",
    "    except Exception as err : \n",
    "        print(err)\n",
    "        "
   ],
   "cell_type": "code",
   "metadata": {
    "tags": [
     "outputPrepend"
    ]
   },
   "execution_count": null,
   "outputs": []
  },
  {
   "cell_type": "code",
   "execution_count": null,
   "metadata": {
    "tags": []
   },
   "outputs": [],
   "source": [
    "export_folder = '/media/deeplearning/VERBATIM HD/LNH073B_Validated_DICOM'\n",
    "for path in paths_series_ready : \n",
    "    try : \n",
    "        print(path)\n",
    "        details = Series(path).get_series_details()\n",
    "        study_uid = details['study']['StudyInstanceUID']\n",
    "        serie_uid = details['series']['SeriesInstanceUID']\n",
    "        #print(study_uid)\n",
    "        #print(serie_uid)\n",
    "        for row in dataset : \n",
    "            if row[2] == study_uid and row[3]==serie_uid : \n",
    "                patient_id = row[1].split(' ')[0]\n",
    "        #print(patient_id)\n",
    "        #dest = '/'.join(path.split('/')[-3:])\n",
    "        #print(dest)\n",
    "        destination = export_folder+'/'+patient_id+'/'+study_uid+'/'+serie_uid\n",
    "        print(destination)\n",
    "        os.makedirs(destination, exist_ok=True)\n",
    "        \n",
    "        shutil.move(path, destination)\n",
    "    except Exception as err : \n",
    "        print(err)"
   ]
  },
  {
   "source": [
    "import shutil \n",
    "root_destination = '/media/oncopole/DD 2To/FLIP/FLIP_Validated_DICOM'\n",
    "for seriesID in series_ready : \n",
    "    try : \n",
    "        source_path = series_ready[seriesID]['path']\n",
    "        #print(source_path)\n",
    "        parentPatientID = series_ready[seriesID]['parentPatientID']\n",
    "        parentStudyUID = series_ready[seriesID]['parentStudyUID']\n",
    "        \n",
    "        #print(type_)\n",
    "        destination = root_destination+\"/\"+parentPatientID+\"/\"+\"pet0\"+\"/\"+seriesID\n",
    "        print(destination)\n",
    "        os.makedirs(destination, exist_ok=True)\n",
    "        #copy and not move \n",
    "        #shutil.copytree(source_path, destination)\n",
    "        shutil.move(source_path, destination)\n",
    "    except Exception as err : \n",
    "        print(err)"
   ],
   "cell_type": "code",
   "metadata": {
    "tags": []
   },
   "execution_count": null,
   "outputs": []
  }
 ]
}