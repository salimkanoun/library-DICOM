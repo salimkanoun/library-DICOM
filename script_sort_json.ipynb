{
 "nbformat": 4,
 "nbformat_minor": 2,
 "metadata": {
  "language_info": {
   "name": "python",
   "codemirror_mode": {
    "name": "ipython",
    "version": 2
   },
   "version": "3.8.5-final"
  },
  "orig_nbformat": 2,
  "file_extension": ".py",
  "mimetype": "text/x-python",
  "name": "python",
  "npconvert_exporter": "python",
  "pygments_lexer": "ipython2",
  "version": 2,
  "kernelspec": {
   "name": "python3",
   "display_name": "Python 3.8.5 64-bit ('base': conda)",
   "metadata": {
    "interpreter": {
     "hash": "6a0b6c04207aa6f5c33e08335e377a5793c5a1abe8e179f13df17cfd923ec7d1"
    }
   }
  }
 },
 "cells": [
  {
   "cell_type": "code",
   "execution_count": null,
   "metadata": {},
   "outputs": [],
   "source": [
    "import json\n",
    "import os\n",
    "import pprint\n",
    "import shutil\n",
    "from collections import defaultdict, Counter\n",
    "from library_dicom.dicom_processor.tools.folders import write_json_file\n",
    "from library_dicom.dicom_processor.tools.cleaning_series import *"
   ]
  },
  {
   "source": [
    "liste_json = os.listdir('/media/oncopole/DD 2To/FLIP/JSON_2')\n",
    "merged_content = generate_merged_file('/media/oncopole/DD 2To/FLIP/JSON_2')\n",
    "write_json_file('/media/oncopole/DD 2To/FLIP/JSON_2', 'merged_files', merged_content)"
   ],
   "cell_type": "code",
   "metadata": {},
   "execution_count": null,
   "outputs": []
  },
  {
   "cell_type": "code",
   "execution_count": null,
   "metadata": {},
   "outputs": [],
   "source": [
    "#CHECK Non_interesting_series and delete series_json in list of json , and recreate merged_file"
   ]
  },
  {
   "cell_type": "code",
   "execution_count": null,
   "metadata": {},
   "outputs": [],
   "source": [
    "non_interesting_series  = find_non_intersting_series('/media/oncopole/DD 2To/FLIP/JSON_2/merged_files.json')\n",
    "print(len(non_interesting_series))"
   ]
  },
  {
   "cell_type": "code",
   "execution_count": null,
   "metadata": {},
   "outputs": [],
   "source": [
    "#remove json "
   ]
  },
  {
   "source": [
    "for non_interisting in non_interesting_series:\n",
    "    try : \n",
    "        shutil.rmtree(non_interisting)\n",
    "    except Exception as err : \n",
    "        print(err)"
   ],
   "cell_type": "code",
   "metadata": {},
   "execution_count": null,
   "outputs": []
  },
  {
   "cell_type": "code",
   "execution_count": null,
   "metadata": {},
   "outputs": [],
   "source": []
  },
  {
   "cell_type": "code",
   "execution_count": null,
   "metadata": {},
   "outputs": [],
   "source": [
    "series_ready = find_studies_with_two_series('/media/oncopole/DD 2To/FLIP/JSON_2/merged_files.json')\n",
    "print(len(series_ready))"
   ]
  },
  {
   "source": [
    "studies_over_two_series, paths = find_studies_over_two_series('/media/oncopole/DD 2To/FLIP/JSON_2/merged_files.json')\n",
    "print(len(studies_over_two_series))\n",
    "#print(Counter(studies_over_two_series))"
   ],
   "cell_type": "code",
   "metadata": {
    "tags": []
   },
   "execution_count": null,
   "outputs": []
  },
  {
   "cell_type": "code",
   "execution_count": null,
   "metadata": {},
   "outputs": [],
   "source": []
  },
  {
   "source": [
    "#copy studies with more than 2 series to check \n",
    "export_folder = '/media/oncopole/DD 2To/FLIP/check'\n",
    "for path in paths : \n",
    "    try : \n",
    "        print(path)\n",
    "        dest = '/'.join(path.split('/')[-3:])\n",
    "        #print(dest)\n",
    "        destination = export_folder+'/'+dest\n",
    "        print(destination)\n",
    "        os.makedirs(destination, exist_ok=True)\n",
    "        \n",
    "        shutil.move(path, destination)\n",
    "    except Exception as err : \n",
    "        print(err)"
   ],
   "cell_type": "code",
   "metadata": {
    "tags": []
   },
   "execution_count": null,
   "outputs": []
  },
  {
   "source": [
    "import shutil \n",
    "root_destination = '/media/oncopole/DD 2To/FLIP/FLIP_Validated_DICOM'\n",
    "for seriesID in series_ready : \n",
    "    try : \n",
    "        source_path = series_ready[seriesID]['path']\n",
    "        #print(source_path)\n",
    "        parentPatientID = series_ready[seriesID]['parentPatientID']\n",
    "        parentStudyUID = series_ready[seriesID]['parentStudyUID']\n",
    "        \n",
    "        #print(type_)\n",
    "        destination = root_destination+\"/\"+parentPatientID+\"/\"+\"pet0\"+\"/\"+seriesID\n",
    "        print(destination)\n",
    "        os.makedirs(destination, exist_ok=True)\n",
    "        #copy and not move \n",
    "        #shutil.copytree(source_path, destination)\n",
    "        shutil.move(source_path, destination)\n",
    "    except Exception as err : \n",
    "        print(err)"
   ],
   "cell_type": "code",
   "metadata": {
    "tags": []
   },
   "execution_count": null,
   "outputs": []
  },
  {
   "cell_type": "code",
   "execution_count": null,
   "metadata": {},
   "outputs": [],
   "source": []
  },
  {
   "cell_type": "code",
   "execution_count": null,
   "metadata": {},
   "outputs": [],
   "source": []
  },
  {
   "cell_type": "code",
   "execution_count": null,
   "metadata": {},
   "outputs": [],
   "source": []
  }
 ]
}