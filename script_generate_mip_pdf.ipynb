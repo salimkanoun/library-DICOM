{
 "metadata": {
  "language_info": {
   "codemirror_mode": {
    "name": "ipython",
    "version": 3
   },
   "file_extension": ".py",
   "mimetype": "text/x-python",
   "name": "python",
   "nbconvert_exporter": "python",
   "pygments_lexer": "ipython3",
   "version": "3.8.5-final"
  },
  "orig_nbformat": 2,
  "kernelspec": {
   "name": "python38564bit9a8409779cd04c3cbd0c5f1e859a644e",
   "display_name": "Python 3.8.5 64-bit"
  }
 },
 "nbformat": 4,
 "nbformat_minor": 2,
 "cells": [
  {
   "cell_type": "code",
   "execution_count": 4,
   "metadata": {},
   "outputs": [],
   "source": [
    "from library_dicom.dicom_processor.tools.create_mip import *\n",
    "from library_dicom.dicom_processor.tools.postprocessing import *\n",
    "import os \n"
   ]
  },
  {
   "cell_type": "code",
   "execution_count": null,
   "metadata": {},
   "outputs": [],
   "source": [
    "folder = ''\n",
    "list_dir = os.listdir(folder)\n",
    "liste_inference = []\n",
    "liste_study_uid = []\n",
    "for file_ in list_dir : \n",
    "    liste_inference.append(os.path.join(folder, file_))\n",
    "    liste_study_uid.append(file_.split('/')[0])"
   ]
  },
  {
   "cell_type": "code",
   "execution_count": null,
   "metadata": {},
   "outputs": [],
   "source": [
    "csv_path= ''\n",
    "\n",
    "with open(csv_path, 'r') as csv_file :\n",
    "    reader = csv.reader(csv_file, delimiter = ',') #liste pour chaque ligne \n",
    "    dataset = []\n",
    "    for row in reader :\n",
    "        dataset.append(row)\n",
    "        \n",
    "del dataset[0] #enlever première ligne"
   ]
  },
  {
   "cell_type": "code",
   "execution_count": null,
   "metadata": {},
   "outputs": [],
   "source": [
    "#with study uid, find path pet \n",
    "\n",
    "liste_pet = []\n",
    "for uid in liste_study_uid : \n",
    "    for row in dataset : \n",
    "        if uid in row : \n",
    "            liste_pet.append(row[-2])\n",
    "\n",
    "#rename path pet \n",
    "root = ''\n",
    "for path in liste_pet : \n",
    "    p = path.split('/')[:]\n",
    "    path = os.path.join(root, p)\n"
   ]
  },
  {
   "cell_type": "code",
   "execution_count": null,
   "metadata": {},
   "outputs": [],
   "source": [
    " mip_directory = ''\n",
    " filenames = []\n",
    "\n",
    " for inference, pet, uid in zip(liste_inference, liste_pet, liste_study_uid) : \n",
    "    sub = []\n",
    "    inference_array = read_inference(inference)\n",
    "    #binarize_array = binarize(inference_array)\n",
    "\n",
    "    pet_array, size = read_img(liste_pet)\n",
    "\n",
    "    sub.append(mip_projection(pet_array, 0, mip_directory, uid, 'pet', cmap = 'Greys', vmin= 0 , vmax = 6))\n",
    "    sub.append(mip_superposition_show(inference_array, pet_array, 0, uid, vmin = 0, vmax = 6, cmap_pet = 'Greys', cmap_mask = 'hsv', save = True, directory = mip_directory))\n",
    "    sub.append(uid)\n",
    "    filenames.append(sub)"
   ]
  },
  {
   "cell_type": "code",
   "execution_count": null,
   "metadata": {},
   "outputs": [],
   "source": [
    "outpout_path_name = mip_diectory+'/'+'RELEVANCE_MIP'\n",
    "create_pdf_mip(filenames, output_path_name)"
   ]
  }
 ]
}